{
 "cells": [
  {
   "cell_type": "code",
   "execution_count": 1,
   "metadata": {},
   "outputs": [],
   "source": [
    "import torch\n",
    "import torchvision\n",
    "import PIL\n",
    "import pandas as pd\n",
    "import numpy as np\n",
    "import matplotlib.pyplot as plta\n",
    "import seaborn as sns\n",
    "from sklearn.model_selection import train_test_split\n",
    "from torch.utils.data import Dataset, DataLoader\n",
    "from sklearn.preprocessing import OneHotEncoder\n",
    "import torchvision.transforms.functional as fn\n",
    "from torch import nn\n",
    "import torch.nn.functional as F\n",
    "import wandb\n",
    "import torch.optim as optim\n",
    "from tqdm import tqdm\n",
    "import sys\n",
    "# import autoreload\n",
    "%load_ext autoreload\n",
    "%autoreload 2\n",
    "sys.path.append('../scripts/')\n",
    "from save_model_every_epoch_torch import save_model\n",
    "import warnings\n",
    "warnings.filterwarnings(\"ignore\")\n",
    "from metrics import find_metrics, find_metrics_macro\n",
    "from save_model_every_epoch_torch import save_model\n",
    "import matplotlib.pyplot as plt"
   ]
  },
  {
   "cell_type": "code",
   "execution_count": 2,
   "metadata": {},
   "outputs": [],
   "source": [
    "multiple_gpus = True\n",
    "if torch.cuda.is_available():\n",
    "    if torch.cuda.device_count() > 1:\n",
    "        multiple_gpus = True\n",
    "    device = torch.device(\"cuda:0\" if torch.cuda.is_available() else \"cpu\")"
   ]
  },
  {
   "cell_type": "code",
   "execution_count": 3,
   "metadata": {},
   "outputs": [],
   "source": [
    "csv_file = pd.read_csv('../../files/train.csv')\n",
    "csv_file['updated_paths'] = csv_file['image'].apply(lambda x: '../../files/train_images/' + x)"
   ]
  },
  {
   "cell_type": "code",
   "execution_count": 4,
   "metadata": {},
   "outputs": [],
   "source": [
    "def split_datasets(csv_file, test_size):\n",
    "    train, test = train_test_split(csv_file, test_size=test_size, random_state=42)\n",
    "    train, val = train_test_split(train, test_size=test_size, random_state=42)\n",
    "    return train, val, test"
   ]
  },
  {
   "cell_type": "code",
   "execution_count": 5,
   "metadata": {},
   "outputs": [],
   "source": [
    "def encoding_data(csv_data):\n",
    "    labels = csv_data['species'].values.tolist()\n",
    "    encoder = OneHotEncoder()\n",
    "    encoder = encoder.fit(np.array(labels).reshape(-1, 1))\n",
    "    return encoder"
   ]
  },
  {
   "cell_type": "code",
   "execution_count": 6,
   "metadata": {},
   "outputs": [],
   "source": [
    "encoder = encoding_data(csv_file)"
   ]
  },
  {
   "cell_type": "code",
   "execution_count": 7,
   "metadata": {},
   "outputs": [],
   "source": [
    "train, val, test = split_datasets(csv_file, test_size = 0.01)"
   ]
  },
  {
   "cell_type": "code",
   "execution_count": 8,
   "metadata": {},
   "outputs": [],
   "source": [
    "def get_keys_to_augment(encoder, csv_file, exclude = 5):\n",
    "    encoded = encoder.transform(csv_file['species'].values.reshape(-1, 1)).toarray()\n",
    "    mapper = dict(zip(np.unique(np.argmax(encoded, axis = 1), return_counts = True)[0], np.unique(np.argmax(encoded, axis = 1), return_counts = True)[1]))\n",
    "    total = np.sum(np.array(list(mapper.values())))\n",
    "    percents = {}\n",
    "    for k, vals in mapper.items():\n",
    "        percents[k] = vals / total\n",
    "    sorted_ones = {k: v for k, v in sorted(percents.items(), key=lambda item: item[1])}\n",
    "    temp = list(sorted_ones.keys())\n",
    "    temp = set(temp[:exclude])\n",
    "    return temp"
   ]
  },
  {
   "cell_type": "code",
   "execution_count": 9,
   "metadata": {},
   "outputs": [],
   "source": [
    "class DolphinDataset(Dataset):\n",
    "    def __init__(self, csv_file, encoder, image_size, exclude_classes = 5):\n",
    "        self.csv_file = csv_file\n",
    "        self.images = csv_file['updated_paths'].values.tolist()\n",
    "        self.labels = csv_file['species'].values.tolist()\n",
    "        self.encoder = encoder\n",
    "        self.encoded_labels = self.encoder.transform(np.array(self.labels).reshape(-1, 1)).toarray()\n",
    "        self.convert_rgb = torchvision.transforms.Lambda(lambda x: x.repeat(3, 1, 1))\n",
    "        self.image_size = image_size\n",
    "\n",
    "    def __len__(self):\n",
    "        return len(self.csv_file)\n",
    "\n",
    "    def __getitem__(self, idx):\n",
    "        img = torchvision.io.read_file(self.images[idx])\n",
    "        img = torchvision.io.decode_jpeg(img)\n",
    "        if img.shape[0] != 3:\n",
    "            img = self.convert_rgb(img)\n",
    "        img = torchvision.transforms.functional.resize(img, (self.image_size[0], self.image_size[0]))\n",
    "        img = img / 255.0\n",
    "        return img, torch.Tensor(self.encoded_labels[idx])\n",
    "\n",
    "\n",
    "class DolphinDatasetTrain(Dataset):\n",
    "    def __init__(self, csv_file, encoder, image_size, exclude_classes = 5):\n",
    "        self.csv_file = csv_file\n",
    "        self.images = csv_file['updated_paths'].values.tolist()\n",
    "        self.labels = csv_file['species'].values.tolist()\n",
    "        self.encoder = encoder\n",
    "        self.encoded_labels = self.encoder.transform(np.array(self.labels).reshape(-1, 1)).toarray()\n",
    "        self.convert_rgb = torchvision.transforms.Lambda(lambda x: x.repeat(3, 1, 1))\n",
    "        self.image_size = image_size\n",
    "        self.exclude_classes = exclude_classes\n",
    "        self.exclude = get_keys_to_augment(self.encoder, self.csv_file, self.exclude_classes)\n",
    "        self.reset_every_epoch()\n",
    "\n",
    "    def reset_every_epoch(self):\n",
    "        self.exclude = get_keys_to_augment(self.encoder, self.csv_file, self.exclude_classes)\n",
    "        index_to_exclude = np.argwhere(np.isin(np.argmax(self.encoded_labels, axis = 1), np.array(list(self.exclude)))).ravel()\n",
    "        new_values = np.random.randint(0, 2, size=(self.__len__()))\n",
    "        new_values[index_to_exclude] = -1\n",
    "        self.new_values = new_values\n",
    "\n",
    "    def __len__(self):\n",
    "        return len(self.csv_file)\n",
    "\n",
    "    def __getitem__(self, idx):\n",
    "        img = torchvision.io.read_file(self.images[idx])\n",
    "        img = torchvision.io.decode_jpeg(img)\n",
    "        if img.shape[0] != 3:\n",
    "            img = self.convert_rgb(img)\n",
    "        if self.new_values[idx] != -1:\n",
    "            if self.new_values[idx] == 1:\n",
    "                img = torchvision.transforms.functional.hflip(img)\n",
    "        img = torchvision.transforms.functional.resize(img, (self.image_size[0], self.image_size[0]))\n",
    "        img = img / 255.0\n",
    "        return img, torch.Tensor(self.encoded_labels[idx])"
   ]
  },
  {
   "cell_type": "code",
   "execution_count": 10,
   "metadata": {},
   "outputs": [],
   "source": [
    "def get_model():\n",
    "    incep_model = torch.hub.load('pytorch/vision:v0.10.0', 'inception_v3', pretrained = False)\n",
    "    incep_model.fc = nn.Linear(2048, 30)\n",
    "    return incep_model"
   ]
  },
  {
   "cell_type": "code",
   "execution_count": 11,
   "metadata": {},
   "outputs": [],
   "source": [
    "categorical_cross_entropy = nn.CrossEntropyLoss()"
   ]
  },
  {
   "cell_type": "markdown",
   "metadata": {},
   "source": [
    "Without momentum changes"
   ]
  },
  {
   "cell_type": "code",
   "execution_count": 12,
   "metadata": {},
   "outputs": [],
   "source": [
    "def train_model(train_dataset, val_dataset, epochs, batch_size, weights_path, load_weights=None):\n",
    "    model = get_model()\n",
    "    optimizer = optim.SGD(model.parameters(), lr=0.001, momentum = 0.5)\n",
    "    wandb.init(project='dolphin',\n",
    "               config = {\n",
    "                   'arch' : 'InceptionV4',\n",
    "                   'batch_size' : batch_size,\n",
    "                   'epochs' : epochs,\n",
    "                   'optimizer' : type(optimizer).__name__,\n",
    "                   'learning rate' : optimizer.param_groups[0]['lr'],\n",
    "                   'momentum' : optimizer.param_groups[0]['momentum'],\n",
    "                   'loss_function' : categorical_cross_entropy,\n",
    "                   'classes' : model.fc.out_features,\n",
    "                   'Data aug' : 'horizontal_flip'\n",
    "               })\n",
    "    data_pointers = {\n",
    "        'train' : train_dataset,\n",
    "        'val' : val_dataset,\n",
    "    }\n",
    "    if load_weights != None:\n",
    "        model.load_state_dict(torch.load(load_weights)['model_state_dict'])\n",
    "    if next(model.parameters()).is_cuda == False:\n",
    "        if multiple_gpus == True:\n",
    "            model = nn.DataParallel(model)\n",
    "        model = model.to(device)\n",
    "    for epoch in range(epochs):\n",
    "        train_loss= 0.0\n",
    "        train_prec, train_rec = 0.0, 0.0\n",
    "        val_loss = 0.0\n",
    "        val_prec, val_rec = 0.0, 0.0\n",
    "        for phase in ['train', 'val']:\n",
    "            if phase == 'train':\n",
    "                model.train()\n",
    "            else:\n",
    "                model.eval()\n",
    "            running_loss, running_precision, running_recall = 0.0, 0.0, 0.0\n",
    "            with tqdm(data_pointers[phase], unit='batch') as tepoch:\n",
    "                for imgs, labels in tepoch:\n",
    "                    tepoch.set_description(f'Epoch: {epoch}')\n",
    "                    imgs = imgs.to(device)\n",
    "                    labels = labels.to(device)\n",
    "                    optimizer.zero_grad()\n",
    "                    with torch.set_grad_enabled(phase == 'train'):\n",
    "                        if phase == 'train':\n",
    "                            outputs = model(imgs)[0]\n",
    "                        else:\n",
    "                            outputs = model(imgs)\n",
    "                        loss = categorical_cross_entropy(outputs, labels)\n",
    "                        prec, rec = find_metrics_macro(outputs, labels, batch_size=batch_size)\n",
    "                        if phase == 'train':\n",
    "                            loss.backward()\n",
    "                            optimizer.step()\n",
    "                    running_loss += loss.item()\n",
    "                    running_precision += prec.item()\n",
    "                    running_recall += rec.item()\n",
    "                    tepoch.set_postfix(loss = loss.item(), precision = prec.item(), recall = rec.item())\n",
    "            if phase == 'train':\n",
    "                train_loss = running_loss / len(train_dataset)\n",
    "                train_prec = running_precision / len(train_dataset)\n",
    "                train_rec = running_recall / len(train_dataset)\n",
    "                print(f'{phase} Loss: {float(train_loss)}')\n",
    "                print(f'{phase} Precision: {float(train_prec)}')\n",
    "                print(f'{phase} Recall: {float(train_rec)}')\n",
    "            else:\n",
    "                val_loss = running_loss / len(val_dataset)\n",
    "                val_prec = running_precision / len(val_dataset)\n",
    "                val_rec = running_recall / len(val_dataset)\n",
    "                print(f'{phase} Loss: {float(val_loss)}')\n",
    "                print(f'{phase} Precision: {float(val_prec)}')\n",
    "                print(f'{phase} Recall: {float(val_rec)}')\n",
    "        wandb.log({\n",
    "            'train_loss' : train_loss,\n",
    "            'val_loss' : val_loss,\n",
    "            'train_precision' : train_prec,\n",
    "            'train_recall' : train_rec,\n",
    "            'val_precision' : val_prec,\n",
    "            'val_recall' : val_rec\n",
    "        })\n",
    "        train_dataset.dataset.reset_every_epoch()\n",
    "        save_model(model, epoch, optimizer, multiple_gpus, weights_path)"
   ]
  },
  {
   "cell_type": "code",
   "execution_count": 14,
   "metadata": {},
   "outputs": [
    {
     "name": "stderr",
     "output_type": "stream",
     "text": [
      "Using cache found in /home/paperspace/.cache/torch/hub/pytorch_vision_v0.10.0\n",
      "Failed to detect the name of this notebook, you can set it manually with the WANDB_NOTEBOOK_NAME environment variable to enable code saving.\n",
      "\u001b[34m\u001b[1mwandb\u001b[0m: Currently logged in as: \u001b[33myashchks87\u001b[0m. Use \u001b[1m`wandb login --relogin`\u001b[0m to force relogin\n"
     ]
    },
    {
     "data": {
      "text/html": [
       "wandb version 0.15.8 is available!  To upgrade, please run:\n",
       " $ pip install wandb --upgrade"
      ],
      "text/plain": [
       "<IPython.core.display.HTML object>"
      ]
     },
     "metadata": {},
     "output_type": "display_data"
    },
    {
     "data": {
      "text/html": [
       "Tracking run with wandb version 0.13.4"
      ],
      "text/plain": [
       "<IPython.core.display.HTML object>"
      ]
     },
     "metadata": {},
     "output_type": "display_data"
    },
    {
     "data": {
      "text/html": [
       "Run data is saved locally in <code>/home/paperspace/Documents/dolphin_classification/notebooks/wandb/run-20230823_064931-1bmqydbl</code>"
      ],
      "text/plain": [
       "<IPython.core.display.HTML object>"
      ]
     },
     "metadata": {},
     "output_type": "display_data"
    },
    {
     "data": {
      "text/html": [
       "Syncing run <strong><a href=\"https://wandb.ai/yashchks87/dolphin/runs/1bmqydbl\" target=\"_blank\">fanciful-dawn-77</a></strong> to <a href=\"https://wandb.ai/yashchks87/dolphin\" target=\"_blank\">Weights & Biases</a> (<a href=\"https://wandb.me/run\" target=\"_blank\">docs</a>)<br/>"
      ],
      "text/plain": [
       "<IPython.core.display.HTML object>"
      ]
     },
     "metadata": {},
     "output_type": "display_data"
    },
    {
     "name": "stderr",
     "output_type": "stream",
     "text": [
      "Epoch: 0: 100%|██████████| 141/141 [03:56<00:00,  1.67s/batch, loss=2.58, precision=0.039, recall=0.0224] \n"
     ]
    },
    {
     "name": "stdout",
     "output_type": "stream",
     "text": [
      "train Loss: 2.8336530898479704\n",
      "train Precision: 0.03774534043003904\n",
      "train Recall: 0.026219382736805484\n"
     ]
    },
    {
     "name": "stderr",
     "output_type": "stream",
     "text": [
      "Epoch: 0: 100%|██████████| 2/2 [00:26<00:00, 13.28s/batch, loss=2.68, precision=0.0404, recall=0.0346]\n"
     ]
    },
    {
     "name": "stdout",
     "output_type": "stream",
     "text": [
      "val Loss: 2.6824615001678467\n",
      "val Precision: 0.03798512555658817\n",
      "val Recall: 0.024767922703176737\n",
      "Weight saved for epoch 0.\n"
     ]
    },
    {
     "name": "stderr",
     "output_type": "stream",
     "text": [
      "Epoch: 1:  40%|███▉      | 56/141 [01:56<02:07,  1.50s/batch, loss=2.52, precision=0.0383, recall=0.0209] "
     ]
    }
   ],
   "source": [
    "batch_size = 356\n",
    "train_dataset = DolphinDatasetTrain(train, encoder, image_size = (512, 512))\n",
    "val_dataset = DolphinDataset(val, encoder, image_size = (512, 512))\n",
    "train_dataloader = DataLoader(train_dataset, batch_size = batch_size, shuffle = True, num_workers = 22, prefetch_factor=2)\n",
    "val_dataloader = DataLoader(val_dataset, batch_size = batch_size, shuffle = False, num_workers = 22, prefetch_factor=2)\n",
    "train_model(train_dataloader, val_dataloader, batch_size=batch_size, weights_path='../../weights/torch_with_momentum_aug/', epochs=50)"
   ]
  },
  {
   "cell_type": "code",
   "execution_count": 13,
   "metadata": {},
   "outputs": [
    {
     "name": "stderr",
     "output_type": "stream",
     "text": [
      "Using cache found in /home/paperspace/.cache/torch/hub/pytorch_vision_v0.10.0\n",
      "Failed to detect the name of this notebook, you can set it manually with the WANDB_NOTEBOOK_NAME environment variable to enable code saving.\n",
      "\u001b[34m\u001b[1mwandb\u001b[0m: Currently logged in as: \u001b[33myashchks87\u001b[0m. Use \u001b[1m`wandb login --relogin`\u001b[0m to force relogin\n"
     ]
    },
    {
     "data": {
      "text/html": [
       "wandb version 0.15.8 is available!  To upgrade, please run:\n",
       " $ pip install wandb --upgrade"
      ],
      "text/plain": [
       "<IPython.core.display.HTML object>"
      ]
     },
     "metadata": {},
     "output_type": "display_data"
    },
    {
     "data": {
      "text/html": [
       "Tracking run with wandb version 0.13.4"
      ],
      "text/plain": [
       "<IPython.core.display.HTML object>"
      ]
     },
     "metadata": {},
     "output_type": "display_data"
    },
    {
     "data": {
      "text/html": [
       "Run data is saved locally in <code>/home/paperspace/Documents/dolphin_classification/notebooks/wandb/run-20230823_140845-14creoom</code>"
      ],
      "text/plain": [
       "<IPython.core.display.HTML object>"
      ]
     },
     "metadata": {},
     "output_type": "display_data"
    },
    {
     "data": {
      "text/html": [
       "Syncing run <strong><a href=\"https://wandb.ai/yashchks87/dolphin/runs/14creoom\" target=\"_blank\">dazzling-frog-80</a></strong> to <a href=\"https://wandb.ai/yashchks87/dolphin\" target=\"_blank\">Weights & Biases</a> (<a href=\"https://wandb.me/run\" target=\"_blank\">docs</a>)<br/>"
      ],
      "text/plain": [
       "<IPython.core.display.HTML object>"
      ]
     },
     "metadata": {},
     "output_type": "display_data"
    },
    {
     "name": "stderr",
     "output_type": "stream",
     "text": [
      "Epoch: 0: 100%|██████████| 141/141 [03:50<00:00,  1.63s/batch, loss=1.29, precision=0.22, recall=0.208] \n"
     ]
    },
    {
     "name": "stdout",
     "output_type": "stream",
     "text": [
      "train Loss: 1.261938899966842\n",
      "train Precision: 0.2403520513722237\n",
      "train Recall: 0.23635431278681923\n"
     ]
    },
    {
     "name": "stderr",
     "output_type": "stream",
     "text": [
      "Epoch: 0: 100%|██████████| 2/2 [00:24<00:00, 12.12s/batch, loss=1.12, precision=0.263, recall=0.248]\n"
     ]
    },
    {
     "name": "stdout",
     "output_type": "stream",
     "text": [
      "val Loss: 1.20071941614151\n",
      "val Precision: 0.26224854588508606\n",
      "val Recall: 0.2390640750527382\n",
      "Weight saved for epoch 0.\n"
     ]
    },
    {
     "name": "stderr",
     "output_type": "stream",
     "text": [
      "Epoch: 1: 100%|██████████| 141/141 [03:44<00:00,  1.59s/batch, loss=1.04, precision=0.253, recall=0.234]\n"
     ]
    },
    {
     "name": "stdout",
     "output_type": "stream",
     "text": [
      "train Loss: 1.249938948780087\n",
      "train Precision: 0.24156438036167877\n",
      "train Recall: 0.24133898899064843\n"
     ]
    },
    {
     "name": "stderr",
     "output_type": "stream",
     "text": [
      "Epoch: 1: 100%|██████████| 2/2 [00:24<00:00, 12.39s/batch, loss=1.15, precision=0.254, recall=0.218]\n"
     ]
    },
    {
     "name": "stdout",
     "output_type": "stream",
     "text": [
      "val Loss: 1.237493634223938\n",
      "val Precision: 0.2527681142091751\n",
      "val Recall: 0.22404199838638306\n",
      "Weight saved for epoch 1.\n"
     ]
    },
    {
     "name": "stderr",
     "output_type": "stream",
     "text": [
      "Epoch: 2: 100%|██████████| 141/141 [03:45<00:00,  1.60s/batch, loss=1.29, precision=0.272, recall=0.252]\n"
     ]
    },
    {
     "name": "stdout",
     "output_type": "stream",
     "text": [
      "train Loss: 1.2411786491143788\n",
      "train Precision: 0.24307922014953398\n",
      "train Recall: 0.24214221061544217\n"
     ]
    },
    {
     "name": "stderr",
     "output_type": "stream",
     "text": [
      "Epoch: 2: 100%|██████████| 2/2 [00:24<00:00, 12.35s/batch, loss=1.59, precision=0.244, recall=0.19] \n"
     ]
    },
    {
     "name": "stdout",
     "output_type": "stream",
     "text": [
      "val Loss: 1.6265986561775208\n",
      "val Precision: 0.24362898617982864\n",
      "val Recall: 0.1906396448612213\n",
      "Weight saved for epoch 2.\n"
     ]
    },
    {
     "name": "stderr",
     "output_type": "stream",
     "text": [
      "Epoch: 3: 100%|██████████| 141/141 [03:46<00:00,  1.61s/batch, loss=1.14, precision=0.284, recall=0.219]\n"
     ]
    },
    {
     "name": "stdout",
     "output_type": "stream",
     "text": [
      "train Loss: 1.233581376413927\n",
      "train Precision: 0.24542937295656678\n",
      "train Recall: 0.24578152692064326\n"
     ]
    },
    {
     "name": "stderr",
     "output_type": "stream",
     "text": [
      "Epoch: 3: 100%|██████████| 2/2 [00:25<00:00, 12.82s/batch, loss=1.22, precision=0.265, recall=0.211]\n"
     ]
    },
    {
     "name": "stdout",
     "output_type": "stream",
     "text": [
      "val Loss: 1.288313865661621\n",
      "val Precision: 0.25709837675094604\n",
      "val Recall: 0.20988549292087555\n",
      "Weight saved for epoch 3.\n"
     ]
    },
    {
     "name": "stderr",
     "output_type": "stream",
     "text": [
      "Epoch: 4: 100%|██████████| 141/141 [03:47<00:00,  1.61s/batch, loss=1.07, precision=0.256, recall=0.245]\n"
     ]
    },
    {
     "name": "stdout",
     "output_type": "stream",
     "text": [
      "train Loss: 1.2257177787469633\n",
      "train Precision: 0.24597327707084357\n",
      "train Recall: 0.24426151706394575\n"
     ]
    },
    {
     "name": "stderr",
     "output_type": "stream",
     "text": [
      "Epoch: 4: 100%|██████████| 2/2 [00:25<00:00, 12.58s/batch, loss=1.28, precision=0.242, recall=0.243]\n"
     ]
    },
    {
     "name": "stdout",
     "output_type": "stream",
     "text": [
      "val Loss: 1.3382011651992798\n",
      "val Precision: 0.23458057641983032\n",
      "val Recall: 0.2280150204896927\n",
      "Weight saved for epoch 4.\n"
     ]
    },
    {
     "name": "stderr",
     "output_type": "stream",
     "text": [
      "Epoch: 5: 100%|██████████| 141/141 [03:45<00:00,  1.60s/batch, loss=1.24, precision=0.224, recall=0.212]\n"
     ]
    },
    {
     "name": "stdout",
     "output_type": "stream",
     "text": [
      "train Loss: 1.212378389446448\n",
      "train Precision: 0.24945573477034874\n",
      "train Recall: 0.25352033211829816\n"
     ]
    },
    {
     "name": "stderr",
     "output_type": "stream",
     "text": [
      "Epoch: 5: 100%|██████████| 2/2 [00:24<00:00, 12.33s/batch, loss=1.17, precision=0.259, recall=0.249]\n"
     ]
    },
    {
     "name": "stdout",
     "output_type": "stream",
     "text": [
      "val Loss: 1.234669804573059\n",
      "val Precision: 0.25646498799324036\n",
      "val Recall: 0.23939527571201324\n",
      "Weight saved for epoch 5.\n"
     ]
    },
    {
     "name": "stderr",
     "output_type": "stream",
     "text": [
      "Epoch: 6: 100%|██████████| 141/141 [03:46<00:00,  1.61s/batch, loss=1.26, precision=0.261, recall=0.261] \n"
     ]
    },
    {
     "name": "stdout",
     "output_type": "stream",
     "text": [
      "train Loss: 1.2027034239566072\n",
      "train Precision: 0.24986655164694954\n",
      "train Recall: 0.2519150077239841\n"
     ]
    },
    {
     "name": "stderr",
     "output_type": "stream",
     "text": [
      "Epoch: 6: 100%|██████████| 2/2 [00:24<00:00, 12.28s/batch, loss=1.11, precision=0.252, recall=0.232]\n"
     ]
    },
    {
     "name": "stdout",
     "output_type": "stream",
     "text": [
      "val Loss: 1.1990328431129456\n",
      "val Precision: 0.25361983478069305\n",
      "val Recall: 0.23032791912555695\n",
      "Weight saved for epoch 6.\n"
     ]
    },
    {
     "name": "stderr",
     "output_type": "stream",
     "text": [
      "Epoch: 7: 100%|██████████| 141/141 [03:42<00:00,  1.58s/batch, loss=1.18, precision=0.276, recall=0.352]\n"
     ]
    },
    {
     "name": "stdout",
     "output_type": "stream",
     "text": [
      "train Loss: 1.1962041728040005\n",
      "train Precision: 0.2507814218600591\n",
      "train Recall: 0.2584495044557761\n"
     ]
    },
    {
     "name": "stderr",
     "output_type": "stream",
     "text": [
      "Epoch: 7: 100%|██████████| 2/2 [00:24<00:00, 12.15s/batch, loss=1.15, precision=0.268, recall=0.276]\n"
     ]
    },
    {
     "name": "stdout",
     "output_type": "stream",
     "text": [
      "val Loss: 1.2264033555984497\n",
      "val Precision: 0.26176951825618744\n",
      "val Recall: 0.24194731563329697\n",
      "Weight saved for epoch 7.\n"
     ]
    },
    {
     "name": "stderr",
     "output_type": "stream",
     "text": [
      "Epoch: 8: 100%|██████████| 141/141 [03:45<00:00,  1.60s/batch, loss=1.2, precision=0.256, recall=0.235] \n"
     ]
    },
    {
     "name": "stdout",
     "output_type": "stream",
     "text": [
      "train Loss: 1.1877353690194745\n",
      "train Precision: 0.2533765039968152\n",
      "train Recall: 0.25669068668751005\n"
     ]
    },
    {
     "name": "stderr",
     "output_type": "stream",
     "text": [
      "Epoch: 8: 100%|██████████| 2/2 [00:25<00:00, 12.60s/batch, loss=1.21, precision=0.262, recall=0.252]\n"
     ]
    },
    {
     "name": "stdout",
     "output_type": "stream",
     "text": [
      "val Loss: 1.2611784934997559\n",
      "val Precision: 0.2595619112253189\n",
      "val Recall: 0.2325550764799118\n",
      "Weight saved for epoch 8.\n"
     ]
    },
    {
     "name": "stderr",
     "output_type": "stream",
     "text": [
      "Epoch: 9: 100%|██████████| 141/141 [03:45<00:00,  1.60s/batch, loss=1.23, precision=0.184, recall=0.174]\n"
     ]
    },
    {
     "name": "stdout",
     "output_type": "stream",
     "text": [
      "train Loss: 1.1821054423109014\n",
      "train Precision: 0.2561463914441724\n",
      "train Recall: 0.26035090372072045\n"
     ]
    },
    {
     "name": "stderr",
     "output_type": "stream",
     "text": [
      "Epoch: 9: 100%|██████████| 2/2 [00:25<00:00, 12.67s/batch, loss=1.19, precision=0.247, recall=0.255]\n"
     ]
    },
    {
     "name": "stdout",
     "output_type": "stream",
     "text": [
      "val Loss: 1.271896779537201\n",
      "val Precision: 0.23583686351776123\n",
      "val Recall: 0.23344438523054123\n",
      "Weight saved for epoch 9.\n"
     ]
    },
    {
     "name": "stderr",
     "output_type": "stream",
     "text": [
      "Epoch: 10: 100%|██████████| 141/141 [03:46<00:00,  1.60s/batch, loss=1.14, precision=0.224, recall=0.243]\n"
     ]
    },
    {
     "name": "stdout",
     "output_type": "stream",
     "text": [
      "train Loss: 1.1705382863680522\n",
      "train Precision: 0.25620875142990274\n",
      "train Recall: 0.2614069528190802\n"
     ]
    },
    {
     "name": "stderr",
     "output_type": "stream",
     "text": [
      "Epoch: 10: 100%|██████████| 2/2 [00:24<00:00, 12.34s/batch, loss=1.28, precision=0.234, recall=0.233]\n"
     ]
    },
    {
     "name": "stdout",
     "output_type": "stream",
     "text": [
      "val Loss: 1.3443194031715393\n",
      "val Precision: 0.22728365659713745\n",
      "val Recall: 0.2276618927717209\n",
      "Weight saved for epoch 10.\n"
     ]
    },
    {
     "name": "stderr",
     "output_type": "stream",
     "text": [
      "Epoch: 11: 100%|██████████| 141/141 [03:45<00:00,  1.60s/batch, loss=1.23, precision=0.254, recall=0.237] \n"
     ]
    },
    {
     "name": "stdout",
     "output_type": "stream",
     "text": [
      "train Loss: 1.164538137456204\n",
      "train Precision: 0.2573249801887688\n",
      "train Recall: 0.2628092828160482\n"
     ]
    },
    {
     "name": "stderr",
     "output_type": "stream",
     "text": [
      "Epoch: 11: 100%|██████████| 2/2 [00:25<00:00, 12.71s/batch, loss=1.18, precision=0.279, recall=0.277]\n"
     ]
    },
    {
     "name": "stdout",
     "output_type": "stream",
     "text": [
      "val Loss: 1.256454885005951\n",
      "val Precision: 0.2649323493242264\n",
      "val Recall: 0.25078289955854416\n",
      "Weight saved for epoch 11.\n"
     ]
    },
    {
     "name": "stderr",
     "output_type": "stream",
     "text": [
      "Epoch: 12: 100%|██████████| 141/141 [03:44<00:00,  1.59s/batch, loss=1.28, precision=0.262, recall=0.202] \n"
     ]
    },
    {
     "name": "stdout",
     "output_type": "stream",
     "text": [
      "train Loss: 1.1556115209633577\n",
      "train Precision: 0.26022132015820093\n",
      "train Recall: 0.2688015064237811\n"
     ]
    },
    {
     "name": "stderr",
     "output_type": "stream",
     "text": [
      "Epoch: 12: 100%|██████████| 2/2 [00:24<00:00, 12.32s/batch, loss=1.47, precision=0.246, recall=0.265]\n"
     ]
    },
    {
     "name": "stdout",
     "output_type": "stream",
     "text": [
      "val Loss: 1.5508330464363098\n",
      "val Precision: 0.236562117934227\n",
      "val Recall: 0.24276091158390045\n",
      "Weight saved for epoch 12.\n"
     ]
    },
    {
     "name": "stderr",
     "output_type": "stream",
     "text": [
      "Epoch: 13: 100%|██████████| 141/141 [03:42<00:00,  1.58s/batch, loss=1.16, precision=0.239, recall=0.204]\n"
     ]
    },
    {
     "name": "stdout",
     "output_type": "stream",
     "text": [
      "train Loss: 1.1481719600393416\n",
      "train Precision: 0.26031686238786006\n",
      "train Recall: 0.26885302671303984\n"
     ]
    },
    {
     "name": "stderr",
     "output_type": "stream",
     "text": [
      "Epoch: 13: 100%|██████████| 2/2 [00:25<00:00, 12.85s/batch, loss=1.12, precision=0.299, recall=0.268]\n"
     ]
    },
    {
     "name": "stdout",
     "output_type": "stream",
     "text": [
      "val Loss: 1.2629761695861816\n",
      "val Precision: 0.280713826417923\n",
      "val Recall: 0.2514657899737358\n",
      "Weight saved for epoch 13.\n"
     ]
    },
    {
     "name": "stderr",
     "output_type": "stream",
     "text": [
      "Epoch: 14: 100%|██████████| 141/141 [03:45<00:00,  1.60s/batch, loss=1.19, precision=0.269, recall=0.327] \n"
     ]
    },
    {
     "name": "stdout",
     "output_type": "stream",
     "text": [
      "train Loss: 1.145499366395017\n",
      "train Precision: 0.2639531095822652\n",
      "train Recall: 0.2762356368785209\n"
     ]
    },
    {
     "name": "stderr",
     "output_type": "stream",
     "text": [
      "Epoch: 14: 100%|██████████| 2/2 [00:24<00:00, 12.28s/batch, loss=1.2, precision=0.256, recall=0.229] \n"
     ]
    },
    {
     "name": "stdout",
     "output_type": "stream",
     "text": [
      "val Loss: 1.265480637550354\n",
      "val Precision: 0.25399357080459595\n",
      "val Recall: 0.22105030715465546\n",
      "Weight saved for epoch 14.\n"
     ]
    },
    {
     "name": "stderr",
     "output_type": "stream",
     "text": [
      "Epoch: 15: 100%|██████████| 141/141 [03:45<00:00,  1.60s/batch, loss=1.29, precision=0.267, recall=0.236]\n"
     ]
    },
    {
     "name": "stdout",
     "output_type": "stream",
     "text": [
      "train Loss: 1.1366060092939552\n",
      "train Precision: 0.2651774066348448\n",
      "train Recall: 0.27705496877220503\n"
     ]
    },
    {
     "name": "stderr",
     "output_type": "stream",
     "text": [
      "Epoch: 15: 100%|██████████| 2/2 [00:24<00:00, 12.41s/batch, loss=1.18, precision=0.231, recall=0.225]\n"
     ]
    },
    {
     "name": "stdout",
     "output_type": "stream",
     "text": [
      "val Loss: 1.2989699244499207\n",
      "val Precision: 0.2325652688741684\n",
      "val Recall: 0.22082849591970444\n",
      "Weight saved for epoch 15.\n"
     ]
    },
    {
     "name": "stderr",
     "output_type": "stream",
     "text": [
      "Epoch: 16: 100%|██████████| 141/141 [03:47<00:00,  1.61s/batch, loss=1.08, precision=0.316, recall=0.317] \n"
     ]
    },
    {
     "name": "stdout",
     "output_type": "stream",
     "text": [
      "train Loss: 1.1287356095111116\n",
      "train Precision: 0.26562953904165443\n",
      "train Recall: 0.2785743620801479\n"
     ]
    },
    {
     "name": "stderr",
     "output_type": "stream",
     "text": [
      "Epoch: 16: 100%|██████████| 2/2 [00:25<00:00, 12.82s/batch, loss=1.18, precision=0.294, recall=0.306]\n"
     ]
    },
    {
     "name": "stdout",
     "output_type": "stream",
     "text": [
      "val Loss: 1.2429248690605164\n",
      "val Precision: 0.2759355157613754\n",
      "val Recall: 0.25721533596515656\n",
      "Weight saved for epoch 16.\n"
     ]
    },
    {
     "name": "stderr",
     "output_type": "stream",
     "text": [
      "Epoch: 17: 100%|██████████| 141/141 [03:47<00:00,  1.61s/batch, loss=0.965, precision=0.306, recall=0.311]\n"
     ]
    },
    {
     "name": "stdout",
     "output_type": "stream",
     "text": [
      "train Loss: 1.1215419629786878\n",
      "train Precision: 0.2668950799720507\n",
      "train Recall: 0.28320548086301656\n"
     ]
    },
    {
     "name": "stderr",
     "output_type": "stream",
     "text": [
      "Epoch: 17: 100%|██████████| 2/2 [00:25<00:00, 12.52s/batch, loss=1.04, precision=0.282, recall=0.264]\n"
     ]
    },
    {
     "name": "stdout",
     "output_type": "stream",
     "text": [
      "val Loss: 1.1115890741348267\n",
      "val Precision: 0.27689631283283234\n",
      "val Recall: 0.2461809739470482\n",
      "Weight saved for epoch 17.\n"
     ]
    },
    {
     "name": "stderr",
     "output_type": "stream",
     "text": [
      "Epoch: 18: 100%|██████████| 141/141 [03:45<00:00,  1.60s/batch, loss=1.09, precision=0.245, recall=0.251] \n"
     ]
    },
    {
     "name": "stdout",
     "output_type": "stream",
     "text": [
      "train Loss: 1.108567421740674\n",
      "train Precision: 0.2694176772596143\n",
      "train Recall: 0.28295244889479154\n"
     ]
    },
    {
     "name": "stderr",
     "output_type": "stream",
     "text": [
      "Epoch: 18: 100%|██████████| 2/2 [00:25<00:00, 12.89s/batch, loss=1.03, precision=0.262, recall=0.252]\n"
     ]
    },
    {
     "name": "stdout",
     "output_type": "stream",
     "text": [
      "val Loss: 1.1020312309265137\n",
      "val Precision: 0.27020590007305145\n",
      "val Recall: 0.24366863816976547\n",
      "Weight saved for epoch 18.\n"
     ]
    },
    {
     "name": "stderr",
     "output_type": "stream",
     "text": [
      "Epoch: 19: 100%|██████████| 141/141 [03:45<00:00,  1.60s/batch, loss=1.15, precision=0.264, recall=0.305] \n"
     ]
    },
    {
     "name": "stdout",
     "output_type": "stream",
     "text": [
      "train Loss: 1.104300338325771\n",
      "train Precision: 0.27149507826101693\n",
      "train Recall: 0.28535880592275176\n"
     ]
    },
    {
     "name": "stderr",
     "output_type": "stream",
     "text": [
      "Epoch: 19: 100%|██████████| 2/2 [00:24<00:00, 12.40s/batch, loss=1.12, precision=0.303, recall=0.254]\n"
     ]
    },
    {
     "name": "stdout",
     "output_type": "stream",
     "text": [
      "val Loss: 1.201188325881958\n",
      "val Precision: 0.2830591946840286\n",
      "val Recall: 0.23455441743135452\n",
      "Weight saved for epoch 19.\n"
     ]
    },
    {
     "name": "stderr",
     "output_type": "stream",
     "text": [
      "Epoch: 20: 100%|██████████| 141/141 [03:48<00:00,  1.62s/batch, loss=0.967, precision=0.287, recall=0.284]\n"
     ]
    },
    {
     "name": "stdout",
     "output_type": "stream",
     "text": [
      "train Loss: 1.0954369217791455\n",
      "train Precision: 0.27270927697631486\n",
      "train Recall: 0.290091557811338\n"
     ]
    },
    {
     "name": "stderr",
     "output_type": "stream",
     "text": [
      "Epoch: 20: 100%|██████████| 2/2 [00:25<00:00, 12.62s/batch, loss=1.12, precision=0.253, recall=0.296]\n"
     ]
    },
    {
     "name": "stdout",
     "output_type": "stream",
     "text": [
      "val Loss: 1.175201177597046\n",
      "val Precision: 0.2526888847351074\n",
      "val Recall: 0.2719263732433319\n",
      "Weight saved for epoch 20.\n"
     ]
    },
    {
     "name": "stderr",
     "output_type": "stream",
     "text": [
      "Epoch: 21: 100%|██████████| 141/141 [03:52<00:00,  1.65s/batch, loss=1.08, precision=0.305, recall=0.278] \n"
     ]
    },
    {
     "name": "stdout",
     "output_type": "stream",
     "text": [
      "train Loss: 1.091148982234035\n",
      "train Precision: 0.27619524173280025\n",
      "train Recall: 0.2915038192737187\n"
     ]
    },
    {
     "name": "stderr",
     "output_type": "stream",
     "text": [
      "Epoch: 21: 100%|██████████| 2/2 [00:24<00:00, 12.42s/batch, loss=0.984, precision=0.304, recall=0.271]\n"
     ]
    },
    {
     "name": "stdout",
     "output_type": "stream",
     "text": [
      "val Loss: 1.065131664276123\n",
      "val Precision: 0.2873517870903015\n",
      "val Recall: 0.2442585900425911\n",
      "Weight saved for epoch 21.\n"
     ]
    },
    {
     "name": "stderr",
     "output_type": "stream",
     "text": [
      "Epoch: 22: 100%|██████████| 141/141 [03:44<00:00,  1.59s/batch, loss=1.06, precision=0.262, recall=0.238] \n"
     ]
    },
    {
     "name": "stdout",
     "output_type": "stream",
     "text": [
      "train Loss: 1.0836461203318115\n",
      "train Precision: 0.274686115007874\n",
      "train Recall: 0.2905167963699246\n"
     ]
    },
    {
     "name": "stderr",
     "output_type": "stream",
     "text": [
      "Epoch: 22: 100%|██████████| 2/2 [00:26<00:00, 13.03s/batch, loss=2.02, precision=0.218, recall=0.213]\n"
     ]
    },
    {
     "name": "stdout",
     "output_type": "stream",
     "text": [
      "val Loss: 2.1631383895874023\n",
      "val Precision: 0.21114839613437653\n",
      "val Recall: 0.18763109296560287\n",
      "Weight saved for epoch 22.\n"
     ]
    },
    {
     "name": "stderr",
     "output_type": "stream",
     "text": [
      "Epoch: 23: 100%|██████████| 141/141 [03:48<00:00,  1.62s/batch, loss=1.28, precision=0.266, recall=0.308] \n"
     ]
    },
    {
     "name": "stdout",
     "output_type": "stream",
     "text": [
      "train Loss: 1.0783534341670098\n",
      "train Precision: 0.2765751433499316\n",
      "train Recall: 0.2957839561058274\n"
     ]
    },
    {
     "name": "stderr",
     "output_type": "stream",
     "text": [
      "Epoch: 23: 100%|██████████| 2/2 [00:25<00:00, 12.80s/batch, loss=1.21, precision=0.293, recall=0.253]\n"
     ]
    },
    {
     "name": "stdout",
     "output_type": "stream",
     "text": [
      "val Loss: 1.2826366424560547\n",
      "val Precision: 0.28204473853111267\n",
      "val Recall: 0.24460738897323608\n",
      "Weight saved for epoch 23.\n"
     ]
    },
    {
     "name": "stderr",
     "output_type": "stream",
     "text": [
      "Epoch: 24: 100%|██████████| 141/141 [03:46<00:00,  1.61s/batch, loss=1.18, precision=0.264, recall=0.257] \n"
     ]
    },
    {
     "name": "stdout",
     "output_type": "stream",
     "text": [
      "train Loss: 1.0727678812141959\n",
      "train Precision: 0.2780213582177534\n",
      "train Recall: 0.2916196658678934\n"
     ]
    },
    {
     "name": "stderr",
     "output_type": "stream",
     "text": [
      "Epoch: 24: 100%|██████████| 2/2 [00:25<00:00, 12.65s/batch, loss=1.1, precision=0.247, recall=0.283] \n"
     ]
    },
    {
     "name": "stdout",
     "output_type": "stream",
     "text": [
      "val Loss: 1.1627166271209717\n",
      "val Precision: 0.24808597564697266\n",
      "val Recall: 0.25680694729089737\n",
      "Weight saved for epoch 24.\n"
     ]
    },
    {
     "name": "stderr",
     "output_type": "stream",
     "text": [
      "Epoch: 25: 100%|██████████| 141/141 [03:45<00:00,  1.60s/batch, loss=1.09, precision=0.281, recall=0.32]  \n"
     ]
    },
    {
     "name": "stdout",
     "output_type": "stream",
     "text": [
      "train Loss: 1.064216840774455\n",
      "train Precision: 0.2775623487665298\n",
      "train Recall: 0.2987053129055821\n"
     ]
    },
    {
     "name": "stderr",
     "output_type": "stream",
     "text": [
      "Epoch: 25: 100%|██████████| 2/2 [00:24<00:00, 12.42s/batch, loss=1.17, precision=0.249, recall=0.226]\n"
     ]
    },
    {
     "name": "stdout",
     "output_type": "stream",
     "text": [
      "val Loss: 1.21341472864151\n",
      "val Precision: 0.25282227247953415\n",
      "val Recall: 0.23431365191936493\n",
      "Weight saved for epoch 25.\n"
     ]
    },
    {
     "name": "stderr",
     "output_type": "stream",
     "text": [
      "Epoch: 26: 100%|██████████| 141/141 [03:45<00:00,  1.60s/batch, loss=1.05, precision=0.238, recall=0.228] \n"
     ]
    },
    {
     "name": "stdout",
     "output_type": "stream",
     "text": [
      "train Loss: 1.0603139861255673\n",
      "train Precision: 0.28166079795952387\n",
      "train Recall: 0.29991289487121797\n"
     ]
    },
    {
     "name": "stderr",
     "output_type": "stream",
     "text": [
      "Epoch: 26: 100%|██████████| 2/2 [00:24<00:00, 12.42s/batch, loss=1.1, precision=0.304, recall=0.351] \n"
     ]
    },
    {
     "name": "stdout",
     "output_type": "stream",
     "text": [
      "val Loss: 1.1468181014060974\n",
      "val Precision: 0.29161296784877777\n",
      "val Recall: 0.2961106300354004\n",
      "Weight saved for epoch 26.\n"
     ]
    },
    {
     "name": "stderr",
     "output_type": "stream",
     "text": [
      "Epoch: 27: 100%|██████████| 141/141 [03:46<00:00,  1.61s/batch, loss=0.988, precision=0.292, recall=0.313]\n"
     ]
    },
    {
     "name": "stdout",
     "output_type": "stream",
     "text": [
      "train Loss: 1.0497221536670172\n",
      "train Precision: 0.2838146730940393\n",
      "train Recall: 0.3040195255414814\n"
     ]
    },
    {
     "name": "stderr",
     "output_type": "stream",
     "text": [
      "Epoch: 27: 100%|██████████| 2/2 [00:25<00:00, 12.86s/batch, loss=1.01, precision=0.258, recall=0.281]\n"
     ]
    },
    {
     "name": "stdout",
     "output_type": "stream",
     "text": [
      "val Loss: 1.0735276341438293\n",
      "val Precision: 0.264591708779335\n",
      "val Recall: 0.2809288203716278\n",
      "Weight saved for epoch 27.\n"
     ]
    },
    {
     "name": "stderr",
     "output_type": "stream",
     "text": [
      "Epoch: 28: 100%|██████████| 141/141 [03:48<00:00,  1.62s/batch, loss=1.11, precision=0.287, recall=0.296] \n"
     ]
    },
    {
     "name": "stdout",
     "output_type": "stream",
     "text": [
      "train Loss: 1.0479299227396648\n",
      "train Precision: 0.2833041252819359\n",
      "train Recall: 0.30147116076438984\n"
     ]
    },
    {
     "name": "stderr",
     "output_type": "stream",
     "text": [
      "Epoch: 28: 100%|██████████| 2/2 [00:25<00:00, 12.79s/batch, loss=0.95, precision=0.306, recall=0.29] \n"
     ]
    },
    {
     "name": "stdout",
     "output_type": "stream",
     "text": [
      "val Loss: 1.0414679646492004\n",
      "val Precision: 0.29270368814468384\n",
      "val Recall: 0.2595323547720909\n",
      "Weight saved for epoch 28.\n"
     ]
    },
    {
     "name": "stderr",
     "output_type": "stream",
     "text": [
      "Epoch: 29: 100%|██████████| 141/141 [03:55<00:00,  1.67s/batch, loss=1.09, precision=0.29, recall=0.261]  \n"
     ]
    },
    {
     "name": "stdout",
     "output_type": "stream",
     "text": [
      "train Loss: 1.03833809642927\n",
      "train Precision: 0.2865186147656001\n",
      "train Recall: 0.3067750287182788\n"
     ]
    },
    {
     "name": "stderr",
     "output_type": "stream",
     "text": [
      "Epoch: 29: 100%|██████████| 2/2 [00:25<00:00, 12.50s/batch, loss=1.33, precision=0.232, recall=0.235]\n"
     ]
    },
    {
     "name": "stdout",
     "output_type": "stream",
     "text": [
      "val Loss: 1.3943860530853271\n",
      "val Precision: 0.2336757779121399\n",
      "val Recall: 0.2396923452615738\n",
      "Weight saved for epoch 29.\n"
     ]
    },
    {
     "name": "stderr",
     "output_type": "stream",
     "text": [
      "Epoch: 30: 100%|██████████| 141/141 [03:52<00:00,  1.65s/batch, loss=0.939, precision=0.297, recall=0.265]\n"
     ]
    },
    {
     "name": "stdout",
     "output_type": "stream",
     "text": [
      "train Loss: 1.0325231941033763\n",
      "train Precision: 0.2873479075042914\n",
      "train Recall: 0.3070048424580418\n"
     ]
    },
    {
     "name": "stderr",
     "output_type": "stream",
     "text": [
      "Epoch: 30: 100%|██████████| 2/2 [00:24<00:00, 12.39s/batch, loss=0.951, precision=0.306, recall=0.311]\n"
     ]
    },
    {
     "name": "stdout",
     "output_type": "stream",
     "text": [
      "val Loss: 1.0323772728443146\n",
      "val Precision: 0.29407279193401337\n",
      "val Recall: 0.2865911275148392\n",
      "Weight saved for epoch 30.\n"
     ]
    },
    {
     "name": "stderr",
     "output_type": "stream",
     "text": [
      "Epoch: 31: 100%|██████████| 141/141 [03:45<00:00,  1.60s/batch, loss=1.05, precision=0.267, recall=0.297] \n"
     ]
    },
    {
     "name": "stdout",
     "output_type": "stream",
     "text": [
      "train Loss: 1.0263885504810522\n",
      "train Precision: 0.2882701587592456\n",
      "train Recall: 0.30594024643407647\n"
     ]
    },
    {
     "name": "stderr",
     "output_type": "stream",
     "text": [
      "Epoch: 31: 100%|██████████| 2/2 [00:25<00:00, 12.71s/batch, loss=0.897, precision=0.312, recall=0.3]\n"
     ]
    },
    {
     "name": "stdout",
     "output_type": "stream",
     "text": [
      "val Loss: 0.9789400100708008\n",
      "val Precision: 0.29609689116477966\n",
      "val Recall: 0.2697252705693245\n",
      "Weight saved for epoch 31.\n"
     ]
    },
    {
     "name": "stderr",
     "output_type": "stream",
     "text": [
      "Epoch: 32: 100%|██████████| 141/141 [03:48<00:00,  1.62s/batch, loss=0.987, precision=0.276, recall=0.259]\n"
     ]
    },
    {
     "name": "stdout",
     "output_type": "stream",
     "text": [
      "train Loss: 1.018676978476504\n",
      "train Precision: 0.2910571349850783\n",
      "train Recall: 0.31578215586800945\n"
     ]
    },
    {
     "name": "stderr",
     "output_type": "stream",
     "text": [
      "Epoch: 32: 100%|██████████| 2/2 [00:25<00:00, 12.87s/batch, loss=0.997, precision=0.278, recall=0.296]\n"
     ]
    },
    {
     "name": "stdout",
     "output_type": "stream",
     "text": [
      "val Loss: 1.063168615102768\n",
      "val Precision: 0.2749234735965729\n",
      "val Recall: 0.27523432672023773\n",
      "Weight saved for epoch 32.\n"
     ]
    },
    {
     "name": "stderr",
     "output_type": "stream",
     "text": [
      "Epoch: 33: 100%|██████████| 141/141 [03:45<00:00,  1.60s/batch, loss=0.976, precision=0.281, recall=0.284]\n"
     ]
    },
    {
     "name": "stdout",
     "output_type": "stream",
     "text": [
      "train Loss: 1.0135436620272644\n",
      "train Precision: 0.2911355028338466\n",
      "train Recall: 0.31634049667111525\n"
     ]
    },
    {
     "name": "stderr",
     "output_type": "stream",
     "text": [
      "Epoch: 33: 100%|██████████| 2/2 [00:25<00:00, 12.51s/batch, loss=1.34, precision=0.244, recall=0.194]\n"
     ]
    },
    {
     "name": "stdout",
     "output_type": "stream",
     "text": [
      "val Loss: 1.5230480432510376\n",
      "val Precision: 0.24056262522935867\n",
      "val Recall: 0.19184117764234543\n",
      "Weight saved for epoch 33.\n"
     ]
    },
    {
     "name": "stderr",
     "output_type": "stream",
     "text": [
      "Epoch: 34: 100%|██████████| 141/141 [03:49<00:00,  1.63s/batch, loss=1.18, precision=0.29, recall=0.263]  \n"
     ]
    },
    {
     "name": "stdout",
     "output_type": "stream",
     "text": [
      "train Loss: 1.0117193092691137\n",
      "train Precision: 0.29384340504382517\n",
      "train Recall: 0.31791309092907194\n"
     ]
    },
    {
     "name": "stderr",
     "output_type": "stream",
     "text": [
      "Epoch: 34: 100%|██████████| 2/2 [00:25<00:00, 12.75s/batch, loss=0.956, precision=0.287, recall=0.282]\n"
     ]
    },
    {
     "name": "stdout",
     "output_type": "stream",
     "text": [
      "val Loss: 1.0238399505615234\n",
      "val Precision: 0.2934424877166748\n",
      "val Recall: 0.30863577127456665\n",
      "Weight saved for epoch 34.\n"
     ]
    },
    {
     "name": "stderr",
     "output_type": "stream",
     "text": [
      "Epoch: 35: 100%|██████████| 141/141 [03:47<00:00,  1.61s/batch, loss=1.07, precision=0.27, recall=0.29]   \n"
     ]
    },
    {
     "name": "stdout",
     "output_type": "stream",
     "text": [
      "train Loss: 1.0049850792749553\n",
      "train Precision: 0.294853686546603\n",
      "train Recall: 0.3172950423355644\n"
     ]
    },
    {
     "name": "stderr",
     "output_type": "stream",
     "text": [
      "Epoch: 35: 100%|██████████| 2/2 [00:24<00:00, 12.49s/batch, loss=1.08, precision=0.319, recall=0.322]\n"
     ]
    },
    {
     "name": "stdout",
     "output_type": "stream",
     "text": [
      "val Loss: 1.1558411717414856\n",
      "val Precision: 0.29095658659935\n",
      "val Recall: 0.2790621966123581\n",
      "Weight saved for epoch 35.\n"
     ]
    },
    {
     "name": "stderr",
     "output_type": "stream",
     "text": [
      "Epoch: 36: 100%|██████████| 141/141 [03:49<00:00,  1.63s/batch, loss=1.08, precision=0.279, recall=0.291] \n"
     ]
    },
    {
     "name": "stdout",
     "output_type": "stream",
     "text": [
      "train Loss: 1.001746765687956\n",
      "train Precision: 0.29496028300718213\n",
      "train Recall: 0.31691523382427\n"
     ]
    },
    {
     "name": "stderr",
     "output_type": "stream",
     "text": [
      "Epoch: 36: 100%|██████████| 2/2 [00:25<00:00, 12.80s/batch, loss=1.12, precision=0.272, recall=0.303]\n"
     ]
    },
    {
     "name": "stdout",
     "output_type": "stream",
     "text": [
      "val Loss: 1.1843940615653992\n",
      "val Precision: 0.2738041430711746\n",
      "val Recall: 0.2763901501893997\n",
      "Weight saved for epoch 36.\n"
     ]
    },
    {
     "name": "stderr",
     "output_type": "stream",
     "text": [
      "Epoch: 37: 100%|██████████| 141/141 [03:52<00:00,  1.65s/batch, loss=0.877, precision=0.321, recall=0.362]\n"
     ]
    },
    {
     "name": "stdout",
     "output_type": "stream",
     "text": [
      "train Loss: 0.9903898015089915\n",
      "train Precision: 0.29747984383968595\n",
      "train Recall: 0.3192753920741115\n"
     ]
    },
    {
     "name": "stderr",
     "output_type": "stream",
     "text": [
      "Epoch: 37: 100%|██████████| 2/2 [00:25<00:00, 12.71s/batch, loss=0.948, precision=0.329, recall=0.323]\n"
     ]
    },
    {
     "name": "stdout",
     "output_type": "stream",
     "text": [
      "val Loss: 1.0210797488689423\n",
      "val Precision: 0.3051762133836746\n",
      "val Recall: 0.281013123691082\n",
      "Weight saved for epoch 37.\n"
     ]
    },
    {
     "name": "stderr",
     "output_type": "stream",
     "text": [
      "Epoch: 38: 100%|██████████| 141/141 [03:46<00:00,  1.61s/batch, loss=1, precision=0.284, recall=0.287]    \n"
     ]
    },
    {
     "name": "stdout",
     "output_type": "stream",
     "text": [
      "train Loss: 0.987383930395681\n",
      "train Precision: 0.2988608530227174\n",
      "train Recall: 0.32347040501892144\n"
     ]
    },
    {
     "name": "stderr",
     "output_type": "stream",
     "text": [
      "Epoch: 38: 100%|██████████| 2/2 [00:25<00:00, 12.76s/batch, loss=0.871, precision=0.299, recall=0.293]\n"
     ]
    },
    {
     "name": "stdout",
     "output_type": "stream",
     "text": [
      "val Loss: 0.9564870893955231\n",
      "val Precision: 0.3001257926225662\n",
      "val Recall: 0.2806503176689148\n",
      "Weight saved for epoch 38.\n"
     ]
    },
    {
     "name": "stderr",
     "output_type": "stream",
     "text": [
      "Epoch: 39: 100%|██████████| 141/141 [03:46<00:00,  1.60s/batch, loss=1.05, precision=0.283, recall=0.278] \n"
     ]
    },
    {
     "name": "stdout",
     "output_type": "stream",
     "text": [
      "train Loss: 0.9838941164895998\n",
      "train Precision: 0.29889130127345415\n",
      "train Recall: 0.3213846917059405\n"
     ]
    },
    {
     "name": "stderr",
     "output_type": "stream",
     "text": [
      "Epoch: 39: 100%|██████████| 2/2 [00:25<00:00, 12.83s/batch, loss=1.05, precision=0.269, recall=0.286]\n"
     ]
    },
    {
     "name": "stdout",
     "output_type": "stream",
     "text": [
      "val Loss: 1.094566822052002\n",
      "val Precision: 0.2651102989912033\n",
      "val Recall: 0.2878957688808441\n",
      "Weight saved for epoch 39.\n"
     ]
    },
    {
     "name": "stderr",
     "output_type": "stream",
     "text": [
      "Epoch: 40: 100%|██████████| 141/141 [03:45<00:00,  1.60s/batch, loss=0.952, precision=0.253, recall=0.276]\n"
     ]
    },
    {
     "name": "stdout",
     "output_type": "stream",
     "text": [
      "train Loss: 0.9761045761142216\n",
      "train Precision: 0.30247531313422726\n",
      "train Recall: 0.33145822468378866\n"
     ]
    },
    {
     "name": "stderr",
     "output_type": "stream",
     "text": [
      "Epoch: 40: 100%|██████████| 2/2 [00:24<00:00, 12.41s/batch, loss=0.967, precision=0.337, recall=0.347]\n"
     ]
    },
    {
     "name": "stdout",
     "output_type": "stream",
     "text": [
      "val Loss: 1.033973515033722\n",
      "val Precision: 0.3130436837673187\n",
      "val Recall: 0.3041211813688278\n",
      "Weight saved for epoch 40.\n"
     ]
    },
    {
     "name": "stderr",
     "output_type": "stream",
     "text": [
      "Epoch: 41: 100%|██████████| 141/141 [03:44<00:00,  1.59s/batch, loss=0.909, precision=0.313, recall=0.326]\n"
     ]
    },
    {
     "name": "stdout",
     "output_type": "stream",
     "text": [
      "train Loss: 0.9731786437068425\n",
      "train Precision: 0.3038242313456028\n",
      "train Recall: 0.3332229861130951\n"
     ]
    },
    {
     "name": "stderr",
     "output_type": "stream",
     "text": [
      "Epoch: 41: 100%|██████████| 2/2 [00:24<00:00, 12.49s/batch, loss=1.31, precision=0.283, recall=0.266]\n"
     ]
    },
    {
     "name": "stdout",
     "output_type": "stream",
     "text": [
      "val Loss: 1.3584765791893005\n",
      "val Precision: 0.2787633687257767\n",
      "val Recall: 0.2589745372533798\n",
      "Weight saved for epoch 41.\n"
     ]
    },
    {
     "name": "stderr",
     "output_type": "stream",
     "text": [
      "Epoch: 42: 100%|██████████| 141/141 [03:45<00:00,  1.60s/batch, loss=0.971, precision=0.315, recall=0.336]\n"
     ]
    },
    {
     "name": "stdout",
     "output_type": "stream",
     "text": [
      "train Loss: 0.9667500409674137\n",
      "train Precision: 0.30537543081222696\n",
      "train Recall: 0.33448542908151097\n"
     ]
    },
    {
     "name": "stderr",
     "output_type": "stream",
     "text": [
      "Epoch: 42: 100%|██████████| 2/2 [00:25<00:00, 12.86s/batch, loss=0.918, precision=0.328, recall=0.343]\n"
     ]
    },
    {
     "name": "stdout",
     "output_type": "stream",
     "text": [
      "val Loss: 0.9743501842021942\n",
      "val Precision: 0.31313903629779816\n",
      "val Recall: 0.3000892996788025\n",
      "Weight saved for epoch 42.\n"
     ]
    },
    {
     "name": "stderr",
     "output_type": "stream",
     "text": [
      "Epoch: 43: 100%|██████████| 141/141 [03:42<00:00,  1.58s/batch, loss=0.997, precision=0.301, recall=0.308]\n"
     ]
    },
    {
     "name": "stdout",
     "output_type": "stream",
     "text": [
      "train Loss: 0.9594584204626422\n",
      "train Precision: 0.3058877635932138\n",
      "train Recall: 0.33512708058593965\n"
     ]
    },
    {
     "name": "stderr",
     "output_type": "stream",
     "text": [
      "Epoch: 43: 100%|██████████| 2/2 [00:24<00:00, 12.36s/batch, loss=0.823, precision=0.313, recall=0.32]\n"
     ]
    },
    {
     "name": "stdout",
     "output_type": "stream",
     "text": [
      "val Loss: 0.9298260807991028\n",
      "val Precision: 0.3070801943540573\n",
      "val Recall: 0.31894758343696594\n",
      "Weight saved for epoch 43.\n"
     ]
    },
    {
     "name": "stderr",
     "output_type": "stream",
     "text": [
      "Epoch: 44: 100%|██████████| 141/141 [03:44<00:00,  1.59s/batch, loss=0.9, precision=0.356, recall=0.312]  \n"
     ]
    },
    {
     "name": "stdout",
     "output_type": "stream",
     "text": [
      "train Loss: 0.9556980048511046\n",
      "train Precision: 0.3078045236303451\n",
      "train Recall: 0.3349727377401176\n"
     ]
    },
    {
     "name": "stderr",
     "output_type": "stream",
     "text": [
      "Epoch: 44: 100%|██████████| 2/2 [00:25<00:00, 12.77s/batch, loss=0.899, precision=0.319, recall=0.312]\n"
     ]
    },
    {
     "name": "stdout",
     "output_type": "stream",
     "text": [
      "val Loss: 0.956971287727356\n",
      "val Precision: 0.30389897525310516\n",
      "val Recall: 0.2816423922777176\n",
      "Weight saved for epoch 44.\n"
     ]
    },
    {
     "name": "stderr",
     "output_type": "stream",
     "text": [
      "Epoch: 45: 100%|██████████| 141/141 [03:43<00:00,  1.58s/batch, loss=0.877, precision=0.298, recall=0.313]\n"
     ]
    },
    {
     "name": "stdout",
     "output_type": "stream",
     "text": [
      "train Loss: 0.9535303373708792\n",
      "train Precision: 0.30848767867325044\n",
      "train Recall: 0.33637832982320315\n"
     ]
    },
    {
     "name": "stderr",
     "output_type": "stream",
     "text": [
      "Epoch: 45: 100%|██████████| 2/2 [00:25<00:00, 12.50s/batch, loss=0.972, precision=0.315, recall=0.311]\n"
     ]
    },
    {
     "name": "stdout",
     "output_type": "stream",
     "text": [
      "val Loss: 1.0232087969779968\n",
      "val Precision: 0.2980867326259613\n",
      "val Recall: 0.29226166009902954\n",
      "Weight saved for epoch 45.\n"
     ]
    },
    {
     "name": "stderr",
     "output_type": "stream",
     "text": [
      "Epoch: 46: 100%|██████████| 141/141 [03:43<00:00,  1.58s/batch, loss=0.919, precision=0.287, recall=0.316]\n"
     ]
    },
    {
     "name": "stdout",
     "output_type": "stream",
     "text": [
      "train Loss: 0.9449116777866444\n",
      "train Precision: 0.3104890117831264\n",
      "train Recall: 0.3409415225610665\n"
     ]
    },
    {
     "name": "stderr",
     "output_type": "stream",
     "text": [
      "Epoch: 46: 100%|██████████| 2/2 [00:25<00:00, 12.95s/batch, loss=1, precision=0.251, recall=0.27]   \n"
     ]
    },
    {
     "name": "stdout",
     "output_type": "stream",
     "text": [
      "val Loss: 1.052261471748352\n",
      "val Precision: 0.2623097002506256\n",
      "val Recall: 0.28955066204071045\n",
      "Weight saved for epoch 46.\n"
     ]
    },
    {
     "name": "stderr",
     "output_type": "stream",
     "text": [
      "Epoch: 47: 100%|██████████| 141/141 [03:45<00:00,  1.60s/batch, loss=1.11, precision=0.312, recall=0.299] \n"
     ]
    },
    {
     "name": "stdout",
     "output_type": "stream",
     "text": [
      "train Loss: 0.9404479556895317\n",
      "train Precision: 0.31372624149559236\n",
      "train Recall: 0.34166080964372514\n"
     ]
    },
    {
     "name": "stderr",
     "output_type": "stream",
     "text": [
      "Epoch: 47: 100%|██████████| 2/2 [00:25<00:00, 12.97s/batch, loss=0.959, precision=0.35, recall=0.338]\n"
     ]
    },
    {
     "name": "stdout",
     "output_type": "stream",
     "text": [
      "val Loss: 1.0450464189052582\n",
      "val Precision: 0.32220301032066345\n",
      "val Recall: 0.305785208940506\n",
      "Weight saved for epoch 47.\n"
     ]
    },
    {
     "name": "stderr",
     "output_type": "stream",
     "text": [
      "Epoch: 48: 100%|██████████| 141/141 [03:45<00:00,  1.60s/batch, loss=1.01, precision=0.297, recall=0.284] \n"
     ]
    },
    {
     "name": "stdout",
     "output_type": "stream",
     "text": [
      "train Loss: 0.9349226249870679\n",
      "train Precision: 0.3123237676654302\n",
      "train Recall: 0.3409650873207877\n"
     ]
    },
    {
     "name": "stderr",
     "output_type": "stream",
     "text": [
      "Epoch: 48: 100%|██████████| 2/2 [00:25<00:00, 12.52s/batch, loss=0.835, precision=0.34, recall=0.361] \n"
     ]
    },
    {
     "name": "stdout",
     "output_type": "stream",
     "text": [
      "val Loss: 0.9057460427284241\n",
      "val Precision: 0.32836954295635223\n",
      "val Recall: 0.33723416924476624\n",
      "Weight saved for epoch 48.\n"
     ]
    },
    {
     "name": "stderr",
     "output_type": "stream",
     "text": [
      "Epoch: 49: 100%|██████████| 141/141 [03:45<00:00,  1.60s/batch, loss=0.93, precision=0.34, recall=0.387]  \n"
     ]
    },
    {
     "name": "stdout",
     "output_type": "stream",
     "text": [
      "train Loss: 0.9323275025854719\n",
      "train Precision: 0.31385897469858753\n",
      "train Recall: 0.3461677689924308\n"
     ]
    },
    {
     "name": "stderr",
     "output_type": "stream",
     "text": [
      "Epoch: 49: 100%|██████████| 2/2 [00:24<00:00, 12.34s/batch, loss=0.901, precision=0.305, recall=0.293]\n"
     ]
    },
    {
     "name": "stdout",
     "output_type": "stream",
     "text": [
      "val Loss: 0.9707867205142975\n",
      "val Precision: 0.30534350872039795\n",
      "val Recall: 0.28557781875133514\n",
      "Weight saved for epoch 49.\n"
     ]
    }
   ],
   "source": [
    "batch_size = 356\n",
    "train_dataset = DolphinDatasetTrain(train, encoder, image_size = (512, 512))\n",
    "val_dataset = DolphinDataset(val, encoder, image_size = (512, 512))\n",
    "train_dataloader = DataLoader(train_dataset, batch_size = batch_size, shuffle = True, num_workers = 22, prefetch_factor=2)\n",
    "val_dataloader = DataLoader(val_dataset, batch_size = batch_size, shuffle = False, num_workers = 22, prefetch_factor=2)\n",
    "train_model(train_dataloader, val_dataloader, batch_size=batch_size, weights_path='../../weights/torch_with_momentum_aug_v2/', epochs=50, load_weights='../../weights/torch_with_momentum_aug/49.pth')"
   ]
  },
  {
   "cell_type": "code",
   "execution_count": 14,
   "metadata": {},
   "outputs": [
    {
     "name": "stderr",
     "output_type": "stream",
     "text": [
      "Using cache found in /home/paperspace/.cache/torch/hub/pytorch_vision_v0.10.0\n"
     ]
    },
    {
     "data": {
      "text/html": [
       "Finishing last run (ID:14creoom) before initializing another..."
      ],
      "text/plain": [
       "<IPython.core.display.HTML object>"
      ]
     },
     "metadata": {},
     "output_type": "display_data"
    },
    {
     "data": {
      "text/html": [
       "Waiting for W&B process to finish... <strong style=\"color:green\">(success).</strong>"
      ],
      "text/plain": [
       "<IPython.core.display.HTML object>"
      ]
     },
     "metadata": {},
     "output_type": "display_data"
    },
    {
     "data": {
      "application/vnd.jupyter.widget-view+json": {
       "model_id": "d06384629a3c498a8a91fb8bd503e4d7",
       "version_major": 2,
       "version_minor": 0
      },
      "text/plain": [
       "VBox(children=(Label(value='0.001 MB of 0.001 MB uploaded (0.000 MB deduped)\\r'), FloatProgress(value=1.0, max…"
      ]
     },
     "metadata": {},
     "output_type": "display_data"
    },
    {
     "data": {
      "text/html": [
       "<style>\n",
       "    table.wandb td:nth-child(1) { padding: 0 10px; text-align: left ; width: auto;} td:nth-child(2) {text-align: left ; width: 100%}\n",
       "    .wandb-row { display: flex; flex-direction: row; flex-wrap: wrap; justify-content: flex-start; width: 100% }\n",
       "    .wandb-col { display: flex; flex-direction: column; flex-basis: 100%; flex: 1; padding: 10px; }\n",
       "    </style>\n",
       "<div class=\"wandb-row\"><div class=\"wandb-col\"><h3>Run history:</h3><br/><table class=\"wandb\"><tr><td>train_loss</td><td>███▇▇▇▇▆▆▆▆▆▅▅▅▅▄▄▄▄▄▄▃▃▃▃▃▃▃▂▂▂▂▂▂▂▁▁▁▁</td></tr><tr><td>train_precision</td><td>▁▁▁▁▂▂▂▂▃▃▃▃▃▃▄▄▄▄▄▄▅▅▅▅▅▆▆▆▆▆▆▇▇▇▇▇▇███</td></tr><tr><td>train_recall</td><td>▁▁▁▂▂▂▂▂▃▃▃▃▄▄▄▄▄▅▄▅▅▅▅▅▆▅▆▆▆▆▆▇▇▇▇▇▇███</td></tr><tr><td>val_loss</td><td>▃▃▅▃▃▃▃▃▃▃▅▃▃▃▂▂▂▂█▃▃▂▂▂▂▁▂▄▂▂▂▁▂▃▁▁▂▂▂▁</td></tr><tr><td>val_precision</td><td>▄▄▃▄▄▄▄▄▂▄▃▅▂▅▅▅▄▆▁▅▄▆▄▆▆▆▅▃▆▅▇▇▇▅▇▇▆▄█▇</td></tr><tr><td>val_recall</td><td>▄▃▁▂▄▃▄▃▃▄▄▄▃▅▄▄▅▄▁▄▃▇▆▅▆▅▆▁▆▆▆▆▇▅▇█▇▆▇▆</td></tr></table><br/></div><div class=\"wandb-col\"><h3>Run summary:</h3><br/><table class=\"wandb\"><tr><td>train_loss</td><td>0.93233</td></tr><tr><td>train_precision</td><td>0.31386</td></tr><tr><td>train_recall</td><td>0.34617</td></tr><tr><td>val_loss</td><td>0.97079</td></tr><tr><td>val_precision</td><td>0.30534</td></tr><tr><td>val_recall</td><td>0.28558</td></tr></table><br/></div></div>"
      ],
      "text/plain": [
       "<IPython.core.display.HTML object>"
      ]
     },
     "metadata": {},
     "output_type": "display_data"
    },
    {
     "data": {
      "text/html": [
       "Synced <strong style=\"color:#cdcd00\">dazzling-frog-80</strong>: <a href=\"https://wandb.ai/yashchks87/dolphin/runs/14creoom\" target=\"_blank\">https://wandb.ai/yashchks87/dolphin/runs/14creoom</a><br/>Synced 5 W&B file(s), 0 media file(s), 0 artifact file(s) and 0 other file(s)"
      ],
      "text/plain": [
       "<IPython.core.display.HTML object>"
      ]
     },
     "metadata": {},
     "output_type": "display_data"
    },
    {
     "data": {
      "text/html": [
       "Find logs at: <code>./wandb/run-20230823_140845-14creoom/logs</code>"
      ],
      "text/plain": [
       "<IPython.core.display.HTML object>"
      ]
     },
     "metadata": {},
     "output_type": "display_data"
    },
    {
     "data": {
      "text/html": [
       "Successfully finished last run (ID:14creoom). Initializing new run:<br/>"
      ],
      "text/plain": [
       "<IPython.core.display.HTML object>"
      ]
     },
     "metadata": {},
     "output_type": "display_data"
    },
    {
     "data": {
      "application/vnd.jupyter.widget-view+json": {
       "model_id": "418a5a228ecf416988b0893c35c2c882",
       "version_major": 2,
       "version_minor": 0
      },
      "text/plain": [
       "VBox(children=(Label(value='Waiting for wandb.init()...\\r'), FloatProgress(value=0.016670571033318992, max=1.0…"
      ]
     },
     "metadata": {},
     "output_type": "display_data"
    },
    {
     "data": {
      "text/html": [
       "wandb version 0.15.8 is available!  To upgrade, please run:\n",
       " $ pip install wandb --upgrade"
      ],
      "text/plain": [
       "<IPython.core.display.HTML object>"
      ]
     },
     "metadata": {},
     "output_type": "display_data"
    },
    {
     "data": {
      "text/html": [
       "Tracking run with wandb version 0.13.4"
      ],
      "text/plain": [
       "<IPython.core.display.HTML object>"
      ]
     },
     "metadata": {},
     "output_type": "display_data"
    },
    {
     "data": {
      "text/html": [
       "Run data is saved locally in <code>/home/paperspace/Documents/dolphin_classification/notebooks/wandb/run-20230823_174208-2eya2lxy</code>"
      ],
      "text/plain": [
       "<IPython.core.display.HTML object>"
      ]
     },
     "metadata": {},
     "output_type": "display_data"
    },
    {
     "data": {
      "text/html": [
       "Syncing run <strong><a href=\"https://wandb.ai/yashchks87/dolphin/runs/2eya2lxy\" target=\"_blank\">gallant-plant-81</a></strong> to <a href=\"https://wandb.ai/yashchks87/dolphin\" target=\"_blank\">Weights & Biases</a> (<a href=\"https://wandb.me/run\" target=\"_blank\">docs</a>)<br/>"
      ],
      "text/plain": [
       "<IPython.core.display.HTML object>"
      ]
     },
     "metadata": {},
     "output_type": "display_data"
    },
    {
     "name": "stderr",
     "output_type": "stream",
     "text": [
      "Epoch: 0: 100%|██████████| 141/141 [03:47<00:00,  1.61s/batch, loss=0.943, precision=0.297, recall=0.311]\n"
     ]
    },
    {
     "name": "stdout",
     "output_type": "stream",
     "text": [
      "train Loss: 0.9273325111849088\n",
      "train Precision: 0.31588173377598433\n",
      "train Recall: 0.3461521861823738\n"
     ]
    },
    {
     "name": "stderr",
     "output_type": "stream",
     "text": [
      "Epoch: 0: 100%|██████████| 2/2 [00:24<00:00, 12.46s/batch, loss=0.815, precision=0.332, recall=0.368]\n"
     ]
    },
    {
     "name": "stdout",
     "output_type": "stream",
     "text": [
      "val Loss: 0.8991067111492157\n",
      "val Precision: 0.3149438053369522\n",
      "val Recall: 0.34153757989406586\n",
      "Weight saved for epoch 0.\n"
     ]
    },
    {
     "name": "stderr",
     "output_type": "stream",
     "text": [
      "Epoch: 1: 100%|██████████| 141/141 [03:46<00:00,  1.61s/batch, loss=0.811, precision=0.342, recall=0.391]\n"
     ]
    },
    {
     "name": "stdout",
     "output_type": "stream",
     "text": [
      "train Loss: 0.9197638034820557\n",
      "train Precision: 0.31975783671893127\n",
      "train Recall: 0.35311007837877206\n"
     ]
    },
    {
     "name": "stderr",
     "output_type": "stream",
     "text": [
      "Epoch: 1: 100%|██████████| 2/2 [00:24<00:00, 12.43s/batch, loss=0.892, precision=0.322, recall=0.302]\n"
     ]
    },
    {
     "name": "stdout",
     "output_type": "stream",
     "text": [
      "val Loss: 0.9517597258090973\n",
      "val Precision: 0.3156125098466873\n",
      "val Recall: 0.3147420436143875\n",
      "Weight saved for epoch 1.\n"
     ]
    },
    {
     "name": "stderr",
     "output_type": "stream",
     "text": [
      "Epoch: 2: 100%|██████████| 141/141 [03:46<00:00,  1.61s/batch, loss=0.864, precision=0.265, recall=0.253]\n"
     ]
    },
    {
     "name": "stdout",
     "output_type": "stream",
     "text": [
      "train Loss: 0.917892391377307\n",
      "train Precision: 0.31760525365247794\n",
      "train Recall: 0.34932993215026586\n"
     ]
    },
    {
     "name": "stderr",
     "output_type": "stream",
     "text": [
      "Epoch: 2: 100%|██████████| 2/2 [00:24<00:00, 12.43s/batch, loss=0.838, precision=0.332, recall=0.355]\n"
     ]
    },
    {
     "name": "stdout",
     "output_type": "stream",
     "text": [
      "val Loss: 0.9097501635551453\n",
      "val Precision: 0.3199178874492645\n",
      "val Recall: 0.32903559505939484\n",
      "Weight saved for epoch 2.\n"
     ]
    },
    {
     "name": "stderr",
     "output_type": "stream",
     "text": [
      "Epoch: 3: 100%|██████████| 141/141 [03:50<00:00,  1.64s/batch, loss=0.808, precision=0.356, recall=0.379]\n"
     ]
    },
    {
     "name": "stdout",
     "output_type": "stream",
     "text": [
      "train Loss: 0.9098146587398881\n",
      "train Precision: 0.3210878621601889\n",
      "train Recall: 0.35138153247799436\n"
     ]
    },
    {
     "name": "stderr",
     "output_type": "stream",
     "text": [
      "Epoch: 3: 100%|██████████| 2/2 [00:24<00:00, 12.33s/batch, loss=0.853, precision=0.376, recall=0.369]\n"
     ]
    },
    {
     "name": "stdout",
     "output_type": "stream",
     "text": [
      "val Loss: 0.9132978022098541\n",
      "val Precision: 0.3459494113922119\n",
      "val Recall: 0.3745884448289871\n",
      "Weight saved for epoch 3.\n"
     ]
    },
    {
     "name": "stderr",
     "output_type": "stream",
     "text": [
      "Epoch: 4: 100%|██████████| 141/141 [03:47<00:00,  1.61s/batch, loss=0.91, precision=0.299, recall=0.287] \n"
     ]
    },
    {
     "name": "stdout",
     "output_type": "stream",
     "text": [
      "train Loss: 0.9082937676010402\n",
      "train Precision: 0.3242651498909538\n",
      "train Recall: 0.3562992405384145\n"
     ]
    },
    {
     "name": "stderr",
     "output_type": "stream",
     "text": [
      "Epoch: 4: 100%|██████████| 2/2 [00:25<00:00, 12.81s/batch, loss=0.816, precision=0.342, recall=0.35]\n"
     ]
    },
    {
     "name": "stdout",
     "output_type": "stream",
     "text": [
      "val Loss: 0.8831537663936615\n",
      "val Precision: 0.3346269130706787\n",
      "val Recall: 0.3462684154510498\n",
      "Weight saved for epoch 4.\n"
     ]
    },
    {
     "name": "stderr",
     "output_type": "stream",
     "text": [
      "Epoch: 5: 100%|██████████| 141/141 [03:45<00:00,  1.60s/batch, loss=0.953, precision=0.322, recall=0.33] \n"
     ]
    },
    {
     "name": "stdout",
     "output_type": "stream",
     "text": [
      "train Loss: 0.9039285144907363\n",
      "train Precision: 0.32179353338606814\n",
      "train Recall: 0.35024772066596555\n"
     ]
    },
    {
     "name": "stderr",
     "output_type": "stream",
     "text": [
      "Epoch: 5: 100%|██████████| 2/2 [00:25<00:00, 12.70s/batch, loss=0.799, precision=0.338, recall=0.337]\n"
     ]
    },
    {
     "name": "stdout",
     "output_type": "stream",
     "text": [
      "val Loss: 0.8856134712696075\n",
      "val Precision: 0.33043453097343445\n",
      "val Recall: 0.3385842889547348\n",
      "Weight saved for epoch 5.\n"
     ]
    },
    {
     "name": "stderr",
     "output_type": "stream",
     "text": [
      "Epoch: 6: 100%|██████████| 141/141 [03:48<00:00,  1.62s/batch, loss=0.948, precision=0.288, recall=0.302]\n"
     ]
    },
    {
     "name": "stdout",
     "output_type": "stream",
     "text": [
      "train Loss: 0.8990195300562162\n",
      "train Precision: 0.3255204129303601\n",
      "train Recall: 0.35390784004901316\n"
     ]
    },
    {
     "name": "stderr",
     "output_type": "stream",
     "text": [
      "Epoch: 6: 100%|██████████| 2/2 [00:25<00:00, 12.84s/batch, loss=0.836, precision=0.364, recall=0.372]\n"
     ]
    },
    {
     "name": "stdout",
     "output_type": "stream",
     "text": [
      "val Loss: 0.9166203141212463\n",
      "val Precision: 0.33930839598178864\n",
      "val Recall: 0.3557313531637192\n",
      "Weight saved for epoch 6.\n"
     ]
    },
    {
     "name": "stderr",
     "output_type": "stream",
     "text": [
      "Epoch: 7: 100%|██████████| 141/141 [03:46<00:00,  1.61s/batch, loss=0.971, precision=0.298, recall=0.303]\n"
     ]
    },
    {
     "name": "stdout",
     "output_type": "stream",
     "text": [
      "train Loss: 0.8934478624492672\n",
      "train Precision: 0.3261504627711384\n",
      "train Recall: 0.35765916996813835\n"
     ]
    },
    {
     "name": "stderr",
     "output_type": "stream",
     "text": [
      "Epoch: 7: 100%|██████████| 2/2 [00:25<00:00, 12.93s/batch, loss=0.774, precision=0.375, recall=0.401]\n"
     ]
    },
    {
     "name": "stdout",
     "output_type": "stream",
     "text": [
      "val Loss: 0.8758444488048553\n",
      "val Precision: 0.3376356065273285\n",
      "val Recall: 0.3435380160808563\n",
      "Weight saved for epoch 7.\n"
     ]
    },
    {
     "name": "stderr",
     "output_type": "stream",
     "text": [
      "Epoch: 8: 100%|██████████| 141/141 [03:47<00:00,  1.61s/batch, loss=0.866, precision=0.284, recall=0.273]\n"
     ]
    },
    {
     "name": "stdout",
     "output_type": "stream",
     "text": [
      "train Loss: 0.8889190935074015\n",
      "train Precision: 0.328662984971459\n",
      "train Recall: 0.3614346685139\n"
     ]
    },
    {
     "name": "stderr",
     "output_type": "stream",
     "text": [
      "Epoch: 8: 100%|██████████| 2/2 [00:25<00:00, 12.58s/batch, loss=0.964, precision=0.328, recall=0.359]\n"
     ]
    },
    {
     "name": "stdout",
     "output_type": "stream",
     "text": [
      "val Loss: 1.0248110592365265\n",
      "val Precision: 0.31062817573547363\n",
      "val Recall: 0.32063329219818115\n",
      "Weight saved for epoch 8.\n"
     ]
    },
    {
     "name": "stderr",
     "output_type": "stream",
     "text": [
      "Epoch: 9: 100%|██████████| 141/141 [03:46<00:00,  1.61s/batch, loss=0.895, precision=0.325, recall=0.36] \n"
     ]
    },
    {
     "name": "stdout",
     "output_type": "stream",
     "text": [
      "train Loss: 0.8864039275663119\n",
      "train Precision: 0.33188281477765835\n",
      "train Recall: 0.36517548899278574\n"
     ]
    },
    {
     "name": "stderr",
     "output_type": "stream",
     "text": [
      "Epoch: 9: 100%|██████████| 2/2 [00:25<00:00, 12.85s/batch, loss=0.85, precision=0.327, recall=0.33] \n"
     ]
    },
    {
     "name": "stdout",
     "output_type": "stream",
     "text": [
      "val Loss: 0.9069893956184387\n",
      "val Precision: 0.3238166272640228\n",
      "val Recall: 0.3408045321702957\n",
      "Weight saved for epoch 9.\n"
     ]
    },
    {
     "name": "stderr",
     "output_type": "stream",
     "text": [
      "Epoch: 10: 100%|██████████| 141/141 [03:48<00:00,  1.62s/batch, loss=0.991, precision=0.321, recall=0.345]\n"
     ]
    },
    {
     "name": "stdout",
     "output_type": "stream",
     "text": [
      "train Loss: 0.8821192261175061\n",
      "train Precision: 0.33118127867685143\n",
      "train Recall: 0.36348095980096373\n"
     ]
    },
    {
     "name": "stderr",
     "output_type": "stream",
     "text": [
      "Epoch: 10: 100%|██████████| 2/2 [00:25<00:00, 12.99s/batch, loss=1.09, precision=0.288, recall=0.283]\n"
     ]
    },
    {
     "name": "stdout",
     "output_type": "stream",
     "text": [
      "val Loss: 1.168717086315155\n",
      "val Precision: 0.28274455666542053\n",
      "val Recall: 0.2592141777276993\n",
      "Weight saved for epoch 10.\n"
     ]
    },
    {
     "name": "stderr",
     "output_type": "stream",
     "text": [
      "Epoch: 11: 100%|██████████| 141/141 [03:51<00:00,  1.64s/batch, loss=0.926, precision=0.349, recall=0.334]\n"
     ]
    },
    {
     "name": "stdout",
     "output_type": "stream",
     "text": [
      "train Loss: 0.8765787532989014\n",
      "train Precision: 0.3312342473378418\n",
      "train Recall: 0.36416696550998284\n"
     ]
    },
    {
     "name": "stderr",
     "output_type": "stream",
     "text": [
      "Epoch: 11: 100%|██████████| 2/2 [00:25<00:00, 12.63s/batch, loss=0.766, precision=0.372, recall=0.403]\n"
     ]
    },
    {
     "name": "stdout",
     "output_type": "stream",
     "text": [
      "val Loss: 0.8365988433361053\n",
      "val Precision: 0.3460666090250015\n",
      "val Recall: 0.38492318987846375\n",
      "Weight saved for epoch 11.\n"
     ]
    },
    {
     "name": "stderr",
     "output_type": "stream",
     "text": [
      "Epoch: 12: 100%|██████████| 141/141 [03:46<00:00,  1.61s/batch, loss=0.815, precision=0.337, recall=0.325]\n"
     ]
    },
    {
     "name": "stdout",
     "output_type": "stream",
     "text": [
      "train Loss: 0.8705710257198793\n",
      "train Precision: 0.3326337601698882\n",
      "train Recall: 0.36487725715265207\n"
     ]
    },
    {
     "name": "stderr",
     "output_type": "stream",
     "text": [
      "Epoch: 12: 100%|██████████| 2/2 [00:25<00:00, 12.84s/batch, loss=0.806, precision=0.322, recall=0.351]\n"
     ]
    },
    {
     "name": "stdout",
     "output_type": "stream",
     "text": [
      "val Loss: 0.8826756477355957\n",
      "val Precision: 0.3175273984670639\n",
      "val Recall: 0.34238632023334503\n",
      "Weight saved for epoch 12.\n"
     ]
    },
    {
     "name": "stderr",
     "output_type": "stream",
     "text": [
      "Epoch: 13: 100%|██████████| 141/141 [03:51<00:00,  1.64s/batch, loss=0.806, precision=0.342, recall=0.361]\n"
     ]
    },
    {
     "name": "stdout",
     "output_type": "stream",
     "text": [
      "train Loss: 0.8677389461097987\n",
      "train Precision: 0.3392247555526436\n",
      "train Recall: 0.37577390311457587\n"
     ]
    },
    {
     "name": "stderr",
     "output_type": "stream",
     "text": [
      "Epoch: 13: 100%|██████████| 2/2 [00:25<00:00, 12.91s/batch, loss=0.747, precision=0.363, recall=0.375]\n"
     ]
    },
    {
     "name": "stdout",
     "output_type": "stream",
     "text": [
      "val Loss: 0.820639431476593\n",
      "val Precision: 0.3530658036470413\n",
      "val Recall: 0.39599303901195526\n",
      "Weight saved for epoch 13.\n"
     ]
    },
    {
     "name": "stderr",
     "output_type": "stream",
     "text": [
      "Epoch: 14: 100%|██████████| 141/141 [03:46<00:00,  1.60s/batch, loss=0.825, precision=0.363, recall=0.371]\n"
     ]
    },
    {
     "name": "stdout",
     "output_type": "stream",
     "text": [
      "train Loss: 0.8591245797508997\n",
      "train Precision: 0.3362943697060254\n",
      "train Recall: 0.36787739565186467\n"
     ]
    },
    {
     "name": "stderr",
     "output_type": "stream",
     "text": [
      "Epoch: 14: 100%|██████████| 2/2 [00:25<00:00, 12.90s/batch, loss=0.805, precision=0.331, recall=0.379]\n"
     ]
    },
    {
     "name": "stdout",
     "output_type": "stream",
     "text": [
      "val Loss: 0.8664107620716095\n",
      "val Precision: 0.33352142572402954\n",
      "val Recall: 0.3803020417690277\n",
      "Weight saved for epoch 14.\n"
     ]
    },
    {
     "name": "stderr",
     "output_type": "stream",
     "text": [
      "Epoch: 15: 100%|██████████| 141/141 [03:43<00:00,  1.59s/batch, loss=0.825, precision=0.316, recall=0.288]\n"
     ]
    },
    {
     "name": "stdout",
     "output_type": "stream",
     "text": [
      "train Loss: 0.8587538401285807\n",
      "train Precision: 0.3401287823704118\n",
      "train Recall: 0.37107625772767033\n"
     ]
    },
    {
     "name": "stderr",
     "output_type": "stream",
     "text": [
      "Epoch: 15: 100%|██████████| 2/2 [00:24<00:00, 12.48s/batch, loss=0.868, precision=0.372, recall=0.383]\n"
     ]
    },
    {
     "name": "stdout",
     "output_type": "stream",
     "text": [
      "val Loss: 0.951172947883606\n",
      "val Precision: 0.3516344726085663\n",
      "val Recall: 0.3710608333349228\n",
      "Weight saved for epoch 15.\n"
     ]
    },
    {
     "name": "stderr",
     "output_type": "stream",
     "text": [
      "Epoch: 16: 100%|██████████| 141/141 [03:47<00:00,  1.61s/batch, loss=1.04, precision=0.301, recall=0.341] \n"
     ]
    },
    {
     "name": "stdout",
     "output_type": "stream",
     "text": [
      "train Loss: 0.8559551192513595\n",
      "train Precision: 0.3386637570587456\n",
      "train Recall: 0.37159512672863954\n"
     ]
    },
    {
     "name": "stderr",
     "output_type": "stream",
     "text": [
      "Epoch: 16: 100%|██████████| 2/2 [00:25<00:00, 12.76s/batch, loss=0.907, precision=0.354, recall=0.384]\n"
     ]
    },
    {
     "name": "stdout",
     "output_type": "stream",
     "text": [
      "val Loss: 0.9822479486465454\n",
      "val Precision: 0.3425830453634262\n",
      "val Recall: 0.3599650263786316\n",
      "Weight saved for epoch 16.\n"
     ]
    },
    {
     "name": "stderr",
     "output_type": "stream",
     "text": [
      "Epoch: 17: 100%|██████████| 141/141 [03:48<00:00,  1.62s/batch, loss=0.867, precision=0.299, recall=0.275]\n"
     ]
    },
    {
     "name": "stdout",
     "output_type": "stream",
     "text": [
      "train Loss: 0.850302425259394\n",
      "train Precision: 0.34035963475281467\n",
      "train Recall: 0.37414498215026043\n"
     ]
    },
    {
     "name": "stderr",
     "output_type": "stream",
     "text": [
      "Epoch: 17: 100%|██████████| 2/2 [00:25<00:00, 12.79s/batch, loss=0.869, precision=0.359, recall=0.336]\n"
     ]
    },
    {
     "name": "stdout",
     "output_type": "stream",
     "text": [
      "val Loss: 0.9978939592838287\n",
      "val Precision: 0.337859109044075\n",
      "val Recall: 0.33767275512218475\n",
      "Weight saved for epoch 17.\n"
     ]
    },
    {
     "name": "stderr",
     "output_type": "stream",
     "text": [
      "Epoch: 18: 100%|██████████| 141/141 [03:45<00:00,  1.60s/batch, loss=0.953, precision=0.343, recall=0.367]\n"
     ]
    },
    {
     "name": "stdout",
     "output_type": "stream",
     "text": [
      "train Loss: 0.8453758392773622\n",
      "train Precision: 0.34151958742885724\n",
      "train Recall: 0.3735649735792309\n"
     ]
    },
    {
     "name": "stderr",
     "output_type": "stream",
     "text": [
      "Epoch: 18: 100%|██████████| 2/2 [00:25<00:00, 12.53s/batch, loss=0.842, precision=0.323, recall=0.365]\n"
     ]
    },
    {
     "name": "stdout",
     "output_type": "stream",
     "text": [
      "val Loss: 0.934691458940506\n",
      "val Precision: 0.31523340940475464\n",
      "val Recall: 0.34296730160713196\n",
      "Weight saved for epoch 18.\n"
     ]
    },
    {
     "name": "stderr",
     "output_type": "stream",
     "text": [
      "Epoch: 19: 100%|██████████| 141/141 [03:45<00:00,  1.60s/batch, loss=0.981, precision=0.375, recall=0.358]\n"
     ]
    },
    {
     "name": "stdout",
     "output_type": "stream",
     "text": [
      "train Loss: 0.8426782717096045\n",
      "train Precision: 0.34353178253410555\n",
      "train Recall: 0.3752045248839872\n"
     ]
    },
    {
     "name": "stderr",
     "output_type": "stream",
     "text": [
      "Epoch: 19: 100%|██████████| 2/2 [00:24<00:00, 12.42s/batch, loss=0.764, precision=0.352, recall=0.353]\n"
     ]
    },
    {
     "name": "stdout",
     "output_type": "stream",
     "text": [
      "val Loss: 0.8344534337520599\n",
      "val Precision: 0.34928762912750244\n",
      "val Recall: 0.3531016409397125\n",
      "Weight saved for epoch 19.\n"
     ]
    },
    {
     "name": "stderr",
     "output_type": "stream",
     "text": [
      "Epoch: 20: 100%|██████████| 141/141 [03:45<00:00,  1.60s/batch, loss=0.93, precision=0.32, recall=0.315]  \n"
     ]
    },
    {
     "name": "stdout",
     "output_type": "stream",
     "text": [
      "train Loss: 0.8388592977050349\n",
      "train Precision: 0.3452597490861906\n",
      "train Recall: 0.37861854155012903\n"
     ]
    },
    {
     "name": "stderr",
     "output_type": "stream",
     "text": [
      "Epoch: 20: 100%|██████████| 2/2 [00:25<00:00, 12.74s/batch, loss=0.897, precision=0.287, recall=0.354]\n"
     ]
    },
    {
     "name": "stdout",
     "output_type": "stream",
     "text": [
      "val Loss: 0.9562675058841705\n",
      "val Precision: 0.2919228971004486\n",
      "val Recall: 0.3603486269712448\n",
      "Weight saved for epoch 20.\n"
     ]
    },
    {
     "name": "stderr",
     "output_type": "stream",
     "text": [
      "Epoch: 21: 100%|██████████| 141/141 [03:43<00:00,  1.58s/batch, loss=0.77, precision=0.328, recall=0.354] \n"
     ]
    },
    {
     "name": "stdout",
     "output_type": "stream",
     "text": [
      "train Loss: 0.8359730188728224\n",
      "train Precision: 0.3475204701964737\n",
      "train Recall: 0.38262616277586486\n"
     ]
    },
    {
     "name": "stderr",
     "output_type": "stream",
     "text": [
      "Epoch: 21: 100%|██████████| 2/2 [00:24<00:00, 12.33s/batch, loss=0.912, precision=0.351, recall=0.389]\n"
     ]
    },
    {
     "name": "stdout",
     "output_type": "stream",
     "text": [
      "val Loss: 0.9474980235099792\n",
      "val Precision: 0.33553600311279297\n",
      "val Recall: 0.3547191470861435\n",
      "Weight saved for epoch 21.\n"
     ]
    },
    {
     "name": "stderr",
     "output_type": "stream",
     "text": [
      "Epoch: 22: 100%|██████████| 141/141 [03:46<00:00,  1.60s/batch, loss=0.808, precision=0.385, recall=0.412]\n"
     ]
    },
    {
     "name": "stdout",
     "output_type": "stream",
     "text": [
      "train Loss: 0.8285860850455913\n",
      "train Precision: 0.3486809544529475\n",
      "train Recall: 0.3812448982651352\n"
     ]
    },
    {
     "name": "stderr",
     "output_type": "stream",
     "text": [
      "Epoch: 22: 100%|██████████| 2/2 [00:25<00:00, 12.85s/batch, loss=0.762, precision=0.412, recall=0.437]\n"
     ]
    },
    {
     "name": "stdout",
     "output_type": "stream",
     "text": [
      "val Loss: 0.8188087642192841\n",
      "val Precision: 0.3755952715873718\n",
      "val Recall: 0.40595634281635284\n",
      "Weight saved for epoch 22.\n"
     ]
    },
    {
     "name": "stderr",
     "output_type": "stream",
     "text": [
      "Epoch: 23: 100%|██████████| 141/141 [03:54<00:00,  1.66s/batch, loss=0.878, precision=0.297, recall=0.3]  \n"
     ]
    },
    {
     "name": "stdout",
     "output_type": "stream",
     "text": [
      "train Loss: 0.8280983884283837\n",
      "train Precision: 0.3501377228304004\n",
      "train Recall: 0.38117755981201823\n"
     ]
    },
    {
     "name": "stderr",
     "output_type": "stream",
     "text": [
      "Epoch: 23: 100%|██████████| 2/2 [00:24<00:00, 12.49s/batch, loss=0.856, precision=0.385, recall=0.372]\n"
     ]
    },
    {
     "name": "stdout",
     "output_type": "stream",
     "text": [
      "val Loss: 0.9774369597434998\n",
      "val Precision: 0.3540796786546707\n",
      "val Recall: 0.33415015041828156\n",
      "Weight saved for epoch 23.\n"
     ]
    },
    {
     "name": "stderr",
     "output_type": "stream",
     "text": [
      "Epoch: 24: 100%|██████████| 141/141 [03:43<00:00,  1.59s/batch, loss=1.05, precision=0.325, recall=0.356] \n"
     ]
    },
    {
     "name": "stdout",
     "output_type": "stream",
     "text": [
      "train Loss: 0.8220151607871901\n",
      "train Precision: 0.351953535003865\n",
      "train Recall: 0.3857507944529784\n"
     ]
    },
    {
     "name": "stderr",
     "output_type": "stream",
     "text": [
      "Epoch: 24: 100%|██████████| 2/2 [00:26<00:00, 13.07s/batch, loss=0.814, precision=0.359, recall=0.377]\n"
     ]
    },
    {
     "name": "stdout",
     "output_type": "stream",
     "text": [
      "val Loss: 0.8759384751319885\n",
      "val Precision: 0.3399505168199539\n",
      "val Recall: 0.37240631878376007\n",
      "Weight saved for epoch 24.\n"
     ]
    },
    {
     "name": "stderr",
     "output_type": "stream",
     "text": [
      "Epoch: 25: 100%|██████████| 141/141 [03:51<00:00,  1.64s/batch, loss=0.836, precision=0.334, recall=0.376]\n"
     ]
    },
    {
     "name": "stdout",
     "output_type": "stream",
     "text": [
      "train Loss: 0.817260465300675\n",
      "train Precision: 0.35259099907063424\n",
      "train Recall: 0.3847815090037407\n"
     ]
    },
    {
     "name": "stderr",
     "output_type": "stream",
     "text": [
      "Epoch: 25: 100%|██████████| 2/2 [00:24<00:00, 12.35s/batch, loss=0.773, precision=0.371, recall=0.384]\n"
     ]
    },
    {
     "name": "stdout",
     "output_type": "stream",
     "text": [
      "val Loss: 0.8332831561565399\n",
      "val Precision: 0.36417530477046967\n",
      "val Recall: 0.4054568111896515\n",
      "Weight saved for epoch 25.\n"
     ]
    },
    {
     "name": "stderr",
     "output_type": "stream",
     "text": [
      "Epoch: 26: 100%|██████████| 141/141 [03:48<00:00,  1.62s/batch, loss=0.799, precision=0.308, recall=0.322]\n"
     ]
    },
    {
     "name": "stdout",
     "output_type": "stream",
     "text": [
      "train Loss: 0.8117556918597391\n",
      "train Precision: 0.3524633599511275\n",
      "train Recall: 0.38896169349656884\n"
     ]
    },
    {
     "name": "stderr",
     "output_type": "stream",
     "text": [
      "Epoch: 26: 100%|██████████| 2/2 [00:24<00:00, 12.47s/batch, loss=0.686, precision=0.358, recall=0.372]\n"
     ]
    },
    {
     "name": "stdout",
     "output_type": "stream",
     "text": [
      "val Loss: 0.785167783498764\n",
      "val Precision: 0.35791073739528656\n",
      "val Recall: 0.4065200537443161\n",
      "Weight saved for epoch 26.\n"
     ]
    },
    {
     "name": "stderr",
     "output_type": "stream",
     "text": [
      "Epoch: 27: 100%|██████████| 141/141 [03:48<00:00,  1.62s/batch, loss=1.02, precision=0.37, recall=0.412]  \n"
     ]
    },
    {
     "name": "stdout",
     "output_type": "stream",
     "text": [
      "train Loss: 0.8114823259360401\n",
      "train Precision: 0.35624590494953995\n",
      "train Recall: 0.3904154082984789\n"
     ]
    },
    {
     "name": "stderr",
     "output_type": "stream",
     "text": [
      "Epoch: 27: 100%|██████████| 2/2 [00:25<00:00, 12.64s/batch, loss=0.805, precision=0.375, recall=0.388]\n"
     ]
    },
    {
     "name": "stdout",
     "output_type": "stream",
     "text": [
      "val Loss: 0.8890988826751709\n",
      "val Precision: 0.358388215303421\n",
      "val Recall: 0.37906038761138916\n",
      "Weight saved for epoch 27.\n"
     ]
    },
    {
     "name": "stderr",
     "output_type": "stream",
     "text": [
      "Epoch: 28: 100%|██████████| 141/141 [03:50<00:00,  1.63s/batch, loss=0.849, precision=0.332, recall=0.406]\n"
     ]
    },
    {
     "name": "stdout",
     "output_type": "stream",
     "text": [
      "train Loss: 0.8054861371398817\n",
      "train Precision: 0.35724701251544005\n",
      "train Recall: 0.3906098762725262\n"
     ]
    },
    {
     "name": "stderr",
     "output_type": "stream",
     "text": [
      "Epoch: 28: 100%|██████████| 2/2 [00:24<00:00, 12.49s/batch, loss=0.737, precision=0.382, recall=0.406]\n"
     ]
    },
    {
     "name": "stdout",
     "output_type": "stream",
     "text": [
      "val Loss: 0.8020156621932983\n",
      "val Precision: 0.3748730421066284\n",
      "val Recall: 0.41433921456336975\n",
      "Weight saved for epoch 28.\n"
     ]
    },
    {
     "name": "stderr",
     "output_type": "stream",
     "text": [
      "Epoch: 29: 100%|██████████| 141/141 [03:47<00:00,  1.61s/batch, loss=0.774, precision=0.321, recall=0.368]\n"
     ]
    },
    {
     "name": "stdout",
     "output_type": "stream",
     "text": [
      "train Loss: 0.7982989274863656\n",
      "train Precision: 0.3582911113052503\n",
      "train Recall: 0.3937892214203557\n"
     ]
    },
    {
     "name": "stderr",
     "output_type": "stream",
     "text": [
      "Epoch: 29: 100%|██████████| 2/2 [00:24<00:00, 12.38s/batch, loss=0.829, precision=0.355, recall=0.387]\n"
     ]
    },
    {
     "name": "stdout",
     "output_type": "stream",
     "text": [
      "val Loss: 0.8972164392471313\n",
      "val Precision: 0.3485836535692215\n",
      "val Recall: 0.38871127367019653\n",
      "Weight saved for epoch 29.\n"
     ]
    },
    {
     "name": "stderr",
     "output_type": "stream",
     "text": [
      "Epoch: 30: 100%|██████████| 141/141 [03:43<00:00,  1.59s/batch, loss=0.985, precision=0.316, recall=0.276]\n"
     ]
    },
    {
     "name": "stdout",
     "output_type": "stream",
     "text": [
      "train Loss: 0.8005289283204586\n",
      "train Precision: 0.3590374432557018\n",
      "train Recall: 0.39164387630232683\n"
     ]
    },
    {
     "name": "stderr",
     "output_type": "stream",
     "text": [
      "Epoch: 30: 100%|██████████| 2/2 [00:25<00:00, 12.69s/batch, loss=0.712, precision=0.354, recall=0.348]\n"
     ]
    },
    {
     "name": "stdout",
     "output_type": "stream",
     "text": [
      "val Loss: 0.8017440140247345\n",
      "val Precision: 0.35086309909820557\n",
      "val Recall: 0.3840353637933731\n",
      "Weight saved for epoch 30.\n"
     ]
    },
    {
     "name": "stderr",
     "output_type": "stream",
     "text": [
      "Epoch: 31: 100%|██████████| 141/141 [03:47<00:00,  1.62s/batch, loss=0.877, precision=0.312, recall=0.296]\n"
     ]
    },
    {
     "name": "stdout",
     "output_type": "stream",
     "text": [
      "train Loss: 0.7972432708909326\n",
      "train Precision: 0.36206211498443114\n",
      "train Recall: 0.3954272834544486\n"
     ]
    },
    {
     "name": "stderr",
     "output_type": "stream",
     "text": [
      "Epoch: 31: 100%|██████████| 2/2 [00:25<00:00, 12.86s/batch, loss=0.709, precision=0.363, recall=0.365]\n"
     ]
    },
    {
     "name": "stdout",
     "output_type": "stream",
     "text": [
      "val Loss: 0.8030155301094055\n",
      "val Precision: 0.3590218275785446\n",
      "val Recall: 0.3916325569152832\n",
      "Weight saved for epoch 31.\n"
     ]
    },
    {
     "name": "stderr",
     "output_type": "stream",
     "text": [
      "Epoch: 32: 100%|██████████| 141/141 [03:49<00:00,  1.62s/batch, loss=0.835, precision=0.382, recall=0.356]\n"
     ]
    },
    {
     "name": "stdout",
     "output_type": "stream",
     "text": [
      "train Loss: 0.7879649358438262\n",
      "train Precision: 0.36497798033639894\n",
      "train Recall: 0.3988255450488828\n"
     ]
    },
    {
     "name": "stderr",
     "output_type": "stream",
     "text": [
      "Epoch: 32: 100%|██████████| 2/2 [00:25<00:00, 12.80s/batch, loss=0.701, precision=0.414, recall=0.425]\n"
     ]
    },
    {
     "name": "stdout",
     "output_type": "stream",
     "text": [
      "val Loss: 0.7920129299163818\n",
      "val Precision: 0.3923354297876358\n",
      "val Recall: 0.417919784784317\n",
      "Weight saved for epoch 32.\n"
     ]
    },
    {
     "name": "stderr",
     "output_type": "stream",
     "text": [
      "Epoch: 33: 100%|██████████| 141/141 [03:46<00:00,  1.61s/batch, loss=0.734, precision=0.364, recall=0.35] \n"
     ]
    },
    {
     "name": "stdout",
     "output_type": "stream",
     "text": [
      "train Loss: 0.788575233719873\n",
      "train Precision: 0.3648812039524105\n",
      "train Recall: 0.40072777085270445\n"
     ]
    },
    {
     "name": "stderr",
     "output_type": "stream",
     "text": [
      "Epoch: 33: 100%|██████████| 2/2 [00:24<00:00, 12.37s/batch, loss=0.734, precision=0.388, recall=0.389]\n"
     ]
    },
    {
     "name": "stdout",
     "output_type": "stream",
     "text": [
      "val Loss: 0.8217191100120544\n",
      "val Precision: 0.3653840720653534\n",
      "val Recall: 0.39089544117450714\n",
      "Weight saved for epoch 33.\n"
     ]
    },
    {
     "name": "stderr",
     "output_type": "stream",
     "text": [
      "Epoch: 34: 100%|██████████| 141/141 [03:44<00:00,  1.59s/batch, loss=0.715, precision=0.352, recall=0.386]\n"
     ]
    },
    {
     "name": "stdout",
     "output_type": "stream",
     "text": [
      "train Loss: 0.7842747163265309\n",
      "train Precision: 0.3649551530256339\n",
      "train Recall: 0.3958484796767539\n"
     ]
    },
    {
     "name": "stderr",
     "output_type": "stream",
     "text": [
      "Epoch: 34: 100%|██████████| 2/2 [00:24<00:00, 12.43s/batch, loss=0.711, precision=0.358, recall=0.376]\n"
     ]
    },
    {
     "name": "stdout",
     "output_type": "stream",
     "text": [
      "val Loss: 0.7961947321891785\n",
      "val Precision: 0.36333975195884705\n",
      "val Recall: 0.40386122465133667\n",
      "Weight saved for epoch 34.\n"
     ]
    },
    {
     "name": "stderr",
     "output_type": "stream",
     "text": [
      "Epoch: 35: 100%|██████████| 141/141 [03:45<00:00,  1.60s/batch, loss=0.869, precision=0.345, recall=0.361]\n"
     ]
    },
    {
     "name": "stdout",
     "output_type": "stream",
     "text": [
      "train Loss: 0.7793084188555994\n",
      "train Precision: 0.36738595218523173\n",
      "train Recall: 0.3990655890170564\n"
     ]
    },
    {
     "name": "stderr",
     "output_type": "stream",
     "text": [
      "Epoch: 35: 100%|██████████| 2/2 [00:24<00:00, 12.36s/batch, loss=0.724, precision=0.343, recall=0.384]\n"
     ]
    },
    {
     "name": "stdout",
     "output_type": "stream",
     "text": [
      "val Loss: 0.7937193512916565\n",
      "val Precision: 0.3504105359315872\n",
      "val Recall: 0.3975939005613327\n",
      "Weight saved for epoch 35.\n"
     ]
    },
    {
     "name": "stderr",
     "output_type": "stream",
     "text": [
      "Epoch: 36: 100%|██████████| 141/141 [03:46<00:00,  1.61s/batch, loss=0.851, precision=0.33, recall=0.388] \n"
     ]
    },
    {
     "name": "stdout",
     "output_type": "stream",
     "text": [
      "train Loss: 0.776872935870015\n",
      "train Precision: 0.3678225777673383\n",
      "train Recall: 0.400816318202526\n"
     ]
    },
    {
     "name": "stderr",
     "output_type": "stream",
     "text": [
      "Epoch: 36: 100%|██████████| 2/2 [00:25<00:00, 12.95s/batch, loss=0.776, precision=0.335, recall=0.358]\n"
     ]
    },
    {
     "name": "stdout",
     "output_type": "stream",
     "text": [
      "val Loss: 0.8483545780181885\n",
      "val Precision: 0.3467465937137604\n",
      "val Recall: 0.3864878714084625\n",
      "Weight saved for epoch 36.\n"
     ]
    },
    {
     "name": "stderr",
     "output_type": "stream",
     "text": [
      "Epoch: 37: 100%|██████████| 141/141 [03:46<00:00,  1.61s/batch, loss=0.939, precision=0.349, recall=0.327]\n"
     ]
    },
    {
     "name": "stdout",
     "output_type": "stream",
     "text": [
      "train Loss: 0.7731638838213386\n",
      "train Precision: 0.3684676314922089\n",
      "train Recall: 0.40027493809131864\n"
     ]
    },
    {
     "name": "stderr",
     "output_type": "stream",
     "text": [
      "Epoch: 37: 100%|██████████| 2/2 [00:25<00:00, 12.83s/batch, loss=0.757, precision=0.318, recall=0.365]\n"
     ]
    },
    {
     "name": "stdout",
     "output_type": "stream",
     "text": [
      "val Loss: 0.8471460938453674\n",
      "val Precision: 0.3298824429512024\n",
      "val Recall: 0.3739190995693207\n",
      "Weight saved for epoch 37.\n"
     ]
    },
    {
     "name": "stderr",
     "output_type": "stream",
     "text": [
      "Epoch: 38: 100%|██████████| 141/141 [03:46<00:00,  1.61s/batch, loss=0.804, precision=0.412, recall=0.428]\n"
     ]
    },
    {
     "name": "stdout",
     "output_type": "stream",
     "text": [
      "train Loss: 0.7660668623362873\n",
      "train Precision: 0.3716885648297925\n",
      "train Recall: 0.40373288253520395\n"
     ]
    },
    {
     "name": "stderr",
     "output_type": "stream",
     "text": [
      "Epoch: 38: 100%|██████████| 2/2 [00:25<00:00, 12.92s/batch, loss=0.741, precision=0.385, recall=0.4]  \n"
     ]
    },
    {
     "name": "stdout",
     "output_type": "stream",
     "text": [
      "val Loss: 0.8120281398296356\n",
      "val Precision: 0.37427370250225067\n",
      "val Recall: 0.40601590275764465\n",
      "Weight saved for epoch 38.\n"
     ]
    },
    {
     "name": "stderr",
     "output_type": "stream",
     "text": [
      "Epoch: 39: 100%|██████████| 141/141 [03:45<00:00,  1.60s/batch, loss=0.837, precision=0.359, recall=0.355]\n"
     ]
    },
    {
     "name": "stdout",
     "output_type": "stream",
     "text": [
      "train Loss: 0.7687236865361532\n",
      "train Precision: 0.3720654213259406\n",
      "train Recall: 0.4047759674119611\n"
     ]
    },
    {
     "name": "stderr",
     "output_type": "stream",
     "text": [
      "Epoch: 39: 100%|██████████| 2/2 [00:25<00:00, 12.51s/batch, loss=0.733, precision=0.335, recall=0.357]\n"
     ]
    },
    {
     "name": "stdout",
     "output_type": "stream",
     "text": [
      "val Loss: 0.7982703745365143\n",
      "val Precision: 0.34904423356056213\n",
      "val Recall: 0.38854385912418365\n",
      "Weight saved for epoch 39.\n"
     ]
    },
    {
     "name": "stderr",
     "output_type": "stream",
     "text": [
      "Epoch: 40: 100%|██████████| 141/141 [03:48<00:00,  1.62s/batch, loss=0.832, precision=0.326, recall=0.357]\n"
     ]
    },
    {
     "name": "stdout",
     "output_type": "stream",
     "text": [
      "train Loss: 0.7609489205035758\n",
      "train Precision: 0.3727052463284621\n",
      "train Recall: 0.4036177548956364\n"
     ]
    },
    {
     "name": "stderr",
     "output_type": "stream",
     "text": [
      "Epoch: 40: 100%|██████████| 2/2 [00:25<00:00, 12.68s/batch, loss=0.77, precision=0.448, recall=0.431] \n"
     ]
    },
    {
     "name": "stdout",
     "output_type": "stream",
     "text": [
      "val Loss: 0.8696067631244659\n",
      "val Precision: 0.3983009308576584\n",
      "val Recall: 0.39927731454372406\n",
      "Weight saved for epoch 40.\n"
     ]
    },
    {
     "name": "stderr",
     "output_type": "stream",
     "text": [
      "Epoch: 41: 100%|██████████| 141/141 [03:48<00:00,  1.62s/batch, loss=0.704, precision=0.377, recall=0.378]\n"
     ]
    },
    {
     "name": "stdout",
     "output_type": "stream",
     "text": [
      "train Loss: 0.7582664295291224\n",
      "train Precision: 0.37131719618824355\n",
      "train Recall: 0.40017516139551257\n"
     ]
    },
    {
     "name": "stderr",
     "output_type": "stream",
     "text": [
      "Epoch: 41: 100%|██████████| 2/2 [00:24<00:00, 12.37s/batch, loss=0.958, precision=0.4, recall=0.35] \n"
     ]
    },
    {
     "name": "stdout",
     "output_type": "stream",
     "text": [
      "val Loss: 1.0884572267532349\n",
      "val Precision: 0.3634214252233505\n",
      "val Recall: 0.3201693445444107\n",
      "Weight saved for epoch 41.\n"
     ]
    },
    {
     "name": "stderr",
     "output_type": "stream",
     "text": [
      "Epoch: 42: 100%|██████████| 141/141 [03:46<00:00,  1.60s/batch, loss=0.689, precision=0.367, recall=0.365]\n"
     ]
    },
    {
     "name": "stdout",
     "output_type": "stream",
     "text": [
      "train Loss: 0.7552391734529049\n",
      "train Precision: 0.3738213832496751\n",
      "train Recall: 0.4028510442862274\n"
     ]
    },
    {
     "name": "stderr",
     "output_type": "stream",
     "text": [
      "Epoch: 42: 100%|██████████| 2/2 [00:25<00:00, 12.69s/batch, loss=0.695, precision=0.393, recall=0.4] \n"
     ]
    },
    {
     "name": "stdout",
     "output_type": "stream",
     "text": [
      "val Loss: 0.7827188968658447\n",
      "val Precision: 0.36745765805244446\n",
      "val Recall: 0.38449086248874664\n",
      "Weight saved for epoch 42.\n"
     ]
    },
    {
     "name": "stderr",
     "output_type": "stream",
     "text": [
      "Epoch: 43: 100%|██████████| 141/141 [03:42<00:00,  1.58s/batch, loss=0.653, precision=0.386, recall=0.448]\n"
     ]
    },
    {
     "name": "stdout",
     "output_type": "stream",
     "text": [
      "train Loss: 0.7527125105790212\n",
      "train Precision: 0.37719542527875155\n",
      "train Recall: 0.4051738592749792\n"
     ]
    },
    {
     "name": "stderr",
     "output_type": "stream",
     "text": [
      "Epoch: 43: 100%|██████████| 2/2 [00:24<00:00, 12.43s/batch, loss=0.845, precision=0.424, recall=0.386]\n"
     ]
    },
    {
     "name": "stdout",
     "output_type": "stream",
     "text": [
      "val Loss: 0.9742123782634735\n",
      "val Precision: 0.37938012182712555\n",
      "val Recall: 0.33587536215782166\n",
      "Weight saved for epoch 43.\n"
     ]
    },
    {
     "name": "stderr",
     "output_type": "stream",
     "text": [
      "Epoch: 44: 100%|██████████| 141/141 [03:50<00:00,  1.63s/batch, loss=0.985, precision=0.389, recall=0.375]\n"
     ]
    },
    {
     "name": "stdout",
     "output_type": "stream",
     "text": [
      "train Loss: 0.7477580600596488\n",
      "train Precision: 0.3772083267252496\n",
      "train Recall: 0.4054661953280158\n"
     ]
    },
    {
     "name": "stderr",
     "output_type": "stream",
     "text": [
      "Epoch: 44: 100%|██████████| 2/2 [00:25<00:00, 12.88s/batch, loss=0.644, precision=0.411, recall=0.398]\n"
     ]
    },
    {
     "name": "stdout",
     "output_type": "stream",
     "text": [
      "val Loss: 0.7362705171108246\n",
      "val Precision: 0.38909460604190826\n",
      "val Recall: 0.41364723443984985\n",
      "Weight saved for epoch 44.\n"
     ]
    },
    {
     "name": "stderr",
     "output_type": "stream",
     "text": [
      "Epoch: 45: 100%|██████████| 141/141 [03:48<00:00,  1.62s/batch, loss=0.676, precision=0.366, recall=0.364]\n"
     ]
    },
    {
     "name": "stdout",
     "output_type": "stream",
     "text": [
      "train Loss: 0.7421725493796328\n",
      "train Precision: 0.3816575393186393\n",
      "train Recall: 0.41189744582412935\n"
     ]
    },
    {
     "name": "stderr",
     "output_type": "stream",
     "text": [
      "Epoch: 45: 100%|██████████| 2/2 [00:24<00:00, 12.50s/batch, loss=0.856, precision=0.358, recall=0.373]\n"
     ]
    },
    {
     "name": "stdout",
     "output_type": "stream",
     "text": [
      "val Loss: 0.9690999090671539\n",
      "val Precision: 0.342029333114624\n",
      "val Recall: 0.38492074608802795\n",
      "Weight saved for epoch 45.\n"
     ]
    },
    {
     "name": "stderr",
     "output_type": "stream",
     "text": [
      "Epoch: 46: 100%|██████████| 141/141 [03:46<00:00,  1.61s/batch, loss=0.862, precision=0.374, recall=0.362]\n"
     ]
    },
    {
     "name": "stdout",
     "output_type": "stream",
     "text": [
      "train Loss: 0.7413704217748439\n",
      "train Precision: 0.38121781260409254\n",
      "train Recall: 0.4076253651304448\n"
     ]
    },
    {
     "name": "stderr",
     "output_type": "stream",
     "text": [
      "Epoch: 46: 100%|██████████| 2/2 [00:25<00:00, 12.56s/batch, loss=0.655, precision=0.357, recall=0.354]\n"
     ]
    },
    {
     "name": "stdout",
     "output_type": "stream",
     "text": [
      "val Loss: 0.734563559293747\n",
      "val Precision: 0.3735066056251526\n",
      "val Recall: 0.39723312854766846\n",
      "Weight saved for epoch 46.\n"
     ]
    },
    {
     "name": "stderr",
     "output_type": "stream",
     "text": [
      "Epoch: 47: 100%|██████████| 141/141 [03:48<00:00,  1.62s/batch, loss=0.704, precision=0.395, recall=0.381]\n"
     ]
    },
    {
     "name": "stdout",
     "output_type": "stream",
     "text": [
      "train Loss: 0.7383979140444005\n",
      "train Precision: 0.3820934094858508\n",
      "train Recall: 0.41437216768873497\n"
     ]
    },
    {
     "name": "stderr",
     "output_type": "stream",
     "text": [
      "Epoch: 47: 100%|██████████| 2/2 [00:24<00:00, 12.47s/batch, loss=0.662, precision=0.395, recall=0.396]\n"
     ]
    },
    {
     "name": "stdout",
     "output_type": "stream",
     "text": [
      "val Loss: 0.7531068921089172\n",
      "val Precision: 0.3867725431919098\n",
      "val Recall: 0.41790609061717987\n",
      "Weight saved for epoch 47.\n"
     ]
    },
    {
     "name": "stderr",
     "output_type": "stream",
     "text": [
      "Epoch: 48: 100%|██████████| 141/141 [03:47<00:00,  1.62s/batch, loss=0.656, precision=0.382, recall=0.364]\n"
     ]
    },
    {
     "name": "stdout",
     "output_type": "stream",
     "text": [
      "train Loss: 0.7354956907583466\n",
      "train Precision: 0.38514940197586167\n",
      "train Recall: 0.4124881223583898\n"
     ]
    },
    {
     "name": "stderr",
     "output_type": "stream",
     "text": [
      "Epoch: 48: 100%|██████████| 2/2 [00:25<00:00, 12.91s/batch, loss=0.73, precision=0.366, recall=0.352]\n"
     ]
    },
    {
     "name": "stdout",
     "output_type": "stream",
     "text": [
      "val Loss: 0.8933310210704803\n",
      "val Precision: 0.35294216871261597\n",
      "val Recall: 0.37517449259757996\n",
      "Weight saved for epoch 48.\n"
     ]
    },
    {
     "name": "stderr",
     "output_type": "stream",
     "text": [
      "Epoch: 49: 100%|██████████| 141/141 [03:44<00:00,  1.59s/batch, loss=0.856, precision=0.322, recall=0.319]\n"
     ]
    },
    {
     "name": "stdout",
     "output_type": "stream",
     "text": [
      "train Loss: 0.7334827083222409\n",
      "train Precision: 0.3806634672144626\n",
      "train Recall: 0.4095574773795216\n"
     ]
    },
    {
     "name": "stderr",
     "output_type": "stream",
     "text": [
      "Epoch: 49: 100%|██████████| 2/2 [00:25<00:00, 12.82s/batch, loss=0.578, precision=0.481, recall=0.466]\n"
     ]
    },
    {
     "name": "stdout",
     "output_type": "stream",
     "text": [
      "val Loss: 0.681388795375824\n",
      "val Precision: 0.43639303743839264\n",
      "val Recall: 0.4552062749862671\n",
      "Weight saved for epoch 49.\n"
     ]
    }
   ],
   "source": [
    "batch_size = 356\n",
    "train_dataset = DolphinDatasetTrain(train, encoder, image_size = (512, 512))\n",
    "val_dataset = DolphinDataset(val, encoder, image_size = (512, 512))\n",
    "train_dataloader = DataLoader(train_dataset, batch_size = batch_size, shuffle = True, num_workers = 22, prefetch_factor=2)\n",
    "val_dataloader = DataLoader(val_dataset, batch_size = batch_size, shuffle = False, num_workers = 22, prefetch_factor=2)\n",
    "train_model(train_dataloader, val_dataloader, batch_size=batch_size, weights_path='../../weights/torch_with_momentum_aug_v3/', epochs=50, load_weights='../../weights/torch_with_momentum_aug_v2/49.pth')"
   ]
  },
  {
   "cell_type": "code",
   "execution_count": 15,
   "metadata": {},
   "outputs": [
    {
     "name": "stderr",
     "output_type": "stream",
     "text": [
      "Using cache found in /home/paperspace/.cache/torch/hub/pytorch_vision_v0.10.0\n"
     ]
    },
    {
     "data": {
      "text/html": [
       "Finishing last run (ID:2eya2lxy) before initializing another..."
      ],
      "text/plain": [
       "<IPython.core.display.HTML object>"
      ]
     },
     "metadata": {},
     "output_type": "display_data"
    },
    {
     "data": {
      "text/html": [
       "Waiting for W&B process to finish... <strong style=\"color:green\">(success).</strong>"
      ],
      "text/plain": [
       "<IPython.core.display.HTML object>"
      ]
     },
     "metadata": {},
     "output_type": "display_data"
    },
    {
     "data": {
      "application/vnd.jupyter.widget-view+json": {
       "model_id": "e320abbe7e584a979aa92c6a07fbd5a3",
       "version_major": 2,
       "version_minor": 0
      },
      "text/plain": [
       "VBox(children=(Label(value='0.001 MB of 0.001 MB uploaded (0.000 MB deduped)\\r'), FloatProgress(value=1.0, max…"
      ]
     },
     "metadata": {},
     "output_type": "display_data"
    },
    {
     "data": {
      "text/html": [
       "<style>\n",
       "    table.wandb td:nth-child(1) { padding: 0 10px; text-align: left ; width: auto;} td:nth-child(2) {text-align: left ; width: 100%}\n",
       "    .wandb-row { display: flex; flex-direction: row; flex-wrap: wrap; justify-content: flex-start; width: 100% }\n",
       "    .wandb-col { display: flex; flex-direction: column; flex-basis: 100%; flex: 1; padding: 10px; }\n",
       "    </style>\n",
       "<div class=\"wandb-row\"><div class=\"wandb-col\"><h3>Run history:</h3><br/><table class=\"wandb\"><tr><td>train_loss</td><td>███▇▇▇▇▇▆▆▆▆▆▅▅▅▅▅▄▄▄▄▄▄▃▃▃▃▃▃▂▂▂▂▂▂▁▁▁▁</td></tr><tr><td>train_precision</td><td>▁▁▁▂▂▂▂▂▃▃▃▃▄▃▄▄▄▄▄▅▅▅▅▅▆▆▆▆▆▆▇▇▇▇▇▇████</td></tr><tr><td>train_recall</td><td>▁▂▁▂▁▂▂▃▃▃▃▄▄▄▄▄▄▅▅▅▅▅▆▆▆▆▆▇▆▇▇▇▇▇▇▇█▇██</td></tr><tr><td>val_loss</td><td>▄▅▄▄▄▄▄▆█▃▄▃▅▅▆▅▅▅▃▅▃▂▄▃▃▃▃▃▃▃▃▃▄▇▂▅▅▂▂▁</td></tr><tr><td>val_precision</td><td>▂▂▃▄▃▄▄▂▁▄▃▄▄▄▄▂▁▃▅▄▅▄▄▅▄▄▆▅▄▄▃▅▆▅▅▅▄▅▆█</td></tr><tr><td>val_recall</td><td>▄▃▃▅▄▄▄▃▁▅▄▆▅▅▄▄▅▄▆▄▆▆▅▇▅▆▇▆▆▆▅▆▆▃▅▄▅▆▇█</td></tr></table><br/></div><div class=\"wandb-col\"><h3>Run summary:</h3><br/><table class=\"wandb\"><tr><td>train_loss</td><td>0.73348</td></tr><tr><td>train_precision</td><td>0.38066</td></tr><tr><td>train_recall</td><td>0.40956</td></tr><tr><td>val_loss</td><td>0.68139</td></tr><tr><td>val_precision</td><td>0.43639</td></tr><tr><td>val_recall</td><td>0.45521</td></tr></table><br/></div></div>"
      ],
      "text/plain": [
       "<IPython.core.display.HTML object>"
      ]
     },
     "metadata": {},
     "output_type": "display_data"
    },
    {
     "data": {
      "text/html": [
       "Synced <strong style=\"color:#cdcd00\">gallant-plant-81</strong>: <a href=\"https://wandb.ai/yashchks87/dolphin/runs/2eya2lxy\" target=\"_blank\">https://wandb.ai/yashchks87/dolphin/runs/2eya2lxy</a><br/>Synced 5 W&B file(s), 0 media file(s), 0 artifact file(s) and 0 other file(s)"
      ],
      "text/plain": [
       "<IPython.core.display.HTML object>"
      ]
     },
     "metadata": {},
     "output_type": "display_data"
    },
    {
     "data": {
      "text/html": [
       "Find logs at: <code>./wandb/run-20230823_174208-2eya2lxy/logs</code>"
      ],
      "text/plain": [
       "<IPython.core.display.HTML object>"
      ]
     },
     "metadata": {},
     "output_type": "display_data"
    },
    {
     "data": {
      "text/html": [
       "Successfully finished last run (ID:2eya2lxy). Initializing new run:<br/>"
      ],
      "text/plain": [
       "<IPython.core.display.HTML object>"
      ]
     },
     "metadata": {},
     "output_type": "display_data"
    },
    {
     "data": {
      "application/vnd.jupyter.widget-view+json": {
       "model_id": "c28f9d8a05cf4bbda11d76877df1f55b",
       "version_major": 2,
       "version_minor": 0
      },
      "text/plain": [
       "VBox(children=(Label(value='Waiting for wandb.init()...\\r'), FloatProgress(value=0.016670721483387753, max=1.0…"
      ]
     },
     "metadata": {},
     "output_type": "display_data"
    },
    {
     "data": {
      "text/html": [
       "wandb version 0.15.8 is available!  To upgrade, please run:\n",
       " $ pip install wandb --upgrade"
      ],
      "text/plain": [
       "<IPython.core.display.HTML object>"
      ]
     },
     "metadata": {},
     "output_type": "display_data"
    },
    {
     "data": {
      "text/html": [
       "Tracking run with wandb version 0.13.4"
      ],
      "text/plain": [
       "<IPython.core.display.HTML object>"
      ]
     },
     "metadata": {},
     "output_type": "display_data"
    },
    {
     "data": {
      "text/html": [
       "Run data is saved locally in <code>/home/paperspace/Documents/dolphin_classification/notebooks/wandb/run-20230823_211314-o1lgx6ch</code>"
      ],
      "text/plain": [
       "<IPython.core.display.HTML object>"
      ]
     },
     "metadata": {},
     "output_type": "display_data"
    },
    {
     "data": {
      "text/html": [
       "Syncing run <strong><a href=\"https://wandb.ai/yashchks87/dolphin/runs/o1lgx6ch\" target=\"_blank\">playful-bee-82</a></strong> to <a href=\"https://wandb.ai/yashchks87/dolphin\" target=\"_blank\">Weights & Biases</a> (<a href=\"https://wandb.me/run\" target=\"_blank\">docs</a>)<br/>"
      ],
      "text/plain": [
       "<IPython.core.display.HTML object>"
      ]
     },
     "metadata": {},
     "output_type": "display_data"
    },
    {
     "name": "stderr",
     "output_type": "stream",
     "text": [
      "Epoch: 0: 100%|██████████| 141/141 [03:43<00:00,  1.59s/batch, loss=0.774, precision=0.418, recall=0.42] \n"
     ]
    },
    {
     "name": "stdout",
     "output_type": "stream",
     "text": [
      "train Loss: 0.7288095046442451\n",
      "train Precision: 0.38659233975072277\n",
      "train Recall: 0.4133008065375876\n"
     ]
    },
    {
     "name": "stderr",
     "output_type": "stream",
     "text": [
      "Epoch: 0: 100%|██████████| 2/2 [00:24<00:00, 12.46s/batch, loss=0.767, precision=0.446, recall=0.413]\n"
     ]
    },
    {
     "name": "stdout",
     "output_type": "stream",
     "text": [
      "val Loss: 0.9063728451728821\n",
      "val Precision: 0.39490072429180145\n",
      "val Recall: 0.37851129472255707\n",
      "Weight saved for epoch 0.\n"
     ]
    },
    {
     "name": "stderr",
     "output_type": "stream",
     "text": [
      "Epoch: 1: 100%|██████████| 141/141 [03:47<00:00,  1.62s/batch, loss=0.754, precision=0.354, recall=0.343]\n"
     ]
    },
    {
     "name": "stdout",
     "output_type": "stream",
     "text": [
      "train Loss: 0.7236365117925279\n",
      "train Precision: 0.3863838718715289\n",
      "train Recall: 0.41451126273642197\n"
     ]
    },
    {
     "name": "stderr",
     "output_type": "stream",
     "text": [
      "Epoch: 1: 100%|██████████| 2/2 [00:25<00:00, 12.83s/batch, loss=0.801, precision=0.419, recall=0.408]\n"
     ]
    },
    {
     "name": "stdout",
     "output_type": "stream",
     "text": [
      "val Loss: 0.8335246741771698\n",
      "val Precision: 0.40220047533512115\n",
      "val Recall: 0.42663490772247314\n",
      "Weight saved for epoch 1.\n"
     ]
    },
    {
     "name": "stderr",
     "output_type": "stream",
     "text": [
      "Epoch: 2: 100%|██████████| 141/141 [03:43<00:00,  1.59s/batch, loss=0.801, precision=0.339, recall=0.381]\n"
     ]
    },
    {
     "name": "stdout",
     "output_type": "stream",
     "text": [
      "train Loss: 0.7213506914199667\n",
      "train Precision: 0.38778770519486555\n",
      "train Recall: 0.41628030196149296\n"
     ]
    },
    {
     "name": "stderr",
     "output_type": "stream",
     "text": [
      "Epoch: 2: 100%|██████████| 2/2 [00:24<00:00, 12.38s/batch, loss=0.74, precision=0.369, recall=0.397] \n"
     ]
    },
    {
     "name": "stdout",
     "output_type": "stream",
     "text": [
      "val Loss: 0.7831161022186279\n",
      "val Precision: 0.3769071251153946\n",
      "val Recall: 0.4131479263305664\n",
      "Weight saved for epoch 2.\n"
     ]
    },
    {
     "name": "stderr",
     "output_type": "stream",
     "text": [
      "Epoch: 3: 100%|██████████| 141/141 [03:44<00:00,  1.59s/batch, loss=0.75, precision=0.35, recall=0.339]  \n"
     ]
    },
    {
     "name": "stdout",
     "output_type": "stream",
     "text": [
      "train Loss: 0.7206110950057388\n",
      "train Precision: 0.3880746013729285\n",
      "train Recall: 0.4136236741187725\n"
     ]
    },
    {
     "name": "stderr",
     "output_type": "stream",
     "text": [
      "Epoch: 3: 100%|██████████| 2/2 [00:25<00:00, 12.62s/batch, loss=0.728, precision=0.444, recall=0.422]\n"
     ]
    },
    {
     "name": "stdout",
     "output_type": "stream",
     "text": [
      "val Loss: 0.8373507261276245\n",
      "val Precision: 0.4032680094242096\n",
      "val Recall: 0.3819987177848816\n",
      "Weight saved for epoch 3.\n"
     ]
    },
    {
     "name": "stderr",
     "output_type": "stream",
     "text": [
      "Epoch: 4: 100%|██████████| 141/141 [03:46<00:00,  1.60s/batch, loss=0.703, precision=0.37, recall=0.358] \n"
     ]
    },
    {
     "name": "stdout",
     "output_type": "stream",
     "text": [
      "train Loss: 0.7177725857031261\n",
      "train Precision: 0.3880825826885007\n",
      "train Recall: 0.41146586824816167\n"
     ]
    },
    {
     "name": "stderr",
     "output_type": "stream",
     "text": [
      "Epoch: 4: 100%|██████████| 2/2 [00:25<00:00, 12.81s/batch, loss=0.854, precision=0.352, recall=0.39]\n"
     ]
    },
    {
     "name": "stdout",
     "output_type": "stream",
     "text": [
      "val Loss: 0.9415697455406189\n",
      "val Precision: 0.3538115620613098\n",
      "val Recall: 0.423957958817482\n",
      "Weight saved for epoch 4.\n"
     ]
    },
    {
     "name": "stderr",
     "output_type": "stream",
     "text": [
      "Epoch: 5: 100%|██████████| 141/141 [03:45<00:00,  1.60s/batch, loss=0.771, precision=0.364, recall=0.363]\n"
     ]
    },
    {
     "name": "stdout",
     "output_type": "stream",
     "text": [
      "train Loss: 0.7110157600531342\n",
      "train Precision: 0.39280276137886316\n",
      "train Recall: 0.42117605564442084\n"
     ]
    },
    {
     "name": "stderr",
     "output_type": "stream",
     "text": [
      "Epoch: 5: 100%|██████████| 2/2 [00:25<00:00, 12.87s/batch, loss=0.745, precision=0.411, recall=0.422]\n"
     ]
    },
    {
     "name": "stdout",
     "output_type": "stream",
     "text": [
      "val Loss: 0.8025737702846527\n",
      "val Precision: 0.39130839705467224\n",
      "val Recall: 0.4243408590555191\n",
      "Weight saved for epoch 5.\n"
     ]
    },
    {
     "name": "stderr",
     "output_type": "stream",
     "text": [
      "Epoch: 6: 100%|██████████| 141/141 [03:47<00:00,  1.62s/batch, loss=0.789, precision=0.403, recall=0.442]\n"
     ]
    },
    {
     "name": "stdout",
     "output_type": "stream",
     "text": [
      "train Loss: 0.7085923920286462\n",
      "train Precision: 0.3959801114620046\n",
      "train Recall: 0.4245665950555328\n"
     ]
    },
    {
     "name": "stderr",
     "output_type": "stream",
     "text": [
      "Epoch: 6: 100%|██████████| 2/2 [00:26<00:00, 13.27s/batch, loss=0.985, precision=0.377, recall=0.368]\n"
     ]
    },
    {
     "name": "stdout",
     "output_type": "stream",
     "text": [
      "val Loss: 1.0429896116256714\n",
      "val Precision: 0.34176041185855865\n",
      "val Recall: 0.35444748401641846\n",
      "Weight saved for epoch 6.\n"
     ]
    },
    {
     "name": "stderr",
     "output_type": "stream",
     "text": [
      "Epoch: 7: 100%|██████████| 141/141 [03:46<00:00,  1.60s/batch, loss=0.701, precision=0.332, recall=0.363]\n"
     ]
    },
    {
     "name": "stdout",
     "output_type": "stream",
     "text": [
      "train Loss: 0.7065291387815003\n",
      "train Precision: 0.3917435574616101\n",
      "train Recall: 0.4204898962737821\n"
     ]
    },
    {
     "name": "stderr",
     "output_type": "stream",
     "text": [
      "Epoch: 7: 100%|██████████| 2/2 [00:24<00:00, 12.44s/batch, loss=0.659, precision=0.404, recall=0.406]\n"
     ]
    },
    {
     "name": "stdout",
     "output_type": "stream",
     "text": [
      "val Loss: 0.7464733719825745\n",
      "val Precision: 0.39427614212036133\n",
      "val Recall: 0.4015011787414551\n",
      "Weight saved for epoch 7.\n"
     ]
    },
    {
     "name": "stderr",
     "output_type": "stream",
     "text": [
      "Epoch: 8: 100%|██████████| 141/141 [03:46<00:00,  1.60s/batch, loss=0.891, precision=0.352, recall=0.329]\n"
     ]
    },
    {
     "name": "stdout",
     "output_type": "stream",
     "text": [
      "train Loss: 0.7025035036371109\n",
      "train Precision: 0.3937471352570446\n",
      "train Recall: 0.42129921638373785\n"
     ]
    },
    {
     "name": "stderr",
     "output_type": "stream",
     "text": [
      "Epoch: 8: 100%|██████████| 2/2 [00:25<00:00, 12.91s/batch, loss=0.702, precision=0.416, recall=0.437]\n"
     ]
    },
    {
     "name": "stdout",
     "output_type": "stream",
     "text": [
      "val Loss: 0.7588213980197906\n",
      "val Precision: 0.3938419222831726\n",
      "val Recall: 0.43839898705482483\n",
      "Weight saved for epoch 8.\n"
     ]
    },
    {
     "name": "stderr",
     "output_type": "stream",
     "text": [
      "Epoch: 9: 100%|██████████| 141/141 [03:45<00:00,  1.60s/batch, loss=0.674, precision=0.398, recall=0.455]\n"
     ]
    },
    {
     "name": "stdout",
     "output_type": "stream",
     "text": [
      "train Loss: 0.7017322804065461\n",
      "train Precision: 0.39343887884566126\n",
      "train Recall: 0.423104223841471\n"
     ]
    },
    {
     "name": "stderr",
     "output_type": "stream",
     "text": [
      "Epoch: 9: 100%|██████████| 2/2 [00:25<00:00, 12.98s/batch, loss=0.701, precision=0.438, recall=0.411]\n"
     ]
    },
    {
     "name": "stdout",
     "output_type": "stream",
     "text": [
      "val Loss: 0.8214700818061829\n",
      "val Precision: 0.41312289237976074\n",
      "val Recall: 0.3903413712978363\n",
      "Weight saved for epoch 9.\n"
     ]
    },
    {
     "name": "stderr",
     "output_type": "stream",
     "text": [
      "Epoch: 10: 100%|██████████| 141/141 [03:46<00:00,  1.61s/batch, loss=0.607, precision=0.366, recall=0.401]\n"
     ]
    },
    {
     "name": "stdout",
     "output_type": "stream",
     "text": [
      "train Loss: 0.6982433538064889\n",
      "train Precision: 0.39749674974603855\n",
      "train Recall: 0.4245403119435547\n"
     ]
    },
    {
     "name": "stderr",
     "output_type": "stream",
     "text": [
      "Epoch: 10: 100%|██████████| 2/2 [00:26<00:00, 13.06s/batch, loss=0.721, precision=0.424, recall=0.416]\n"
     ]
    },
    {
     "name": "stdout",
     "output_type": "stream",
     "text": [
      "val Loss: 0.7660795748233795\n",
      "val Precision: 0.40078654885292053\n",
      "val Recall: 0.41752833127975464\n",
      "Weight saved for epoch 10.\n"
     ]
    },
    {
     "name": "stderr",
     "output_type": "stream",
     "text": [
      "Epoch: 11: 100%|██████████| 141/141 [03:49<00:00,  1.63s/batch, loss=0.71, precision=0.349, recall=0.365] \n"
     ]
    },
    {
     "name": "stdout",
     "output_type": "stream",
     "text": [
      "train Loss: 0.6909695812996398\n",
      "train Precision: 0.39787034510720704\n",
      "train Recall: 0.42417632561203433\n"
     ]
    },
    {
     "name": "stderr",
     "output_type": "stream",
     "text": [
      "Epoch: 11: 100%|██████████| 2/2 [00:24<00:00, 12.40s/batch, loss=0.645, precision=0.424, recall=0.408]\n"
     ]
    },
    {
     "name": "stdout",
     "output_type": "stream",
     "text": [
      "val Loss: 0.7990614473819733\n",
      "val Precision: 0.3908754289150238\n",
      "val Recall: 0.38861343264579773\n",
      "Weight saved for epoch 11.\n"
     ]
    },
    {
     "name": "stderr",
     "output_type": "stream",
     "text": [
      "Epoch: 12: 100%|██████████| 141/141 [03:45<00:00,  1.60s/batch, loss=0.785, precision=0.37, recall=0.361] \n"
     ]
    },
    {
     "name": "stdout",
     "output_type": "stream",
     "text": [
      "train Loss: 0.6903793617343226\n",
      "train Precision: 0.3972663976621966\n",
      "train Recall: 0.42448250156767825\n"
     ]
    },
    {
     "name": "stderr",
     "output_type": "stream",
     "text": [
      "Epoch: 12: 100%|██████████| 2/2 [00:24<00:00, 12.31s/batch, loss=0.799, precision=0.412, recall=0.443]\n"
     ]
    },
    {
     "name": "stdout",
     "output_type": "stream",
     "text": [
      "val Loss: 0.8668331503868103\n",
      "val Precision: 0.3758517950773239\n",
      "val Recall: 0.4401109665632248\n",
      "Weight saved for epoch 12.\n"
     ]
    },
    {
     "name": "stderr",
     "output_type": "stream",
     "text": [
      "Epoch: 13: 100%|██████████| 141/141 [03:45<00:00,  1.60s/batch, loss=0.67, precision=0.347, recall=0.357] \n"
     ]
    },
    {
     "name": "stdout",
     "output_type": "stream",
     "text": [
      "train Loss: 0.6872052520724898\n",
      "train Precision: 0.4020292469372986\n",
      "train Recall: 0.42592306931813556\n"
     ]
    },
    {
     "name": "stderr",
     "output_type": "stream",
     "text": [
      "Epoch: 13: 100%|██████████| 2/2 [00:24<00:00, 12.47s/batch, loss=0.656, precision=0.458, recall=0.445]\n"
     ]
    },
    {
     "name": "stdout",
     "output_type": "stream",
     "text": [
      "val Loss: 0.7551505863666534\n",
      "val Precision: 0.4232649505138397\n",
      "val Recall: 0.4325815439224243\n",
      "Weight saved for epoch 13.\n"
     ]
    },
    {
     "name": "stderr",
     "output_type": "stream",
     "text": [
      "Epoch: 14: 100%|██████████| 141/141 [03:46<00:00,  1.60s/batch, loss=0.773, precision=0.339, recall=0.322]\n"
     ]
    },
    {
     "name": "stdout",
     "output_type": "stream",
     "text": [
      "train Loss: 0.6846875675181125\n",
      "train Precision: 0.3993308802023002\n",
      "train Recall: 0.42692093688545496\n"
     ]
    },
    {
     "name": "stderr",
     "output_type": "stream",
     "text": [
      "Epoch: 14: 100%|██████████| 2/2 [00:24<00:00, 12.46s/batch, loss=0.665, precision=0.465, recall=0.461]\n"
     ]
    },
    {
     "name": "stdout",
     "output_type": "stream",
     "text": [
      "val Loss: 0.7383313477039337\n",
      "val Precision: 0.43058353662490845\n",
      "val Recall: 0.46080242097377777\n",
      "Weight saved for epoch 14.\n"
     ]
    },
    {
     "name": "stderr",
     "output_type": "stream",
     "text": [
      "Epoch: 15: 100%|██████████| 141/141 [03:44<00:00,  1.59s/batch, loss=0.604, precision=0.393, recall=0.452]\n"
     ]
    },
    {
     "name": "stdout",
     "output_type": "stream",
     "text": [
      "train Loss: 0.680289033879625\n",
      "train Precision: 0.4048361197008309\n",
      "train Recall: 0.4325413997714401\n"
     ]
    },
    {
     "name": "stderr",
     "output_type": "stream",
     "text": [
      "Epoch: 15: 100%|██████████| 2/2 [00:25<00:00, 12.63s/batch, loss=0.729, precision=0.455, recall=0.442]\n"
     ]
    },
    {
     "name": "stdout",
     "output_type": "stream",
     "text": [
      "val Loss: 0.88504958152771\n",
      "val Precision: 0.4098215848207474\n",
      "val Recall: 0.4014310985803604\n",
      "Weight saved for epoch 15.\n"
     ]
    },
    {
     "name": "stderr",
     "output_type": "stream",
     "text": [
      "Epoch: 16: 100%|██████████| 141/141 [03:48<00:00,  1.62s/batch, loss=0.661, precision=0.326, recall=0.302]\n"
     ]
    },
    {
     "name": "stdout",
     "output_type": "stream",
     "text": [
      "train Loss: 0.6767431235482507\n",
      "train Precision: 0.40467675167618067\n",
      "train Recall: 0.4328357678778628\n"
     ]
    },
    {
     "name": "stderr",
     "output_type": "stream",
     "text": [
      "Epoch: 16: 100%|██████████| 2/2 [00:25<00:00, 12.52s/batch, loss=0.788, precision=0.295, recall=0.313]\n"
     ]
    },
    {
     "name": "stdout",
     "output_type": "stream",
     "text": [
      "val Loss: 0.8413295447826385\n",
      "val Precision: 0.3236016184091568\n",
      "val Recall: 0.3633195161819458\n",
      "Weight saved for epoch 16.\n"
     ]
    },
    {
     "name": "stderr",
     "output_type": "stream",
     "text": [
      "Epoch: 17: 100%|██████████| 141/141 [03:46<00:00,  1.61s/batch, loss=0.69, precision=0.375, recall=0.378] \n"
     ]
    },
    {
     "name": "stdout",
     "output_type": "stream",
     "text": [
      "train Loss: 0.6744279806495558\n",
      "train Precision: 0.40909732127866\n",
      "train Recall: 0.4358902349539682\n"
     ]
    },
    {
     "name": "stderr",
     "output_type": "stream",
     "text": [
      "Epoch: 17: 100%|██████████| 2/2 [00:25<00:00, 12.61s/batch, loss=0.649, precision=0.454, recall=0.476]\n"
     ]
    },
    {
     "name": "stdout",
     "output_type": "stream",
     "text": [
      "val Loss: 0.7461788058280945\n",
      "val Precision: 0.420902281999588\n",
      "val Recall: 0.43726392090320587\n",
      "Weight saved for epoch 17.\n"
     ]
    },
    {
     "name": "stderr",
     "output_type": "stream",
     "text": [
      "Epoch: 18: 100%|██████████| 141/141 [03:47<00:00,  1.62s/batch, loss=0.626, precision=0.426, recall=0.494]\n"
     ]
    },
    {
     "name": "stdout",
     "output_type": "stream",
     "text": [
      "train Loss: 0.6713255250707586\n",
      "train Precision: 0.4052894870017437\n",
      "train Recall: 0.42947578683812565\n"
     ]
    },
    {
     "name": "stderr",
     "output_type": "stream",
     "text": [
      "Epoch: 18: 100%|██████████| 2/2 [00:25<00:00, 12.68s/batch, loss=0.833, precision=0.419, recall=0.395]\n"
     ]
    },
    {
     "name": "stdout",
     "output_type": "stream",
     "text": [
      "val Loss: 0.9151827096939087\n",
      "val Precision: 0.40160055458545685\n",
      "val Recall: 0.38539956510066986\n",
      "Weight saved for epoch 18.\n"
     ]
    },
    {
     "name": "stderr",
     "output_type": "stream",
     "text": [
      "Epoch: 19: 100%|██████████| 141/141 [03:49<00:00,  1.62s/batch, loss=0.701, precision=0.367, recall=0.391]\n"
     ]
    },
    {
     "name": "stdout",
     "output_type": "stream",
     "text": [
      "train Loss: 0.6674900177522753\n",
      "train Precision: 0.41402590126856\n",
      "train Recall: 0.4397420494268972\n"
     ]
    },
    {
     "name": "stderr",
     "output_type": "stream",
     "text": [
      "Epoch: 19: 100%|██████████| 2/2 [00:26<00:00, 13.02s/batch, loss=0.688, precision=0.353, recall=0.339]\n"
     ]
    },
    {
     "name": "stdout",
     "output_type": "stream",
     "text": [
      "val Loss: 0.7805130481719971\n",
      "val Precision: 0.36166268587112427\n",
      "val Recall: 0.3877609372138977\n",
      "Weight saved for epoch 19.\n"
     ]
    },
    {
     "name": "stderr",
     "output_type": "stream",
     "text": [
      "Epoch: 20: 100%|██████████| 141/141 [03:52<00:00,  1.65s/batch, loss=0.772, precision=0.363, recall=0.369]\n"
     ]
    },
    {
     "name": "stdout",
     "output_type": "stream",
     "text": [
      "train Loss: 0.6666797006383856\n",
      "train Precision: 0.4102560558640365\n",
      "train Recall: 0.43630386582503083\n"
     ]
    },
    {
     "name": "stderr",
     "output_type": "stream",
     "text": [
      "Epoch: 20: 100%|██████████| 2/2 [00:25<00:00, 12.85s/batch, loss=0.58, precision=0.434, recall=0.422] \n"
     ]
    },
    {
     "name": "stdout",
     "output_type": "stream",
     "text": [
      "val Loss: 0.6605423092842102\n",
      "val Precision: 0.4190482497215271\n",
      "val Recall: 0.43275290727615356\n",
      "Weight saved for epoch 20.\n"
     ]
    },
    {
     "name": "stderr",
     "output_type": "stream",
     "text": [
      "Epoch: 21: 100%|██████████| 141/141 [03:46<00:00,  1.61s/batch, loss=0.736, precision=0.359, recall=0.388]\n"
     ]
    },
    {
     "name": "stdout",
     "output_type": "stream",
     "text": [
      "train Loss: 0.6636449085905197\n",
      "train Precision: 0.4117789568630516\n",
      "train Recall: 0.4392738769240413\n"
     ]
    },
    {
     "name": "stderr",
     "output_type": "stream",
     "text": [
      "Epoch: 21: 100%|██████████| 2/2 [00:26<00:00, 13.03s/batch, loss=0.83, precision=0.379, recall=0.385]\n"
     ]
    },
    {
     "name": "stdout",
     "output_type": "stream",
     "text": [
      "val Loss: 0.9430292546749115\n",
      "val Precision: 0.3695137947797775\n",
      "val Recall: 0.3702205717563629\n",
      "Weight saved for epoch 21.\n"
     ]
    },
    {
     "name": "stderr",
     "output_type": "stream",
     "text": [
      "Epoch: 22: 100%|██████████| 141/141 [03:49<00:00,  1.63s/batch, loss=0.591, precision=0.413, recall=0.432]\n"
     ]
    },
    {
     "name": "stdout",
     "output_type": "stream",
     "text": [
      "train Loss: 0.6584043735308005\n",
      "train Precision: 0.4116410864583144\n",
      "train Recall: 0.43797753360254543\n"
     ]
    },
    {
     "name": "stderr",
     "output_type": "stream",
     "text": [
      "Epoch: 22: 100%|██████████| 2/2 [00:25<00:00, 12.56s/batch, loss=0.796, precision=0.337, recall=0.387]\n"
     ]
    },
    {
     "name": "stdout",
     "output_type": "stream",
     "text": [
      "val Loss: 0.8638299703598022\n",
      "val Precision: 0.3500421494245529\n",
      "val Recall: 0.40311299264431\n",
      "Weight saved for epoch 22.\n"
     ]
    },
    {
     "name": "stderr",
     "output_type": "stream",
     "text": [
      "Epoch: 23: 100%|██████████| 141/141 [03:48<00:00,  1.62s/batch, loss=0.775, precision=0.432, recall=0.422]\n"
     ]
    },
    {
     "name": "stdout",
     "output_type": "stream",
     "text": [
      "train Loss: 0.6581430849454082\n",
      "train Precision: 0.415119284010948\n",
      "train Recall: 0.44133199529444916\n"
     ]
    },
    {
     "name": "stderr",
     "output_type": "stream",
     "text": [
      "Epoch: 23: 100%|██████████| 2/2 [00:24<00:00, 12.43s/batch, loss=0.633, precision=0.39, recall=0.399] \n"
     ]
    },
    {
     "name": "stdout",
     "output_type": "stream",
     "text": [
      "val Loss: 0.7084128260612488\n",
      "val Precision: 0.3929676413536072\n",
      "val Recall: 0.4197677671909332\n",
      "Weight saved for epoch 23.\n"
     ]
    },
    {
     "name": "stderr",
     "output_type": "stream",
     "text": [
      "Epoch: 24: 100%|██████████| 141/141 [03:50<00:00,  1.63s/batch, loss=0.825, precision=0.398, recall=0.424]\n"
     ]
    },
    {
     "name": "stdout",
     "output_type": "stream",
     "text": [
      "train Loss: 0.6554016234181451\n",
      "train Precision: 0.4148135322628292\n",
      "train Recall: 0.44165174272043484\n"
     ]
    },
    {
     "name": "stderr",
     "output_type": "stream",
     "text": [
      "Epoch: 24: 100%|██████████| 2/2 [00:24<00:00, 12.46s/batch, loss=0.67, precision=0.444, recall=0.431] \n"
     ]
    },
    {
     "name": "stdout",
     "output_type": "stream",
     "text": [
      "val Loss: 0.7559780478477478\n",
      "val Precision: 0.41286805272102356\n",
      "val Recall: 0.4178132712841034\n",
      "Weight saved for epoch 24.\n"
     ]
    }
   ],
   "source": [
    "batch_size = 356\n",
    "train_dataset = DolphinDatasetTrain(train, encoder, image_size = (512, 512))\n",
    "val_dataset = DolphinDataset(val, encoder, image_size = (512, 512))\n",
    "train_dataloader = DataLoader(train_dataset, batch_size = batch_size, shuffle = True, num_workers = 22, prefetch_factor=2)\n",
    "val_dataloader = DataLoader(val_dataset, batch_size = batch_size, shuffle = False, num_workers = 22, prefetch_factor=2)\n",
    "train_model(train_dataloader, val_dataloader, batch_size=batch_size, weights_path='../../weights/torch_with_momentum_aug_v4/', epochs=25, load_weights='../../weights/torch_with_momentum_aug_v3/49.pth')"
   ]
  },
  {
   "cell_type": "code",
   "execution_count": null,
   "metadata": {},
   "outputs": [],
   "source": []
  }
 ],
 "metadata": {
  "kernelspec": {
   "display_name": "base_env",
   "language": "python",
   "name": "base_env"
  },
  "language_info": {
   "codemirror_mode": {
    "name": "ipython",
    "version": 3
   },
   "file_extension": ".py",
   "mimetype": "text/x-python",
   "name": "python",
   "nbconvert_exporter": "python",
   "pygments_lexer": "ipython3",
   "version": "3.9.16"
  },
  "orig_nbformat": 4
 },
 "nbformat": 4,
 "nbformat_minor": 2
}
