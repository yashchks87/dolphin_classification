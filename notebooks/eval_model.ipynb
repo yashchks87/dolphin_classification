{
 "cells": [
  {
   "cell_type": "code",
   "execution_count": 1,
   "metadata": {},
   "outputs": [
    {
     "name": "stderr",
     "output_type": "stream",
     "text": [
      "/home/paperspace/Documents/tensor_env/lib/python3.9/site-packages/tqdm/auto.py:21: TqdmWarning: IProgress not found. Please update jupyter and ipywidgets. See https://ipywidgets.readthedocs.io/en/stable/user_install.html\n",
      "  from .autonotebook import tqdm as notebook_tqdm\n"
     ]
    }
   ],
   "source": [
    "import torch\n",
    "import numpy as np\n",
    "import pandas as pd\n",
    "from sklearn.preprocessing import OneHotEncoder\n",
    "import torchvision\n",
    "from torch.utils.data import Dataset, DataLoader\n",
    "from sklearn.model_selection import train_test_split\n",
    "from torch import nn\n",
    "from tqdm import tqdm\n",
    "import warnings\n",
    "warnings.filterwarnings(\"ignore\") \n",
    "import sys\n",
    "sys.path.append('../scripts/')\n",
    "from metrics import find_metrics, find_metrics_macro"
   ]
  },
  {
   "cell_type": "code",
   "execution_count": 2,
   "metadata": {},
   "outputs": [],
   "source": [
    "device = torch.device(\"cuda:0\" if torch.cuda.is_available() else \"cpu\")"
   ]
  },
  {
   "cell_type": "code",
   "execution_count": 3,
   "metadata": {},
   "outputs": [],
   "source": [
    "csv_file = pd.read_csv('../../ml_research_data/dolphin_dataset/files/train.csv')\n",
    "csv_file['updated_paths'] = csv_file['image'].apply(lambda x: '../../ml_research_data/dolphin_dataset/files/train_images/' + x)"
   ]
  },
  {
   "cell_type": "code",
   "execution_count": 4,
   "metadata": {},
   "outputs": [],
   "source": [
    "def split_datasets(csv_file, test_size):\n",
    "    train, test = train_test_split(csv_file, test_size=test_size, random_state=42)\n",
    "    train, val = train_test_split(train, test_size=test_size, random_state=42)\n",
    "    return train, val, test"
   ]
  },
  {
   "cell_type": "code",
   "execution_count": 5,
   "metadata": {},
   "outputs": [],
   "source": [
    "def encoding_data(csv_data):\n",
    "    labels = csv_data['species'].values.tolist()\n",
    "    encoder = OneHotEncoder()\n",
    "    encoder = encoder.fit(np.array(labels).reshape(-1, 1))\n",
    "    return encoder"
   ]
  },
  {
   "cell_type": "code",
   "execution_count": 6,
   "metadata": {},
   "outputs": [],
   "source": [
    "encoder = encoding_data(csv_file)"
   ]
  },
  {
   "cell_type": "code",
   "execution_count": 7,
   "metadata": {},
   "outputs": [],
   "source": [
    "class DolphinDataset(Dataset):\n",
    "    def __init__(self, csv_file, encoder, image_size, return_label = True):\n",
    "        self.csv_file = csv_file\n",
    "        self.images = csv_file['updated_paths'].values.tolist()\n",
    "        self.labels = csv_file['species'].values.tolist()\n",
    "        self.encoder = encoder\n",
    "        self.encoded_labels = self.encoder.transform(np.array(self.labels).reshape(-1, 1)).toarray()\n",
    "        self.convert_rgb = torchvision.transforms.Lambda(lambda x: x.repeat(3, 1, 1))\n",
    "        self.return_label = return_label\n",
    "        self.image_size = image_size\n",
    "\n",
    "    def __len__(self):\n",
    "        return len(self.csv_file)\n",
    "\n",
    "    def __getitem__(self, idx):\n",
    "        img = torchvision.io.read_file(self.images[idx])\n",
    "        img = torchvision.io.decode_jpeg(img)\n",
    "        if img.shape[0] != 3:\n",
    "            img = self.convert_rgb(img)\n",
    "        img = torchvision.transforms.functional.resize(img, (self.image_size[0], self.image_size[1]))\n",
    "        img = img / 255.0\n",
    "        if self.return_label:\n",
    "            return img, torch.Tensor(self.encoded_labels[idx])\n",
    "        else:\n",
    "            return img"
   ]
  },
  {
   "cell_type": "code",
   "execution_count": 8,
   "metadata": {},
   "outputs": [],
   "source": [
    "train, val, test = split_datasets(csv_file, test_size = 0.01)"
   ]
  },
  {
   "cell_type": "code",
   "execution_count": 9,
   "metadata": {},
   "outputs": [],
   "source": [
    "def get_model(load_weights = None):\n",
    "    incep_model = torch.hub.load('pytorch/vision:v0.10.0', 'inception_v3', pretrained = False)\n",
    "    incep_model.fc = nn.Linear(2048, 30)\n",
    "    if load_weights != None:\n",
    "        incep_model.load_state_dict(torch.load(load_weights)['model_state_dict'])\n",
    "    incep_model.eval()\n",
    "    return incep_model"
   ]
  },
  {
   "cell_type": "code",
   "execution_count": 10,
   "metadata": {},
   "outputs": [],
   "source": [
    "categorical_cross_entropy = nn.CrossEntropyLoss()"
   ]
  },
  {
   "cell_type": "code",
   "execution_count": 11,
   "metadata": {},
   "outputs": [],
   "source": [
    "#  prec, rec = find_metrics_macro(outputs, labels, batch_size=batch_size)\n",
    "# Appply batch size as well"
   ]
  },
  {
   "cell_type": "code",
   "execution_count": 24,
   "metadata": {},
   "outputs": [],
   "source": [
    "def itereate_dataset(dataset, model):\n",
    "    loss_, prec_, rec_ = 0.0, 0.0, 0.0\n",
    "    for img, labels in tqdm(dataset):\n",
    "        img = img.to(device)\n",
    "        labels = labels.to(device)\n",
    "        outputs = model(img)\n",
    "        loss = categorical_cross_entropy(outputs, labels)\n",
    "        prec, rec = find_metrics_macro(outputs, labels, batch_size=64)\n",
    "        loss_ += loss.item()\n",
    "        prec_ += prec.item()\n",
    "        rec_ += rec.item()\n",
    "    return loss_, prec_, rec_\n",
    "    "
   ]
  },
  {
   "cell_type": "code",
   "execution_count": 34,
   "metadata": {},
   "outputs": [],
   "source": [
    "def eval_model(model, train_dataset=None, val_dataset=None):\n",
    "    model = model.to(device)\n",
    "    if train_dataset != None:\n",
    "        loss, prec, rec = itereate_dataset(train_dataset, model)\n",
    "        print(f'Train Loss: {loss / len(train_dataset)}')\n",
    "        print(f'Train Prec: {prec / len(train_dataset)}')\n",
    "        print(f'Train Rec: {rec / len(train_dataset)}')\n",
    "    if val_dataset != None:\n",
    "        loss, prec, rec = itereate_dataset(val_dataset, model)\n",
    "        print(f'Val Loss: {loss / len(val_dataset)}')\n",
    "        print(f'Val Prec: {prec / len(val_dataset)}')\n",
    "        print(f'Val Rec: {rec / len(val_dataset)}')"
   ]
  },
  {
   "cell_type": "code",
   "execution_count": 33,
   "metadata": {},
   "outputs": [],
   "source": [
    "# Gether datasets\n",
    "batch_size = 2\n",
    "train_dataset = DolphinDataset(train, encoder, image_size=(1024, 1024))\n",
    "train_dataloader = DataLoader(train_dataset, batch_size = batch_size, shuffle = False, num_workers = 24, prefetch_factor=2)\n",
    "val_dataset = DolphinDataset(val, encoder, image_size=(1024, 1024))\n",
    "val_dataloader = DataLoader(val_dataset, batch_size = batch_size, shuffle = False, num_workers = 24, prefetch_factor=2)\n",
    "test_dataset = DolphinDataset(test, encoder, image_size=(1024, 1024))\n",
    "test_dataloader = DataLoader(test_dataset, batch_size = batch_size, shuffle = False, num_workers = 24, prefetch_factor=2)"
   ]
  },
  {
   "cell_type": "code",
   "execution_count": 27,
   "metadata": {},
   "outputs": [
    {
     "name": "stderr",
     "output_type": "stream",
     "text": [
      "Using cache found in /home/paperspace/.cache/torch/hub/pytorch_vision_v0.10.0\n",
      "100%|██████████| 253/253 [00:34<00:00,  7.44it/s]"
     ]
    },
    {
     "name": "stdout",
     "output_type": "stream",
     "text": [
      "Val Loss: 0.8786258164387409\n",
      "Val Prec: 0.04677207095055241\n",
      "Val Rec: 0.046508566325478874\n"
     ]
    },
    {
     "name": "stderr",
     "output_type": "stream",
     "text": [
      "\n"
     ]
    }
   ],
   "source": [
    "model = get_model('../../ml_research_data/dolphin_weights/torch_with_momentum/49.pth')\n",
    "eval_model(model, train_dataset=None, val_dataset=val_dataloader)"
   ]
  },
  {
   "cell_type": "code",
   "execution_count": 30,
   "metadata": {},
   "outputs": [
    {
     "name": "stderr",
     "output_type": "stream",
     "text": [
      "Using cache found in /home/paperspace/.cache/torch/hub/pytorch_vision_v0.10.0\n",
      "100%|██████████| 256/256 [00:34<00:00,  7.33it/s]"
     ]
    },
    {
     "name": "stdout",
     "output_type": "stream",
     "text": [
      "Val Loss: 0.8913580208686653\n",
      "Val Prec: 0.04531250236323103\n",
      "Val Rec: 0.045182294023106806\n"
     ]
    },
    {
     "name": "stderr",
     "output_type": "stream",
     "text": [
      "\n"
     ]
    }
   ],
   "source": [
    "model = get_model('../../ml_research_data/dolphin_weights/torch_with_momentum/49.pth')\n",
    "eval_model(model, train_dataset=None, val_dataset=test_dataloader)"
   ]
  },
  {
   "cell_type": "code",
   "execution_count": 35,
   "metadata": {},
   "outputs": [
    {
     "name": "stderr",
     "output_type": "stream",
     "text": [
      "Using cache found in /home/paperspace/.cache/torch/hub/pytorch_vision_v0.10.0\n",
      "100%|██████████| 25008/25008 [52:44<00:00,  7.90it/s]"
     ]
    },
    {
     "name": "stdout",
     "output_type": "stream",
     "text": [
      "Val Loss: 0.8608732811835452\n",
      "Val Prec: 0.04648845945164664\n",
      "Val Rec: 0.04610125000513518\n"
     ]
    },
    {
     "name": "stderr",
     "output_type": "stream",
     "text": [
      "\n"
     ]
    }
   ],
   "source": [
    "model = get_model('../../ml_research_data/dolphin_weights/torch_with_momentum/49.pth')\n",
    "eval_model(model, train_dataset=None, val_dataset=train_dataloader)"
   ]
  },
  {
   "cell_type": "code",
   "execution_count": null,
   "metadata": {},
   "outputs": [],
   "source": []
  }
 ],
 "metadata": {
  "kernelspec": {
   "display_name": "tensor_env",
   "language": "python",
   "name": "tensor_env"
  },
  "language_info": {
   "codemirror_mode": {
    "name": "ipython",
    "version": 3
   },
   "file_extension": ".py",
   "mimetype": "text/x-python",
   "name": "python",
   "nbconvert_exporter": "python",
   "pygments_lexer": "ipython3",
   "version": "3.9.16"
  },
  "orig_nbformat": 4
 },
 "nbformat": 4,
 "nbformat_minor": 2
}
