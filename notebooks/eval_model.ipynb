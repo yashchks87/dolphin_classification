{
 "cells": [
  {
   "cell_type": "code",
   "execution_count": 18,
   "metadata": {},
   "outputs": [],
   "source": [
    "import torch\n",
    "import numpy as np\n",
    "import pandas as pd\n",
    "from sklearn.preprocessing import OneHotEncoder\n",
    "import torchvision\n",
    "from torch.utils.data import Dataset, DataLoader\n",
    "from sklearn.model_selection import train_test_split\n",
    "from torch import nn\n",
    "from tqdm import tqdm\n",
    "import warnings\n",
    "warnings.filterwarnings(\"ignore\") \n",
    "import sys\n",
    "sys.path.append('../scripts/')\n",
    "from metrics import find_metrics, find_metrics_macro"
   ]
  },
  {
   "cell_type": "code",
   "execution_count": 2,
   "metadata": {},
   "outputs": [],
   "source": [
    "device = torch.device(\"cuda:0\" if torch.cuda.is_available() else \"cpu\")"
   ]
  },
  {
   "cell_type": "code",
   "execution_count": 3,
   "metadata": {},
   "outputs": [],
   "source": [
    "csv_file = pd.read_csv('../../files/train.csv')\n",
    "csv_file['updated_paths'] = csv_file['image'].apply(lambda x: '../../files/train_images/' + x)"
   ]
  },
  {
   "cell_type": "code",
   "execution_count": 4,
   "metadata": {},
   "outputs": [],
   "source": [
    "def split_datasets(csv_file, test_size):\n",
    "    train, test = train_test_split(csv_file, test_size=test_size, random_state=42)\n",
    "    train, val = train_test_split(train, test_size=test_size, random_state=42)\n",
    "    return train, val, test"
   ]
  },
  {
   "cell_type": "code",
   "execution_count": 5,
   "metadata": {},
   "outputs": [],
   "source": [
    "def encoding_data(csv_data):\n",
    "    labels = csv_data['species'].values.tolist()\n",
    "    encoder = OneHotEncoder()\n",
    "    encoder = encoder.fit(np.array(labels).reshape(-1, 1))\n",
    "    return encoder"
   ]
  },
  {
   "cell_type": "code",
   "execution_count": 6,
   "metadata": {},
   "outputs": [],
   "source": [
    "encoder = encoding_data(csv_file)"
   ]
  },
  {
   "cell_type": "code",
   "execution_count": 7,
   "metadata": {},
   "outputs": [],
   "source": [
    "class DolphinDataset(Dataset):\n",
    "    def __init__(self, csv_file, encoder, return_label = True):\n",
    "        self.csv_file = csv_file\n",
    "        self.images = csv_file['updated_paths'].values.tolist()\n",
    "        self.labels = csv_file['species'].values.tolist()\n",
    "        self.encoder = encoder\n",
    "        self.encoded_labels = self.encoder.transform(np.array(self.labels).reshape(-1, 1)).toarray()\n",
    "        self.convert_rgb = torchvision.transforms.Lambda(lambda x: x.repeat(3, 1, 1))\n",
    "        self.return_label = return_label\n",
    "\n",
    "    def __len__(self):\n",
    "        return len(self.csv_file)\n",
    "\n",
    "    def __getitem__(self, idx):\n",
    "        img = torchvision.io.read_file(self.images[idx])\n",
    "        img = torchvision.io.decode_jpeg(img)\n",
    "        if img.shape[0] != 3:\n",
    "            img = self.convert_rgb(img)\n",
    "        img = torchvision.transforms.functional.resize(img, (512, 512))\n",
    "        img = img / 255.0\n",
    "        if self.return_label:\n",
    "            return img, torch.Tensor(self.encoded_labels[idx])\n",
    "        else:\n",
    "            return img"
   ]
  },
  {
   "cell_type": "code",
   "execution_count": 8,
   "metadata": {},
   "outputs": [],
   "source": [
    "train, val, test = split_datasets(csv_file, test_size = 0.01)"
   ]
  },
  {
   "cell_type": "code",
   "execution_count": 9,
   "metadata": {},
   "outputs": [],
   "source": [
    "def get_model(load_weights = None):\n",
    "    incep_model = torch.hub.load('pytorch/vision:v0.10.0', 'inception_v3', pretrained = False)\n",
    "    incep_model.fc = nn.Linear(2048, 30)\n",
    "    if load_weights != None:\n",
    "        incep_model.load_state_dict(torch.load(load_weights)['model_state_dict'])\n",
    "    return incep_model"
   ]
  },
  {
   "cell_type": "code",
   "execution_count": 10,
   "metadata": {},
   "outputs": [],
   "source": [
    "categorical_cross_entropy = nn.CrossEntropyLoss()"
   ]
  },
  {
   "cell_type": "code",
   "execution_count": 16,
   "metadata": {},
   "outputs": [],
   "source": [
    "#  prec, rec = find_metrics_macro(outputs, labels, batch_size=batch_size)\n",
    "# Appply batch size as well"
   ]
  },
  {
   "cell_type": "code",
   "execution_count": 19,
   "metadata": {},
   "outputs": [],
   "source": [
    "def eval_model(model, train_dataset, val_dataset):\n",
    "    model = model.to(device)\n",
    "    train_loss, val_loss, train_prec, train_rec, val_prec, val_rec = 0.0, 0.0, 0.0, 0.0, 0.0, 0.0\n",
    "    for img, labels in tqdm(train_dataset):\n",
    "        img = img.to(device)\n",
    "        labels = labels.to(device)\n",
    "        outputs = model(img)[0]\n",
    "        loss = categorical_cross_entropy(outputs, labels)\n",
    "        prec, rec = find_metrics_macro(outputs, labels, batch_size=64)\n",
    "        train_loss += loss.item()\n",
    "        train_prec += prec.item()\n",
    "        train_rec += rec.item()\n",
    "    for img, labels in tqdm(val_dataset):\n",
    "        img = img.to(device)\n",
    "        labels = labels.to(device)\n",
    "        outputs = model(img)[0]\n",
    "        loss = categorical_cross_entropy(outputs, labels)\n",
    "        prec, rec = find_metrics_macro(outputs, labels, batch_size=64)\n",
    "        val_loss += loss.item()\n",
    "        val_prec += prec.item()\n",
    "        val_rec += rec.item()\n",
    "    print(f'Train Loss: {train_loss / len(train_dataset)}')\n",
    "    print(f'Val Loss: {val_loss / len(val_dataset)}')\n",
    "    print(f'Train Prec: {train_prec / len(train_dataset)}')\n",
    "    print(f'Val Prec: {val_prec / len(val_dataset)}')\n",
    "    print(f'Train Rec: {train_rec / len(train_dataset)}')\n",
    "    print(f'Val Rec: {val_rec / len(val_dataset)}')"
   ]
  },
  {
   "cell_type": "code",
   "execution_count": 20,
   "metadata": {},
   "outputs": [],
   "source": [
    "# Gether datasets\n",
    "batch_size = 64\n",
    "train_dataset = DolphinDataset(train, encoder)\n",
    "train_dataloader = DataLoader(train_dataset, batch_size = batch_size, shuffle = False, num_workers = 24, prefetch_factor=2)\n",
    "val_dataset = DolphinDataset(val, encoder)\n",
    "val_dataloader = DataLoader(val_dataset, batch_size = batch_size, shuffle = False, num_workers = 24, prefetch_factor=2)"
   ]
  },
  {
   "cell_type": "code",
   "execution_count": 21,
   "metadata": {},
   "outputs": [
    {
     "name": "stderr",
     "output_type": "stream",
     "text": [
      "Using cache found in /home/ubuntu/.cache/torch/hub/pytorch_vision_v0.10.0\n",
      "100%|██████████| 782/782 [02:09<00:00,  6.03it/s]\n",
      "100%|██████████| 8/8 [00:07<00:00,  1.00it/s]\n"
     ]
    },
    {
     "name": "stdout",
     "output_type": "stream",
     "text": [
      "Train Loss: 0.6509817068457908\n",
      "Val Loss: 0.6504473760724068\n",
      "Train Prec: 0.3607090634038991\n",
      "Val Prec: 0.37519148737192154\n",
      "Train Rec: 0.3549150708310135\n",
      "Val Rec: 0.37114330008625984\n"
     ]
    }
   ],
   "source": [
    "model = get_model('../../weights/torch_with_momentum_v3/143.pth')\n",
    "eval_model(model, train_dataloader, val_dataloader)"
   ]
  },
  {
   "cell_type": "code",
   "execution_count": 22,
   "metadata": {},
   "outputs": [
    {
     "name": "stderr",
     "output_type": "stream",
     "text": [
      "Using cache found in /home/ubuntu/.cache/torch/hub/pytorch_vision_v0.10.0\n",
      "100%|██████████| 782/782 [02:09<00:00,  6.02it/s]\n",
      "100%|██████████| 8/8 [00:08<00:00,  1.02s/it]"
     ]
    },
    {
     "name": "stdout",
     "output_type": "stream",
     "text": [
      "Train Loss: 0.6406922279035344\n",
      "Val Loss: 0.6469489745795727\n",
      "Train Prec: 0.3640161359020511\n",
      "Val Prec: 0.38373006880283356\n",
      "Train Rec: 0.3585598710590921\n",
      "Val Rec: 0.3687208369374275\n"
     ]
    },
    {
     "name": "stderr",
     "output_type": "stream",
     "text": [
      "\n"
     ]
    }
   ],
   "source": [
    "model = get_model('../../weights/torch_with_momentum_v3/144.pth')\n",
    "eval_model(model, train_dataloader, val_dataloader)"
   ]
  },
  {
   "cell_type": "code",
   "execution_count": 23,
   "metadata": {},
   "outputs": [
    {
     "name": "stderr",
     "output_type": "stream",
     "text": [
      "Using cache found in /home/ubuntu/.cache/torch/hub/pytorch_vision_v0.10.0\n",
      "100%|██████████| 782/782 [02:09<00:00,  6.06it/s]\n",
      "100%|██████████| 8/8 [00:07<00:00,  1.03it/s]\n"
     ]
    },
    {
     "name": "stdout",
     "output_type": "stream",
     "text": [
      "Train Loss: 0.6372974237898732\n",
      "Val Loss: 0.6491555720567703\n",
      "Train Prec: 0.3631360935204474\n",
      "Val Prec: 0.36930273100733757\n",
      "Train Rec: 0.3587030590609516\n",
      "Val Rec: 0.3627403788268566\n"
     ]
    }
   ],
   "source": [
    "model = get_model('../../weights/torch_with_momentum_v3/145.pth')\n",
    "eval_model(model, train_dataloader, val_dataloader)"
   ]
  },
  {
   "cell_type": "code",
   "execution_count": null,
   "metadata": {},
   "outputs": [],
   "source": []
  }
 ],
 "metadata": {
  "kernelspec": {
   "display_name": "base_env",
   "language": "python",
   "name": "base_env"
  },
  "language_info": {
   "codemirror_mode": {
    "name": "ipython",
    "version": 3
   },
   "file_extension": ".py",
   "mimetype": "text/x-python",
   "name": "python",
   "nbconvert_exporter": "python",
   "pygments_lexer": "ipython3",
   "version": "3.8.10"
  },
  "orig_nbformat": 4
 },
 "nbformat": 4,
 "nbformat_minor": 2
}
