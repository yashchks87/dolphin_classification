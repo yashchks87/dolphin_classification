{
 "cells": [
  {
   "cell_type": "code",
   "execution_count": 1,
   "metadata": {},
   "outputs": [
    {
     "name": "stderr",
     "output_type": "stream",
     "text": [
      "/home/ubuntu/.local/lib/python3.8/site-packages/pandas/core/computation/expressions.py:20: UserWarning: Pandas requires version '2.7.3' or newer of 'numexpr' (version '2.7.1' currently installed).\n",
      "  from pandas.core.computation.check import NUMEXPR_INSTALLED\n"
     ]
    }
   ],
   "source": [
    "import torch\n",
    "import torchvision\n",
    "import PIL\n",
    "import pandas as pd\n",
    "import numpy as np\n",
    "import matplotlib.pyplot as plt\n",
    "import seaborn as sns\n",
    "from sklearn.model_selection import train_test_split\n",
    "from torch.utils.data import Dataset, DataLoader\n",
    "from sklearn.preprocessing import OneHotEncoder\n",
    "import torchvision.transforms.functional as fn\n",
    "from torch import nn\n",
    "import torch.nn.functional as F\n",
    "import wandb\n",
    "import torch.optim as optim\n",
    "from tqdm import tqdm\n",
    "import sys\n",
    "import autoreload\n",
    "%load_ext autoreload\n",
    "%autoreload 2\n",
    "sys.path.append('../scripts/')\n",
    "from save_model_every_epoch_torch import save_model\n",
    "import warnings\n",
    "warnings.filterwarnings(\"ignore\")\n",
    "from metrics import find_metrics, find_metrics_macro"
   ]
  },
  {
   "cell_type": "code",
   "execution_count": 2,
   "metadata": {},
   "outputs": [],
   "source": [
    "multiple_gpus = True\n",
    "if torch.cuda.is_available():\n",
    "    if torch.cuda.device_count() > 1:\n",
    "        multiple_gpus = True\n",
    "    device = torch.device(\"cuda:0\" if torch.cuda.is_available() else \"cpu\")"
   ]
  },
  {
   "cell_type": "code",
   "execution_count": 3,
   "metadata": {},
   "outputs": [],
   "source": [
    "csv_file = pd.read_csv('../../files/train.csv')\n",
    "csv_file['updated_paths'] = csv_file['image'].apply(lambda x: '../../files/train_images/' + x)"
   ]
  },
  {
   "cell_type": "code",
   "execution_count": 4,
   "metadata": {},
   "outputs": [],
   "source": [
    "def split_datasets(csv_file, test_size):\n",
    "    train, test = train_test_split(csv_file, test_size=test_size)\n",
    "    train, val = train_test_split(train, test_size=test_size)\n",
    "    return train, val, test"
   ]
  },
  {
   "cell_type": "code",
   "execution_count": 5,
   "metadata": {},
   "outputs": [],
   "source": [
    "def encoding_data(csv_data):\n",
    "    labels = csv_data['species'].values.tolist()\n",
    "    encoder = OneHotEncoder()\n",
    "    encoder = encoder.fit(np.array(labels).reshape(-1, 1))\n",
    "    return encoder"
   ]
  },
  {
   "cell_type": "code",
   "execution_count": 6,
   "metadata": {},
   "outputs": [],
   "source": [
    "encoder = encoding_data(csv_file)"
   ]
  },
  {
   "cell_type": "code",
   "execution_count": 7,
   "metadata": {},
   "outputs": [],
   "source": [
    "class DolphinDataset(Dataset):\n",
    "    def __init__(self, csv_file, encoder):\n",
    "        self.csv_file = csv_file\n",
    "        self.images = csv_file['updated_paths'].values.tolist()\n",
    "        self.labels = csv_file['species'].values.tolist()\n",
    "        self.encoder = encoder\n",
    "        self.encoded_labels = self.encoder.transform(np.array(self.labels).reshape(-1, 1)).toarray()\n",
    "        self.convert_rgb = torchvision.transforms.Lambda(lambda x: x.repeat(3, 1, 1))\n",
    "\n",
    "    def __len__(self):\n",
    "        return len(self.csv_file)\n",
    "\n",
    "    def __getitem__(self, idx):\n",
    "        img = torchvision.io.read_file(self.images[idx])\n",
    "        img = torchvision.io.decode_jpeg(img)\n",
    "        if img.shape[0] != 3:\n",
    "            img = self.convert_rgb(img)\n",
    "        img = torchvision.transforms.functional.resize(img, (512, 512))\n",
    "        img = img / 255.0\n",
    "        return img, torch.Tensor(self.encoded_labels[idx])"
   ]
  },
  {
   "cell_type": "code",
   "execution_count": 8,
   "metadata": {},
   "outputs": [],
   "source": [
    "train, val, test = split_datasets(csv_file, test_size = 0.01)"
   ]
  },
  {
   "cell_type": "code",
   "execution_count": 9,
   "metadata": {},
   "outputs": [],
   "source": [
    "# incep_model = torch.hub.load('pytorch/vision:v0.10.0', 'inception_v3', pretrained = False)"
   ]
  },
  {
   "cell_type": "code",
   "execution_count": 10,
   "metadata": {},
   "outputs": [],
   "source": [
    "def get_model():\n",
    "    incep_model = torch.hub.load('pytorch/vision:v0.10.0', 'inception_v3', pretrained = False)\n",
    "    incep_model.fc = nn.Linear(2048, 30)\n",
    "    return incep_model"
   ]
  },
  {
   "cell_type": "code",
   "execution_count": 11,
   "metadata": {},
   "outputs": [],
   "source": [
    "categorical_cross_entropy = nn.CrossEntropyLoss()"
   ]
  },
  {
   "cell_type": "code",
   "execution_count": 12,
   "metadata": {},
   "outputs": [],
   "source": [
    "def train_model(train_dataset, val_dataset, epochs, batch_size, load_weights=None):\n",
    "    model = get_model()\n",
    "    wandb.init(project='dolphin',\n",
    "               config = {\n",
    "                   'arch' : 'InceptionV4'\n",
    "               })\n",
    "    data_pointers = {\n",
    "        'train' : train_dataset,\n",
    "        'val' : val_dataset,\n",
    "    }\n",
    "    if load_weights != None:\n",
    "        model.load_state_dict(torch.load(load_weights)['model_state_dict'])\n",
    "    optimizer = optim.SGD(model.parameters(), lr=0.001)\n",
    "    if next(model.parameters()).is_cuda == False:\n",
    "        if multiple_gpus == True:\n",
    "            model = nn.DataParallel(model)\n",
    "        model = model.to(device)\n",
    "    for epoch in range(epochs):\n",
    "        train_loss= 0.0\n",
    "        train_prec, train_rec = 0.0, 0.0\n",
    "        val_loss = 0.0\n",
    "        val_prec, val_rec = 0.0, 0.0\n",
    "        for phase in ['train', 'val']:\n",
    "            if phase == 'train':\n",
    "                model.train()\n",
    "            else:\n",
    "                model.eval()\n",
    "            running_loss, running_precision, running_recall = 0.0, 0.0, 0.0\n",
    "            with tqdm(data_pointers[phase], unit='batch') as tepoch:\n",
    "                for imgs, labels in tepoch:\n",
    "                    tepoch.set_description(f'Epoch: {epoch}')\n",
    "                    imgs = imgs.to(device)\n",
    "                    labels = labels.to(device)\n",
    "                    optimizer.zero_grad()\n",
    "                    with torch.set_grad_enabled(phase == 'train'):\n",
    "                        if phase == 'train':\n",
    "                            outputs = model(imgs)[0]\n",
    "                        else:\n",
    "                            outputs = model(imgs)\n",
    "                        loss = categorical_cross_entropy(outputs, labels)\n",
    "                        prec, rec = find_metrics_macro(outputs, labels, batch_size=batch_size)\n",
    "                        if phase == 'train':\n",
    "                            loss.backward()\n",
    "                            optimizer.step()\n",
    "                    running_loss += loss.item()\n",
    "                    running_precision += prec.item()\n",
    "                    running_recall += rec.item()\n",
    "                    tepoch.set_postfix(loss = loss.item(), precision = prec.item(), recall = rec.item())\n",
    "            if phase == 'train':\n",
    "                train_loss = running_loss / len(train_dataset)\n",
    "                train_prec = running_precision / len(train_dataset)\n",
    "                train_rec = running_recall / len(train_dataset)\n",
    "                print(f'{phase} Loss: {float(train_loss)}')\n",
    "                print(f'{phase} Precision: {float(train_prec)}')\n",
    "                print(f'{phase} Recall: {float(train_rec)}')\n",
    "            else:\n",
    "                val_loss = running_loss / len(val_dataset)\n",
    "                val_prec = running_precision / len(val_dataset)\n",
    "                val_rec = running_recall / len(val_dataset)\n",
    "                print(f'{phase} Loss: {float(val_loss)}')\n",
    "                print(f'{phase} Precision: {float(val_prec)}')\n",
    "                print(f'{phase} Recall: {float(val_rec)}')\n",
    "        wandb.log({\n",
    "            'train_loss' : train_loss,\n",
    "            'val_loss' : val_loss,\n",
    "            'train_precision' : train_prec,\n",
    "            'train_recall' : train_rec,\n",
    "            'val_precision' : val_prec,\n",
    "            'val_recall' : val_rec\n",
    "        })"
   ]
  },
  {
   "cell_type": "code",
   "execution_count": 13,
   "metadata": {},
   "outputs": [
    {
     "name": "stderr",
     "output_type": "stream",
     "text": [
      "Using cache found in /home/ubuntu/.cache/torch/hub/pytorch_vision_v0.10.0\n",
      "Failed to detect the name of this notebook, you can set it manually with the WANDB_NOTEBOOK_NAME environment variable to enable code saving.\n",
      "\u001b[34m\u001b[1mwandb\u001b[0m: Currently logged in as: \u001b[33myashchks87\u001b[0m. Use \u001b[1m`wandb login --relogin`\u001b[0m to force relogin\n"
     ]
    },
    {
     "data": {
      "text/html": [
       "Tracking run with wandb version 0.15.8"
      ],
      "text/plain": [
       "<IPython.core.display.HTML object>"
      ]
     },
     "metadata": {},
     "output_type": "display_data"
    },
    {
     "data": {
      "text/html": [
       "Run data is saved locally in <code>/home/ubuntu/dolphin_classification/notebooks/wandb/run-20230813_185632-2mjblpu9</code>"
      ],
      "text/plain": [
       "<IPython.core.display.HTML object>"
      ]
     },
     "metadata": {},
     "output_type": "display_data"
    },
    {
     "data": {
      "text/html": [
       "Syncing run <strong><a href='https://wandb.ai/yashchks87/dolphin/runs/2mjblpu9' target=\"_blank\">upbeat-frog-50</a></strong> to <a href='https://wandb.ai/yashchks87/dolphin' target=\"_blank\">Weights & Biases</a> (<a href='https://wandb.me/run' target=\"_blank\">docs</a>)<br/>"
      ],
      "text/plain": [
       "<IPython.core.display.HTML object>"
      ]
     },
     "metadata": {},
     "output_type": "display_data"
    },
    {
     "data": {
      "text/html": [
       " View project at <a href='https://wandb.ai/yashchks87/dolphin' target=\"_blank\">https://wandb.ai/yashchks87/dolphin</a>"
      ],
      "text/plain": [
       "<IPython.core.display.HTML object>"
      ]
     },
     "metadata": {},
     "output_type": "display_data"
    },
    {
     "data": {
      "text/html": [
       " View run at <a href='https://wandb.ai/yashchks87/dolphin/runs/2mjblpu9' target=\"_blank\">https://wandb.ai/yashchks87/dolphin/runs/2mjblpu9</a>"
      ],
      "text/plain": [
       "<IPython.core.display.HTML object>"
      ]
     },
     "metadata": {},
     "output_type": "display_data"
    },
    {
     "name": "stderr",
     "output_type": "stream",
     "text": [
      "Epoch: 0:  77%|███████▋  | 169/220 [03:54<01:02,  1.23s/batch, loss=2.84, precision=0.0415, recall=0.0187] "
     ]
    }
   ],
   "source": [
    "batch_size = 228\n",
    "train_dataset = DolphinDataset(train, encoder)\n",
    "val_dataset = DolphinDataset(val, encoder)\n",
    "train_dataloader = DataLoader(train_dataset, batch_size = batch_size, shuffle = True, num_workers = 24, prefetch_factor=2)\n",
    "val_dataloader = DataLoader(val_dataset, batch_size = batch_size, shuffle = False, num_workers = 24, prefetch_factor=2)\n",
    "train_model(train_dataloader, val_dataloader, batch_size=batch_size, epochs=10)"
   ]
  },
  {
   "cell_type": "code",
   "execution_count": 18,
   "metadata": {},
   "outputs": [],
   "source": [
    "preds = np.random.random((32, 30))\n",
    "random_g_truth = np.random.randint(0, 30, 32)\n",
    "g_truth = np.zeros((32, 30))\n",
    "g_truth[np.arange(32), random_g_truth] = 1"
   ]
  },
  {
   "cell_type": "code",
   "execution_count": 20,
   "metadata": {},
   "outputs": [],
   "source": [
    "g_truth = torch.Tensor(g_truth)\n",
    "preds = torch.Tensor(preds)"
   ]
  },
  {
   "cell_type": "code",
   "execution_count": 26,
   "metadata": {},
   "outputs": [],
   "source": [
    "x, y, z = find_metrics_macro(preds, g_truth)"
   ]
  },
  {
   "cell_type": "code",
   "execution_count": 37,
   "metadata": {},
   "outputs": [],
   "source": [
    "temp = torch.sum(torch.nan_to_num(x / (x + y))) / 30"
   ]
  },
  {
   "cell_type": "code",
   "execution_count": 38,
   "metadata": {},
   "outputs": [
    {
     "data": {
      "text/plain": [
       "tensor(0.0167)"
      ]
     },
     "execution_count": 38,
     "metadata": {},
     "output_type": "execute_result"
    }
   ],
   "source": [
    "temp"
   ]
  },
  {
   "cell_type": "code",
   "execution_count": 32,
   "metadata": {},
   "outputs": [
    {
     "data": {
      "text/plain": [
       "tensor([nan])"
      ]
     },
     "execution_count": 32,
     "metadata": {},
     "output_type": "execute_result"
    }
   ],
   "source": [
    "x[0] / torch.Tensor([0])"
   ]
  },
  {
   "cell_type": "code",
   "execution_count": 30,
   "metadata": {},
   "outputs": [
    {
     "data": {
      "text/plain": [
       "tensor([0, 0, 0, 0, 0, 0, 1, 1, 1, 3, 0, 1, 1, 1, 1, 1, 3, 0, 1, 1, 0, 5, 1, 2,\n",
       "        0, 0, 3, 1, 1, 2])"
      ]
     },
     "execution_count": 30,
     "metadata": {},
     "output_type": "execute_result"
    }
   ],
   "source": [
    "y"
   ]
  },
  {
   "cell_type": "code",
   "execution_count": null,
   "metadata": {},
   "outputs": [],
   "source": []
  }
 ],
 "metadata": {
  "kernelspec": {
   "display_name": "base_env",
   "language": "python",
   "name": "base_env"
  },
  "language_info": {
   "codemirror_mode": {
    "name": "ipython",
    "version": 3
   },
   "file_extension": ".py",
   "mimetype": "text/x-python",
   "name": "python",
   "nbconvert_exporter": "python",
   "pygments_lexer": "ipython3",
   "version": "3.8.10"
  },
  "orig_nbformat": 4
 },
 "nbformat": 4,
 "nbformat_minor": 2
}
