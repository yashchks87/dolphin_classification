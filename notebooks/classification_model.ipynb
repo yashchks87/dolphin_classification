{
 "cells": [
  {
   "cell_type": "code",
   "execution_count": null,
   "metadata": {},
   "outputs": [],
   "source": [
    "print('Hello')"
   ]
  },
  {
   "cell_type": "code",
   "execution_count": 1,
   "metadata": {},
   "outputs": [
    {
     "name": "stderr",
     "output_type": "stream",
     "text": [
      "/home/ubuntu/.local/lib/python3.8/site-packages/pandas/core/computation/expressions.py:20: UserWarning: Pandas requires version '2.7.3' or newer of 'numexpr' (version '2.7.1' currently installed).\n",
      "  from pandas.core.computation.check import NUMEXPR_INSTALLED\n"
     ]
    }
   ],
   "source": [
    "import torch\n",
    "import torchvision\n",
    "import PIL\n",
    "import pandas as pd\n",
    "import numpy as np\n",
    "import matplotlib.pyplot as plt\n",
    "import seaborn as sns\n",
    "from sklearn.model_selection import train_test_split\n",
    "from torch.utils.data import Dataset, DataLoader\n",
    "from sklearn.preprocessing import OneHotEncoder\n",
    "import torchvision.transforms.functional as fn\n",
    "from torch import nn\n",
    "import torch.nn.functional as F\n",
    "import wandb\n",
    "import torch.optim as optim\n",
    "from tqdm import tqdm\n",
    "import sys\n",
    "import autoreload\n",
    "%load_ext autoreload\n",
    "%autoreload 2\n",
    "sys.path.append('../scripts/')\n",
    "from save_model_every_epoch_torch import save_model\n",
    "import warnings\n",
    "warnings.filterwarnings(\"ignore\")\n",
    "from metrics import find_metrics, find_metrics_macro\n",
    "from save_model_every_epoch_torch import save_model"
   ]
  },
  {
   "cell_type": "code",
   "execution_count": 2,
   "metadata": {},
   "outputs": [],
   "source": [
    "multiple_gpus = True\n",
    "if torch.cuda.is_available():\n",
    "    if torch.cuda.device_count() > 1:\n",
    "        multiple_gpus = True\n",
    "    device = torch.device(\"cuda:0\" if torch.cuda.is_available() else \"cpu\")"
   ]
  },
  {
   "cell_type": "code",
   "execution_count": 3,
   "metadata": {},
   "outputs": [],
   "source": [
    "csv_file = pd.read_csv('../../files/train.csv')\n",
    "csv_file['updated_paths'] = csv_file['image'].apply(lambda x: '../../files/train_images/' + x)"
   ]
  },
  {
   "cell_type": "code",
   "execution_count": 4,
   "metadata": {},
   "outputs": [],
   "source": [
    "def split_datasets(csv_file, test_size):\n",
    "    train, test = train_test_split(csv_file, test_size=test_size)\n",
    "    train, val = train_test_split(train, test_size=test_size)\n",
    "    return train, val, test"
   ]
  },
  {
   "cell_type": "code",
   "execution_count": 5,
   "metadata": {},
   "outputs": [],
   "source": [
    "def encoding_data(csv_data):\n",
    "    labels = csv_data['species'].values.tolist()\n",
    "    encoder = OneHotEncoder()\n",
    "    encoder = encoder.fit(np.array(labels).reshape(-1, 1))\n",
    "    return encoder"
   ]
  },
  {
   "cell_type": "code",
   "execution_count": 6,
   "metadata": {},
   "outputs": [],
   "source": [
    "encoder = encoding_data(csv_file)"
   ]
  },
  {
   "cell_type": "code",
   "execution_count": 7,
   "metadata": {},
   "outputs": [],
   "source": [
    "class DolphinDataset(Dataset):\n",
    "    def __init__(self, csv_file, encoder):\n",
    "        self.csv_file = csv_file\n",
    "        self.images = csv_file['updated_paths'].values.tolist()\n",
    "        self.labels = csv_file['species'].values.tolist()\n",
    "        self.encoder = encoder\n",
    "        self.encoded_labels = self.encoder.transform(np.array(self.labels).reshape(-1, 1)).toarray()\n",
    "        self.convert_rgb = torchvision.transforms.Lambda(lambda x: x.repeat(3, 1, 1))\n",
    "\n",
    "    def __len__(self):\n",
    "        return len(self.csv_file)\n",
    "\n",
    "    def __getitem__(self, idx):\n",
    "        img = torchvision.io.read_file(self.images[idx])\n",
    "        img = torchvision.io.decode_jpeg(img)\n",
    "        if img.shape[0] != 3:\n",
    "            img = self.convert_rgb(img)\n",
    "        img = torchvision.transforms.functional.resize(img, (512, 512))\n",
    "        img = img / 255.0\n",
    "        return img, torch.Tensor(self.encoded_labels[idx])"
   ]
  },
  {
   "cell_type": "code",
   "execution_count": 8,
   "metadata": {},
   "outputs": [],
   "source": [
    "train, val, test = split_datasets(csv_file, test_size = 0.01)"
   ]
  },
  {
   "cell_type": "code",
   "execution_count": 9,
   "metadata": {},
   "outputs": [],
   "source": [
    "# incep_model = torch.hub.load('pytorch/vision:v0.10.0', 'inception_v3', pretrained = False)"
   ]
  },
  {
   "cell_type": "code",
   "execution_count": 10,
   "metadata": {},
   "outputs": [],
   "source": [
    "def get_model():\n",
    "    incep_model = torch.hub.load('pytorch/vision:v0.10.0', 'inception_v3', pretrained = False)\n",
    "    incep_model.fc = nn.Linear(2048, 30)\n",
    "    return incep_model"
   ]
  },
  {
   "cell_type": "code",
   "execution_count": 11,
   "metadata": {},
   "outputs": [],
   "source": [
    "categorical_cross_entropy = nn.CrossEntropyLoss()"
   ]
  },
  {
   "cell_type": "markdown",
   "metadata": {},
   "source": [
    "Without momentum changes"
   ]
  },
  {
   "cell_type": "code",
   "execution_count": 12,
   "metadata": {},
   "outputs": [],
   "source": [
    "def train_model(train_dataset, val_dataset, epochs, batch_size, load_weights=None):\n",
    "    model = get_model()\n",
    "    wandb.init(project='dolphin',\n",
    "               config = {\n",
    "                   'arch' : 'InceptionV4',\n",
    "               })\n",
    "    data_pointers = {\n",
    "        'train' : train_dataset,\n",
    "        'val' : val_dataset,\n",
    "    }\n",
    "    if load_weights != None:\n",
    "        model.load_state_dict(torch.load(load_weights)['model_state_dict'])\n",
    "    optimizer = optim.SGD(model.parameters(), lr=0.001)\n",
    "    if next(model.parameters()).is_cuda == False:\n",
    "        if multiple_gpus == True:\n",
    "            model = nn.DataParallel(model)\n",
    "        model = model.to(device)\n",
    "    for epoch in range(epochs):\n",
    "        train_loss= 0.0\n",
    "        train_prec, train_rec = 0.0, 0.0\n",
    "        val_loss = 0.0\n",
    "        val_prec, val_rec = 0.0, 0.0\n",
    "        for phase in ['train', 'val']:\n",
    "            if phase == 'train':\n",
    "                model.train()\n",
    "            else:\n",
    "                model.eval()\n",
    "            running_loss, running_precision, running_recall = 0.0, 0.0, 0.0\n",
    "            with tqdm(data_pointers[phase], unit='batch') as tepoch:\n",
    "                for imgs, labels in tepoch:\n",
    "                    tepoch.set_description(f'Epoch: {epoch}')\n",
    "                    imgs = imgs.to(device)\n",
    "                    labels = labels.to(device)\n",
    "                    optimizer.zero_grad()\n",
    "                    with torch.set_grad_enabled(phase == 'train'):\n",
    "                        if phase == 'train':\n",
    "                            outputs = model(imgs)[0]\n",
    "                        else:\n",
    "                            outputs = model(imgs)\n",
    "                        loss = categorical_cross_entropy(outputs, labels)\n",
    "                        prec, rec = find_metrics_macro(outputs, labels, batch_size=batch_size)\n",
    "                        if phase == 'train':\n",
    "                            loss.backward()\n",
    "                            optimizer.step()\n",
    "                    running_loss += loss.item()\n",
    "                    running_precision += prec.item()\n",
    "                    running_recall += rec.item()\n",
    "                    tepoch.set_postfix(loss = loss.item(), precision = prec.item(), recall = rec.item())\n",
    "            if phase == 'train':\n",
    "                train_loss = running_loss / len(train_dataset)\n",
    "                train_prec = running_precision / len(train_dataset)\n",
    "                train_rec = running_recall / len(train_dataset)\n",
    "                print(f'{phase} Loss: {float(train_loss)}')\n",
    "                print(f'{phase} Precision: {float(train_prec)}')\n",
    "                print(f'{phase} Recall: {float(train_rec)}')\n",
    "            else:\n",
    "                val_loss = running_loss / len(val_dataset)\n",
    "                val_prec = running_precision / len(val_dataset)\n",
    "                val_rec = running_recall / len(val_dataset)\n",
    "                print(f'{phase} Loss: {float(val_loss)}')\n",
    "                print(f'{phase} Precision: {float(val_prec)}')\n",
    "                print(f'{phase} Recall: {float(val_rec)}')\n",
    "        wandb.log({\n",
    "            'train_loss' : train_loss,\n",
    "            'val_loss' : val_loss,\n",
    "            'train_precision' : train_prec,\n",
    "            'train_recall' : train_rec,\n",
    "            'val_precision' : val_prec,\n",
    "            'val_recall' : val_rec\n",
    "        })"
   ]
  },
  {
   "cell_type": "code",
   "execution_count": 13,
   "metadata": {},
   "outputs": [
    {
     "name": "stderr",
     "output_type": "stream",
     "text": [
      "Using cache found in /home/ubuntu/.cache/torch/hub/pytorch_vision_v0.10.0\n",
      "Failed to detect the name of this notebook, you can set it manually with the WANDB_NOTEBOOK_NAME environment variable to enable code saving.\n",
      "\u001b[34m\u001b[1mwandb\u001b[0m: Currently logged in as: \u001b[33myashchks87\u001b[0m. Use \u001b[1m`wandb login --relogin`\u001b[0m to force relogin\n"
     ]
    },
    {
     "data": {
      "text/html": [
       "Tracking run with wandb version 0.15.8"
      ],
      "text/plain": [
       "<IPython.core.display.HTML object>"
      ]
     },
     "metadata": {},
     "output_type": "display_data"
    },
    {
     "data": {
      "text/html": [
       "Run data is saved locally in <code>/home/ubuntu/dolphin_classification/notebooks/wandb/run-20230814_194451-qwsgdeyi</code>"
      ],
      "text/plain": [
       "<IPython.core.display.HTML object>"
      ]
     },
     "metadata": {},
     "output_type": "display_data"
    },
    {
     "data": {
      "text/html": [
       "Syncing run <strong><a href='https://wandb.ai/yashchks87/dolphin/runs/qwsgdeyi' target=\"_blank\">absurd-energy-57</a></strong> to <a href='https://wandb.ai/yashchks87/dolphin' target=\"_blank\">Weights & Biases</a> (<a href='https://wandb.me/run' target=\"_blank\">docs</a>)<br/>"
      ],
      "text/plain": [
       "<IPython.core.display.HTML object>"
      ]
     },
     "metadata": {},
     "output_type": "display_data"
    },
    {
     "data": {
      "text/html": [
       " View project at <a href='https://wandb.ai/yashchks87/dolphin' target=\"_blank\">https://wandb.ai/yashchks87/dolphin</a>"
      ],
      "text/plain": [
       "<IPython.core.display.HTML object>"
      ]
     },
     "metadata": {},
     "output_type": "display_data"
    },
    {
     "data": {
      "text/html": [
       " View run at <a href='https://wandb.ai/yashchks87/dolphin/runs/qwsgdeyi' target=\"_blank\">https://wandb.ai/yashchks87/dolphin/runs/qwsgdeyi</a>"
      ],
      "text/plain": [
       "<IPython.core.display.HTML object>"
      ]
     },
     "metadata": {},
     "output_type": "display_data"
    },
    {
     "name": "stderr",
     "output_type": "stream",
     "text": [
      "Epoch: 0:   6%|▌         | 13/220 [00:54<14:29,  4.20s/batch, loss=3.29, precision=0.0513, recall=0.0224]   \n"
     ]
    },
    {
     "ename": "KeyboardInterrupt",
     "evalue": "",
     "output_type": "error",
     "traceback": [
      "\u001b[0;31m---------------------------------------------------------------------------\u001b[0m",
      "\u001b[0;31mKeyboardInterrupt\u001b[0m                         Traceback (most recent call last)",
      "\u001b[0;32m<ipython-input-13-a8e64c97a642>\u001b[0m in \u001b[0;36m<module>\u001b[0;34m\u001b[0m\n\u001b[1;32m      4\u001b[0m \u001b[0mtrain_dataloader\u001b[0m \u001b[0;34m=\u001b[0m \u001b[0mDataLoader\u001b[0m\u001b[0;34m(\u001b[0m\u001b[0mtrain_dataset\u001b[0m\u001b[0;34m,\u001b[0m \u001b[0mbatch_size\u001b[0m \u001b[0;34m=\u001b[0m \u001b[0mbatch_size\u001b[0m\u001b[0;34m,\u001b[0m \u001b[0mshuffle\u001b[0m \u001b[0;34m=\u001b[0m \u001b[0;32mTrue\u001b[0m\u001b[0;34m,\u001b[0m \u001b[0mnum_workers\u001b[0m \u001b[0;34m=\u001b[0m \u001b[0;36m24\u001b[0m\u001b[0;34m,\u001b[0m \u001b[0mprefetch_factor\u001b[0m\u001b[0;34m=\u001b[0m\u001b[0;36m2\u001b[0m\u001b[0;34m)\u001b[0m\u001b[0;34m\u001b[0m\u001b[0;34m\u001b[0m\u001b[0m\n\u001b[1;32m      5\u001b[0m \u001b[0mval_dataloader\u001b[0m \u001b[0;34m=\u001b[0m \u001b[0mDataLoader\u001b[0m\u001b[0;34m(\u001b[0m\u001b[0mval_dataset\u001b[0m\u001b[0;34m,\u001b[0m \u001b[0mbatch_size\u001b[0m \u001b[0;34m=\u001b[0m \u001b[0mbatch_size\u001b[0m\u001b[0;34m,\u001b[0m \u001b[0mshuffle\u001b[0m \u001b[0;34m=\u001b[0m \u001b[0;32mFalse\u001b[0m\u001b[0;34m,\u001b[0m \u001b[0mnum_workers\u001b[0m \u001b[0;34m=\u001b[0m \u001b[0;36m24\u001b[0m\u001b[0;34m,\u001b[0m \u001b[0mprefetch_factor\u001b[0m\u001b[0;34m=\u001b[0m\u001b[0;36m2\u001b[0m\u001b[0;34m)\u001b[0m\u001b[0;34m\u001b[0m\u001b[0;34m\u001b[0m\u001b[0m\n\u001b[0;32m----> 6\u001b[0;31m \u001b[0mtrain_model\u001b[0m\u001b[0;34m(\u001b[0m\u001b[0mtrain_dataloader\u001b[0m\u001b[0;34m,\u001b[0m \u001b[0mval_dataloader\u001b[0m\u001b[0;34m,\u001b[0m \u001b[0mbatch_size\u001b[0m\u001b[0;34m=\u001b[0m\u001b[0mbatch_size\u001b[0m\u001b[0;34m,\u001b[0m \u001b[0mepochs\u001b[0m\u001b[0;34m=\u001b[0m\u001b[0;36m50\u001b[0m\u001b[0;34m)\u001b[0m\u001b[0;34m\u001b[0m\u001b[0;34m\u001b[0m\u001b[0m\n\u001b[0m",
      "\u001b[0;32m<ipython-input-12-80dd59f8fb44>\u001b[0m in \u001b[0;36mtrain_model\u001b[0;34m(train_dataset, val_dataset, epochs, batch_size, load_weights)\u001b[0m\n\u001b[1;32m     43\u001b[0m                             \u001b[0mloss\u001b[0m\u001b[0;34m.\u001b[0m\u001b[0mbackward\u001b[0m\u001b[0;34m(\u001b[0m\u001b[0;34m)\u001b[0m\u001b[0;34m\u001b[0m\u001b[0;34m\u001b[0m\u001b[0m\n\u001b[1;32m     44\u001b[0m                             \u001b[0moptimizer\u001b[0m\u001b[0;34m.\u001b[0m\u001b[0mstep\u001b[0m\u001b[0;34m(\u001b[0m\u001b[0;34m)\u001b[0m\u001b[0;34m\u001b[0m\u001b[0;34m\u001b[0m\u001b[0m\n\u001b[0;32m---> 45\u001b[0;31m                     \u001b[0mrunning_loss\u001b[0m \u001b[0;34m+=\u001b[0m \u001b[0mloss\u001b[0m\u001b[0;34m.\u001b[0m\u001b[0mitem\u001b[0m\u001b[0;34m(\u001b[0m\u001b[0;34m)\u001b[0m\u001b[0;34m\u001b[0m\u001b[0;34m\u001b[0m\u001b[0m\n\u001b[0m\u001b[1;32m     46\u001b[0m                     \u001b[0mrunning_precision\u001b[0m \u001b[0;34m+=\u001b[0m \u001b[0mprec\u001b[0m\u001b[0;34m.\u001b[0m\u001b[0mitem\u001b[0m\u001b[0;34m(\u001b[0m\u001b[0;34m)\u001b[0m\u001b[0;34m\u001b[0m\u001b[0;34m\u001b[0m\u001b[0m\n\u001b[1;32m     47\u001b[0m                     \u001b[0mrunning_recall\u001b[0m \u001b[0;34m+=\u001b[0m \u001b[0mrec\u001b[0m\u001b[0;34m.\u001b[0m\u001b[0mitem\u001b[0m\u001b[0;34m(\u001b[0m\u001b[0;34m)\u001b[0m\u001b[0;34m\u001b[0m\u001b[0;34m\u001b[0m\u001b[0m\n",
      "\u001b[0;31mKeyboardInterrupt\u001b[0m: "
     ]
    }
   ],
   "source": [
    "batch_size = 228\n",
    "train_dataset = DolphinDataset(train, encoder)\n",
    "val_dataset = DolphinDataset(val, encoder)\n",
    "train_dataloader = DataLoader(train_dataset, batch_size = batch_size, shuffle = True, num_workers = 24, prefetch_factor=2)\n",
    "val_dataloader = DataLoader(val_dataset, batch_size = batch_size, shuffle = False, num_workers = 24, prefetch_factor=2)\n",
    "train_model(train_dataloader, val_dataloader, batch_size=batch_size, epochs=50)"
   ]
  },
  {
   "cell_type": "code",
   "execution_count": 13,
   "metadata": {},
   "outputs": [],
   "source": [
    "def train_model(train_dataset, val_dataset, epochs, batch_size, weights_path, load_weights=None):\n",
    "    model = get_model()\n",
    "    wandb.init(project='dolphin',\n",
    "               config = {\n",
    "                   'arch' : 'InceptionV4',\n",
    "               })\n",
    "    data_pointers = {\n",
    "        'train' : train_dataset,\n",
    "        'val' : val_dataset,\n",
    "    }\n",
    "    if load_weights != None:\n",
    "        model.load_state_dict(torch.load(load_weights)['model_state_dict'])\n",
    "    optimizer = optim.SGD(model.parameters(), lr=0.001, momentum = 0.5)\n",
    "    if next(model.parameters()).is_cuda == False:\n",
    "        if multiple_gpus == True:\n",
    "            model = nn.DataParallel(model)\n",
    "        model = model.to(device)\n",
    "    for epoch in range(epochs):\n",
    "        train_loss= 0.0\n",
    "        train_prec, train_rec = 0.0, 0.0\n",
    "        val_loss = 0.0\n",
    "        val_prec, val_rec = 0.0, 0.0\n",
    "        for phase in ['train', 'val']:\n",
    "            if phase == 'train':\n",
    "                model.train()\n",
    "            else:\n",
    "                model.eval()\n",
    "            running_loss, running_precision, running_recall = 0.0, 0.0, 0.0\n",
    "            with tqdm(data_pointers[phase], unit='batch') as tepoch:\n",
    "                for imgs, labels in tepoch:\n",
    "                    tepoch.set_description(f'Epoch: {epoch}')\n",
    "                    imgs = imgs.to(device)\n",
    "                    labels = labels.to(device)\n",
    "                    optimizer.zero_grad()\n",
    "                    with torch.set_grad_enabled(phase == 'train'):\n",
    "                        if phase == 'train':\n",
    "                            outputs = model(imgs)[0]\n",
    "                        else:\n",
    "                            outputs = model(imgs)\n",
    "                        loss = categorical_cross_entropy(outputs, labels)\n",
    "                        prec, rec = find_metrics_macro(outputs, labels, batch_size=batch_size)\n",
    "                        if phase == 'train':\n",
    "                            loss.backward()\n",
    "                            optimizer.step()\n",
    "                    running_loss += loss.item()\n",
    "                    running_precision += prec.item()\n",
    "                    running_recall += rec.item()\n",
    "                    tepoch.set_postfix(loss = loss.item(), precision = prec.item(), recall = rec.item())\n",
    "            if phase == 'train':\n",
    "                train_loss = running_loss / len(train_dataset)\n",
    "                train_prec = running_precision / len(train_dataset)\n",
    "                train_rec = running_recall / len(train_dataset)\n",
    "                print(f'{phase} Loss: {float(train_loss)}')\n",
    "                print(f'{phase} Precision: {float(train_prec)}')\n",
    "                print(f'{phase} Recall: {float(train_rec)}')\n",
    "            else:\n",
    "                val_loss = running_loss / len(val_dataset)\n",
    "                val_prec = running_precision / len(val_dataset)\n",
    "                val_rec = running_recall / len(val_dataset)\n",
    "                print(f'{phase} Loss: {float(val_loss)}')\n",
    "                print(f'{phase} Precision: {float(val_prec)}')\n",
    "                print(f'{phase} Recall: {float(val_rec)}')\n",
    "        wandb.log({\n",
    "            'train_loss' : train_loss,\n",
    "            'val_loss' : val_loss,\n",
    "            'train_precision' : train_prec,\n",
    "            'train_recall' : train_rec,\n",
    "            'val_precision' : val_prec,\n",
    "            'val_recall' : val_rec\n",
    "        })\n",
    "    save_model(model, epoch, optimizer, multiple_gpus, weights_path)"
   ]
  },
  {
   "cell_type": "code",
   "execution_count": 13,
   "metadata": {},
   "outputs": [
    {
     "name": "stderr",
     "output_type": "stream",
     "text": [
      "Using cache found in /home/ubuntu/.cache/torch/hub/pytorch_vision_v0.10.0\n",
      "Failed to detect the name of this notebook, you can set it manually with the WANDB_NOTEBOOK_NAME environment variable to enable code saving.\n",
      "\u001b[34m\u001b[1mwandb\u001b[0m: Currently logged in as: \u001b[33myashchks87\u001b[0m. Use \u001b[1m`wandb login --relogin`\u001b[0m to force relogin\n"
     ]
    },
    {
     "data": {
      "text/html": [
       "Tracking run with wandb version 0.15.8"
      ],
      "text/plain": [
       "<IPython.core.display.HTML object>"
      ]
     },
     "metadata": {},
     "output_type": "display_data"
    },
    {
     "data": {
      "text/html": [
       "Run data is saved locally in <code>/home/ubuntu/dolphin_classification/notebooks/wandb/run-20230814_031204-9edqd4vj</code>"
      ],
      "text/plain": [
       "<IPython.core.display.HTML object>"
      ]
     },
     "metadata": {},
     "output_type": "display_data"
    },
    {
     "data": {
      "text/html": [
       "Syncing run <strong><a href='https://wandb.ai/yashchks87/dolphin/runs/9edqd4vj' target=\"_blank\">elated-cherry-54</a></strong> to <a href='https://wandb.ai/yashchks87/dolphin' target=\"_blank\">Weights & Biases</a> (<a href='https://wandb.me/run' target=\"_blank\">docs</a>)<br/>"
      ],
      "text/plain": [
       "<IPython.core.display.HTML object>"
      ]
     },
     "metadata": {},
     "output_type": "display_data"
    },
    {
     "data": {
      "text/html": [
       " View project at <a href='https://wandb.ai/yashchks87/dolphin' target=\"_blank\">https://wandb.ai/yashchks87/dolphin</a>"
      ],
      "text/plain": [
       "<IPython.core.display.HTML object>"
      ]
     },
     "metadata": {},
     "output_type": "display_data"
    },
    {
     "data": {
      "text/html": [
       " View run at <a href='https://wandb.ai/yashchks87/dolphin/runs/9edqd4vj' target=\"_blank\">https://wandb.ai/yashchks87/dolphin/runs/9edqd4vj</a>"
      ],
      "text/plain": [
       "<IPython.core.display.HTML object>"
      ]
     },
     "metadata": {},
     "output_type": "display_data"
    },
    {
     "name": "stderr",
     "output_type": "stream",
     "text": [
      "Epoch: 0: 100%|██████████| 220/220 [04:51<00:00,  1.33s/batch, loss=2.84, precision=0.045, recall=0.0439]   \n"
     ]
    },
    {
     "name": "stdout",
     "output_type": "stream",
     "text": [
      "train Loss: 2.7969882011413576\n",
      "train Precision: 0.039749644087119534\n",
      "train Recall: 0.02622244343669577\n"
     ]
    },
    {
     "name": "stderr",
     "output_type": "stream",
     "text": [
      "Epoch: 0: 100%|██████████| 3/3 [00:14<00:00,  4.98s/batch, loss=2.45, precision=0.0467, recall=0.0267]\n"
     ]
    },
    {
     "name": "stdout",
     "output_type": "stream",
     "text": [
      "val Loss: 2.5681925614674888\n",
      "val Precision: 0.04708056027690569\n",
      "val Recall: 0.019407511688768864\n"
     ]
    },
    {
     "name": "stderr",
     "output_type": "stream",
     "text": [
      "Epoch: 1: 100%|██████████| 220/220 [04:47<00:00,  1.31s/batch, loss=2.57, precision=0.0506, recall=0.0221]\n"
     ]
    },
    {
     "name": "stdout",
     "output_type": "stream",
     "text": [
      "train Loss: 2.58978397954594\n",
      "train Precision: 0.05110186655074358\n",
      "train Recall: 0.030761485860090365\n"
     ]
    },
    {
     "name": "stderr",
     "output_type": "stream",
     "text": [
      "Epoch: 1: 100%|██████████| 3/3 [00:15<00:00,  5.00s/batch, loss=2.32, precision=0.0513, recall=0.0293]\n"
     ]
    },
    {
     "name": "stdout",
     "output_type": "stream",
     "text": [
      "val Loss: 2.452410618464152\n",
      "val Precision: 0.05303389330705007\n",
      "val Recall: 0.026021505395571392\n"
     ]
    },
    {
     "name": "stderr",
     "output_type": "stream",
     "text": [
      "Epoch: 2: 100%|██████████| 220/220 [04:46<00:00,  1.30s/batch, loss=2.56, precision=0.0656, recall=0.0328]\n"
     ]
    },
    {
     "name": "stdout",
     "output_type": "stream",
     "text": [
      "train Loss: 2.4976296934214504\n",
      "train Precision: 0.05924900048835711\n",
      "train Recall: 0.03802751169793985\n"
     ]
    },
    {
     "name": "stderr",
     "output_type": "stream",
     "text": [
      "Epoch: 2: 100%|██████████| 3/3 [00:15<00:00,  5.01s/batch, loss=2.21, precision=0.0573, recall=0.0394]\n"
     ]
    },
    {
     "name": "stdout",
     "output_type": "stream",
     "text": [
      "val Loss: 2.37691330909729\n",
      "val Precision: 0.06124398981531461\n",
      "val Recall: 0.03186661936342716\n"
     ]
    },
    {
     "name": "stderr",
     "output_type": "stream",
     "text": [
      "Epoch: 3: 100%|██████████| 220/220 [04:47<00:00,  1.31s/batch, loss=2.17, precision=0.0584, recall=0.035] \n"
     ]
    },
    {
     "name": "stdout",
     "output_type": "stream",
     "text": [
      "train Loss: 2.4166222615675492\n",
      "train Precision: 0.0647430414503271\n",
      "train Recall: 0.0467747737230225\n"
     ]
    },
    {
     "name": "stderr",
     "output_type": "stream",
     "text": [
      "Epoch: 3: 100%|██████████| 3/3 [00:15<00:00,  5.01s/batch, loss=2.17, precision=0.0715, recall=0.048] \n"
     ]
    },
    {
     "name": "stdout",
     "output_type": "stream",
     "text": [
      "val Loss: 2.317617416381836\n",
      "val Precision: 0.06903856992721558\n",
      "val Recall: 0.05282052606344223\n"
     ]
    },
    {
     "name": "stderr",
     "output_type": "stream",
     "text": [
      "Epoch: 4: 100%|██████████| 220/220 [04:48<00:00,  1.31s/batch, loss=2.5, precision=0.0735, recall=0.0689] \n"
     ]
    },
    {
     "name": "stdout",
     "output_type": "stream",
     "text": [
      "train Loss: 2.3447845751588994\n",
      "train Precision: 0.07023982166905295\n",
      "train Recall: 0.05690143326805396\n"
     ]
    },
    {
     "name": "stderr",
     "output_type": "stream",
     "text": [
      "Epoch: 4: 100%|██████████| 3/3 [00:15<00:00,  5.02s/batch, loss=2.11, precision=0.073, recall=0.0521]\n"
     ]
    },
    {
     "name": "stdout",
     "output_type": "stream",
     "text": [
      "val Loss: 2.2573251724243164\n",
      "val Precision: 0.07250552376111348\n",
      "val Recall: 0.049413771679004036\n"
     ]
    },
    {
     "name": "stderr",
     "output_type": "stream",
     "text": [
      "Epoch: 5: 100%|██████████| 220/220 [04:47<00:00,  1.31s/batch, loss=2.05, precision=0.0701, recall=0.0511]\n"
     ]
    },
    {
     "name": "stdout",
     "output_type": "stream",
     "text": [
      "train Loss: 2.2764042800123043\n",
      "train Precision: 0.07782917886295102\n",
      "train Recall: 0.0666937037117102\n"
     ]
    },
    {
     "name": "stderr",
     "output_type": "stream",
     "text": [
      "Epoch: 5: 100%|██████████| 3/3 [00:15<00:00,  5.08s/batch, loss=2.06, precision=0.064, recall=0.0489] \n"
     ]
    },
    {
     "name": "stdout",
     "output_type": "stream",
     "text": [
      "val Loss: 2.191635767618815\n",
      "val Precision: 0.07558932900428772\n",
      "val Recall: 0.06235760450363159\n"
     ]
    },
    {
     "name": "stderr",
     "output_type": "stream",
     "text": [
      "Epoch: 6: 100%|██████████| 220/220 [04:48<00:00,  1.31s/batch, loss=2.04, precision=0.0906, recall=0.0725]\n"
     ]
    },
    {
     "name": "stdout",
     "output_type": "stream",
     "text": [
      "train Loss: 2.2143393662842836\n",
      "train Precision: 0.08789547878232869\n",
      "train Recall: 0.0700718042017384\n"
     ]
    },
    {
     "name": "stderr",
     "output_type": "stream",
     "text": [
      "Epoch: 6: 100%|██████████| 3/3 [00:15<00:00,  5.03s/batch, loss=2.04, precision=0.0888, recall=0.0759]\n"
     ]
    },
    {
     "name": "stdout",
     "output_type": "stream",
     "text": [
      "val Loss: 2.162494738896688\n",
      "val Precision: 0.08930513759454091\n",
      "val Recall: 0.06811838721235593\n"
     ]
    },
    {
     "name": "stderr",
     "output_type": "stream",
     "text": [
      "Epoch: 7: 100%|██████████| 220/220 [04:49<00:00,  1.32s/batch, loss=1.91, precision=0.117, recall=0.0889] \n"
     ]
    },
    {
     "name": "stdout",
     "output_type": "stream",
     "text": [
      "train Loss: 2.1542862355709076\n",
      "train Precision: 0.09839823571118442\n",
      "train Recall: 0.07399940487336029\n"
     ]
    },
    {
     "name": "stderr",
     "output_type": "stream",
     "text": [
      "Epoch: 7: 100%|██████████| 3/3 [00:15<00:00,  5.05s/batch, loss=1.97, precision=0.103, recall=0.0808]\n"
     ]
    },
    {
     "name": "stdout",
     "output_type": "stream",
     "text": [
      "val Loss: 2.094914714495341\n",
      "val Precision: 0.10125897079706192\n",
      "val Recall: 0.07268837839365005\n"
     ]
    },
    {
     "name": "stderr",
     "output_type": "stream",
     "text": [
      "Epoch: 8: 100%|██████████| 220/220 [04:48<00:00,  1.31s/batch, loss=1.93, precision=0.113, recall=0.077]  \n"
     ]
    },
    {
     "name": "stdout",
     "output_type": "stream",
     "text": [
      "train Loss: 2.0936555244705892\n",
      "train Precision: 0.107507506927306\n",
      "train Recall: 0.08115911795334382\n"
     ]
    },
    {
     "name": "stderr",
     "output_type": "stream",
     "text": [
      "Epoch: 8: 100%|██████████| 3/3 [00:15<00:00,  5.01s/batch, loss=1.98, precision=0.0869, recall=0.0767]\n"
     ]
    },
    {
     "name": "stdout",
     "output_type": "stream",
     "text": [
      "val Loss: 2.0848257144292197\n",
      "val Precision: 0.09727175533771515\n",
      "val Recall: 0.0803522914648056\n"
     ]
    },
    {
     "name": "stderr",
     "output_type": "stream",
     "text": [
      "Epoch: 9: 100%|██████████| 220/220 [04:48<00:00,  1.31s/batch, loss=2.1, precision=0.114, recall=0.0677]  \n"
     ]
    },
    {
     "name": "stdout",
     "output_type": "stream",
     "text": [
      "train Loss: 2.033145119927146\n",
      "train Precision: 0.11547396430237726\n",
      "train Recall: 0.08950718392364003\n"
     ]
    },
    {
     "name": "stderr",
     "output_type": "stream",
     "text": [
      "Epoch: 9: 100%|██████████| 3/3 [00:15<00:00,  5.02s/batch, loss=1.97, precision=0.0774, recall=0.0713]\n"
     ]
    },
    {
     "name": "stdout",
     "output_type": "stream",
     "text": [
      "val Loss: 2.049856424331665\n",
      "val Precision: 0.09754876047372818\n",
      "val Recall: 0.07494515180587769\n"
     ]
    },
    {
     "name": "stderr",
     "output_type": "stream",
     "text": [
      "Epoch: 10: 100%|██████████| 220/220 [04:48<00:00,  1.31s/batch, loss=1.74, precision=0.121, recall=0.0908] \n"
     ]
    },
    {
     "name": "stdout",
     "output_type": "stream",
     "text": [
      "train Loss: 1.9797888002612374\n",
      "train Precision: 0.12433368983593854\n",
      "train Recall: 0.0995673502033407\n"
     ]
    },
    {
     "name": "stderr",
     "output_type": "stream",
     "text": [
      "Epoch: 10: 100%|██████████| 3/3 [00:15<00:00,  5.00s/batch, loss=2.03, precision=0.0946, recall=0.09]\n"
     ]
    },
    {
     "name": "stdout",
     "output_type": "stream",
     "text": [
      "val Loss: 2.0813356240590415\n",
      "val Precision: 0.11295926570892334\n",
      "val Recall: 0.11276597778002422\n"
     ]
    },
    {
     "name": "stderr",
     "output_type": "stream",
     "text": [
      "Epoch: 11: 100%|██████████| 220/220 [04:47<00:00,  1.31s/batch, loss=2.08, precision=0.106, recall=0.0909]\n"
     ]
    },
    {
     "name": "stdout",
     "output_type": "stream",
     "text": [
      "train Loss: 1.9275300573218952\n",
      "train Precision: 0.13136023211885584\n",
      "train Recall: 0.10743616514585234\n"
     ]
    },
    {
     "name": "stderr",
     "output_type": "stream",
     "text": [
      "Epoch: 11: 100%|██████████| 3/3 [00:15<00:00,  5.01s/batch, loss=1.91, precision=0.14, recall=0.14]   \n"
     ]
    },
    {
     "name": "stdout",
     "output_type": "stream",
     "text": [
      "val Loss: 2.0204105377197266\n",
      "val Precision: 0.12350638955831528\n",
      "val Recall: 0.11144798745711644\n"
     ]
    },
    {
     "name": "stderr",
     "output_type": "stream",
     "text": [
      "Epoch: 12: 100%|██████████| 220/220 [04:48<00:00,  1.31s/batch, loss=2.02, precision=0.172, recall=0.112] \n"
     ]
    },
    {
     "name": "stdout",
     "output_type": "stream",
     "text": [
      "train Loss: 1.8780048668384552\n",
      "train Precision: 0.13909589082679966\n",
      "train Recall: 0.11590270616791465\n"
     ]
    },
    {
     "name": "stderr",
     "output_type": "stream",
     "text": [
      "Epoch: 12: 100%|██████████| 3/3 [00:15<00:00,  5.06s/batch, loss=1.92, precision=0.133, recall=0.122]\n"
     ]
    },
    {
     "name": "stdout",
     "output_type": "stream",
     "text": [
      "val Loss: 1.9349902470906575\n",
      "val Precision: 0.14138779044151306\n",
      "val Recall: 0.13341033458709717\n"
     ]
    },
    {
     "name": "stderr",
     "output_type": "stream",
     "text": [
      "Epoch: 13: 100%|██████████| 220/220 [04:47<00:00,  1.31s/batch, loss=1.71, precision=0.154, recall=0.134] \n"
     ]
    },
    {
     "name": "stdout",
     "output_type": "stream",
     "text": [
      "train Loss: 1.8283964883197437\n",
      "train Precision: 0.14703199389305982\n",
      "train Recall: 0.12550433159551838\n"
     ]
    },
    {
     "name": "stderr",
     "output_type": "stream",
     "text": [
      "Epoch: 13: 100%|██████████| 3/3 [00:15<00:00,  5.02s/batch, loss=1.89, precision=0.134, recall=0.116] \n"
     ]
    },
    {
     "name": "stdout",
     "output_type": "stream",
     "text": [
      "val Loss: 1.973928729693095\n",
      "val Precision: 0.12829149762789407\n",
      "val Recall: 0.10430594285329182\n"
     ]
    },
    {
     "name": "stderr",
     "output_type": "stream",
     "text": [
      "Epoch: 14: 100%|██████████| 220/220 [04:48<00:00,  1.31s/batch, loss=1.52, precision=0.137, recall=0.113] \n"
     ]
    },
    {
     "name": "stdout",
     "output_type": "stream",
     "text": [
      "train Loss: 1.7850071262229572\n",
      "train Precision: 0.1528459838845513\n",
      "train Recall: 0.13128524260087446\n"
     ]
    },
    {
     "name": "stderr",
     "output_type": "stream",
     "text": [
      "Epoch: 14: 100%|██████████| 3/3 [00:15<00:00,  5.03s/batch, loss=1.72, precision=0.124, recall=0.101]\n"
     ]
    },
    {
     "name": "stdout",
     "output_type": "stream",
     "text": [
      "val Loss: 1.783315618832906\n",
      "val Precision: 0.1407079150279363\n",
      "val Recall: 0.13230623304843903\n"
     ]
    },
    {
     "name": "stderr",
     "output_type": "stream",
     "text": [
      "Epoch: 15: 100%|██████████| 220/220 [04:49<00:00,  1.31s/batch, loss=1.5, precision=0.171, recall=0.173] \n"
     ]
    },
    {
     "name": "stdout",
     "output_type": "stream",
     "text": [
      "train Loss: 1.747668733921918\n",
      "train Precision: 0.1594586968421936\n",
      "train Recall: 0.14298557686534794\n"
     ]
    },
    {
     "name": "stderr",
     "output_type": "stream",
     "text": [
      "Epoch: 15: 100%|██████████| 3/3 [00:15<00:00,  5.00s/batch, loss=1.72, precision=0.133, recall=0.11] \n"
     ]
    },
    {
     "name": "stdout",
     "output_type": "stream",
     "text": [
      "val Loss: 1.739867130915324\n",
      "val Precision: 0.15956321358680725\n",
      "val Recall: 0.13870039830605188\n"
     ]
    },
    {
     "name": "stderr",
     "output_type": "stream",
     "text": [
      "Epoch: 16: 100%|██████████| 220/220 [04:46<00:00,  1.30s/batch, loss=1.75, precision=0.183, recall=0.15] \n"
     ]
    },
    {
     "name": "stdout",
     "output_type": "stream",
     "text": [
      "train Loss: 1.7087377233938736\n",
      "train Precision: 0.16542997217991134\n",
      "train Recall: 0.14970289411192592\n"
     ]
    },
    {
     "name": "stderr",
     "output_type": "stream",
     "text": [
      "Epoch: 16: 100%|██████████| 3/3 [00:15<00:00,  5.03s/batch, loss=1.65, precision=0.135, recall=0.109]\n"
     ]
    },
    {
     "name": "stdout",
     "output_type": "stream",
     "text": [
      "val Loss: 1.7408455610275269\n",
      "val Precision: 0.14168010155359903\n",
      "val Recall: 0.113135926425457\n"
     ]
    },
    {
     "name": "stderr",
     "output_type": "stream",
     "text": [
      "Epoch: 17: 100%|██████████| 220/220 [04:47<00:00,  1.31s/batch, loss=1.8, precision=0.144, recall=0.103] \n"
     ]
    },
    {
     "name": "stdout",
     "output_type": "stream",
     "text": [
      "train Loss: 1.6773359314961866\n",
      "train Precision: 0.16781554926525463\n",
      "train Recall: 0.150370479375124\n"
     ]
    },
    {
     "name": "stderr",
     "output_type": "stream",
     "text": [
      "Epoch: 17: 100%|██████████| 3/3 [00:15<00:00,  5.02s/batch, loss=1.81, precision=0.115, recall=0.0915]\n"
     ]
    },
    {
     "name": "stdout",
     "output_type": "stream",
     "text": [
      "val Loss: 1.8929004271825154\n",
      "val Precision: 0.13576676696538925\n",
      "val Recall: 0.1400620068113009\n"
     ]
    },
    {
     "name": "stderr",
     "output_type": "stream",
     "text": [
      "Epoch: 18: 100%|██████████| 220/220 [04:47<00:00,  1.30s/batch, loss=1.56, precision=0.149, recall=0.146]\n"
     ]
    },
    {
     "name": "stdout",
     "output_type": "stream",
     "text": [
      "train Loss: 1.6464716732501983\n",
      "train Precision: 0.17401897697286173\n",
      "train Recall: 0.15689836557615888\n"
     ]
    },
    {
     "name": "stderr",
     "output_type": "stream",
     "text": [
      "Epoch: 18: 100%|██████████| 3/3 [00:15<00:00,  5.03s/batch, loss=1.95, precision=0.123, recall=0.137]\n"
     ]
    },
    {
     "name": "stdout",
     "output_type": "stream",
     "text": [
      "val Loss: 2.0577863852183023\n",
      "val Precision: 0.124004860719045\n",
      "val Recall: 0.11432628085215886\n"
     ]
    },
    {
     "name": "stderr",
     "output_type": "stream",
     "text": [
      "Epoch: 19: 100%|██████████| 220/220 [04:48<00:00,  1.31s/batch, loss=1.67, precision=0.138, recall=0.112]\n"
     ]
    },
    {
     "name": "stdout",
     "output_type": "stream",
     "text": [
      "train Loss: 1.6188514032147148\n",
      "train Precision: 0.17727406201037493\n",
      "train Recall: 0.16198458038270475\n"
     ]
    },
    {
     "name": "stderr",
     "output_type": "stream",
     "text": [
      "Epoch: 19: 100%|██████████| 3/3 [00:15<00:00,  5.06s/batch, loss=2.01, precision=0.142, recall=0.134]\n"
     ]
    },
    {
     "name": "stdout",
     "output_type": "stream",
     "text": [
      "val Loss: 2.103964646657308\n",
      "val Precision: 0.1344470133384069\n",
      "val Recall: 0.12364811201890309\n"
     ]
    },
    {
     "name": "stderr",
     "output_type": "stream",
     "text": [
      "Epoch: 20: 100%|██████████| 220/220 [04:49<00:00,  1.31s/batch, loss=1.43, precision=0.187, recall=0.141]\n"
     ]
    },
    {
     "name": "stdout",
     "output_type": "stream",
     "text": [
      "train Loss: 1.5903474639762532\n",
      "train Precision: 0.18256291313604875\n",
      "train Recall: 0.16595385386185213\n"
     ]
    },
    {
     "name": "stderr",
     "output_type": "stream",
     "text": [
      "Epoch: 20: 100%|██████████| 3/3 [00:15<00:00,  5.02s/batch, loss=1.83, precision=0.158, recall=0.148] \n"
     ]
    },
    {
     "name": "stdout",
     "output_type": "stream",
     "text": [
      "val Loss: 1.9054710070292156\n",
      "val Precision: 0.14484277367591858\n",
      "val Recall: 0.1249556913971901\n"
     ]
    },
    {
     "name": "stderr",
     "output_type": "stream",
     "text": [
      "Epoch: 21: 100%|██████████| 220/220 [04:48<00:00,  1.31s/batch, loss=1.75, precision=0.154, recall=0.122]\n"
     ]
    },
    {
     "name": "stdout",
     "output_type": "stream",
     "text": [
      "train Loss: 1.568995009769093\n",
      "train Precision: 0.18575042154301297\n",
      "train Recall: 0.1707660064101219\n"
     ]
    },
    {
     "name": "stderr",
     "output_type": "stream",
     "text": [
      "Epoch: 21: 100%|██████████| 3/3 [00:15<00:00,  5.10s/batch, loss=1.77, precision=0.146, recall=0.12] \n"
     ]
    },
    {
     "name": "stdout",
     "output_type": "stream",
     "text": [
      "val Loss: 1.7694824536641438\n",
      "val Precision: 0.15987875560919443\n",
      "val Recall: 0.14437581350406012\n"
     ]
    },
    {
     "name": "stderr",
     "output_type": "stream",
     "text": [
      "Epoch: 22: 100%|██████████| 220/220 [04:48<00:00,  1.31s/batch, loss=1.34, precision=0.196, recall=0.169]\n"
     ]
    },
    {
     "name": "stdout",
     "output_type": "stream",
     "text": [
      "train Loss: 1.5418350409377706\n",
      "train Precision: 0.1907729332419959\n",
      "train Recall: 0.17690001902255145\n"
     ]
    },
    {
     "name": "stderr",
     "output_type": "stream",
     "text": [
      "Epoch: 22: 100%|██████████| 3/3 [00:15<00:00,  5.02s/batch, loss=1.7, precision=0.141, recall=0.152] \n"
     ]
    },
    {
     "name": "stdout",
     "output_type": "stream",
     "text": [
      "val Loss: 1.6757082144419353\n",
      "val Precision: 0.17027453581492105\n",
      "val Recall: 0.1778827259937922\n"
     ]
    },
    {
     "name": "stderr",
     "output_type": "stream",
     "text": [
      "Epoch: 23: 100%|██████████| 220/220 [04:47<00:00,  1.31s/batch, loss=1.52, precision=0.175, recall=0.188]\n"
     ]
    },
    {
     "name": "stdout",
     "output_type": "stream",
     "text": [
      "train Loss: 1.5246209036220204\n",
      "train Precision: 0.1952310900119218\n",
      "train Recall: 0.1805268786170266\n"
     ]
    },
    {
     "name": "stderr",
     "output_type": "stream",
     "text": [
      "Epoch: 23: 100%|██████████| 3/3 [00:15<00:00,  5.01s/batch, loss=1.68, precision=0.138, recall=0.11] \n"
     ]
    },
    {
     "name": "stdout",
     "output_type": "stream",
     "text": [
      "val Loss: 1.742872913678487\n",
      "val Precision: 0.15391142666339874\n",
      "val Recall: 0.13446296006441116\n"
     ]
    },
    {
     "name": "stderr",
     "output_type": "stream",
     "text": [
      "Epoch: 24: 100%|██████████| 220/220 [04:47<00:00,  1.31s/batch, loss=1.51, precision=0.208, recall=0.178]\n"
     ]
    },
    {
     "name": "stdout",
     "output_type": "stream",
     "text": [
      "train Loss: 1.50378685539419\n",
      "train Precision: 0.19778477210890164\n",
      "train Recall: 0.18133382607590068\n"
     ]
    },
    {
     "name": "stderr",
     "output_type": "stream",
     "text": [
      "Epoch: 24: 100%|██████████| 3/3 [00:15<00:00,  5.04s/batch, loss=1.55, precision=0.149, recall=0.152]\n"
     ]
    },
    {
     "name": "stdout",
     "output_type": "stream",
     "text": [
      "val Loss: 1.5651771624883015\n",
      "val Precision: 0.17936424414316812\n",
      "val Recall: 0.17996798952420553\n"
     ]
    },
    {
     "name": "stderr",
     "output_type": "stream",
     "text": [
      "Epoch: 25: 100%|██████████| 220/220 [04:47<00:00,  1.31s/batch, loss=1.49, precision=0.217, recall=0.198]\n"
     ]
    },
    {
     "name": "stdout",
     "output_type": "stream",
     "text": [
      "train Loss: 1.4835969361391934\n",
      "train Precision: 0.20236702344634316\n",
      "train Recall: 0.19129252176393163\n"
     ]
    },
    {
     "name": "stderr",
     "output_type": "stream",
     "text": [
      "Epoch: 25: 100%|██████████| 3/3 [00:15<00:00,  5.02s/batch, loss=1.55, precision=0.167, recall=0.16] \n"
     ]
    },
    {
     "name": "stdout",
     "output_type": "stream",
     "text": [
      "val Loss: 1.6966913938522339\n",
      "val Precision: 0.15755797425905863\n",
      "val Recall: 0.14711531003316244\n"
     ]
    },
    {
     "name": "stderr",
     "output_type": "stream",
     "text": [
      "Epoch: 26: 100%|██████████| 220/220 [04:47<00:00,  1.31s/batch, loss=1.47, precision=0.205, recall=0.178]\n"
     ]
    },
    {
     "name": "stdout",
     "output_type": "stream",
     "text": [
      "train Loss: 1.4631448604843833\n",
      "train Precision: 0.20486456670544365\n",
      "train Recall: 0.19409639997915787\n"
     ]
    },
    {
     "name": "stderr",
     "output_type": "stream",
     "text": [
      "Epoch: 26: 100%|██████████| 3/3 [00:15<00:00,  5.02s/batch, loss=1.52, precision=0.16, recall=0.175] \n"
     ]
    },
    {
     "name": "stdout",
     "output_type": "stream",
     "text": [
      "val Loss: 1.6017732222874959\n",
      "val Precision: 0.17403100430965424\n",
      "val Recall: 0.16517764329910278\n"
     ]
    },
    {
     "name": "stderr",
     "output_type": "stream",
     "text": [
      "Epoch: 27: 100%|██████████| 220/220 [04:47<00:00,  1.31s/batch, loss=1.34, precision=0.191, recall=0.141]\n"
     ]
    },
    {
     "name": "stdout",
     "output_type": "stream",
     "text": [
      "train Loss: 1.4461012038317593\n",
      "train Precision: 0.20639480887488884\n",
      "train Recall: 0.1975296609781005\n"
     ]
    },
    {
     "name": "stderr",
     "output_type": "stream",
     "text": [
      "Epoch: 27: 100%|██████████| 3/3 [00:15<00:00,  5.01s/batch, loss=1.85, precision=0.149, recall=0.133]\n"
     ]
    },
    {
     "name": "stdout",
     "output_type": "stream",
     "text": [
      "val Loss: 1.7154570817947388\n",
      "val Precision: 0.18735432624816895\n",
      "val Recall: 0.16727217038472494\n"
     ]
    },
    {
     "name": "stderr",
     "output_type": "stream",
     "text": [
      "Epoch: 28: 100%|██████████| 220/220 [04:48<00:00,  1.31s/batch, loss=1.57, precision=0.181, recall=0.143]\n"
     ]
    },
    {
     "name": "stdout",
     "output_type": "stream",
     "text": [
      "train Loss: 1.433236131884835\n",
      "train Precision: 0.2121490318666805\n",
      "train Recall: 0.2021242490207607\n"
     ]
    },
    {
     "name": "stderr",
     "output_type": "stream",
     "text": [
      "Epoch: 28: 100%|██████████| 3/3 [00:15<00:00,  5.02s/batch, loss=1.44, precision=0.16, recall=0.173] \n"
     ]
    },
    {
     "name": "stdout",
     "output_type": "stream",
     "text": [
      "val Loss: 1.5032209952672322\n",
      "val Precision: 0.18932569026947021\n",
      "val Recall: 0.22375055650870004\n"
     ]
    },
    {
     "name": "stderr",
     "output_type": "stream",
     "text": [
      "Epoch: 29: 100%|██████████| 220/220 [04:47<00:00,  1.31s/batch, loss=1.41, precision=0.216, recall=0.198]\n"
     ]
    },
    {
     "name": "stdout",
     "output_type": "stream",
     "text": [
      "train Loss: 1.4136101879856804\n",
      "train Precision: 0.21408587924458763\n",
      "train Recall: 0.20906278281049295\n"
     ]
    },
    {
     "name": "stderr",
     "output_type": "stream",
     "text": [
      "Epoch: 29: 100%|██████████| 3/3 [00:15<00:00,  5.04s/batch, loss=1.47, precision=0.166, recall=0.159]\n"
     ]
    },
    {
     "name": "stdout",
     "output_type": "stream",
     "text": [
      "val Loss: 1.5298757155736287\n",
      "val Precision: 0.19645261764526367\n",
      "val Recall: 0.17918611566225687\n"
     ]
    },
    {
     "name": "stderr",
     "output_type": "stream",
     "text": [
      "Epoch: 30: 100%|██████████| 220/220 [04:48<00:00,  1.31s/batch, loss=1.93, precision=0.207, recall=0.178]\n"
     ]
    },
    {
     "name": "stdout",
     "output_type": "stream",
     "text": [
      "train Loss: 1.4014518483118577\n",
      "train Precision: 0.21701194108887153\n",
      "train Recall: 0.21342864321036772\n"
     ]
    },
    {
     "name": "stderr",
     "output_type": "stream",
     "text": [
      "Epoch: 30: 100%|██████████| 3/3 [00:15<00:00,  5.03s/batch, loss=1.5, precision=0.157, recall=0.163] \n"
     ]
    },
    {
     "name": "stdout",
     "output_type": "stream",
     "text": [
      "val Loss: 1.5274827480316162\n",
      "val Precision: 0.17682903011639914\n",
      "val Recall: 0.17982304592927298\n"
     ]
    },
    {
     "name": "stderr",
     "output_type": "stream",
     "text": [
      "Epoch: 31: 100%|██████████| 220/220 [04:47<00:00,  1.30s/batch, loss=1.22, precision=0.221, recall=0.199]\n"
     ]
    },
    {
     "name": "stdout",
     "output_type": "stream",
     "text": [
      "train Loss: 1.3825501013885846\n",
      "train Precision: 0.22021791183135725\n",
      "train Recall: 0.2167788800868121\n"
     ]
    },
    {
     "name": "stderr",
     "output_type": "stream",
     "text": [
      "Epoch: 31: 100%|██████████| 3/3 [00:15<00:00,  5.01s/batch, loss=1.47, precision=0.156, recall=0.154]\n"
     ]
    },
    {
     "name": "stdout",
     "output_type": "stream",
     "text": [
      "val Loss: 1.4683024485905964\n",
      "val Precision: 0.20323884983857474\n",
      "val Recall: 0.19818113247553507\n"
     ]
    },
    {
     "name": "stderr",
     "output_type": "stream",
     "text": [
      "Epoch: 32: 100%|██████████| 220/220 [04:47<00:00,  1.31s/batch, loss=1.27, precision=0.175, recall=0.166]\n"
     ]
    },
    {
     "name": "stdout",
     "output_type": "stream",
     "text": [
      "train Loss: 1.3690182702107863\n",
      "train Precision: 0.22335550141605465\n",
      "train Recall: 0.22080951224673878\n"
     ]
    },
    {
     "name": "stderr",
     "output_type": "stream",
     "text": [
      "Epoch: 32: 100%|██████████| 3/3 [00:15<00:00,  5.01s/batch, loss=1.36, precision=0.163, recall=0.154]\n"
     ]
    },
    {
     "name": "stdout",
     "output_type": "stream",
     "text": [
      "val Loss: 1.413150946299235\n",
      "val Precision: 0.21103725830713907\n",
      "val Recall: 0.21692370374997458\n"
     ]
    },
    {
     "name": "stderr",
     "output_type": "stream",
     "text": [
      "Epoch: 33: 100%|██████████| 220/220 [04:47<00:00,  1.31s/batch, loss=1.35, precision=0.205, recall=0.215]\n"
     ]
    },
    {
     "name": "stdout",
     "output_type": "stream",
     "text": [
      "train Loss: 1.353067695010792\n",
      "train Precision: 0.22722673490643502\n",
      "train Recall: 0.2258690233257684\n"
     ]
    },
    {
     "name": "stderr",
     "output_type": "stream",
     "text": [
      "Epoch: 33: 100%|██████████| 3/3 [00:15<00:00,  5.04s/batch, loss=1.54, precision=0.164, recall=0.162]\n"
     ]
    },
    {
     "name": "stdout",
     "output_type": "stream",
     "text": [
      "val Loss: 1.6175142526626587\n",
      "val Precision: 0.17783876756827036\n",
      "val Recall: 0.18507219354311624\n"
     ]
    },
    {
     "name": "stderr",
     "output_type": "stream",
     "text": [
      "Epoch: 34: 100%|██████████| 220/220 [04:48<00:00,  1.31s/batch, loss=1.15, precision=0.202, recall=0.219]\n"
     ]
    },
    {
     "name": "stdout",
     "output_type": "stream",
     "text": [
      "train Loss: 1.335279204086824\n",
      "train Precision: 0.22938677167350596\n",
      "train Recall: 0.23202849565581843\n"
     ]
    },
    {
     "name": "stderr",
     "output_type": "stream",
     "text": [
      "Epoch: 34: 100%|██████████| 3/3 [00:15<00:00,  5.01s/batch, loss=1.47, precision=0.152, recall=0.178]\n"
     ]
    },
    {
     "name": "stdout",
     "output_type": "stream",
     "text": [
      "val Loss: 1.4237847328186035\n",
      "val Precision: 0.19889037807782492\n",
      "val Recall: 0.20497759679953256\n"
     ]
    },
    {
     "name": "stderr",
     "output_type": "stream",
     "text": [
      "Epoch: 35: 100%|██████████| 220/220 [04:49<00:00,  1.31s/batch, loss=1.17, precision=0.278, recall=0.245]\n"
     ]
    },
    {
     "name": "stdout",
     "output_type": "stream",
     "text": [
      "train Loss: 1.3231652346524325\n",
      "train Precision: 0.2317120451818813\n",
      "train Recall: 0.23441106514497237\n"
     ]
    },
    {
     "name": "stderr",
     "output_type": "stream",
     "text": [
      "Epoch: 35: 100%|██████████| 3/3 [00:15<00:00,  5.02s/batch, loss=1.53, precision=0.131, recall=0.148]\n"
     ]
    },
    {
     "name": "stdout",
     "output_type": "stream",
     "text": [
      "val Loss: 1.5553840398788452\n",
      "val Precision: 0.18514404197533926\n",
      "val Recall: 0.2093730866909027\n"
     ]
    },
    {
     "name": "stderr",
     "output_type": "stream",
     "text": [
      "Epoch: 36: 100%|██████████| 220/220 [04:46<00:00,  1.30s/batch, loss=1.04, precision=0.214, recall=0.22] \n"
     ]
    },
    {
     "name": "stdout",
     "output_type": "stream",
     "text": [
      "train Loss: 1.310403329675848\n",
      "train Precision: 0.23595793247222902\n",
      "train Recall: 0.23902118741111322\n"
     ]
    },
    {
     "name": "stderr",
     "output_type": "stream",
     "text": [
      "Epoch: 36: 100%|██████████| 3/3 [00:15<00:00,  5.01s/batch, loss=1.47, precision=0.158, recall=0.136]\n"
     ]
    },
    {
     "name": "stdout",
     "output_type": "stream",
     "text": [
      "val Loss: 1.5489060084025066\n",
      "val Precision: 0.18506340185801187\n",
      "val Recall: 0.1800116648276647\n"
     ]
    },
    {
     "name": "stderr",
     "output_type": "stream",
     "text": [
      "Epoch: 37: 100%|██████████| 220/220 [04:47<00:00,  1.31s/batch, loss=1.31, precision=0.21, recall=0.179] \n"
     ]
    },
    {
     "name": "stdout",
     "output_type": "stream",
     "text": [
      "train Loss: 1.298355212536725\n",
      "train Precision: 0.23782622143626214\n",
      "train Recall: 0.24177907386964018\n"
     ]
    },
    {
     "name": "stderr",
     "output_type": "stream",
     "text": [
      "Epoch: 37: 100%|██████████| 3/3 [00:15<00:00,  5.02s/batch, loss=1.39, precision=0.159, recall=0.161]\n"
     ]
    },
    {
     "name": "stdout",
     "output_type": "stream",
     "text": [
      "val Loss: 1.4339264233907063\n",
      "val Precision: 0.19965459406375885\n",
      "val Recall: 0.20261968672275543\n"
     ]
    },
    {
     "name": "stderr",
     "output_type": "stream",
     "text": [
      "Epoch: 38: 100%|██████████| 220/220 [04:48<00:00,  1.31s/batch, loss=1.45, precision=0.226, recall=0.195]\n"
     ]
    },
    {
     "name": "stdout",
     "output_type": "stream",
     "text": [
      "train Loss: 1.286536857214841\n",
      "train Precision: 0.23943861722946166\n",
      "train Recall: 0.24311551593921402\n"
     ]
    },
    {
     "name": "stderr",
     "output_type": "stream",
     "text": [
      "Epoch: 38: 100%|██████████| 3/3 [00:15<00:00,  5.00s/batch, loss=1.3, precision=0.135, recall=0.132] \n"
     ]
    },
    {
     "name": "stdout",
     "output_type": "stream",
     "text": [
      "val Loss: 1.3722122112909954\n",
      "val Precision: 0.18645145495732626\n",
      "val Recall: 0.20666721959908804\n"
     ]
    },
    {
     "name": "stderr",
     "output_type": "stream",
     "text": [
      "Epoch: 39: 100%|██████████| 220/220 [04:47<00:00,  1.31s/batch, loss=1.35, precision=0.266, recall=0.221]\n"
     ]
    },
    {
     "name": "stdout",
     "output_type": "stream",
     "text": [
      "train Loss: 1.2694364005869085\n",
      "train Precision: 0.2423320739784024\n",
      "train Recall: 0.24744500687176532\n"
     ]
    },
    {
     "name": "stderr",
     "output_type": "stream",
     "text": [
      "Epoch: 39: 100%|██████████| 3/3 [00:15<00:00,  5.01s/batch, loss=1.41, precision=0.151, recall=0.151]\n"
     ]
    },
    {
     "name": "stdout",
     "output_type": "stream",
     "text": [
      "val Loss: 1.3738408486048381\n",
      "val Precision: 0.20833749075730643\n",
      "val Recall: 0.2247454971075058\n"
     ]
    },
    {
     "name": "stderr",
     "output_type": "stream",
     "text": [
      "Epoch: 40: 100%|██████████| 220/220 [04:49<00:00,  1.32s/batch, loss=1.33, precision=0.236, recall=0.241] \n"
     ]
    },
    {
     "name": "stdout",
     "output_type": "stream",
     "text": [
      "train Loss: 1.2570562129670924\n",
      "train Precision: 0.24685336811976\n",
      "train Recall: 0.25156058818101884\n"
     ]
    },
    {
     "name": "stderr",
     "output_type": "stream",
     "text": [
      "Epoch: 40: 100%|██████████| 3/3 [00:15<00:00,  5.01s/batch, loss=1.48, precision=0.174, recall=0.161]\n"
     ]
    },
    {
     "name": "stdout",
     "output_type": "stream",
     "text": [
      "val Loss: 1.581325928370158\n",
      "val Precision: 0.1807522972424825\n",
      "val Recall: 0.17541471620400748\n"
     ]
    },
    {
     "name": "stderr",
     "output_type": "stream",
     "text": [
      "Epoch: 41: 100%|██████████| 220/220 [04:46<00:00,  1.30s/batch, loss=1.37, precision=0.215, recall=0.213]\n"
     ]
    },
    {
     "name": "stdout",
     "output_type": "stream",
     "text": [
      "train Loss: 1.2501780396158044\n",
      "train Precision: 0.2465205307033929\n",
      "train Recall: 0.2527550702745264\n"
     ]
    },
    {
     "name": "stderr",
     "output_type": "stream",
     "text": [
      "Epoch: 41: 100%|██████████| 3/3 [00:15<00:00,  5.03s/batch, loss=1.37, precision=0.158, recall=0.178]\n"
     ]
    },
    {
     "name": "stdout",
     "output_type": "stream",
     "text": [
      "val Loss: 1.3242503801981609\n",
      "val Precision: 0.20868948101997375\n",
      "val Recall: 0.23988711337248483\n"
     ]
    },
    {
     "name": "stderr",
     "output_type": "stream",
     "text": [
      "Epoch: 42: 100%|██████████| 220/220 [04:46<00:00,  1.30s/batch, loss=1.26, precision=0.197, recall=0.178]\n"
     ]
    },
    {
     "name": "stdout",
     "output_type": "stream",
     "text": [
      "train Loss: 1.2401565754955466\n",
      "train Precision: 0.24856603314930742\n",
      "train Recall: 0.2540298458527435\n"
     ]
    },
    {
     "name": "stderr",
     "output_type": "stream",
     "text": [
      "Epoch: 42: 100%|██████████| 3/3 [00:15<00:00,  5.01s/batch, loss=1.42, precision=0.167, recall=0.173]\n"
     ]
    },
    {
     "name": "stdout",
     "output_type": "stream",
     "text": [
      "val Loss: 1.3992746273676555\n",
      "val Precision: 0.19621129830678305\n",
      "val Recall: 0.20655442277590433\n"
     ]
    },
    {
     "name": "stderr",
     "output_type": "stream",
     "text": [
      "Epoch: 43: 100%|██████████| 220/220 [04:47<00:00,  1.31s/batch, loss=1.04, precision=0.277, recall=0.282]\n"
     ]
    },
    {
     "name": "stdout",
     "output_type": "stream",
     "text": [
      "train Loss: 1.2283182634548708\n",
      "train Precision: 0.2500632232563062\n",
      "train Recall: 0.25457790473645386\n"
     ]
    },
    {
     "name": "stderr",
     "output_type": "stream",
     "text": [
      "Epoch: 43: 100%|██████████| 3/3 [00:15<00:00,  5.04s/batch, loss=1.31, precision=0.165, recall=0.184]\n"
     ]
    },
    {
     "name": "stdout",
     "output_type": "stream",
     "text": [
      "val Loss: 1.3313451210657756\n",
      "val Precision: 0.2042876680692037\n",
      "val Recall: 0.21677740414937338\n"
     ]
    },
    {
     "name": "stderr",
     "output_type": "stream",
     "text": [
      "Epoch: 44: 100%|██████████| 220/220 [04:47<00:00,  1.31s/batch, loss=1.35, precision=0.248, recall=0.199] \n"
     ]
    },
    {
     "name": "stdout",
     "output_type": "stream",
     "text": [
      "train Loss: 1.2162821593609723\n",
      "train Precision: 0.25248876803300596\n",
      "train Recall: 0.2584812451492656\n"
     ]
    },
    {
     "name": "stderr",
     "output_type": "stream",
     "text": [
      "Epoch: 44: 100%|██████████| 3/3 [00:15<00:00,  5.03s/batch, loss=1.24, precision=0.172, recall=0.155]\n"
     ]
    },
    {
     "name": "stdout",
     "output_type": "stream",
     "text": [
      "val Loss: 1.3168144623438518\n",
      "val Precision: 0.20629551510016123\n",
      "val Recall: 0.1884357084830602\n"
     ]
    },
    {
     "name": "stderr",
     "output_type": "stream",
     "text": [
      "Epoch: 45: 100%|██████████| 220/220 [04:48<00:00,  1.31s/batch, loss=1.24, precision=0.264, recall=0.24]  \n"
     ]
    },
    {
     "name": "stdout",
     "output_type": "stream",
     "text": [
      "train Loss: 1.2060807797041806\n",
      "train Precision: 0.2550467570396987\n",
      "train Recall: 0.26064481809735296\n"
     ]
    },
    {
     "name": "stderr",
     "output_type": "stream",
     "text": [
      "Epoch: 45: 100%|██████████| 3/3 [00:15<00:00,  5.07s/batch, loss=1.25, precision=0.165, recall=0.171]\n"
     ]
    },
    {
     "name": "stdout",
     "output_type": "stream",
     "text": [
      "val Loss: 1.3144398132960002\n",
      "val Precision: 0.20652384559313455\n",
      "val Recall: 0.19757399459679922\n"
     ]
    },
    {
     "name": "stderr",
     "output_type": "stream",
     "text": [
      "Epoch: 46: 100%|██████████| 220/220 [04:47<00:00,  1.31s/batch, loss=1.44, precision=0.219, recall=0.21]  \n"
     ]
    },
    {
     "name": "stdout",
     "output_type": "stream",
     "text": [
      "train Loss: 1.199984128095887\n",
      "train Precision: 0.25902969627217814\n",
      "train Recall: 0.2686061236668717\n"
     ]
    },
    {
     "name": "stderr",
     "output_type": "stream",
     "text": [
      "Epoch: 46: 100%|██████████| 3/3 [00:15<00:00,  5.01s/batch, loss=1.31, precision=0.152, recall=0.164]\n"
     ]
    },
    {
     "name": "stdout",
     "output_type": "stream",
     "text": [
      "val Loss: 1.265801231066386\n",
      "val Precision: 0.21620347599188486\n",
      "val Recall: 0.21723639965057373\n"
     ]
    },
    {
     "name": "stderr",
     "output_type": "stream",
     "text": [
      "Epoch: 47: 100%|██████████| 220/220 [04:47<00:00,  1.31s/batch, loss=1.54, precision=0.22, recall=0.185] \n"
     ]
    },
    {
     "name": "stdout",
     "output_type": "stream",
     "text": [
      "train Loss: 1.1895736967975443\n",
      "train Precision: 0.2603285355324095\n",
      "train Recall: 0.26740298250859434\n"
     ]
    },
    {
     "name": "stderr",
     "output_type": "stream",
     "text": [
      "Epoch: 47: 100%|██████████| 3/3 [00:15<00:00,  5.08s/batch, loss=1.35, precision=0.174, recall=0.168]\n"
     ]
    },
    {
     "name": "stdout",
     "output_type": "stream",
     "text": [
      "val Loss: 1.2637495199839275\n",
      "val Precision: 0.22441365818182626\n",
      "val Recall: 0.2231356998284658\n"
     ]
    },
    {
     "name": "stderr",
     "output_type": "stream",
     "text": [
      "Epoch: 48: 100%|██████████| 220/220 [04:47<00:00,  1.31s/batch, loss=1.13, precision=0.251, recall=0.239]\n"
     ]
    },
    {
     "name": "stdout",
     "output_type": "stream",
     "text": [
      "train Loss: 1.1775196861137043\n",
      "train Precision: 0.263422978669405\n",
      "train Recall: 0.27214945954355324\n"
     ]
    },
    {
     "name": "stderr",
     "output_type": "stream",
     "text": [
      "Epoch: 48: 100%|██████████| 3/3 [00:14<00:00,  5.00s/batch, loss=1.25, precision=0.163, recall=0.186]\n"
     ]
    },
    {
     "name": "stdout",
     "output_type": "stream",
     "text": [
      "val Loss: 1.3173669576644897\n",
      "val Precision: 0.2124592661857605\n",
      "val Recall: 0.24541036784648895\n"
     ]
    },
    {
     "name": "stderr",
     "output_type": "stream",
     "text": [
      "Epoch: 49: 100%|██████████| 220/220 [04:48<00:00,  1.31s/batch, loss=1.33, precision=0.234, recall=0.208] \n"
     ]
    },
    {
     "name": "stdout",
     "output_type": "stream",
     "text": [
      "train Loss: 1.1675486312671142\n",
      "train Precision: 0.2649217103015293\n",
      "train Recall: 0.2738180441612547\n"
     ]
    },
    {
     "name": "stderr",
     "output_type": "stream",
     "text": [
      "Epoch: 49: 100%|██████████| 3/3 [00:15<00:00,  5.03s/batch, loss=1.23, precision=0.173, recall=0.192]\n"
     ]
    },
    {
     "name": "stdout",
     "output_type": "stream",
     "text": [
      "val Loss: 1.2641300757726033\n",
      "val Precision: 0.22487195829550424\n",
      "val Recall: 0.2438757469256719\n",
      "Weight saved for epoch 49.\n"
     ]
    }
   ],
   "source": [
    "batch_size = 228\n",
    "train_dataset = DolphinDataset(train, encoder)\n",
    "val_dataset = DolphinDataset(val, encoder)\n",
    "train_dataloader = DataLoader(train_dataset, batch_size = batch_size, shuffle = True, num_workers = 24, prefetch_factor=2)\n",
    "val_dataloader = DataLoader(val_dataset, batch_size = batch_size, shuffle = False, num_workers = 24, prefetch_factor=2)\n",
    "train_model(train_dataloader, val_dataloader, batch_size=batch_size, weights_path='../../weights/torch_with_momentum/', epochs=50)"
   ]
  },
  {
   "cell_type": "code",
   "execution_count": 14,
   "metadata": {},
   "outputs": [
    {
     "name": "stderr",
     "output_type": "stream",
     "text": [
      "Using cache found in /home/ubuntu/.cache/torch/hub/pytorch_vision_v0.10.0\n"
     ]
    },
    {
     "data": {
      "text/html": [
       "Finishing last run (ID:9edqd4vj) before initializing another..."
      ],
      "text/plain": [
       "<IPython.core.display.HTML object>"
      ]
     },
     "metadata": {},
     "output_type": "display_data"
    },
    {
     "data": {
      "text/html": [
       "Waiting for W&B process to finish... <strong style=\"color:green\">(success).</strong>"
      ],
      "text/plain": [
       "<IPython.core.display.HTML object>"
      ]
     },
     "metadata": {},
     "output_type": "display_data"
    },
    {
     "data": {
      "application/vnd.jupyter.widget-view+json": {
       "model_id": "7a6c1b9582064f6fb136465ec66ea698",
       "version_major": 2,
       "version_minor": 0
      },
      "text/plain": [
       "VBox(children=(Label(value='0.004 MB of 0.004 MB uploaded (0.000 MB deduped)\\r'), FloatProgress(value=1.0, max…"
      ]
     },
     "metadata": {},
     "output_type": "display_data"
    },
    {
     "data": {
      "text/html": [
       "<style>\n",
       "    table.wandb td:nth-child(1) { padding: 0 10px; text-align: left ; width: auto;} td:nth-child(2) {text-align: left ; width: 100%}\n",
       "    .wandb-row { display: flex; flex-direction: row; flex-wrap: wrap; justify-content: flex-start; width: 100% }\n",
       "    .wandb-col { display: flex; flex-direction: column; flex-basis: 100%; flex: 1; padding: 10px; }\n",
       "    </style>\n",
       "<div class=\"wandb-row\"><div class=\"wandb-col\"><h3>Run history:</h3><br/><table class=\"wandb\"><tr><td>train_loss</td><td>█▇▇▆▆▅▅▅▄▄▄▄▃▃▃▃▃▃▃▃▂▂▂▂▂▂▂▂▂▂▂▂▁▁▁▁▁▁▁▁</td></tr><tr><td>train_precision</td><td>▁▁▂▂▂▂▃▃▄▄▄▄▅▅▅▅▅▆▆▆▆▆▆▆▇▇▇▇▇▇▇▇▇▇▇█████</td></tr><tr><td>train_recall</td><td>▁▁▁▂▂▂▂▃▃▃▄▄▄▄▅▅▅▅▅▅▆▆▆▆▆▆▇▇▇▇▇▇▇▇▇▇████</td></tr><tr><td>val_loss</td><td>█▇▇▇▆▆▅▅▅▅▅▅▄▄▄▅▄▄▃▄▃▃▃▂▂▂▂▃▃▃▂▂▃▁▂▁▁▁▁▁</td></tr><tr><td>val_precision</td><td>▁▁▂▂▂▃▃▃▄▄▅▄▅▅▄▄▅▅▆▅▅▆▇▇▆▇▇▆▆▆▇▆▆▇▇▇▇███</td></tr><tr><td>val_recall</td><td>▁▁▁▂▂▃▃▃▄▄▅▄▅▄▅▄▄▅▆▅▅▆▆▇▆▇▇▆▇▆▇▇▆█▇▇▇▇▇█</td></tr></table><br/></div><div class=\"wandb-col\"><h3>Run summary:</h3><br/><table class=\"wandb\"><tr><td>train_loss</td><td>1.16755</td></tr><tr><td>train_precision</td><td>0.26492</td></tr><tr><td>train_recall</td><td>0.27382</td></tr><tr><td>val_loss</td><td>1.26413</td></tr><tr><td>val_precision</td><td>0.22487</td></tr><tr><td>val_recall</td><td>0.24388</td></tr></table><br/></div></div>"
      ],
      "text/plain": [
       "<IPython.core.display.HTML object>"
      ]
     },
     "metadata": {},
     "output_type": "display_data"
    },
    {
     "data": {
      "text/html": [
       " View run <strong style=\"color:#cdcd00\">elated-cherry-54</strong> at: <a href='https://wandb.ai/yashchks87/dolphin/runs/9edqd4vj' target=\"_blank\">https://wandb.ai/yashchks87/dolphin/runs/9edqd4vj</a><br/>Synced 5 W&B file(s), 0 media file(s), 0 artifact file(s) and 0 other file(s)"
      ],
      "text/plain": [
       "<IPython.core.display.HTML object>"
      ]
     },
     "metadata": {},
     "output_type": "display_data"
    },
    {
     "data": {
      "text/html": [
       "Find logs at: <code>./wandb/run-20230814_031204-9edqd4vj/logs</code>"
      ],
      "text/plain": [
       "<IPython.core.display.HTML object>"
      ]
     },
     "metadata": {},
     "output_type": "display_data"
    },
    {
     "data": {
      "text/html": [
       "Successfully finished last run (ID:9edqd4vj). Initializing new run:<br/>"
      ],
      "text/plain": [
       "<IPython.core.display.HTML object>"
      ]
     },
     "metadata": {},
     "output_type": "display_data"
    },
    {
     "data": {
      "application/vnd.jupyter.widget-view+json": {
       "model_id": "e314965f8e1149039372cdc2f3bfedd6",
       "version_major": 2,
       "version_minor": 0
      },
      "text/plain": [
       "VBox(children=(Label(value='Waiting for wandb.init()...\\r'), FloatProgress(value=0.01667199493337345, max=1.0)…"
      ]
     },
     "metadata": {},
     "output_type": "display_data"
    },
    {
     "data": {
      "text/html": [
       "Tracking run with wandb version 0.15.8"
      ],
      "text/plain": [
       "<IPython.core.display.HTML object>"
      ]
     },
     "metadata": {},
     "output_type": "display_data"
    },
    {
     "data": {
      "text/html": [
       "Run data is saved locally in <code>/home/ubuntu/dolphin_classification/notebooks/wandb/run-20230814_131714-2im6sdml</code>"
      ],
      "text/plain": [
       "<IPython.core.display.HTML object>"
      ]
     },
     "metadata": {},
     "output_type": "display_data"
    },
    {
     "data": {
      "text/html": [
       "Syncing run <strong><a href='https://wandb.ai/yashchks87/dolphin/runs/2im6sdml' target=\"_blank\">avid-thunder-55</a></strong> to <a href='https://wandb.ai/yashchks87/dolphin' target=\"_blank\">Weights & Biases</a> (<a href='https://wandb.me/run' target=\"_blank\">docs</a>)<br/>"
      ],
      "text/plain": [
       "<IPython.core.display.HTML object>"
      ]
     },
     "metadata": {},
     "output_type": "display_data"
    },
    {
     "data": {
      "text/html": [
       " View project at <a href='https://wandb.ai/yashchks87/dolphin' target=\"_blank\">https://wandb.ai/yashchks87/dolphin</a>"
      ],
      "text/plain": [
       "<IPython.core.display.HTML object>"
      ]
     },
     "metadata": {},
     "output_type": "display_data"
    },
    {
     "data": {
      "text/html": [
       " View run at <a href='https://wandb.ai/yashchks87/dolphin/runs/2im6sdml' target=\"_blank\">https://wandb.ai/yashchks87/dolphin/runs/2im6sdml</a>"
      ],
      "text/plain": [
       "<IPython.core.display.HTML object>"
      ]
     },
     "metadata": {},
     "output_type": "display_data"
    },
    {
     "name": "stderr",
     "output_type": "stream",
     "text": [
      "Epoch: 0: 100%|██████████| 220/220 [04:48<00:00,  1.31s/batch, loss=1.11, precision=0.245, recall=0.268] \n"
     ]
    },
    {
     "name": "stdout",
     "output_type": "stream",
     "text": [
      "train Loss: 1.1537194289944388\n",
      "train Precision: 0.2702697280455719\n",
      "train Recall: 0.2793115023862232\n"
     ]
    },
    {
     "name": "stderr",
     "output_type": "stream",
     "text": [
      "Epoch: 0: 100%|██████████| 3/3 [00:15<00:00,  5.02s/batch, loss=1.32, precision=0.164, recall=0.164]\n"
     ]
    },
    {
     "name": "stdout",
     "output_type": "stream",
     "text": [
      "val Loss: 1.3292161226272583\n",
      "val Precision: 0.21335242688655853\n",
      "val Recall: 0.2134614090124766\n"
     ]
    },
    {
     "name": "stderr",
     "output_type": "stream",
     "text": [
      "Epoch: 1: 100%|██████████| 220/220 [04:46<00:00,  1.30s/batch, loss=1.35, precision=0.261, recall=0.262] \n"
     ]
    },
    {
     "name": "stdout",
     "output_type": "stream",
     "text": [
      "train Loss: 1.1491870208220047\n",
      "train Precision: 0.2692043632946231\n",
      "train Recall: 0.278781278363683\n"
     ]
    },
    {
     "name": "stderr",
     "output_type": "stream",
     "text": [
      "Epoch: 1: 100%|██████████| 3/3 [00:15<00:00,  5.03s/batch, loss=1.41, precision=0.165, recall=0.177]\n"
     ]
    },
    {
     "name": "stdout",
     "output_type": "stream",
     "text": [
      "val Loss: 1.2959385712941487\n",
      "val Precision: 0.22348083555698395\n",
      "val Recall: 0.24461466073989868\n"
     ]
    },
    {
     "name": "stderr",
     "output_type": "stream",
     "text": [
      "Epoch: 2: 100%|██████████| 220/220 [04:46<00:00,  1.30s/batch, loss=1.07, precision=0.215, recall=0.226] \n"
     ]
    },
    {
     "name": "stdout",
     "output_type": "stream",
     "text": [
      "train Loss: 1.1380138448693535\n",
      "train Precision: 0.2715992878783833\n",
      "train Recall: 0.2796818332915956\n"
     ]
    },
    {
     "name": "stderr",
     "output_type": "stream",
     "text": [
      "Epoch: 2: 100%|██████████| 3/3 [00:15<00:00,  5.01s/batch, loss=1.48, precision=0.139, recall=0.18] \n"
     ]
    },
    {
     "name": "stdout",
     "output_type": "stream",
     "text": [
      "val Loss: 1.4446358283360798\n",
      "val Precision: 0.20354443291823068\n",
      "val Recall: 0.23380064964294434\n"
     ]
    },
    {
     "name": "stderr",
     "output_type": "stream",
     "text": [
      "Epoch: 3: 100%|██████████| 220/220 [04:49<00:00,  1.32s/batch, loss=1.37, precision=0.245, recall=0.247] \n"
     ]
    },
    {
     "name": "stdout",
     "output_type": "stream",
     "text": [
      "train Loss: 1.1298020062121479\n",
      "train Precision: 0.2718149529262023\n",
      "train Recall: 0.28185159862041476\n"
     ]
    },
    {
     "name": "stderr",
     "output_type": "stream",
     "text": [
      "Epoch: 3: 100%|██████████| 3/3 [00:15<00:00,  5.04s/batch, loss=1.23, precision=0.185, recall=0.142]\n"
     ]
    },
    {
     "name": "stdout",
     "output_type": "stream",
     "text": [
      "val Loss: 1.2730073531468709\n",
      "val Precision: 0.22017459074656168\n",
      "val Recall: 0.21260184049606323\n"
     ]
    },
    {
     "name": "stderr",
     "output_type": "stream",
     "text": [
      "Epoch: 4: 100%|██████████| 220/220 [04:46<00:00,  1.30s/batch, loss=1.15, precision=0.227, recall=0.215] \n"
     ]
    },
    {
     "name": "stdout",
     "output_type": "stream",
     "text": [
      "train Loss: 1.1217380805449053\n",
      "train Precision: 0.2769600184126334\n",
      "train Recall: 0.2862260065972805\n"
     ]
    },
    {
     "name": "stderr",
     "output_type": "stream",
     "text": [
      "Epoch: 4: 100%|██████████| 3/3 [00:15<00:00,  5.04s/batch, loss=1.27, precision=0.142, recall=0.152]\n"
     ]
    },
    {
     "name": "stdout",
     "output_type": "stream",
     "text": [
      "val Loss: 1.2532288630803425\n",
      "val Precision: 0.21041365961233774\n",
      "val Recall: 0.21793709695339203\n"
     ]
    },
    {
     "name": "stderr",
     "output_type": "stream",
     "text": [
      "Epoch: 5: 100%|██████████| 220/220 [04:48<00:00,  1.31s/batch, loss=1.42, precision=0.226, recall=0.172] \n"
     ]
    },
    {
     "name": "stdout",
     "output_type": "stream",
     "text": [
      "train Loss: 1.1176385164260865\n",
      "train Precision: 0.27651438652114435\n",
      "train Recall: 0.2874055053022775\n"
     ]
    },
    {
     "name": "stderr",
     "output_type": "stream",
     "text": [
      "Epoch: 5: 100%|██████████| 3/3 [00:15<00:00,  5.02s/batch, loss=1.09, precision=0.197, recall=0.171]\n"
     ]
    },
    {
     "name": "stdout",
     "output_type": "stream",
     "text": [
      "val Loss: 1.1823389132817586\n",
      "val Precision: 0.22951352099577585\n",
      "val Recall: 0.2159577856461207\n"
     ]
    },
    {
     "name": "stderr",
     "output_type": "stream",
     "text": [
      "Epoch: 6: 100%|██████████| 220/220 [04:47<00:00,  1.31s/batch, loss=1.13, precision=0.269, recall=0.279] \n"
     ]
    },
    {
     "name": "stdout",
     "output_type": "stream",
     "text": [
      "train Loss: 1.106157160076228\n",
      "train Precision: 0.27838992632248183\n",
      "train Recall: 0.2888233446939425\n"
     ]
    },
    {
     "name": "stderr",
     "output_type": "stream",
     "text": [
      "Epoch: 6: 100%|██████████| 3/3 [00:15<00:00,  5.04s/batch, loss=1.1, precision=0.191, recall=0.19]  \n"
     ]
    },
    {
     "name": "stdout",
     "output_type": "stream",
     "text": [
      "val Loss: 1.142163832982381\n",
      "val Precision: 0.24694056312243143\n",
      "val Recall: 0.252333531777064\n"
     ]
    },
    {
     "name": "stderr",
     "output_type": "stream",
     "text": [
      "Epoch: 7: 100%|██████████| 220/220 [04:48<00:00,  1.31s/batch, loss=1.21, precision=0.258, recall=0.244] \n"
     ]
    },
    {
     "name": "stdout",
     "output_type": "stream",
     "text": [
      "train Loss: 1.0978942331942645\n",
      "train Precision: 0.2795373817059127\n",
      "train Recall: 0.29362651062282646\n"
     ]
    },
    {
     "name": "stderr",
     "output_type": "stream",
     "text": [
      "Epoch: 7: 100%|██████████| 3/3 [00:14<00:00,  4.99s/batch, loss=1.11, precision=0.209, recall=0.209]\n"
     ]
    },
    {
     "name": "stdout",
     "output_type": "stream",
     "text": [
      "val Loss: 1.1354450782140095\n",
      "val Precision: 0.2507125735282898\n",
      "val Recall: 0.265152374903361\n"
     ]
    },
    {
     "name": "stderr",
     "output_type": "stream",
     "text": [
      "Epoch: 8: 100%|██████████| 220/220 [04:47<00:00,  1.31s/batch, loss=1.24, precision=0.186, recall=0.159] \n"
     ]
    },
    {
     "name": "stdout",
     "output_type": "stream",
     "text": [
      "train Loss: 1.0869581937789916\n",
      "train Precision: 0.2838618077337742\n",
      "train Recall: 0.29479027661410245\n"
     ]
    },
    {
     "name": "stderr",
     "output_type": "stream",
     "text": [
      "Epoch: 8: 100%|██████████| 3/3 [00:15<00:00,  5.05s/batch, loss=1.15, precision=0.209, recall=0.23] \n"
     ]
    },
    {
     "name": "stdout",
     "output_type": "stream",
     "text": [
      "val Loss: 1.1260644594828289\n",
      "val Precision: 0.24498246610164642\n",
      "val Recall: 0.273921142021815\n"
     ]
    },
    {
     "name": "stderr",
     "output_type": "stream",
     "text": [
      "Epoch: 9: 100%|██████████| 220/220 [04:47<00:00,  1.31s/batch, loss=1.42, precision=0.263, recall=0.253] \n"
     ]
    },
    {
     "name": "stdout",
     "output_type": "stream",
     "text": [
      "train Loss: 1.078960970044136\n",
      "train Precision: 0.28624310926957564\n",
      "train Recall: 0.29906764890659937\n"
     ]
    },
    {
     "name": "stderr",
     "output_type": "stream",
     "text": [
      "Epoch: 9: 100%|██████████| 3/3 [00:15<00:00,  5.02s/batch, loss=1.12, precision=0.197, recall=0.181]\n"
     ]
    },
    {
     "name": "stdout",
     "output_type": "stream",
     "text": [
      "val Loss: 1.121536374092102\n",
      "val Precision: 0.23725574215253195\n",
      "val Recall: 0.22860065599282584\n"
     ]
    },
    {
     "name": "stderr",
     "output_type": "stream",
     "text": [
      "Epoch: 10: 100%|██████████| 220/220 [04:48<00:00,  1.31s/batch, loss=0.919, precision=0.294, recall=0.286]\n"
     ]
    },
    {
     "name": "stdout",
     "output_type": "stream",
     "text": [
      "train Loss: 1.0678256373513828\n",
      "train Precision: 0.28750468973409044\n",
      "train Recall: 0.30072872828353536\n"
     ]
    },
    {
     "name": "stderr",
     "output_type": "stream",
     "text": [
      "Epoch: 10: 100%|██████████| 3/3 [00:15<00:00,  5.07s/batch, loss=1.25, precision=0.169, recall=0.167]\n"
     ]
    },
    {
     "name": "stdout",
     "output_type": "stream",
     "text": [
      "val Loss: 1.2319577534993489\n",
      "val Precision: 0.2249697893857956\n",
      "val Recall: 0.25253988802433014\n"
     ]
    },
    {
     "name": "stderr",
     "output_type": "stream",
     "text": [
      "Epoch: 11: 100%|██████████| 220/220 [04:47<00:00,  1.31s/batch, loss=1.07, precision=0.226, recall=0.219] \n"
     ]
    },
    {
     "name": "stdout",
     "output_type": "stream",
     "text": [
      "train Loss: 1.0652440203861757\n",
      "train Precision: 0.2893968056548725\n",
      "train Recall: 0.30179950879378753\n"
     ]
    },
    {
     "name": "stderr",
     "output_type": "stream",
     "text": [
      "Epoch: 11: 100%|██████████| 3/3 [00:15<00:00,  5.04s/batch, loss=1.39, precision=0.15, recall=0.141] \n"
     ]
    },
    {
     "name": "stdout",
     "output_type": "stream",
     "text": [
      "val Loss: 1.2760281960169475\n",
      "val Precision: 0.22135821481545767\n",
      "val Recall: 0.23923355340957642\n"
     ]
    },
    {
     "name": "stderr",
     "output_type": "stream",
     "text": [
      "Epoch: 12: 100%|██████████| 220/220 [04:47<00:00,  1.30s/batch, loss=1, precision=0.298, recall=0.267]    \n"
     ]
    },
    {
     "name": "stdout",
     "output_type": "stream",
     "text": [
      "train Loss: 1.0540222455154766\n",
      "train Precision: 0.2918128650974144\n",
      "train Recall: 0.30734997716816986\n"
     ]
    },
    {
     "name": "stderr",
     "output_type": "stream",
     "text": [
      "Epoch: 12: 100%|██████████| 3/3 [00:15<00:00,  5.01s/batch, loss=1.22, precision=0.151, recall=0.141]\n"
     ]
    },
    {
     "name": "stdout",
     "output_type": "stream",
     "text": [
      "val Loss: 1.187800645828247\n",
      "val Precision: 0.22414358456929526\n",
      "val Recall: 0.2431033800045649\n"
     ]
    },
    {
     "name": "stderr",
     "output_type": "stream",
     "text": [
      "Epoch: 13: 100%|██████████| 220/220 [04:48<00:00,  1.31s/batch, loss=1.58, precision=0.199, recall=0.19]  \n"
     ]
    },
    {
     "name": "stdout",
     "output_type": "stream",
     "text": [
      "train Loss: 1.0481791973114014\n",
      "train Precision: 0.29218392094427886\n",
      "train Recall: 0.3057287286628376\n"
     ]
    },
    {
     "name": "stderr",
     "output_type": "stream",
     "text": [
      "Epoch: 13: 100%|██████████| 3/3 [00:14<00:00,  5.00s/batch, loss=1.08, precision=0.18, recall=0.174] \n"
     ]
    },
    {
     "name": "stdout",
     "output_type": "stream",
     "text": [
      "val Loss: 1.0863014856974285\n",
      "val Precision: 0.2504343291123708\n",
      "val Recall: 0.24325176080067953\n"
     ]
    },
    {
     "name": "stderr",
     "output_type": "stream",
     "text": [
      "Epoch: 14: 100%|██████████| 220/220 [04:48<00:00,  1.31s/batch, loss=0.995, precision=0.272, recall=0.283]\n"
     ]
    },
    {
     "name": "stdout",
     "output_type": "stream",
     "text": [
      "train Loss: 1.0418837550011548\n",
      "train Precision: 0.2963791039856997\n",
      "train Recall: 0.3122513137757778\n"
     ]
    },
    {
     "name": "stderr",
     "output_type": "stream",
     "text": [
      "Epoch: 14: 100%|██████████| 3/3 [00:14<00:00,  4.99s/batch, loss=1.2, precision=0.195, recall=0.181] \n"
     ]
    },
    {
     "name": "stdout",
     "output_type": "stream",
     "text": [
      "val Loss: 1.2795488437016804\n",
      "val Precision: 0.23768804967403412\n",
      "val Recall: 0.22586514552434286\n"
     ]
    },
    {
     "name": "stderr",
     "output_type": "stream",
     "text": [
      "Epoch: 15: 100%|██████████| 220/220 [04:45<00:00,  1.30s/batch, loss=1.2, precision=0.283, recall=0.236]  \n"
     ]
    },
    {
     "name": "stdout",
     "output_type": "stream",
     "text": [
      "train Loss: 1.0342645994641564\n",
      "train Precision: 0.298378422382203\n",
      "train Recall: 0.3115017365325581\n"
     ]
    },
    {
     "name": "stderr",
     "output_type": "stream",
     "text": [
      "Epoch: 15: 100%|██████████| 3/3 [00:15<00:00,  5.04s/batch, loss=1.12, precision=0.228, recall=0.216]\n"
     ]
    },
    {
     "name": "stdout",
     "output_type": "stream",
     "text": [
      "val Loss: 1.0852869749069214\n",
      "val Precision: 0.27023667097091675\n",
      "val Recall: 0.27534618973731995\n"
     ]
    },
    {
     "name": "stderr",
     "output_type": "stream",
     "text": [
      "Epoch: 16: 100%|██████████| 220/220 [04:49<00:00,  1.32s/batch, loss=0.877, precision=0.239, recall=0.219]\n"
     ]
    },
    {
     "name": "stdout",
     "output_type": "stream",
     "text": [
      "train Loss: 1.0248046801848845\n",
      "train Precision: 0.2995303775776516\n",
      "train Recall: 0.3130820541219278\n"
     ]
    },
    {
     "name": "stderr",
     "output_type": "stream",
     "text": [
      "Epoch: 16: 100%|██████████| 3/3 [00:15<00:00,  5.04s/batch, loss=1.09, precision=0.191, recall=0.189]\n"
     ]
    },
    {
     "name": "stdout",
     "output_type": "stream",
     "text": [
      "val Loss: 1.1057154337565105\n",
      "val Precision: 0.24570384621620178\n",
      "val Recall: 0.24010095993677774\n"
     ]
    },
    {
     "name": "stderr",
     "output_type": "stream",
     "text": [
      "Epoch: 17: 100%|██████████| 220/220 [04:48<00:00,  1.31s/batch, loss=1.08, precision=0.284, recall=0.259] \n"
     ]
    },
    {
     "name": "stdout",
     "output_type": "stream",
     "text": [
      "train Loss: 1.0202369310639121\n",
      "train Precision: 0.30008876648816196\n",
      "train Recall: 0.3157125311141664\n"
     ]
    },
    {
     "name": "stderr",
     "output_type": "stream",
     "text": [
      "Epoch: 17: 100%|██████████| 3/3 [00:15<00:00,  5.03s/batch, loss=1.29, precision=0.183, recall=0.179]\n"
     ]
    },
    {
     "name": "stdout",
     "output_type": "stream",
     "text": [
      "val Loss: 1.325515588124593\n",
      "val Precision: 0.22755584120750427\n",
      "val Recall: 0.23992684483528137\n"
     ]
    },
    {
     "name": "stderr",
     "output_type": "stream",
     "text": [
      "Epoch: 18: 100%|██████████| 220/220 [04:47<00:00,  1.31s/batch, loss=1.09, precision=0.272, recall=0.276] \n"
     ]
    },
    {
     "name": "stdout",
     "output_type": "stream",
     "text": [
      "train Loss: 1.011798176982186\n",
      "train Precision: 0.30107501650398427\n",
      "train Recall: 0.31752712482755835\n"
     ]
    },
    {
     "name": "stderr",
     "output_type": "stream",
     "text": [
      "Epoch: 18: 100%|██████████| 3/3 [00:15<00:00,  5.07s/batch, loss=1.06, precision=0.206, recall=0.214]\n"
     ]
    },
    {
     "name": "stdout",
     "output_type": "stream",
     "text": [
      "val Loss: 1.0584132671356201\n",
      "val Precision: 0.257349893450737\n",
      "val Recall: 0.2774678220351537\n"
     ]
    },
    {
     "name": "stderr",
     "output_type": "stream",
     "text": [
      "Epoch: 19: 100%|██████████| 220/220 [04:48<00:00,  1.31s/batch, loss=0.972, precision=0.289, recall=0.305]\n"
     ]
    },
    {
     "name": "stdout",
     "output_type": "stream",
     "text": [
      "train Loss: 1.0001200063662095\n",
      "train Precision: 0.30571885637261653\n",
      "train Recall: 0.3207694439048117\n"
     ]
    },
    {
     "name": "stderr",
     "output_type": "stream",
     "text": [
      "Epoch: 19: 100%|██████████| 3/3 [00:15<00:00,  5.04s/batch, loss=1.11, precision=0.217, recall=0.211]\n"
     ]
    },
    {
     "name": "stdout",
     "output_type": "stream",
     "text": [
      "val Loss: 1.0704474846522014\n",
      "val Precision: 0.27013517419497174\n",
      "val Recall: 0.28440772990385693\n"
     ]
    },
    {
     "name": "stderr",
     "output_type": "stream",
     "text": [
      "Epoch: 20: 100%|██████████| 220/220 [04:46<00:00,  1.30s/batch, loss=1.02, precision=0.251, recall=0.244] \n"
     ]
    },
    {
     "name": "stdout",
     "output_type": "stream",
     "text": [
      "train Loss: 0.9933875530958176\n",
      "train Precision: 0.30579484755342656\n",
      "train Recall: 0.32227420590140604\n"
     ]
    },
    {
     "name": "stderr",
     "output_type": "stream",
     "text": [
      "Epoch: 20: 100%|██████████| 3/3 [00:14<00:00,  5.00s/batch, loss=1.47, precision=0.204, recall=0.187]\n"
     ]
    },
    {
     "name": "stdout",
     "output_type": "stream",
     "text": [
      "val Loss: 1.5306424299875896\n",
      "val Precision: 0.21954597036043802\n",
      "val Recall: 0.24700883030891418\n"
     ]
    },
    {
     "name": "stderr",
     "output_type": "stream",
     "text": [
      "Epoch: 21: 100%|██████████| 220/220 [04:47<00:00,  1.31s/batch, loss=0.955, precision=0.253, recall=0.266]\n"
     ]
    },
    {
     "name": "stdout",
     "output_type": "stream",
     "text": [
      "train Loss: 0.9892456355420026\n",
      "train Precision: 0.3101248816333034\n",
      "train Recall: 0.3250478555533019\n"
     ]
    },
    {
     "name": "stderr",
     "output_type": "stream",
     "text": [
      "Epoch: 21: 100%|██████████| 3/3 [00:15<00:00,  5.04s/batch, loss=1.1, precision=0.203, recall=0.208] \n"
     ]
    },
    {
     "name": "stdout",
     "output_type": "stream",
     "text": [
      "val Loss: 1.0726569493611653\n",
      "val Precision: 0.2547614425420761\n",
      "val Recall: 0.277958407998085\n"
     ]
    },
    {
     "name": "stderr",
     "output_type": "stream",
     "text": [
      "Epoch: 22: 100%|██████████| 220/220 [04:47<00:00,  1.31s/batch, loss=0.946, precision=0.316, recall=0.295]\n"
     ]
    },
    {
     "name": "stdout",
     "output_type": "stream",
     "text": [
      "train Loss: 0.9821682450446215\n",
      "train Precision: 0.3103782973506234\n",
      "train Recall: 0.32703295973214236\n"
     ]
    },
    {
     "name": "stderr",
     "output_type": "stream",
     "text": [
      "Epoch: 22: 100%|██████████| 3/3 [00:15<00:00,  5.08s/batch, loss=1.13, precision=0.182, recall=0.181]\n"
     ]
    },
    {
     "name": "stdout",
     "output_type": "stream",
     "text": [
      "val Loss: 1.0867942571640015\n",
      "val Precision: 0.24491244554519653\n",
      "val Recall: 0.26068297028541565\n"
     ]
    },
    {
     "name": "stderr",
     "output_type": "stream",
     "text": [
      "Epoch: 23: 100%|██████████| 220/220 [04:46<00:00,  1.30s/batch, loss=0.962, precision=0.318, recall=0.357]\n"
     ]
    },
    {
     "name": "stdout",
     "output_type": "stream",
     "text": [
      "train Loss: 0.971319056911902\n",
      "train Precision: 0.317427025328983\n",
      "train Recall: 0.3359277467836033\n"
     ]
    },
    {
     "name": "stderr",
     "output_type": "stream",
     "text": [
      "Epoch: 23: 100%|██████████| 3/3 [00:15<00:00,  5.03s/batch, loss=1.07, precision=0.17, recall=0.172] \n"
     ]
    },
    {
     "name": "stdout",
     "output_type": "stream",
     "text": [
      "val Loss: 1.04606028397878\n",
      "val Precision: 0.25135354697704315\n",
      "val Recall: 0.25945768256982166\n"
     ]
    },
    {
     "name": "stderr",
     "output_type": "stream",
     "text": [
      "Epoch: 24: 100%|██████████| 220/220 [04:48<00:00,  1.31s/batch, loss=1.04, precision=0.26, recall=0.249]  \n"
     ]
    },
    {
     "name": "stdout",
     "output_type": "stream",
     "text": [
      "train Loss: 0.9647320227189498\n",
      "train Precision: 0.3169378158721057\n",
      "train Recall: 0.3332072217356075\n"
     ]
    },
    {
     "name": "stderr",
     "output_type": "stream",
     "text": [
      "Epoch: 24: 100%|██████████| 3/3 [00:15<00:00,  5.05s/batch, loss=1.12, precision=0.171, recall=0.172]\n"
     ]
    },
    {
     "name": "stdout",
     "output_type": "stream",
     "text": [
      "val Loss: 1.0817631085713704\n",
      "val Precision: 0.24969165523846945\n",
      "val Recall: 0.2661405106385549\n"
     ]
    },
    {
     "name": "stderr",
     "output_type": "stream",
     "text": [
      "Epoch: 25: 100%|██████████| 220/220 [04:46<00:00,  1.30s/batch, loss=1.12, precision=0.322, recall=0.306] \n"
     ]
    },
    {
     "name": "stdout",
     "output_type": "stream",
     "text": [
      "train Loss: 0.9611262532797726\n",
      "train Precision: 0.31905196607112885\n",
      "train Recall: 0.3359088481827216\n"
     ]
    },
    {
     "name": "stderr",
     "output_type": "stream",
     "text": [
      "Epoch: 25: 100%|██████████| 3/3 [00:15<00:00,  5.05s/batch, loss=1.13, precision=0.182, recall=0.18] \n"
     ]
    },
    {
     "name": "stdout",
     "output_type": "stream",
     "text": [
      "val Loss: 1.0670051177342732\n",
      "val Precision: 0.2500120898087819\n",
      "val Recall: 0.25219162305196124\n"
     ]
    },
    {
     "name": "stderr",
     "output_type": "stream",
     "text": [
      "Epoch: 26: 100%|██████████| 220/220 [04:47<00:00,  1.31s/batch, loss=0.903, precision=0.292, recall=0.298]\n"
     ]
    },
    {
     "name": "stdout",
     "output_type": "stream",
     "text": [
      "train Loss: 0.953392939675938\n",
      "train Precision: 0.31806451732462104\n",
      "train Recall: 0.33344511904499746\n"
     ]
    },
    {
     "name": "stderr",
     "output_type": "stream",
     "text": [
      "Epoch: 26: 100%|██████████| 3/3 [00:15<00:00,  5.09s/batch, loss=1.12, precision=0.149, recall=0.147]\n"
     ]
    },
    {
     "name": "stdout",
     "output_type": "stream",
     "text": [
      "val Loss: 1.051883856455485\n",
      "val Precision: 0.24124865730603537\n",
      "val Recall: 0.2559017986059189\n"
     ]
    },
    {
     "name": "stderr",
     "output_type": "stream",
     "text": [
      "Epoch: 27: 100%|██████████| 220/220 [04:47<00:00,  1.31s/batch, loss=1.12, precision=0.294, recall=0.276] \n"
     ]
    },
    {
     "name": "stdout",
     "output_type": "stream",
     "text": [
      "train Loss: 0.9489647182551297\n",
      "train Precision: 0.3198710127310319\n",
      "train Recall: 0.3370226211845875\n"
     ]
    },
    {
     "name": "stderr",
     "output_type": "stream",
     "text": [
      "Epoch: 27: 100%|██████████| 3/3 [00:15<00:00,  5.04s/batch, loss=1.17, precision=0.2, recall=0.204]  \n"
     ]
    },
    {
     "name": "stdout",
     "output_type": "stream",
     "text": [
      "val Loss: 1.0856460730234783\n",
      "val Precision: 0.2831449160973231\n",
      "val Recall: 0.29573996861775714\n"
     ]
    },
    {
     "name": "stderr",
     "output_type": "stream",
     "text": [
      "Epoch: 28: 100%|██████████| 220/220 [04:48<00:00,  1.31s/batch, loss=1.03, precision=0.236, recall=0.234] \n"
     ]
    },
    {
     "name": "stdout",
     "output_type": "stream",
     "text": [
      "train Loss: 0.9381360641934655\n",
      "train Precision: 0.32447383451190864\n",
      "train Recall: 0.3407080971381881\n"
     ]
    },
    {
     "name": "stderr",
     "output_type": "stream",
     "text": [
      "Epoch: 28: 100%|██████████| 3/3 [00:15<00:00,  5.06s/batch, loss=0.992, precision=0.201, recall=0.185]\n"
     ]
    },
    {
     "name": "stdout",
     "output_type": "stream",
     "text": [
      "val Loss: 0.9617464145024618\n",
      "val Precision: 0.25782986481984455\n",
      "val Recall: 0.2714317838350932\n"
     ]
    },
    {
     "name": "stderr",
     "output_type": "stream",
     "text": [
      "Epoch: 29: 100%|██████████| 220/220 [04:46<00:00,  1.30s/batch, loss=1.13, precision=0.28, recall=0.247]  \n"
     ]
    },
    {
     "name": "stdout",
     "output_type": "stream",
     "text": [
      "train Loss: 0.9340644744309512\n",
      "train Precision: 0.32484349838712\n",
      "train Recall: 0.34008554403077473\n"
     ]
    },
    {
     "name": "stderr",
     "output_type": "stream",
     "text": [
      "Epoch: 29: 100%|██████████| 3/3 [00:15<00:00,  5.06s/batch, loss=1.11, precision=0.209, recall=0.184]\n"
     ]
    },
    {
     "name": "stdout",
     "output_type": "stream",
     "text": [
      "val Loss: 1.296457568804423\n",
      "val Precision: 0.25341692566871643\n",
      "val Recall: 0.24598469336827597\n"
     ]
    },
    {
     "name": "stderr",
     "output_type": "stream",
     "text": [
      "Epoch: 30: 100%|██████████| 220/220 [04:48<00:00,  1.31s/batch, loss=0.732, precision=0.31, recall=0.29]  \n"
     ]
    },
    {
     "name": "stdout",
     "output_type": "stream",
     "text": [
      "train Loss: 0.9285915250127966\n",
      "train Precision: 0.32720098238099704\n",
      "train Recall: 0.3431387361477722\n"
     ]
    },
    {
     "name": "stderr",
     "output_type": "stream",
     "text": [
      "Epoch: 30: 100%|██████████| 3/3 [00:15<00:00,  5.02s/batch, loss=1.01, precision=0.202, recall=0.188]\n"
     ]
    },
    {
     "name": "stdout",
     "output_type": "stream",
     "text": [
      "val Loss: 1.032687822977702\n",
      "val Precision: 0.26149043440818787\n",
      "val Recall: 0.24611149728298187\n"
     ]
    },
    {
     "name": "stderr",
     "output_type": "stream",
     "text": [
      "Epoch: 31: 100%|██████████| 220/220 [04:48<00:00,  1.31s/batch, loss=0.934, precision=0.318, recall=0.264]\n"
     ]
    },
    {
     "name": "stdout",
     "output_type": "stream",
     "text": [
      "train Loss: 0.9198725922541184\n",
      "train Precision: 0.3273636299100789\n",
      "train Recall: 0.347679702937603\n"
     ]
    },
    {
     "name": "stderr",
     "output_type": "stream",
     "text": [
      "Epoch: 31: 100%|██████████| 3/3 [00:15<00:00,  5.05s/batch, loss=1.11, precision=0.182, recall=0.168]\n"
     ]
    },
    {
     "name": "stdout",
     "output_type": "stream",
     "text": [
      "val Loss: 1.1052626768747966\n",
      "val Precision: 0.241323322057724\n",
      "val Recall: 0.2336277316013972\n"
     ]
    },
    {
     "name": "stderr",
     "output_type": "stream",
     "text": [
      "Epoch: 32: 100%|██████████| 220/220 [04:48<00:00,  1.31s/batch, loss=0.825, precision=0.278, recall=0.259]\n"
     ]
    },
    {
     "name": "stdout",
     "output_type": "stream",
     "text": [
      "train Loss: 0.9143967845223167\n",
      "train Precision: 0.3308683281595057\n",
      "train Recall: 0.34819099605083464\n"
     ]
    },
    {
     "name": "stderr",
     "output_type": "stream",
     "text": [
      "Epoch: 32: 100%|██████████| 3/3 [00:15<00:00,  5.02s/batch, loss=1.01, precision=0.226, recall=0.216]\n"
     ]
    },
    {
     "name": "stdout",
     "output_type": "stream",
     "text": [
      "val Loss: 1.020235260327657\n",
      "val Precision: 0.26645858585834503\n",
      "val Recall: 0.29282285769780475\n"
     ]
    },
    {
     "name": "stderr",
     "output_type": "stream",
     "text": [
      "Epoch: 33: 100%|██████████| 220/220 [04:49<00:00,  1.32s/batch, loss=0.893, precision=0.332, recall=0.333]\n"
     ]
    },
    {
     "name": "stdout",
     "output_type": "stream",
     "text": [
      "train Loss: 0.9019388903271068\n",
      "train Precision: 0.3362027111378583\n",
      "train Recall: 0.35595535324378447\n"
     ]
    },
    {
     "name": "stderr",
     "output_type": "stream",
     "text": [
      "Epoch: 33: 100%|██████████| 3/3 [00:15<00:00,  5.00s/batch, loss=1.02, precision=0.221, recall=0.204] \n"
     ]
    },
    {
     "name": "stdout",
     "output_type": "stream",
     "text": [
      "val Loss: 0.9734000166257223\n",
      "val Precision: 0.27425690988699597\n",
      "val Recall: 0.2768150915702184\n"
     ]
    },
    {
     "name": "stderr",
     "output_type": "stream",
     "text": [
      "Epoch: 34: 100%|██████████| 220/220 [04:46<00:00,  1.30s/batch, loss=1.19, precision=0.246, recall=0.236] \n"
     ]
    },
    {
     "name": "stdout",
     "output_type": "stream",
     "text": [
      "train Loss: 0.9004599657925693\n",
      "train Precision: 0.3343397754159841\n",
      "train Recall: 0.3506618316877972\n"
     ]
    },
    {
     "name": "stderr",
     "output_type": "stream",
     "text": [
      "Epoch: 34: 100%|██████████| 3/3 [00:15<00:00,  5.05s/batch, loss=1.01, precision=0.219, recall=0.192]\n"
     ]
    },
    {
     "name": "stdout",
     "output_type": "stream",
     "text": [
      "val Loss: 1.1657838821411133\n",
      "val Precision: 0.2687541991472244\n",
      "val Recall: 0.25460898379484814\n"
     ]
    },
    {
     "name": "stderr",
     "output_type": "stream",
     "text": [
      "Epoch: 35: 100%|██████████| 220/220 [04:47<00:00,  1.31s/batch, loss=1.21, precision=0.337, recall=0.357] \n"
     ]
    },
    {
     "name": "stdout",
     "output_type": "stream",
     "text": [
      "train Loss: 0.8953490501100366\n",
      "train Precision: 0.33849556730552155\n",
      "train Recall: 0.3590800798752091\n"
     ]
    },
    {
     "name": "stderr",
     "output_type": "stream",
     "text": [
      "Epoch: 35: 100%|██████████| 3/3 [00:15<00:00,  5.02s/batch, loss=0.917, precision=0.224, recall=0.214]\n"
     ]
    },
    {
     "name": "stdout",
     "output_type": "stream",
     "text": [
      "val Loss: 0.9350868860880533\n",
      "val Precision: 0.27992667257785797\n",
      "val Recall: 0.29163510104020435\n"
     ]
    },
    {
     "name": "stderr",
     "output_type": "stream",
     "text": [
      "Epoch: 36: 100%|██████████| 220/220 [04:48<00:00,  1.31s/batch, loss=0.911, precision=0.306, recall=0.325]\n"
     ]
    },
    {
     "name": "stdout",
     "output_type": "stream",
     "text": [
      "train Loss: 0.89022894366221\n",
      "train Precision: 0.33824656212871723\n",
      "train Recall: 0.35641612085429103\n"
     ]
    },
    {
     "name": "stderr",
     "output_type": "stream",
     "text": [
      "Epoch: 36: 100%|██████████| 3/3 [00:15<00:00,  5.04s/batch, loss=0.976, precision=0.205, recall=0.186]\n"
     ]
    },
    {
     "name": "stdout",
     "output_type": "stream",
     "text": [
      "val Loss: 0.9909721811612447\n",
      "val Precision: 0.2710571636756261\n",
      "val Recall: 0.2706120014190674\n"
     ]
    },
    {
     "name": "stderr",
     "output_type": "stream",
     "text": [
      "Epoch: 37: 100%|██████████| 220/220 [04:48<00:00,  1.31s/batch, loss=0.961, precision=0.323, recall=0.327]\n"
     ]
    },
    {
     "name": "stdout",
     "output_type": "stream",
     "text": [
      "train Loss: 0.8847180461341685\n",
      "train Precision: 0.34108270745385777\n",
      "train Recall: 0.35908844741907986\n"
     ]
    },
    {
     "name": "stderr",
     "output_type": "stream",
     "text": [
      "Epoch: 37: 100%|██████████| 3/3 [00:15<00:00,  5.03s/batch, loss=1.13, precision=0.198, recall=0.189]\n"
     ]
    },
    {
     "name": "stdout",
     "output_type": "stream",
     "text": [
      "val Loss: 1.0572083393732707\n",
      "val Precision: 0.2826782613992691\n",
      "val Recall: 0.28018131852149963\n"
     ]
    },
    {
     "name": "stderr",
     "output_type": "stream",
     "text": [
      "Epoch: 38: 100%|██████████| 220/220 [04:47<00:00,  1.30s/batch, loss=0.799, precision=0.296, recall=0.302]\n"
     ]
    },
    {
     "name": "stdout",
     "output_type": "stream",
     "text": [
      "train Loss: 0.8793634864416989\n",
      "train Precision: 0.3404624288732355\n",
      "train Recall: 0.3580803551457145\n"
     ]
    },
    {
     "name": "stderr",
     "output_type": "stream",
     "text": [
      "Epoch: 38: 100%|██████████| 3/3 [00:15<00:00,  5.04s/batch, loss=1.24, precision=0.165, recall=0.158]\n"
     ]
    },
    {
     "name": "stdout",
     "output_type": "stream",
     "text": [
      "val Loss: 1.181321422259013\n",
      "val Precision: 0.24051849047342935\n",
      "val Recall: 0.260974258184433\n"
     ]
    },
    {
     "name": "stderr",
     "output_type": "stream",
     "text": [
      "Epoch: 39: 100%|██████████| 220/220 [04:46<00:00,  1.30s/batch, loss=0.939, precision=0.261, recall=0.251]\n"
     ]
    },
    {
     "name": "stdout",
     "output_type": "stream",
     "text": [
      "train Loss: 0.8693702459335327\n",
      "train Precision: 0.3429452511397275\n",
      "train Recall: 0.36243558458306574\n"
     ]
    },
    {
     "name": "stderr",
     "output_type": "stream",
     "text": [
      "Epoch: 39: 100%|██████████| 3/3 [00:15<00:00,  5.02s/batch, loss=0.993, precision=0.214, recall=0.197]\n"
     ]
    },
    {
     "name": "stdout",
     "output_type": "stream",
     "text": [
      "val Loss: 1.0693585872650146\n",
      "val Precision: 0.27446157733599347\n",
      "val Recall: 0.27674567202727\n"
     ]
    },
    {
     "name": "stderr",
     "output_type": "stream",
     "text": [
      "Epoch: 40: 100%|██████████| 220/220 [04:47<00:00,  1.31s/batch, loss=0.956, precision=0.3, recall=0.25]   \n"
     ]
    },
    {
     "name": "stdout",
     "output_type": "stream",
     "text": [
      "train Loss: 0.8650590633804148\n",
      "train Precision: 0.34756736917929215\n",
      "train Recall: 0.3658249697901986\n"
     ]
    },
    {
     "name": "stderr",
     "output_type": "stream",
     "text": [
      "Epoch: 40: 100%|██████████| 3/3 [00:15<00:00,  5.04s/batch, loss=0.902, precision=0.244, recall=0.219]\n"
     ]
    },
    {
     "name": "stdout",
     "output_type": "stream",
     "text": [
      "val Loss: 0.9892418384552002\n",
      "val Precision: 0.27252806226412457\n",
      "val Recall: 0.2805167039235433\n"
     ]
    },
    {
     "name": "stderr",
     "output_type": "stream",
     "text": [
      "Epoch: 41: 100%|██████████| 220/220 [04:47<00:00,  1.31s/batch, loss=0.859, precision=0.308, recall=0.338]\n"
     ]
    },
    {
     "name": "stdout",
     "output_type": "stream",
     "text": [
      "train Loss: 0.8564708517356352\n",
      "train Precision: 0.34761512685905804\n",
      "train Recall: 0.3652134517377073\n"
     ]
    },
    {
     "name": "stderr",
     "output_type": "stream",
     "text": [
      "Epoch: 41: 100%|██████████| 3/3 [00:15<00:00,  5.02s/batch, loss=0.923, precision=0.205, recall=0.19]\n"
     ]
    },
    {
     "name": "stdout",
     "output_type": "stream",
     "text": [
      "val Loss: 1.0237111846605937\n",
      "val Precision: 0.2608177214860916\n",
      "val Recall: 0.26207440594832104\n"
     ]
    },
    {
     "name": "stderr",
     "output_type": "stream",
     "text": [
      "Epoch: 42: 100%|██████████| 220/220 [04:48<00:00,  1.31s/batch, loss=0.836, precision=0.36, recall=0.347] \n"
     ]
    },
    {
     "name": "stdout",
     "output_type": "stream",
     "text": [
      "train Loss: 0.851777037436312\n",
      "train Precision: 0.3499222606420517\n",
      "train Recall: 0.3676608687774702\n"
     ]
    },
    {
     "name": "stderr",
     "output_type": "stream",
     "text": [
      "Epoch: 42: 100%|██████████| 3/3 [00:15<00:00,  5.09s/batch, loss=0.97, precision=0.198, recall=0.2]   \n"
     ]
    },
    {
     "name": "stdout",
     "output_type": "stream",
     "text": [
      "val Loss: 0.9400529265403748\n",
      "val Precision: 0.2711908320585887\n",
      "val Recall: 0.2783200293779373\n"
     ]
    },
    {
     "name": "stderr",
     "output_type": "stream",
     "text": [
      "Epoch: 43: 100%|██████████| 220/220 [04:48<00:00,  1.31s/batch, loss=0.973, precision=0.28, recall=0.252] \n"
     ]
    },
    {
     "name": "stdout",
     "output_type": "stream",
     "text": [
      "train Loss: 0.8535471872849898\n",
      "train Precision: 0.35162248326973483\n",
      "train Recall: 0.3669954085891897\n"
     ]
    },
    {
     "name": "stderr",
     "output_type": "stream",
     "text": [
      "Epoch: 43: 100%|██████████| 3/3 [00:15<00:00,  5.08s/batch, loss=1.05, precision=0.223, recall=0.214]\n"
     ]
    },
    {
     "name": "stdout",
     "output_type": "stream",
     "text": [
      "val Loss: 0.9722621043523153\n",
      "val Precision: 0.2869457006454468\n",
      "val Recall: 0.2903568297624588\n"
     ]
    },
    {
     "name": "stderr",
     "output_type": "stream",
     "text": [
      "Epoch: 44: 100%|██████████| 220/220 [04:48<00:00,  1.31s/batch, loss=1.11, precision=0.374, recall=0.378] \n"
     ]
    },
    {
     "name": "stdout",
     "output_type": "stream",
     "text": [
      "train Loss: 0.8447646888819608\n",
      "train Precision: 0.35302426503463225\n",
      "train Recall: 0.3715841537172144\n"
     ]
    },
    {
     "name": "stderr",
     "output_type": "stream",
     "text": [
      "Epoch: 44: 100%|██████████| 3/3 [00:15<00:00,  5.14s/batch, loss=0.985, precision=0.234, recall=0.228]\n"
     ]
    },
    {
     "name": "stdout",
     "output_type": "stream",
     "text": [
      "val Loss: 0.9798437754313151\n",
      "val Precision: 0.28869736691315967\n",
      "val Recall: 0.3106801211833954\n"
     ]
    },
    {
     "name": "stderr",
     "output_type": "stream",
     "text": [
      "Epoch: 45: 100%|██████████| 220/220 [04:47<00:00,  1.31s/batch, loss=1.19, precision=0.278, recall=0.301] \n"
     ]
    },
    {
     "name": "stdout",
     "output_type": "stream",
     "text": [
      "train Loss: 0.8378603325648741\n",
      "train Precision: 0.3539928522976962\n",
      "train Recall: 0.3712371209805662\n"
     ]
    },
    {
     "name": "stderr",
     "output_type": "stream",
     "text": [
      "Epoch: 45: 100%|██████████| 3/3 [00:15<00:00,  5.11s/batch, loss=0.84, precision=0.235, recall=0.214] \n"
     ]
    },
    {
     "name": "stdout",
     "output_type": "stream",
     "text": [
      "val Loss: 0.903338094552358\n",
      "val Precision: 0.28037577370802563\n",
      "val Recall: 0.2879490753014882\n"
     ]
    },
    {
     "name": "stderr",
     "output_type": "stream",
     "text": [
      "Epoch: 46: 100%|██████████| 220/220 [04:47<00:00,  1.31s/batch, loss=0.905, precision=0.285, recall=0.289]\n"
     ]
    },
    {
     "name": "stdout",
     "output_type": "stream",
     "text": [
      "train Loss: 0.8294073411009528\n",
      "train Precision: 0.3568758861585097\n",
      "train Recall: 0.37371323217045177\n"
     ]
    },
    {
     "name": "stderr",
     "output_type": "stream",
     "text": [
      "Epoch: 46: 100%|██████████| 3/3 [00:15<00:00,  5.06s/batch, loss=1.13, precision=0.205, recall=0.186]\n"
     ]
    },
    {
     "name": "stdout",
     "output_type": "stream",
     "text": [
      "val Loss: 1.1878035465876262\n",
      "val Precision: 0.266891285777092\n",
      "val Recall: 0.25954147676626843\n"
     ]
    },
    {
     "name": "stderr",
     "output_type": "stream",
     "text": [
      "Epoch: 47: 100%|██████████| 220/220 [04:48<00:00,  1.31s/batch, loss=0.707, precision=0.279, recall=0.264]\n"
     ]
    },
    {
     "name": "stdout",
     "output_type": "stream",
     "text": [
      "train Loss: 0.8268329062245109\n",
      "train Precision: 0.35574472519484435\n",
      "train Recall: 0.37495855445211584\n"
     ]
    },
    {
     "name": "stderr",
     "output_type": "stream",
     "text": [
      "Epoch: 47: 100%|██████████| 3/3 [00:15<00:00,  5.09s/batch, loss=0.947, precision=0.239, recall=0.23] \n"
     ]
    },
    {
     "name": "stdout",
     "output_type": "stream",
     "text": [
      "val Loss: 0.9242185354232788\n",
      "val Precision: 0.29332276185353595\n",
      "val Recall: 0.2993132571379344\n"
     ]
    },
    {
     "name": "stderr",
     "output_type": "stream",
     "text": [
      "Epoch: 48: 100%|██████████| 220/220 [04:48<00:00,  1.31s/batch, loss=1.08, precision=0.237, recall=0.225] \n"
     ]
    },
    {
     "name": "stdout",
     "output_type": "stream",
     "text": [
      "train Loss: 0.8242521001534029\n",
      "train Precision: 0.35766827078028157\n",
      "train Recall: 0.3755443300713192\n"
     ]
    },
    {
     "name": "stderr",
     "output_type": "stream",
     "text": [
      "Epoch: 48: 100%|██████████| 3/3 [00:15<00:00,  5.10s/batch, loss=0.992, precision=0.249, recall=0.216]\n"
     ]
    },
    {
     "name": "stdout",
     "output_type": "stream",
     "text": [
      "val Loss: 0.9546052614847819\n",
      "val Precision: 0.2976718842983246\n",
      "val Recall: 0.29288868109385174\n"
     ]
    },
    {
     "name": "stderr",
     "output_type": "stream",
     "text": [
      "Epoch: 49: 100%|██████████| 220/220 [04:47<00:00,  1.31s/batch, loss=0.97, precision=0.37, recall=0.395]  \n"
     ]
    },
    {
     "name": "stdout",
     "output_type": "stream",
     "text": [
      "train Loss: 0.8159813989292491\n",
      "train Precision: 0.3623996901241216\n",
      "train Recall: 0.37760404321280394\n"
     ]
    },
    {
     "name": "stderr",
     "output_type": "stream",
     "text": [
      "Epoch: 49: 100%|██████████| 3/3 [00:15<00:00,  5.07s/batch, loss=0.933, precision=0.243, recall=0.22] \n"
     ]
    },
    {
     "name": "stdout",
     "output_type": "stream",
     "text": [
      "val Loss: 0.9064188400904337\n",
      "val Precision: 0.2875457356373469\n",
      "val Recall: 0.30387507875760394\n",
      "Weight saved for epoch 49.\n"
     ]
    }
   ],
   "source": [
    "batch_size = 228\n",
    "train_dataset = DolphinDataset(train, encoder)\n",
    "val_dataset = DolphinDataset(val, encoder)\n",
    "train_dataloader = DataLoader(train_dataset, batch_size = batch_size, shuffle = True, num_workers = 24, prefetch_factor=2)\n",
    "val_dataloader = DataLoader(val_dataset, batch_size = batch_size, shuffle = False, num_workers = 24, prefetch_factor=2)\n",
    "train_model(train_dataloader, val_dataloader, batch_size=batch_size, weights_path='../../weights/torch_with_momentum_v2/', epochs=50, load_weights='../../weights/torch_with_momentum/49.pth')"
   ]
  },
  {
   "cell_type": "code",
   "execution_count": 14,
   "metadata": {},
   "outputs": [
    {
     "name": "stderr",
     "output_type": "stream",
     "text": [
      "Using cache found in /home/ubuntu/.cache/torch/hub/pytorch_vision_v0.10.0\n",
      "Failed to detect the name of this notebook, you can set it manually with the WANDB_NOTEBOOK_NAME environment variable to enable code saving.\n",
      "\u001b[34m\u001b[1mwandb\u001b[0m: Currently logged in as: \u001b[33myashchks87\u001b[0m. Use \u001b[1m`wandb login --relogin`\u001b[0m to force relogin\n"
     ]
    },
    {
     "data": {
      "text/html": [
       "Tracking run with wandb version 0.15.8"
      ],
      "text/plain": [
       "<IPython.core.display.HTML object>"
      ]
     },
     "metadata": {},
     "output_type": "display_data"
    },
    {
     "data": {
      "text/html": [
       "Run data is saved locally in <code>/home/ubuntu/dolphin_classification/notebooks/wandb/run-20230814_214310-fscenbtw</code>"
      ],
      "text/plain": [
       "<IPython.core.display.HTML object>"
      ]
     },
     "metadata": {},
     "output_type": "display_data"
    },
    {
     "data": {
      "text/html": [
       "Syncing run <strong><a href='https://wandb.ai/yashchks87/dolphin/runs/fscenbtw' target=\"_blank\">brisk-wind-59</a></strong> to <a href='https://wandb.ai/yashchks87/dolphin' target=\"_blank\">Weights & Biases</a> (<a href='https://wandb.me/run' target=\"_blank\">docs</a>)<br/>"
      ],
      "text/plain": [
       "<IPython.core.display.HTML object>"
      ]
     },
     "metadata": {},
     "output_type": "display_data"
    },
    {
     "data": {
      "text/html": [
       " View project at <a href='https://wandb.ai/yashchks87/dolphin' target=\"_blank\">https://wandb.ai/yashchks87/dolphin</a>"
      ],
      "text/plain": [
       "<IPython.core.display.HTML object>"
      ]
     },
     "metadata": {},
     "output_type": "display_data"
    },
    {
     "data": {
      "text/html": [
       " View run at <a href='https://wandb.ai/yashchks87/dolphin/runs/fscenbtw' target=\"_blank\">https://wandb.ai/yashchks87/dolphin/runs/fscenbtw</a>"
      ],
      "text/plain": [
       "<IPython.core.display.HTML object>"
      ]
     },
     "metadata": {},
     "output_type": "display_data"
    },
    {
     "name": "stderr",
     "output_type": "stream",
     "text": [
      "Epoch: 0: 100%|██████████| 220/220 [04:54<00:00,  1.34s/batch, loss=0.927, precision=0.313, recall=0.326]\n"
     ]
    },
    {
     "name": "stdout",
     "output_type": "stream",
     "text": [
      "train Loss: 0.8150742996822704\n",
      "train Precision: 0.36185006472197445\n",
      "train Recall: 0.3777628527446227\n"
     ]
    },
    {
     "name": "stderr",
     "output_type": "stream",
     "text": [
      "Epoch: 0: 100%|██████████| 3/3 [00:14<00:00,  4.96s/batch, loss=0.842, precision=0.314, recall=0.324]\n"
     ]
    },
    {
     "name": "stdout",
     "output_type": "stream",
     "text": [
      "val Loss: 0.8067875703175863\n",
      "val Precision: 0.3565037449200948\n",
      "val Recall: 0.3670672873655955\n"
     ]
    },
    {
     "name": "stderr",
     "output_type": "stream",
     "text": [
      "Epoch: 1: 100%|██████████| 220/220 [04:46<00:00,  1.30s/batch, loss=1.04, precision=0.319, recall=0.282] \n"
     ]
    },
    {
     "name": "stdout",
     "output_type": "stream",
     "text": [
      "train Loss: 0.8080849411812696\n",
      "train Precision: 0.3649839918721806\n",
      "train Recall: 0.3837959658015858\n"
     ]
    },
    {
     "name": "stderr",
     "output_type": "stream",
     "text": [
      "Epoch: 1: 100%|██████████| 3/3 [00:14<00:00,  4.97s/batch, loss=0.996, precision=0.303, recall=0.307]\n"
     ]
    },
    {
     "name": "stdout",
     "output_type": "stream",
     "text": [
      "val Loss: 0.8659931222597758\n",
      "val Precision: 0.3310832977294922\n",
      "val Recall: 0.3410595456759135\n"
     ]
    },
    {
     "name": "stderr",
     "output_type": "stream",
     "text": [
      "Epoch: 2: 100%|██████████| 220/220 [04:49<00:00,  1.31s/batch, loss=0.803, precision=0.346, recall=0.339]\n"
     ]
    },
    {
     "name": "stdout",
     "output_type": "stream",
     "text": [
      "train Loss: 0.8029281786896966\n",
      "train Precision: 0.3652415041219104\n",
      "train Recall: 0.38340671455318276\n"
     ]
    },
    {
     "name": "stderr",
     "output_type": "stream",
     "text": [
      "Epoch: 2: 100%|██████████| 3/3 [00:14<00:00,  4.99s/batch, loss=0.998, precision=0.311, recall=0.35] \n"
     ]
    },
    {
     "name": "stdout",
     "output_type": "stream",
     "text": [
      "val Loss: 0.9038130640983582\n",
      "val Precision: 0.3419359525044759\n",
      "val Recall: 0.35517186919848126\n"
     ]
    },
    {
     "name": "stderr",
     "output_type": "stream",
     "text": [
      "Epoch: 3: 100%|██████████| 220/220 [04:50<00:00,  1.32s/batch, loss=0.896, precision=0.312, recall=0.343]\n"
     ]
    },
    {
     "name": "stdout",
     "output_type": "stream",
     "text": [
      "train Loss: 0.7950243180448359\n",
      "train Precision: 0.3674051211638884\n",
      "train Recall: 0.3846483360637318\n"
     ]
    },
    {
     "name": "stderr",
     "output_type": "stream",
     "text": [
      "Epoch: 3: 100%|██████████| 3/3 [00:14<00:00,  5.00s/batch, loss=1.07, precision=0.3, recall=0.318]  \n"
     ]
    },
    {
     "name": "stdout",
     "output_type": "stream",
     "text": [
      "val Loss: 1.0502881209055583\n",
      "val Precision: 0.3175743023554484\n",
      "val Recall: 0.31320037444432575\n"
     ]
    },
    {
     "name": "stderr",
     "output_type": "stream",
     "text": [
      "Epoch: 4: 100%|██████████| 220/220 [04:47<00:00,  1.31s/batch, loss=0.803, precision=0.378, recall=0.349]\n"
     ]
    },
    {
     "name": "stdout",
     "output_type": "stream",
     "text": [
      "train Loss: 0.7933542750098489\n",
      "train Precision: 0.37168946510011497\n",
      "train Recall: 0.3901162307370793\n"
     ]
    },
    {
     "name": "stderr",
     "output_type": "stream",
     "text": [
      "Epoch: 4: 100%|██████████| 3/3 [00:14<00:00,  4.97s/batch, loss=0.911, precision=0.311, recall=0.323]\n"
     ]
    },
    {
     "name": "stdout",
     "output_type": "stream",
     "text": [
      "val Loss: 0.8917456070582072\n",
      "val Precision: 0.32712337374687195\n",
      "val Recall: 0.33218581477801007\n"
     ]
    },
    {
     "name": "stderr",
     "output_type": "stream",
     "text": [
      "Epoch: 5: 100%|██████████| 220/220 [04:48<00:00,  1.31s/batch, loss=0.879, precision=0.366, recall=0.296]\n"
     ]
    },
    {
     "name": "stdout",
     "output_type": "stream",
     "text": [
      "train Loss: 0.7858649205077778\n",
      "train Precision: 0.36987599608573046\n",
      "train Recall: 0.3864717395468192\n"
     ]
    },
    {
     "name": "stderr",
     "output_type": "stream",
     "text": [
      "Epoch: 5: 100%|██████████| 3/3 [00:14<00:00,  4.97s/batch, loss=0.817, precision=0.3, recall=0.291]  \n"
     ]
    },
    {
     "name": "stdout",
     "output_type": "stream",
     "text": [
      "val Loss: 0.7879624565442404\n",
      "val Precision: 0.3446854054927826\n",
      "val Recall: 0.3301668067773183\n"
     ]
    },
    {
     "name": "stderr",
     "output_type": "stream",
     "text": [
      "Epoch: 6: 100%|██████████| 220/220 [04:47<00:00,  1.31s/batch, loss=0.914, precision=0.339, recall=0.299]\n"
     ]
    },
    {
     "name": "stdout",
     "output_type": "stream",
     "text": [
      "train Loss: 0.7863514564254067\n",
      "train Precision: 0.37431558790532027\n",
      "train Recall: 0.38947986432097176\n"
     ]
    },
    {
     "name": "stderr",
     "output_type": "stream",
     "text": [
      "Epoch: 6: 100%|██████████| 3/3 [00:14<00:00,  4.98s/batch, loss=1.09, precision=0.277, recall=0.267] \n"
     ]
    },
    {
     "name": "stdout",
     "output_type": "stream",
     "text": [
      "val Loss: 0.910059372584025\n",
      "val Precision: 0.33575249711672467\n",
      "val Recall: 0.3300041655699412\n"
     ]
    },
    {
     "name": "stderr",
     "output_type": "stream",
     "text": [
      "Epoch: 7: 100%|██████████| 220/220 [04:47<00:00,  1.31s/batch, loss=0.902, precision=0.311, recall=0.31] \n"
     ]
    },
    {
     "name": "stdout",
     "output_type": "stream",
     "text": [
      "train Loss: 0.7815530706535686\n",
      "train Precision: 0.3753741643645547\n",
      "train Recall: 0.39189289754087275\n"
     ]
    },
    {
     "name": "stderr",
     "output_type": "stream",
     "text": [
      "Epoch: 7: 100%|██████████| 3/3 [00:14<00:00,  4.97s/batch, loss=1.02, precision=0.27, recall=0.239]  \n"
     ]
    },
    {
     "name": "stdout",
     "output_type": "stream",
     "text": [
      "val Loss: 0.8872178594271342\n",
      "val Precision: 0.34128958980242413\n",
      "val Recall: 0.32311858733495075\n"
     ]
    },
    {
     "name": "stderr",
     "output_type": "stream",
     "text": [
      "Epoch: 8: 100%|██████████| 220/220 [04:48<00:00,  1.31s/batch, loss=0.829, precision=0.296, recall=0.281]\n"
     ]
    },
    {
     "name": "stdout",
     "output_type": "stream",
     "text": [
      "train Loss: 0.7717477297241038\n",
      "train Precision: 0.37753918279301035\n",
      "train Recall: 0.39677739292383196\n"
     ]
    },
    {
     "name": "stderr",
     "output_type": "stream",
     "text": [
      "Epoch: 8: 100%|██████████| 3/3 [00:14<00:00,  4.97s/batch, loss=0.877, precision=0.312, recall=0.29] \n"
     ]
    },
    {
     "name": "stdout",
     "output_type": "stream",
     "text": [
      "val Loss: 0.8464662035306295\n",
      "val Precision: 0.3328419327735901\n",
      "val Recall: 0.3212335407733917\n"
     ]
    },
    {
     "name": "stderr",
     "output_type": "stream",
     "text": [
      "Epoch: 9: 100%|██████████| 220/220 [04:47<00:00,  1.31s/batch, loss=0.989, precision=0.308, recall=0.306]\n"
     ]
    },
    {
     "name": "stdout",
     "output_type": "stream",
     "text": [
      "train Loss: 0.7681036507541483\n",
      "train Precision: 0.37591664628549054\n",
      "train Recall: 0.39373844211751763\n"
     ]
    },
    {
     "name": "stderr",
     "output_type": "stream",
     "text": [
      "Epoch: 9: 100%|██████████| 3/3 [00:14<00:00,  4.97s/batch, loss=1.03, precision=0.302, recall=0.343]\n"
     ]
    },
    {
     "name": "stdout",
     "output_type": "stream",
     "text": [
      "val Loss: 0.8848064740498861\n",
      "val Precision: 0.3518722355365753\n",
      "val Recall: 0.3582843244075775\n"
     ]
    },
    {
     "name": "stderr",
     "output_type": "stream",
     "text": [
      "Epoch: 10: 100%|██████████| 220/220 [04:48<00:00,  1.31s/batch, loss=0.92, precision=0.275, recall=0.247] \n"
     ]
    },
    {
     "name": "stdout",
     "output_type": "stream",
     "text": [
      "train Loss: 0.7677975215695121\n",
      "train Precision: 0.37900744595310903\n",
      "train Recall: 0.39791373441165145\n"
     ]
    },
    {
     "name": "stderr",
     "output_type": "stream",
     "text": [
      "Epoch: 10: 100%|██████████| 3/3 [00:14<00:00,  4.97s/batch, loss=0.8, precision=0.306, recall=0.308]  \n"
     ]
    },
    {
     "name": "stdout",
     "output_type": "stream",
     "text": [
      "val Loss: 0.8072806398073832\n",
      "val Precision: 0.3420444031556447\n",
      "val Recall: 0.3397347927093506\n"
     ]
    },
    {
     "name": "stderr",
     "output_type": "stream",
     "text": [
      "Epoch: 11: 100%|██████████| 220/220 [04:47<00:00,  1.31s/batch, loss=0.825, precision=0.402, recall=0.384]\n"
     ]
    },
    {
     "name": "stdout",
     "output_type": "stream",
     "text": [
      "train Loss: 0.7613899393515153\n",
      "train Precision: 0.3814041256904602\n",
      "train Recall: 0.39918473295190116\n"
     ]
    },
    {
     "name": "stderr",
     "output_type": "stream",
     "text": [
      "Epoch: 11: 100%|██████████| 3/3 [00:14<00:00,  4.94s/batch, loss=0.873, precision=0.298, recall=0.374]\n"
     ]
    },
    {
     "name": "stdout",
     "output_type": "stream",
     "text": [
      "val Loss: 0.8783645431200663\n",
      "val Precision: 0.3568824628988902\n",
      "val Recall: 0.380744347969691\n"
     ]
    },
    {
     "name": "stderr",
     "output_type": "stream",
     "text": [
      "Epoch: 12: 100%|██████████| 220/220 [04:47<00:00,  1.31s/batch, loss=0.985, precision=0.244, recall=0.3]  \n"
     ]
    },
    {
     "name": "stdout",
     "output_type": "stream",
     "text": [
      "train Loss: 0.7615031009370631\n",
      "train Precision: 0.3835902355611324\n",
      "train Recall: 0.4025332220576026\n"
     ]
    },
    {
     "name": "stderr",
     "output_type": "stream",
     "text": [
      "Epoch: 12: 100%|██████████| 3/3 [00:14<00:00,  4.97s/batch, loss=0.793, precision=0.311, recall=0.324]\n"
     ]
    },
    {
     "name": "stdout",
     "output_type": "stream",
     "text": [
      "val Loss: 0.756388247013092\n",
      "val Precision: 0.34876325726509094\n",
      "val Recall: 0.34441228707631427\n"
     ]
    },
    {
     "name": "stderr",
     "output_type": "stream",
     "text": [
      "Epoch: 13: 100%|██████████| 220/220 [04:47<00:00,  1.31s/batch, loss=0.821, precision=0.36, recall=0.352] \n"
     ]
    },
    {
     "name": "stdout",
     "output_type": "stream",
     "text": [
      "train Loss: 0.7536544607444243\n",
      "train Precision: 0.38117625130848454\n",
      "train Recall: 0.3979867416349324\n"
     ]
    },
    {
     "name": "stderr",
     "output_type": "stream",
     "text": [
      "Epoch: 13: 100%|██████████| 3/3 [00:14<00:00,  4.96s/batch, loss=0.933, precision=0.273, recall=0.262]\n"
     ]
    },
    {
     "name": "stdout",
     "output_type": "stream",
     "text": [
      "val Loss: 0.8575251897176107\n",
      "val Precision: 0.33456191420555115\n",
      "val Recall: 0.3240716556708018\n"
     ]
    },
    {
     "name": "stderr",
     "output_type": "stream",
     "text": [
      "Epoch: 14: 100%|██████████| 220/220 [04:47<00:00,  1.30s/batch, loss=0.899, precision=0.259, recall=0.251]\n"
     ]
    },
    {
     "name": "stdout",
     "output_type": "stream",
     "text": [
      "train Loss: 0.7481370790438219\n",
      "train Precision: 0.38355661549351433\n",
      "train Recall: 0.4002975703640418\n"
     ]
    },
    {
     "name": "stderr",
     "output_type": "stream",
     "text": [
      "Epoch: 14: 100%|██████████| 3/3 [00:14<00:00,  4.97s/batch, loss=0.872, precision=0.306, recall=0.313]\n"
     ]
    },
    {
     "name": "stdout",
     "output_type": "stream",
     "text": [
      "val Loss: 0.8285531798998514\n",
      "val Precision: 0.34854493538538617\n",
      "val Recall: 0.35942669709523517\n"
     ]
    },
    {
     "name": "stderr",
     "output_type": "stream",
     "text": [
      "Epoch: 15: 100%|██████████| 220/220 [04:47<00:00,  1.31s/batch, loss=0.881, precision=0.32, recall=0.329] \n"
     ]
    },
    {
     "name": "stdout",
     "output_type": "stream",
     "text": [
      "train Loss: 0.742505389993841\n",
      "train Precision: 0.3879366519776258\n",
      "train Recall: 0.40299862853505397\n"
     ]
    },
    {
     "name": "stderr",
     "output_type": "stream",
     "text": [
      "Epoch: 15: 100%|██████████| 3/3 [00:14<00:00,  4.99s/batch, loss=0.805, precision=0.317, recall=0.323]\n"
     ]
    },
    {
     "name": "stdout",
     "output_type": "stream",
     "text": [
      "val Loss: 0.8322446544965109\n",
      "val Precision: 0.3664831022421519\n",
      "val Recall: 0.3778500556945801\n"
     ]
    },
    {
     "name": "stderr",
     "output_type": "stream",
     "text": [
      "Epoch: 16: 100%|██████████| 220/220 [04:48<00:00,  1.31s/batch, loss=0.697, precision=0.415, recall=0.442]\n"
     ]
    },
    {
     "name": "stdout",
     "output_type": "stream",
     "text": [
      "train Loss: 0.7360176679762926\n",
      "train Precision: 0.38931286456910047\n",
      "train Recall: 0.40737517909570176\n"
     ]
    },
    {
     "name": "stderr",
     "output_type": "stream",
     "text": [
      "Epoch: 16: 100%|██████████| 3/3 [00:14<00:00,  4.97s/batch, loss=0.709, precision=0.325, recall=0.334]\n"
     ]
    },
    {
     "name": "stdout",
     "output_type": "stream",
     "text": [
      "val Loss: 0.8194343249003092\n",
      "val Precision: 0.3376158078511556\n",
      "val Recall: 0.3349183201789856\n"
     ]
    },
    {
     "name": "stderr",
     "output_type": "stream",
     "text": [
      "Epoch: 17: 100%|██████████| 220/220 [04:48<00:00,  1.31s/batch, loss=0.772, precision=0.331, recall=0.34] \n"
     ]
    },
    {
     "name": "stdout",
     "output_type": "stream",
     "text": [
      "train Loss: 0.7349985404448076\n",
      "train Precision: 0.3939900528300892\n",
      "train Recall: 0.4106453909115358\n"
     ]
    },
    {
     "name": "stderr",
     "output_type": "stream",
     "text": [
      "Epoch: 17: 100%|██████████| 3/3 [00:15<00:00,  5.06s/batch, loss=1.02, precision=0.285, recall=0.265]\n"
     ]
    },
    {
     "name": "stdout",
     "output_type": "stream",
     "text": [
      "val Loss: 1.0720898310343425\n",
      "val Precision: 0.3270522356033325\n",
      "val Recall: 0.30588958660761517\n"
     ]
    },
    {
     "name": "stderr",
     "output_type": "stream",
     "text": [
      "Epoch: 18: 100%|██████████| 220/220 [04:48<00:00,  1.31s/batch, loss=0.664, precision=0.412, recall=0.379]\n"
     ]
    },
    {
     "name": "stdout",
     "output_type": "stream",
     "text": [
      "train Loss: 0.7296694844961167\n",
      "train Precision: 0.3907530588182536\n",
      "train Recall: 0.4100087119774385\n"
     ]
    },
    {
     "name": "stderr",
     "output_type": "stream",
     "text": [
      "Epoch: 18: 100%|██████████| 3/3 [00:14<00:00,  4.98s/batch, loss=0.796, precision=0.34, recall=0.343]\n"
     ]
    },
    {
     "name": "stdout",
     "output_type": "stream",
     "text": [
      "val Loss: 0.8061886231104533\n",
      "val Precision: 0.35962165395418805\n",
      "val Recall: 0.35753726959228516\n"
     ]
    },
    {
     "name": "stderr",
     "output_type": "stream",
     "text": [
      "Epoch: 19: 100%|██████████| 220/220 [04:47<00:00,  1.31s/batch, loss=0.798, precision=0.385, recall=0.379]\n"
     ]
    },
    {
     "name": "stdout",
     "output_type": "stream",
     "text": [
      "train Loss: 0.7257068699056451\n",
      "train Precision: 0.39373784864490685\n",
      "train Recall: 0.4126260202039372\n"
     ]
    },
    {
     "name": "stderr",
     "output_type": "stream",
     "text": [
      "Epoch: 19: 100%|██████████| 3/3 [00:15<00:00,  5.03s/batch, loss=0.916, precision=0.306, recall=0.289]\n"
     ]
    },
    {
     "name": "stdout",
     "output_type": "stream",
     "text": [
      "val Loss: 0.8121600349744161\n",
      "val Precision: 0.387288898229599\n",
      "val Recall: 0.37737470865249634\n"
     ]
    },
    {
     "name": "stderr",
     "output_type": "stream",
     "text": [
      "Epoch: 20: 100%|██████████| 220/220 [04:47<00:00,  1.31s/batch, loss=0.794, precision=0.327, recall=0.347]\n"
     ]
    },
    {
     "name": "stdout",
     "output_type": "stream",
     "text": [
      "train Loss: 0.7219033699144016\n",
      "train Precision: 0.3941009153019298\n",
      "train Recall: 0.4115028195760467\n"
     ]
    },
    {
     "name": "stderr",
     "output_type": "stream",
     "text": [
      "Epoch: 20: 100%|██████████| 3/3 [00:14<00:00,  4.97s/batch, loss=0.859, precision=0.301, recall=0.31] \n"
     ]
    },
    {
     "name": "stdout",
     "output_type": "stream",
     "text": [
      "val Loss: 0.7649394472440084\n",
      "val Precision: 0.38908424973487854\n",
      "val Recall: 0.3889859120051066\n"
     ]
    },
    {
     "name": "stderr",
     "output_type": "stream",
     "text": [
      "Epoch: 21: 100%|██████████| 220/220 [04:47<00:00,  1.31s/batch, loss=0.815, precision=0.318, recall=0.343]\n"
     ]
    },
    {
     "name": "stdout",
     "output_type": "stream",
     "text": [
      "train Loss: 0.718342881582\n",
      "train Precision: 0.3955442096699368\n",
      "train Recall: 0.41345864520831543\n"
     ]
    },
    {
     "name": "stderr",
     "output_type": "stream",
     "text": [
      "Epoch: 21: 100%|██████████| 3/3 [00:14<00:00,  4.98s/batch, loss=0.944, precision=0.312, recall=0.314]\n"
     ]
    },
    {
     "name": "stdout",
     "output_type": "stream",
     "text": [
      "val Loss: 0.8555024464925131\n",
      "val Precision: 0.34937212864557904\n",
      "val Recall: 0.35584651430447894\n"
     ]
    },
    {
     "name": "stderr",
     "output_type": "stream",
     "text": [
      "Epoch: 22: 100%|██████████| 220/220 [04:47<00:00,  1.31s/batch, loss=1.05, precision=0.349, recall=0.341] \n"
     ]
    },
    {
     "name": "stdout",
     "output_type": "stream",
     "text": [
      "train Loss: 0.7161350762302225\n",
      "train Precision: 0.39860361286185003\n",
      "train Recall: 0.41462793255394154\n"
     ]
    },
    {
     "name": "stderr",
     "output_type": "stream",
     "text": [
      "Epoch: 22: 100%|██████████| 3/3 [00:14<00:00,  4.97s/batch, loss=0.985, precision=0.295, recall=0.289]\n"
     ]
    },
    {
     "name": "stdout",
     "output_type": "stream",
     "text": [
      "val Loss: 0.9117575089136759\n",
      "val Precision: 0.33514606952667236\n",
      "val Recall: 0.3411738375822703\n"
     ]
    },
    {
     "name": "stderr",
     "output_type": "stream",
     "text": [
      "Epoch: 23: 100%|██████████| 220/220 [04:47<00:00,  1.31s/batch, loss=0.766, precision=0.385, recall=0.385]\n"
     ]
    },
    {
     "name": "stdout",
     "output_type": "stream",
     "text": [
      "train Loss: 0.7032179244539954\n",
      "train Precision: 0.40481290045109664\n",
      "train Recall: 0.4229343441399661\n"
     ]
    },
    {
     "name": "stderr",
     "output_type": "stream",
     "text": [
      "Epoch: 23: 100%|██████████| 3/3 [00:15<00:00,  5.04s/batch, loss=0.642, precision=0.326, recall=0.341]\n"
     ]
    },
    {
     "name": "stdout",
     "output_type": "stream",
     "text": [
      "val Loss: 0.6986611684163412\n",
      "val Precision: 0.3705102602640788\n",
      "val Recall: 0.38167811433474225\n"
     ]
    },
    {
     "name": "stderr",
     "output_type": "stream",
     "text": [
      "Epoch: 24: 100%|██████████| 220/220 [04:48<00:00,  1.31s/batch, loss=1.17, precision=0.342, recall=0.342] \n"
     ]
    },
    {
     "name": "stdout",
     "output_type": "stream",
     "text": [
      "train Loss: 0.7050560035488822\n",
      "train Precision: 0.4054015043106946\n",
      "train Recall: 0.42388220483606515\n"
     ]
    },
    {
     "name": "stderr",
     "output_type": "stream",
     "text": [
      "Epoch: 24: 100%|██████████| 3/3 [00:14<00:00,  4.96s/batch, loss=0.783, precision=0.314, recall=0.311]\n"
     ]
    },
    {
     "name": "stdout",
     "output_type": "stream",
     "text": [
      "val Loss: 0.7117413878440857\n",
      "val Precision: 0.36107004682223004\n",
      "val Recall: 0.35454708337783813\n"
     ]
    },
    {
     "name": "stderr",
     "output_type": "stream",
     "text": [
      "Epoch: 25: 100%|██████████| 220/220 [04:48<00:00,  1.31s/batch, loss=0.851, precision=0.402, recall=0.37] \n"
     ]
    },
    {
     "name": "stdout",
     "output_type": "stream",
     "text": [
      "train Loss: 0.699086293849078\n",
      "train Precision: 0.4022645766084844\n",
      "train Recall: 0.41780521138147875\n"
     ]
    },
    {
     "name": "stderr",
     "output_type": "stream",
     "text": [
      "Epoch: 25: 100%|██████████| 3/3 [00:14<00:00,  4.98s/batch, loss=0.732, precision=0.359, recall=0.365]\n"
     ]
    },
    {
     "name": "stdout",
     "output_type": "stream",
     "text": [
      "val Loss: 0.72468235095342\n",
      "val Precision: 0.381459504365921\n",
      "val Recall: 0.3791188398996989\n"
     ]
    },
    {
     "name": "stderr",
     "output_type": "stream",
     "text": [
      "Epoch: 26: 100%|██████████| 220/220 [04:47<00:00,  1.31s/batch, loss=0.582, precision=0.405, recall=0.357]\n"
     ]
    },
    {
     "name": "stdout",
     "output_type": "stream",
     "text": [
      "train Loss: 0.6984811677174134\n",
      "train Precision: 0.4064479635520415\n",
      "train Recall: 0.42400109469890596\n"
     ]
    },
    {
     "name": "stderr",
     "output_type": "stream",
     "text": [
      "Epoch: 26: 100%|██████████| 3/3 [00:14<00:00,  4.96s/batch, loss=0.75, precision=0.322, recall=0.33]  \n"
     ]
    },
    {
     "name": "stdout",
     "output_type": "stream",
     "text": [
      "val Loss: 0.7854738235473633\n",
      "val Precision: 0.3727538386980693\n",
      "val Recall: 0.35994018117586773\n"
     ]
    },
    {
     "name": "stderr",
     "output_type": "stream",
     "text": [
      "Epoch: 27: 100%|██████████| 220/220 [04:47<00:00,  1.31s/batch, loss=0.855, precision=0.39, recall=0.335] \n"
     ]
    },
    {
     "name": "stdout",
     "output_type": "stream",
     "text": [
      "train Loss: 0.6928862772204659\n",
      "train Precision: 0.40648623515259136\n",
      "train Recall: 0.4214110732078552\n"
     ]
    },
    {
     "name": "stderr",
     "output_type": "stream",
     "text": [
      "Epoch: 27: 100%|██████████| 3/3 [00:14<00:00,  5.00s/batch, loss=0.669, precision=0.406, recall=0.431]\n"
     ]
    },
    {
     "name": "stdout",
     "output_type": "stream",
     "text": [
      "val Loss: 0.6747016509373983\n",
      "val Precision: 0.4127143820126851\n",
      "val Recall: 0.437444011370341\n"
     ]
    },
    {
     "name": "stderr",
     "output_type": "stream",
     "text": [
      "Epoch: 28: 100%|██████████| 220/220 [04:48<00:00,  1.31s/batch, loss=0.704, precision=0.345, recall=0.334]\n"
     ]
    },
    {
     "name": "stdout",
     "output_type": "stream",
     "text": [
      "train Loss: 0.6872736808928577\n",
      "train Precision: 0.4073738626458428\n",
      "train Recall: 0.42371016104112974\n"
     ]
    },
    {
     "name": "stderr",
     "output_type": "stream",
     "text": [
      "Epoch: 28: 100%|██████████| 3/3 [00:14<00:00,  5.00s/batch, loss=0.829, precision=0.307, recall=0.31] \n"
     ]
    },
    {
     "name": "stdout",
     "output_type": "stream",
     "text": [
      "val Loss: 0.7706375519434611\n",
      "val Precision: 0.3721579412619273\n",
      "val Recall: 0.3626274565855662\n"
     ]
    },
    {
     "name": "stderr",
     "output_type": "stream",
     "text": [
      "Epoch: 29: 100%|██████████| 220/220 [04:48<00:00,  1.31s/batch, loss=0.99, precision=0.351, recall=0.387] \n"
     ]
    },
    {
     "name": "stdout",
     "output_type": "stream",
     "text": [
      "train Loss: 0.6853583959015933\n",
      "train Precision: 0.40669492564418097\n",
      "train Recall: 0.4258017216216434\n"
     ]
    },
    {
     "name": "stderr",
     "output_type": "stream",
     "text": [
      "Epoch: 29: 100%|██████████| 3/3 [00:14<00:00,  4.96s/batch, loss=0.94, precision=0.291, recall=0.285] \n"
     ]
    },
    {
     "name": "stdout",
     "output_type": "stream",
     "text": [
      "val Loss: 0.8151084383328756\n",
      "val Precision: 0.349359263976415\n",
      "val Recall: 0.35860780874888104\n"
     ]
    },
    {
     "name": "stderr",
     "output_type": "stream",
     "text": [
      "Epoch: 30: 100%|██████████| 220/220 [04:49<00:00,  1.31s/batch, loss=0.981, precision=0.354, recall=0.38] \n"
     ]
    },
    {
     "name": "stdout",
     "output_type": "stream",
     "text": [
      "train Loss: 0.6832530277696522\n",
      "train Precision: 0.40643928809599444\n",
      "train Recall: 0.42140128002925353\n"
     ]
    },
    {
     "name": "stderr",
     "output_type": "stream",
     "text": [
      "Epoch: 30: 100%|██████████| 3/3 [00:14<00:00,  4.96s/batch, loss=0.794, precision=0.306, recall=0.298]\n"
     ]
    },
    {
     "name": "stdout",
     "output_type": "stream",
     "text": [
      "val Loss: 0.7096534371376038\n",
      "val Precision: 0.3680221239725749\n",
      "val Recall: 0.36278578639030457\n"
     ]
    },
    {
     "name": "stderr",
     "output_type": "stream",
     "text": [
      "Epoch: 31: 100%|██████████| 220/220 [04:46<00:00,  1.30s/batch, loss=0.925, precision=0.343, recall=0.345]\n"
     ]
    },
    {
     "name": "stdout",
     "output_type": "stream",
     "text": [
      "train Loss: 0.6780137457630852\n",
      "train Precision: 0.4097795233130455\n",
      "train Recall: 0.42665486593138086\n"
     ]
    },
    {
     "name": "stderr",
     "output_type": "stream",
     "text": [
      "Epoch: 31: 100%|██████████| 3/3 [00:14<00:00,  4.98s/batch, loss=0.82, precision=0.315, recall=0.331] \n"
     ]
    },
    {
     "name": "stdout",
     "output_type": "stream",
     "text": [
      "val Loss: 0.7618182897567749\n",
      "val Precision: 0.35912800828615826\n",
      "val Recall: 0.3603399991989136\n"
     ]
    },
    {
     "name": "stderr",
     "output_type": "stream",
     "text": [
      "Epoch: 32: 100%|██████████| 220/220 [04:47<00:00,  1.31s/batch, loss=0.824, precision=0.334, recall=0.283]\n"
     ]
    },
    {
     "name": "stdout",
     "output_type": "stream",
     "text": [
      "train Loss: 0.6738871146332134\n",
      "train Precision: 0.41290366866371847\n",
      "train Recall: 0.42696295394138856\n"
     ]
    },
    {
     "name": "stderr",
     "output_type": "stream",
     "text": [
      "Epoch: 32: 100%|██████████| 3/3 [00:14<00:00,  4.97s/batch, loss=0.879, precision=0.295, recall=0.286]\n"
     ]
    },
    {
     "name": "stdout",
     "output_type": "stream",
     "text": [
      "val Loss: 0.7375810543696085\n",
      "val Precision: 0.37615035971005756\n",
      "val Recall: 0.37553773323694867\n"
     ]
    },
    {
     "name": "stderr",
     "output_type": "stream",
     "text": [
      "Epoch: 33: 100%|██████████| 220/220 [04:48<00:00,  1.31s/batch, loss=0.696, precision=0.308, recall=0.315]\n"
     ]
    },
    {
     "name": "stdout",
     "output_type": "stream",
     "text": [
      "train Loss: 0.666906133835966\n",
      "train Precision: 0.4176383010365746\n",
      "train Recall: 0.43426781499927697\n"
     ]
    },
    {
     "name": "stderr",
     "output_type": "stream",
     "text": [
      "Epoch: 33: 100%|██████████| 3/3 [00:14<00:00,  4.99s/batch, loss=1.19, precision=0.287, recall=0.271] \n"
     ]
    },
    {
     "name": "stdout",
     "output_type": "stream",
     "text": [
      "val Loss: 0.9137994647026062\n",
      "val Precision: 0.3463103075822194\n",
      "val Recall: 0.3360852301120758\n"
     ]
    },
    {
     "name": "stderr",
     "output_type": "stream",
     "text": [
      "Epoch: 34: 100%|██████████| 220/220 [04:47<00:00,  1.31s/batch, loss=0.577, precision=0.362, recall=0.367]\n"
     ]
    },
    {
     "name": "stdout",
     "output_type": "stream",
     "text": [
      "train Loss: 0.6649016571315852\n",
      "train Precision: 0.41342341466383503\n",
      "train Recall: 0.4310146021572026\n"
     ]
    },
    {
     "name": "stderr",
     "output_type": "stream",
     "text": [
      "Epoch: 34: 100%|██████████| 3/3 [00:14<00:00,  4.97s/batch, loss=0.839, precision=0.283, recall=0.311]\n"
     ]
    },
    {
     "name": "stdout",
     "output_type": "stream",
     "text": [
      "val Loss: 0.7297739783922831\n",
      "val Precision: 0.3568940858046214\n",
      "val Recall: 0.37923532724380493\n"
     ]
    },
    {
     "name": "stderr",
     "output_type": "stream",
     "text": [
      "Epoch: 35: 100%|██████████| 220/220 [04:49<00:00,  1.32s/batch, loss=0.889, precision=0.398, recall=0.457]\n"
     ]
    },
    {
     "name": "stdout",
     "output_type": "stream",
     "text": [
      "train Loss: 0.6612253545360132\n",
      "train Precision: 0.42010693577202884\n",
      "train Recall: 0.4368651257319884\n"
     ]
    },
    {
     "name": "stderr",
     "output_type": "stream",
     "text": [
      "Epoch: 35: 100%|██████████| 3/3 [00:15<00:00,  5.01s/batch, loss=0.854, precision=0.341, recall=0.351]\n"
     ]
    },
    {
     "name": "stdout",
     "output_type": "stream",
     "text": [
      "val Loss: 0.8931352496147156\n",
      "val Precision: 0.3692835867404938\n",
      "val Recall: 0.369230717420578\n"
     ]
    },
    {
     "name": "stderr",
     "output_type": "stream",
     "text": [
      "Epoch: 36: 100%|██████████| 220/220 [04:47<00:00,  1.31s/batch, loss=0.664, precision=0.387, recall=0.404]\n"
     ]
    },
    {
     "name": "stdout",
     "output_type": "stream",
     "text": [
      "train Loss: 0.6588506625457243\n",
      "train Precision: 0.4165420949459076\n",
      "train Recall: 0.43192673190073533\n"
     ]
    },
    {
     "name": "stderr",
     "output_type": "stream",
     "text": [
      "Epoch: 36: 100%|██████████| 3/3 [00:15<00:00,  5.00s/batch, loss=0.671, precision=0.362, recall=0.393]\n"
     ]
    },
    {
     "name": "stdout",
     "output_type": "stream",
     "text": [
      "val Loss: 0.6695829033851624\n",
      "val Precision: 0.40170430143674213\n",
      "val Recall: 0.40693838397661847\n"
     ]
    },
    {
     "name": "stderr",
     "output_type": "stream",
     "text": [
      "Epoch: 37: 100%|██████████| 220/220 [04:47<00:00,  1.31s/batch, loss=0.712, precision=0.381, recall=0.36] \n"
     ]
    },
    {
     "name": "stdout",
     "output_type": "stream",
     "text": [
      "train Loss: 0.6512085523117672\n",
      "train Precision: 0.42113247405398974\n",
      "train Recall: 0.4368056190284816\n"
     ]
    },
    {
     "name": "stderr",
     "output_type": "stream",
     "text": [
      "Epoch: 37: 100%|██████████| 3/3 [00:14<00:00,  4.98s/batch, loss=0.868, precision=0.321, recall=0.307]\n"
     ]
    },
    {
     "name": "stdout",
     "output_type": "stream",
     "text": [
      "val Loss: 0.8037556012471517\n",
      "val Precision: 0.3600219488143921\n",
      "val Recall: 0.3688071668148041\n"
     ]
    },
    {
     "name": "stderr",
     "output_type": "stream",
     "text": [
      "Epoch: 38: 100%|██████████| 220/220 [04:49<00:00,  1.31s/batch, loss=0.622, precision=0.37, recall=0.372] \n"
     ]
    },
    {
     "name": "stdout",
     "output_type": "stream",
     "text": [
      "train Loss: 0.6535348071293398\n",
      "train Precision: 0.42040249664675106\n",
      "train Recall: 0.4360998780889945\n"
     ]
    },
    {
     "name": "stderr",
     "output_type": "stream",
     "text": [
      "Epoch: 38: 100%|██████████| 3/3 [00:14<00:00,  4.97s/batch, loss=0.831, precision=0.312, recall=0.336]\n"
     ]
    },
    {
     "name": "stdout",
     "output_type": "stream",
     "text": [
      "val Loss: 0.814219613869985\n",
      "val Precision: 0.35946252942085266\n",
      "val Recall: 0.3625986973444621\n"
     ]
    },
    {
     "name": "stderr",
     "output_type": "stream",
     "text": [
      "Epoch: 39: 100%|██████████| 220/220 [04:47<00:00,  1.31s/batch, loss=0.916, precision=0.405, recall=0.406]\n"
     ]
    },
    {
     "name": "stdout",
     "output_type": "stream",
     "text": [
      "train Loss: 0.6502887969667261\n",
      "train Precision: 0.422031915594231\n",
      "train Recall: 0.4382179019126025\n"
     ]
    },
    {
     "name": "stderr",
     "output_type": "stream",
     "text": [
      "Epoch: 39: 100%|██████████| 3/3 [00:14<00:00,  4.99s/batch, loss=0.901, precision=0.34, recall=0.366] \n"
     ]
    },
    {
     "name": "stdout",
     "output_type": "stream",
     "text": [
      "val Loss: 0.8024796446164449\n",
      "val Precision: 0.39828164378801983\n",
      "val Recall: 0.40517572561899823\n"
     ]
    },
    {
     "name": "stderr",
     "output_type": "stream",
     "text": [
      "Epoch: 40: 100%|██████████| 220/220 [04:47<00:00,  1.31s/batch, loss=1.02, precision=0.43, recall=0.43]   \n"
     ]
    },
    {
     "name": "stdout",
     "output_type": "stream",
     "text": [
      "train Loss: 0.6401067009026354\n",
      "train Precision: 0.42944688214497134\n",
      "train Recall: 0.447081680866805\n"
     ]
    },
    {
     "name": "stderr",
     "output_type": "stream",
     "text": [
      "Epoch: 40: 100%|██████████| 3/3 [00:14<00:00,  4.98s/batch, loss=0.756, precision=0.334, recall=0.341]\n"
     ]
    },
    {
     "name": "stdout",
     "output_type": "stream",
     "text": [
      "val Loss: 0.740842600663503\n",
      "val Precision: 0.36481669545173645\n",
      "val Recall: 0.37955397367477417\n"
     ]
    },
    {
     "name": "stderr",
     "output_type": "stream",
     "text": [
      "Epoch: 41: 100%|██████████| 220/220 [04:47<00:00,  1.31s/batch, loss=0.788, precision=0.418, recall=0.423]\n"
     ]
    },
    {
     "name": "stdout",
     "output_type": "stream",
     "text": [
      "train Loss: 0.6369485637003726\n",
      "train Precision: 0.4269774408503012\n",
      "train Recall: 0.4424284880811518\n"
     ]
    },
    {
     "name": "stderr",
     "output_type": "stream",
     "text": [
      "Epoch: 41: 100%|██████████| 3/3 [00:14<00:00,  4.99s/batch, loss=0.765, precision=0.326, recall=0.322]\n"
     ]
    },
    {
     "name": "stdout",
     "output_type": "stream",
     "text": [
      "val Loss: 0.7155164480209351\n",
      "val Precision: 0.36187751094500226\n",
      "val Recall: 0.36689646045366925\n"
     ]
    },
    {
     "name": "stderr",
     "output_type": "stream",
     "text": [
      "Epoch: 42: 100%|██████████| 220/220 [04:48<00:00,  1.31s/batch, loss=0.576, precision=0.388, recall=0.362]\n"
     ]
    },
    {
     "name": "stdout",
     "output_type": "stream",
     "text": [
      "train Loss: 0.633339280567386\n",
      "train Precision: 0.425187036530538\n",
      "train Recall: 0.4418548043478619\n"
     ]
    },
    {
     "name": "stderr",
     "output_type": "stream",
     "text": [
      "Epoch: 42: 100%|██████████| 3/3 [00:14<00:00,  4.99s/batch, loss=0.737, precision=0.345, recall=0.343]\n"
     ]
    },
    {
     "name": "stdout",
     "output_type": "stream",
     "text": [
      "val Loss: 0.7445680896441141\n",
      "val Precision: 0.3712698618570964\n",
      "val Recall: 0.3683802088101705\n"
     ]
    },
    {
     "name": "stderr",
     "output_type": "stream",
     "text": [
      "Epoch: 43: 100%|██████████| 220/220 [04:46<00:00,  1.30s/batch, loss=0.616, precision=0.456, recall=0.465]\n"
     ]
    },
    {
     "name": "stdout",
     "output_type": "stream",
     "text": [
      "train Loss: 0.6326349962841381\n",
      "train Precision: 0.4280961792577397\n",
      "train Recall: 0.44490682645277546\n"
     ]
    },
    {
     "name": "stderr",
     "output_type": "stream",
     "text": [
      "Epoch: 43: 100%|██████████| 3/3 [00:14<00:00,  4.99s/batch, loss=0.751, precision=0.325, recall=0.325]\n"
     ]
    },
    {
     "name": "stdout",
     "output_type": "stream",
     "text": [
      "val Loss: 0.6914909680684408\n",
      "val Precision: 0.4106937249501546\n",
      "val Recall: 0.40510233243306476\n"
     ]
    },
    {
     "name": "stderr",
     "output_type": "stream",
     "text": [
      "Epoch: 44: 100%|██████████| 220/220 [04:49<00:00,  1.32s/batch, loss=0.711, precision=0.357, recall=0.366]\n"
     ]
    },
    {
     "name": "stdout",
     "output_type": "stream",
     "text": [
      "train Loss: 0.6292892599647696\n",
      "train Precision: 0.4337168503891338\n",
      "train Recall: 0.4502693608403206\n"
     ]
    },
    {
     "name": "stderr",
     "output_type": "stream",
     "text": [
      "Epoch: 44: 100%|██████████| 3/3 [00:14<00:00,  4.97s/batch, loss=0.932, precision=0.29, recall=0.273] \n"
     ]
    },
    {
     "name": "stdout",
     "output_type": "stream",
     "text": [
      "val Loss: 0.8361125588417053\n",
      "val Precision: 0.3573243319988251\n",
      "val Recall: 0.34738075733184814\n"
     ]
    },
    {
     "name": "stderr",
     "output_type": "stream",
     "text": [
      "Epoch: 45: 100%|██████████| 220/220 [04:48<00:00,  1.31s/batch, loss=0.501, precision=0.374, recall=0.401]\n"
     ]
    },
    {
     "name": "stdout",
     "output_type": "stream",
     "text": [
      "train Loss: 0.6241970536383715\n",
      "train Precision: 0.43421024802056224\n",
      "train Recall: 0.45277434397827493\n"
     ]
    },
    {
     "name": "stderr",
     "output_type": "stream",
     "text": [
      "Epoch: 45: 100%|██████████| 3/3 [00:14<00:00,  4.97s/batch, loss=0.66, precision=0.377, recall=0.408] \n"
     ]
    },
    {
     "name": "stdout",
     "output_type": "stream",
     "text": [
      "val Loss: 0.7743937571843466\n",
      "val Precision: 0.39802350600560504\n",
      "val Recall: 0.39582040905952454\n"
     ]
    },
    {
     "name": "stderr",
     "output_type": "stream",
     "text": [
      "Epoch: 46: 100%|██████████| 220/220 [04:48<00:00,  1.31s/batch, loss=0.793, precision=0.382, recall=0.395]\n"
     ]
    },
    {
     "name": "stdout",
     "output_type": "stream",
     "text": [
      "train Loss: 0.6237326189875603\n",
      "train Precision: 0.4339859133416956\n",
      "train Recall: 0.4508629928935658\n"
     ]
    },
    {
     "name": "stderr",
     "output_type": "stream",
     "text": [
      "Epoch: 46: 100%|██████████| 3/3 [00:14<00:00,  4.98s/batch, loss=0.737, precision=0.342, recall=0.364]\n"
     ]
    },
    {
     "name": "stdout",
     "output_type": "stream",
     "text": [
      "val Loss: 0.6967920462290446\n",
      "val Precision: 0.3988989492257436\n",
      "val Recall: 0.4128388961156209\n"
     ]
    },
    {
     "name": "stderr",
     "output_type": "stream",
     "text": [
      "Epoch: 47: 100%|██████████| 220/220 [04:48<00:00,  1.31s/batch, loss=0.972, precision=0.361, recall=0.382]\n"
     ]
    },
    {
     "name": "stdout",
     "output_type": "stream",
     "text": [
      "train Loss: 0.6212023298848759\n",
      "train Precision: 0.43277947049249305\n",
      "train Recall: 0.4461622258478945\n"
     ]
    },
    {
     "name": "stderr",
     "output_type": "stream",
     "text": [
      "Epoch: 47: 100%|██████████| 3/3 [00:14<00:00,  4.99s/batch, loss=0.862, precision=0.317, recall=0.334]\n"
     ]
    },
    {
     "name": "stdout",
     "output_type": "stream",
     "text": [
      "val Loss: 0.7382741371790568\n",
      "val Precision: 0.3905879457791646\n",
      "val Recall: 0.3979930579662323\n"
     ]
    },
    {
     "name": "stderr",
     "output_type": "stream",
     "text": [
      "Epoch: 48: 100%|██████████| 220/220 [04:48<00:00,  1.31s/batch, loss=0.761, precision=0.403, recall=0.376]\n"
     ]
    },
    {
     "name": "stdout",
     "output_type": "stream",
     "text": [
      "train Loss: 0.6142702830108729\n",
      "train Precision: 0.43480069379914893\n",
      "train Recall: 0.4496393008665605\n"
     ]
    },
    {
     "name": "stderr",
     "output_type": "stream",
     "text": [
      "Epoch: 48: 100%|██████████| 3/3 [00:14<00:00,  4.99s/batch, loss=0.799, precision=0.317, recall=0.33] \n"
     ]
    },
    {
     "name": "stdout",
     "output_type": "stream",
     "text": [
      "val Loss: 0.7473748326301575\n",
      "val Precision: 0.3855919639269511\n",
      "val Recall: 0.3904057542483012\n"
     ]
    },
    {
     "name": "stderr",
     "output_type": "stream",
     "text": [
      "Epoch: 49: 100%|██████████| 220/220 [04:49<00:00,  1.31s/batch, loss=0.602, precision=0.445, recall=0.462]\n"
     ]
    },
    {
     "name": "stdout",
     "output_type": "stream",
     "text": [
      "train Loss: 0.6114535589109767\n",
      "train Precision: 0.4383407159285112\n",
      "train Recall: 0.4539801623333584\n"
     ]
    },
    {
     "name": "stderr",
     "output_type": "stream",
     "text": [
      "Epoch: 49: 100%|██████████| 3/3 [00:15<00:00,  5.00s/batch, loss=0.739, precision=0.38, recall=0.4]   \n"
     ]
    },
    {
     "name": "stdout",
     "output_type": "stream",
     "text": [
      "val Loss: 0.6448339025179545\n",
      "val Precision: 0.4128768841425578\n",
      "val Recall: 0.4196360905965169\n",
      "Weight saved for epoch 49.\n"
     ]
    }
   ],
   "source": [
    "batch_size = 228\n",
    "train_dataset = DolphinDataset(train, encoder)\n",
    "val_dataset = DolphinDataset(val, encoder)\n",
    "train_dataloader = DataLoader(train_dataset, batch_size = batch_size, shuffle = True, num_workers = 24, prefetch_factor=2)\n",
    "val_dataloader = DataLoader(val_dataset, batch_size = batch_size, shuffle = False, num_workers = 24, prefetch_factor=2)\n",
    "train_model(train_dataloader, val_dataloader, batch_size=batch_size, weights_path='../../weights/torch_with_momentum_v3/', epochs=50, load_weights='../../weights/torch_with_momentum_v2/49.pth')"
   ]
  },
  {
   "cell_type": "code",
   "execution_count": null,
   "metadata": {},
   "outputs": [],
   "source": []
  }
 ],
 "metadata": {
  "kernelspec": {
   "display_name": "base_env",
   "language": "python",
   "name": "base_env"
  },
  "language_info": {
   "codemirror_mode": {
    "name": "ipython",
    "version": 3
   },
   "file_extension": ".py",
   "mimetype": "text/x-python",
   "name": "python",
   "nbconvert_exporter": "python",
   "pygments_lexer": "ipython3",
   "version": "3.8.10"
  },
  "orig_nbformat": 4
 },
 "nbformat": 4,
 "nbformat_minor": 2
}
