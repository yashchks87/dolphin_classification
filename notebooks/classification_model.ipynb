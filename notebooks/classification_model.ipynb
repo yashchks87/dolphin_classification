{
 "cells": [
  {
   "cell_type": "code",
   "execution_count": 1,
   "metadata": {},
   "outputs": [],
   "source": [
    "import torch\n",
    "import torchvision\n",
    "import PIL\n",
    "import pandas as pd\n",
    "import numpy as np\n",
    "import matplotlib.pyplot as plta\n",
    "import seaborn as sns\n",
    "from sklearn.model_selection import train_test_split\n",
    "from torch.utils.data import Dataset, DataLoader\n",
    "from sklearn.preprocessing import OneHotEncoder\n",
    "import torchvision.transforms.functional as fn\n",
    "from torch import nn\n",
    "import torch.nn.functional as F\n",
    "import wandb\n",
    "import torch.optim as optim\n",
    "from tqdm import tqdm\n",
    "import sys\n",
    "# import autoreload\n",
    "%load_ext autoreload\n",
    "%autoreload 2\n",
    "sys.path.append('../scripts/')\n",
    "from save_model_every_epoch_torch import save_model\n",
    "import warnings\n",
    "warnings.filterwarnings(\"ignore\")\n",
    "from metrics import find_metrics, find_metrics_macro\n",
    "from save_model_every_epoch_torch import save_model"
   ]
  },
  {
   "cell_type": "code",
   "execution_count": 2,
   "metadata": {},
   "outputs": [],
   "source": [
    "multiple_gpus = True\n",
    "if torch.cuda.is_available():\n",
    "    if torch.cuda.device_count() > 1:\n",
    "        multiple_gpus = True\n",
    "    device = torch.device(\"cuda:0\" if torch.cuda.is_available() else \"cpu\")"
   ]
  },
  {
   "cell_type": "code",
   "execution_count": 3,
   "metadata": {},
   "outputs": [],
   "source": [
    "csv_file = pd.read_csv('../../files/train.csv')\n",
    "csv_file['updated_paths'] = csv_file['image'].apply(lambda x: '../../files/train_images/' + x)"
   ]
  },
  {
   "cell_type": "code",
   "execution_count": 4,
   "metadata": {},
   "outputs": [],
   "source": [
    "def split_datasets(csv_file, test_size):\n",
    "    train, test = train_test_split(csv_file, test_size=test_size, random_state=42)\n",
    "    train, val = train_test_split(train, test_size=test_size, random_state=42)\n",
    "    return train, val, test"
   ]
  },
  {
   "cell_type": "code",
   "execution_count": 5,
   "metadata": {},
   "outputs": [],
   "source": [
    "def encoding_data(csv_data):\n",
    "    labels = csv_data['species'].values.tolist()\n",
    "    encoder = OneHotEncoder()\n",
    "    encoder = encoder.fit(np.array(labels).reshape(-1, 1))\n",
    "    return encoder"
   ]
  },
  {
   "cell_type": "code",
   "execution_count": 6,
   "metadata": {},
   "outputs": [],
   "source": [
    "encoder = encoding_data(csv_file)"
   ]
  },
  {
   "cell_type": "code",
   "execution_count": 7,
   "metadata": {},
   "outputs": [],
   "source": [
    "class DolphinDataset(Dataset):\n",
    "    def __init__(self, csv_file, encoder, image_size):\n",
    "        self.csv_file = csv_file\n",
    "        self.images = csv_file['updated_paths'].values.tolist()\n",
    "        self.labels = csv_file['species'].values.tolist()\n",
    "        self.encoder = encoder\n",
    "        self.encoded_labels = self.encoder.transform(np.array(self.labels).reshape(-1, 1)).toarray()\n",
    "        self.convert_rgb = torchvision.transforms.Lambda(lambda x: x.repeat(3, 1, 1))\n",
    "        self.image_size = image_size\n",
    "\n",
    "    def __len__(self):\n",
    "        return len(self.csv_file)\n",
    "\n",
    "    def __getitem__(self, idx):\n",
    "        img = torchvision.io.read_file(self.images[idx])\n",
    "        img = torchvision.io.decode_jpeg(img)\n",
    "        if img.shape[0] != 3:\n",
    "            img = self.convert_rgb(img)\n",
    "        img = torchvision.transforms.functional.resize(img, (self.image_size[0], self.image_size[0]))\n",
    "        img = img / 255.0\n",
    "        return img, torch.Tensor(self.encoded_labels[idx])"
   ]
  },
  {
   "cell_type": "code",
   "execution_count": 8,
   "metadata": {},
   "outputs": [],
   "source": [
    "train, val, test = split_datasets(csv_file, test_size = 0.01)"
   ]
  },
  {
   "cell_type": "code",
   "execution_count": 9,
   "metadata": {},
   "outputs": [],
   "source": [
    "# incep_model = torch.hub.load('pytorch/vision:v0.10.0', 'inception_v3', pretrained = False)"
   ]
  },
  {
   "cell_type": "code",
   "execution_count": 10,
   "metadata": {},
   "outputs": [],
   "source": [
    "def get_model():\n",
    "    incep_model = torch.hub.load('pytorch/vision:v0.10.0', 'inception_v3', pretrained = False)\n",
    "    incep_model.fc = nn.Linear(2048, 30)\n",
    "    return incep_model"
   ]
  },
  {
   "cell_type": "code",
   "execution_count": 11,
   "metadata": {},
   "outputs": [],
   "source": [
    "categorical_cross_entropy = nn.CrossEntropyLoss()"
   ]
  },
  {
   "cell_type": "markdown",
   "metadata": {},
   "source": [
    "Without momentum changes"
   ]
  },
  {
   "cell_type": "code",
   "execution_count": 12,
   "metadata": {},
   "outputs": [],
   "source": [
    "# def train_model(train_dataset, val_dataset, epochs, batch_size, load_weights=None):\n",
    "#     model = get_model()\n",
    "#     wandb.init(project='dolphin',\n",
    "#                config = {\n",
    "#                    'arch' : 'InceptionV4',\n",
    "#                })\n",
    "#     data_pointers = {\n",
    "#         'train' : train_dataset,\n",
    "#         'val' : val_dataset,\n",
    "#     }\n",
    "#     if load_weights != None:\n",
    "#         model.load_state_dict(torch.load(load_weights)['model_state_dict'])\n",
    "#     optimizer = optim.SGD(model.parameters(), lr=0.001)\n",
    "#     if next(model.parameters()).is_cuda == False:\n",
    "#         if multiple_gpus == True:\n",
    "#             model = nn.DataParallel(model)\n",
    "#         model = model.to(device)\n",
    "#     for epoch in range(epochs):\n",
    "#         train_loss= 0.0\n",
    "#         train_prec, train_rec = 0.0, 0.0\n",
    "#         val_loss = 0.0\n",
    "#         val_prec, val_rec = 0.0, 0.0\n",
    "#         for phase in ['train', 'val']:\n",
    "#             if phase == 'train':\n",
    "#                 model.train()\n",
    "#             else:\n",
    "#                 model.eval()\n",
    "#             running_loss, running_precision, running_recall = 0.0, 0.0, 0.0\n",
    "#             with tqdm(data_pointers[phase], unit='batch') as tepoch:\n",
    "#                 for imgs, labels in tepoch:\n",
    "#                     tepoch.set_description(f'Epoch: {epoch}')\n",
    "#                     imgs = imgs.to(device)\n",
    "#                     labels = labels.to(device)\n",
    "#                     optimizer.zero_grad()\n",
    "#                     with torch.set_grad_enabled(phase == 'train'):\n",
    "#                         if phase == 'train':\n",
    "#                             outputs = model(imgs)[0]\n",
    "#                         else:\n",
    "#                             outputs = model(imgs)\n",
    "#                         loss = categorical_cross_entropy(outputs, labels)\n",
    "#                         prec, rec = find_metrics_macro(outputs, labels, batch_size=batch_size)\n",
    "#                         if phase == 'train':\n",
    "#                             loss.backward()\n",
    "#                             optimizer.step()\n",
    "#                     running_loss += loss.item()\n",
    "#                     running_precision += prec.item()\n",
    "#                     running_recall += rec.item()\n",
    "#                     tepoch.set_postfix(loss = loss.item(), precision = prec.item(), recall = rec.item())\n",
    "#             if phase == 'train':\n",
    "#                 train_loss = running_loss / len(train_dataset)\n",
    "#                 train_prec = running_precision / len(train_dataset)\n",
    "#                 train_rec = running_recall / len(train_dataset)\n",
    "#                 print(f'{phase} Loss: {float(train_loss)}')\n",
    "#                 print(f'{phase} Precision: {float(train_prec)}')\n",
    "#                 print(f'{phase} Recall: {float(train_rec)}')\n",
    "#             else:\n",
    "#                 val_loss = running_loss / len(val_dataset)\n",
    "#                 val_prec = running_precision / len(val_dataset)\n",
    "#                 val_rec = running_recall / len(val_dataset)\n",
    "#                 print(f'{phase} Loss: {float(val_loss)}')\n",
    "#                 print(f'{phase} Precision: {float(val_prec)}')\n",
    "#                 print(f'{phase} Recall: {float(val_rec)}')\n",
    "#         wandb.log({\n",
    "#             'train_loss' : train_loss,\n",
    "#             'val_loss' : val_loss,\n",
    "#             'train_precision' : train_prec,\n",
    "#             'train_recall' : train_rec,\n",
    "#             'val_precision' : val_prec,\n",
    "#             'val_recall' : val_rec\n",
    "#         })"
   ]
  },
  {
   "cell_type": "code",
   "execution_count": 13,
   "metadata": {},
   "outputs": [],
   "source": [
    "# batch_size = 228\n",
    "# train_dataset = DolphinDataset(train, encoder)\n",
    "# val_dataset = DolphinDataset(val, encoder)\n",
    "# train_dataloader = DataLoader(train_dataset, batch_size = batch_size, shuffle = True, num_workers = 24, prefetch_factor=2)\n",
    "# val_dataloader = DataLoader(val_dataset, batch_size = batch_size, shuffle = False, num_workers = 24, prefetch_factor=2)\n",
    "# train_model(train_dataloader, val_dataloader, batch_size=batch_size, epochs=50)"
   ]
  },
  {
   "cell_type": "code",
   "execution_count": 14,
   "metadata": {},
   "outputs": [],
   "source": [
    "def train_model(train_dataset, val_dataset, epochs, batch_size, weights_path, load_weights=None):\n",
    "    model = get_model()\n",
    "    optimizer = optim.SGD(model.parameters(), lr=0.001, momentum = 0.5)\n",
    "    wandb.init(project='dolphin',\n",
    "               config = {\n",
    "                   'arch' : 'InceptionV4',\n",
    "                   'batch_size' : batch_size,\n",
    "                   'epochs' : epochs,\n",
    "                   'optimizer' : type(optimizer).__name__,\n",
    "                   'learning rate' : optimizer.param_groups[0]['lr'],\n",
    "                   'momentum' : optimizer.param_groups[0]['momentum'],\n",
    "                   'loss_function' : categorical_cross_entropy,\n",
    "                   'classes' : model.fc.out_features,\n",
    "                   'Data aug' : None\n",
    "               })\n",
    "    data_pointers = {\n",
    "        'train' : train_dataset,\n",
    "        'val' : val_dataset,\n",
    "    }\n",
    "    if load_weights != None:\n",
    "        model.load_state_dict(torch.load(load_weights)['model_state_dict'])\n",
    "    if next(model.parameters()).is_cuda == False:\n",
    "        if multiple_gpus == True:\n",
    "            model = nn.DataParallel(model)\n",
    "        model = model.to(device)\n",
    "    for epoch in range(epochs):\n",
    "        train_loss= 0.0\n",
    "        train_prec, train_rec = 0.0, 0.0\n",
    "        val_loss = 0.0\n",
    "        val_prec, val_rec = 0.0, 0.0\n",
    "        for phase in ['train', 'val']:\n",
    "            if phase == 'train':\n",
    "                model.train()\n",
    "            else:\n",
    "                model.eval()\n",
    "            running_loss, running_precision, running_recall = 0.0, 0.0, 0.0\n",
    "            with tqdm(data_pointers[phase], unit='batch') as tepoch:\n",
    "                for imgs, labels in tepoch:\n",
    "                    tepoch.set_description(f'Epoch: {epoch}')\n",
    "                    imgs = imgs.to(device)\n",
    "                    labels = labels.to(device)\n",
    "                    optimizer.zero_grad()\n",
    "                    with torch.set_grad_enabled(phase == 'train'):\n",
    "                        if phase == 'train':\n",
    "                            outputs = model(imgs)[0]\n",
    "                        else:\n",
    "                            outputs = model(imgs)\n",
    "                        loss = categorical_cross_entropy(outputs, labels)\n",
    "                        prec, rec = find_metrics_macro(outputs, labels, batch_size=batch_size)\n",
    "                        if phase == 'train':\n",
    "                            loss.backward()\n",
    "                            optimizer.step()\n",
    "                    running_loss += loss.item()\n",
    "                    running_precision += prec.item()\n",
    "                    running_recall += rec.item()\n",
    "                    tepoch.set_postfix(loss = loss.item(), precision = prec.item(), recall = rec.item())\n",
    "            if phase == 'train':\n",
    "                train_loss = running_loss / len(train_dataset)\n",
    "                train_prec = running_precision / len(train_dataset)\n",
    "                train_rec = running_recall / len(train_dataset)\n",
    "                print(f'{phase} Loss: {float(train_loss)}')\n",
    "                print(f'{phase} Precision: {float(train_prec)}')\n",
    "                print(f'{phase} Recall: {float(train_rec)}')\n",
    "            else:\n",
    "                val_loss = running_loss / len(val_dataset)\n",
    "                val_prec = running_precision / len(val_dataset)\n",
    "                val_rec = running_recall / len(val_dataset)\n",
    "                print(f'{phase} Loss: {float(val_loss)}')\n",
    "                print(f'{phase} Precision: {float(val_prec)}')\n",
    "                print(f'{phase} Recall: {float(val_rec)}')\n",
    "        wandb.log({\n",
    "            'train_loss' : train_loss,\n",
    "            'val_loss' : val_loss,\n",
    "            'train_precision' : train_prec,\n",
    "            'train_recall' : train_rec,\n",
    "            'val_precision' : val_prec,\n",
    "            'val_recall' : val_rec\n",
    "        })\n",
    "        save_model(model, epoch, optimizer, multiple_gpus, weights_path)"
   ]
  },
  {
   "cell_type": "code",
   "execution_count": 15,
   "metadata": {},
   "outputs": [
    {
     "name": "stderr",
     "output_type": "stream",
     "text": [
      "Using cache found in /home/paperspace/.cache/torch/hub/pytorch_vision_v0.10.0\n",
      "Failed to detect the name of this notebook, you can set it manually with the WANDB_NOTEBOOK_NAME environment variable to enable code saving.\n",
      "\u001b[34m\u001b[1mwandb\u001b[0m: Currently logged in as: \u001b[33myashchks87\u001b[0m. Use \u001b[1m`wandb login --relogin`\u001b[0m to force relogin\n"
     ]
    },
    {
     "data": {
      "text/html": [
       "wandb version 0.15.8 is available!  To upgrade, please run:\n",
       " $ pip install wandb --upgrade"
      ],
      "text/plain": [
       "<IPython.core.display.HTML object>"
      ]
     },
     "metadata": {},
     "output_type": "display_data"
    },
    {
     "data": {
      "text/html": [
       "Tracking run with wandb version 0.13.4"
      ],
      "text/plain": [
       "<IPython.core.display.HTML object>"
      ]
     },
     "metadata": {},
     "output_type": "display_data"
    },
    {
     "data": {
      "text/html": [
       "Run data is saved locally in <code>/home/paperspace/Documents/dolphin_classification/notebooks/wandb/run-20230821_045921-1tdqqipt</code>"
      ],
      "text/plain": [
       "<IPython.core.display.HTML object>"
      ]
     },
     "metadata": {},
     "output_type": "display_data"
    },
    {
     "data": {
      "text/html": [
       "Syncing run <strong><a href=\"https://wandb.ai/yashchks87/dolphin/runs/1tdqqipt\" target=\"_blank\">amber-snowflake-75</a></strong> to <a href=\"https://wandb.ai/yashchks87/dolphin\" target=\"_blank\">Weights & Biases</a> (<a href=\"https://wandb.me/run\" target=\"_blank\">docs</a>)<br/>"
      ],
      "text/plain": [
       "<IPython.core.display.HTML object>"
      ]
     },
     "metadata": {},
     "output_type": "display_data"
    },
    {
     "name": "stderr",
     "output_type": "stream",
     "text": [
      "Epoch: 0: 100%|██████████| 404/404 [11:28<00:00,  1.70s/batch, loss=2.7, precision=0.0556, recall=0.0254]  \n"
     ]
    },
    {
     "name": "stdout",
     "output_type": "stream",
     "text": [
      "train Loss: 2.6736125497534724\n",
      "train Precision: 0.047517704368237\n",
      "train Recall: 0.025553455827573297\n"
     ]
    },
    {
     "name": "stderr",
     "output_type": "stream",
     "text": [
      "Epoch: 0: 100%|██████████| 5/5 [00:15<00:00,  3.13s/batch, loss=2.56, precision=0.05, recall=0.0133]  \n"
     ]
    },
    {
     "name": "stdout",
     "output_type": "stream",
     "text": [
      "val Loss: 2.5309441089630127\n",
      "val Precision: 0.061202745884656906\n",
      "val Recall: 0.02765726950019598\n",
      "Weight saved for epoch 0.\n"
     ]
    },
    {
     "name": "stderr",
     "output_type": "stream",
     "text": [
      "Epoch: 1: 100%|██████████| 404/404 [11:21<00:00,  1.69s/batch, loss=2.33, precision=0.0657, recall=0.0312]\n"
     ]
    },
    {
     "name": "stdout",
     "output_type": "stream",
     "text": [
      "train Loss: 2.4380993766359764\n",
      "train Precision: 0.06521618166145417\n",
      "train Recall: 0.043664905984913654\n"
     ]
    },
    {
     "name": "stderr",
     "output_type": "stream",
     "text": [
      "Epoch: 1: 100%|██████████| 5/5 [00:15<00:00,  3.10s/batch, loss=2.35, precision=0.0667, recall=0.0206]\n"
     ]
    },
    {
     "name": "stdout",
     "output_type": "stream",
     "text": [
      "val Loss: 2.3316623687744142\n",
      "val Precision: 0.07075234800577164\n",
      "val Recall: 0.03708515353500843\n",
      "Weight saved for epoch 1.\n"
     ]
    },
    {
     "name": "stderr",
     "output_type": "stream",
     "text": [
      "Epoch: 2: 100%|██████████| 404/404 [11:22<00:00,  1.69s/batch, loss=2.09, precision=0.0656, recall=0.0744]\n"
     ]
    },
    {
     "name": "stdout",
     "output_type": "stream",
     "text": [
      "train Loss: 2.2770939430978037\n",
      "train Precision: 0.08396517234568548\n",
      "train Recall: 0.07355266257585717\n"
     ]
    },
    {
     "name": "stderr",
     "output_type": "stream",
     "text": [
      "Epoch: 2: 100%|██████████| 5/5 [00:15<00:00,  3.11s/batch, loss=2.23, precision=0.133, recall=0.0917]\n"
     ]
    },
    {
     "name": "stdout",
     "output_type": "stream",
     "text": [
      "val Loss: 2.1917957782745363\n",
      "val Precision: 0.12004639208316803\n",
      "val Recall: 0.10189996510744095\n",
      "Weight saved for epoch 2.\n"
     ]
    },
    {
     "name": "stderr",
     "output_type": "stream",
     "text": [
      "Epoch: 3: 100%|██████████| 404/404 [11:26<00:00,  1.70s/batch, loss=1.94, precision=0.0834, recall=0.0728]\n"
     ]
    },
    {
     "name": "stdout",
     "output_type": "stream",
     "text": [
      "train Loss: 2.1473617689444287\n",
      "train Precision: 0.10480614083975849\n",
      "train Recall: 0.08401126686557389\n"
     ]
    },
    {
     "name": "stderr",
     "output_type": "stream",
     "text": [
      "Epoch: 3: 100%|██████████| 5/5 [00:15<00:00,  3.12s/batch, loss=2.06, precision=0.167, recall=0.131] \n"
     ]
    },
    {
     "name": "stdout",
     "output_type": "stream",
     "text": [
      "val Loss: 2.051199507713318\n",
      "val Precision: 0.1290130138397217\n",
      "val Recall: 0.09847970306873322\n",
      "Weight saved for epoch 3.\n"
     ]
    },
    {
     "name": "stderr",
     "output_type": "stream",
     "text": [
      "Epoch: 4: 100%|██████████| 404/404 [11:21<00:00,  1.69s/batch, loss=2.19, precision=0.139, recall=0.0952] \n"
     ]
    },
    {
     "name": "stdout",
     "output_type": "stream",
     "text": [
      "train Loss: 2.0473607123488247\n",
      "train Precision: 0.11691949101589104\n",
      "train Recall: 0.09313497782712525\n"
     ]
    },
    {
     "name": "stderr",
     "output_type": "stream",
     "text": [
      "Epoch: 4: 100%|██████████| 5/5 [00:15<00:00,  3.10s/batch, loss=2.27, precision=0.05, recall=0.05]   \n"
     ]
    },
    {
     "name": "stdout",
     "output_type": "stream",
     "text": [
      "val Loss: 2.1040886878967284\n",
      "val Precision: 0.11258969455957413\n",
      "val Recall: 0.10438584387302399\n",
      "Weight saved for epoch 4.\n"
     ]
    },
    {
     "name": "stderr",
     "output_type": "stream",
     "text": [
      "Epoch: 5: 100%|██████████| 404/404 [11:21<00:00,  1.69s/batch, loss=1.97, precision=0.114, recall=0.0775] \n"
     ]
    },
    {
     "name": "stdout",
     "output_type": "stream",
     "text": [
      "train Loss: 1.9676758036164954\n",
      "train Precision: 0.1294050281959595\n",
      "train Recall: 0.10611633323870673\n"
     ]
    },
    {
     "name": "stderr",
     "output_type": "stream",
     "text": [
      "Epoch: 5: 100%|██████████| 5/5 [00:15<00:00,  3.09s/batch, loss=2.08, precision=0.1, recall=0.0722]  \n"
     ]
    },
    {
     "name": "stdout",
     "output_type": "stream",
     "text": [
      "val Loss: 1.9896994829177856\n",
      "val Precision: 0.13216127455234528\n",
      "val Recall: 0.10216381251811982\n",
      "Weight saved for epoch 5.\n"
     ]
    },
    {
     "name": "stderr",
     "output_type": "stream",
     "text": [
      "Epoch: 6: 100%|██████████| 404/404 [11:21<00:00,  1.69s/batch, loss=1.89, precision=0.101, recall=0.0726]\n"
     ]
    },
    {
     "name": "stdout",
     "output_type": "stream",
     "text": [
      "train Loss: 1.8903212187313798\n",
      "train Precision: 0.140796816271573\n",
      "train Recall: 0.12096691505965029\n"
     ]
    },
    {
     "name": "stderr",
     "output_type": "stream",
     "text": [
      "Epoch: 6: 100%|██████████| 5/5 [00:15<00:00,  3.05s/batch, loss=2.27, precision=0.0833, recall=0.0833]\n"
     ]
    },
    {
     "name": "stdout",
     "output_type": "stream",
     "text": [
      "val Loss: 1.9554585933685302\n",
      "val Precision: 0.14497522860765458\n",
      "val Recall: 0.12026121318340302\n",
      "Weight saved for epoch 6.\n"
     ]
    },
    {
     "name": "stderr",
     "output_type": "stream",
     "text": [
      "Epoch: 7: 100%|██████████| 404/404 [11:20<00:00,  1.69s/batch, loss=1.51, precision=0.11, recall=0.0951] \n"
     ]
    },
    {
     "name": "stdout",
     "output_type": "stream",
     "text": [
      "train Loss: 1.8285776786875017\n",
      "train Precision: 0.15148387449138825\n",
      "train Recall: 0.1357311995902864\n"
     ]
    },
    {
     "name": "stderr",
     "output_type": "stream",
     "text": [
      "Epoch: 7: 100%|██████████| 5/5 [00:15<00:00,  3.07s/batch, loss=2.35, precision=0.0667, recall=0.0233]\n"
     ]
    },
    {
     "name": "stdout",
     "output_type": "stream",
     "text": [
      "val Loss: 2.100303387641907\n",
      "val Precision: 0.1256438359618187\n",
      "val Recall: 0.10797926634550095\n",
      "Weight saved for epoch 7.\n"
     ]
    },
    {
     "name": "stderr",
     "output_type": "stream",
     "text": [
      "Epoch: 8: 100%|██████████| 404/404 [11:19<00:00,  1.68s/batch, loss=1.8, precision=0.124, recall=0.07]   \n"
     ]
    },
    {
     "name": "stdout",
     "output_type": "stream",
     "text": [
      "train Loss: 1.7736399400942395\n",
      "train Precision: 0.16040721415809475\n",
      "train Recall: 0.14503543132381275\n"
     ]
    },
    {
     "name": "stderr",
     "output_type": "stream",
     "text": [
      "Epoch: 8: 100%|██████████| 5/5 [00:15<00:00,  3.10s/batch, loss=1.88, precision=0.15, recall=0.123] \n"
     ]
    },
    {
     "name": "stdout",
     "output_type": "stream",
     "text": [
      "val Loss: 1.7849450349807738\n",
      "val Precision: 0.16363923847675324\n",
      "val Recall: 0.14348427802324296\n",
      "Weight saved for epoch 8.\n"
     ]
    },
    {
     "name": "stderr",
     "output_type": "stream",
     "text": [
      "Epoch: 9: 100%|██████████| 404/404 [11:23<00:00,  1.69s/batch, loss=1.94, precision=0.197, recall=0.134] \n"
     ]
    },
    {
     "name": "stdout",
     "output_type": "stream",
     "text": [
      "train Loss: 1.715298352855267\n",
      "train Precision: 0.17013608833940902\n",
      "train Recall: 0.15362231121721245\n"
     ]
    },
    {
     "name": "stderr",
     "output_type": "stream",
     "text": [
      "Epoch: 9: 100%|██████████| 5/5 [00:15<00:00,  3.08s/batch, loss=2.11, precision=0.0833, recall=0.0778]\n"
     ]
    },
    {
     "name": "stdout",
     "output_type": "stream",
     "text": [
      "val Loss: 1.8748382091522218\n",
      "val Precision: 0.15588912218809128\n",
      "val Recall: 0.12034307718276978\n",
      "Weight saved for epoch 9.\n"
     ]
    },
    {
     "name": "stderr",
     "output_type": "stream",
     "text": [
      "Epoch: 10: 100%|██████████| 404/404 [11:23<00:00,  1.69s/batch, loss=2.01, precision=0.127, recall=0.101]\n"
     ]
    },
    {
     "name": "stdout",
     "output_type": "stream",
     "text": [
      "train Loss: 1.669828164695513\n",
      "train Precision: 0.1766411339919461\n",
      "train Recall: 0.1579016527105676\n"
     ]
    },
    {
     "name": "stderr",
     "output_type": "stream",
     "text": [
      "Epoch: 10: 100%|██████████| 5/5 [00:15<00:00,  3.05s/batch, loss=2.03, precision=0.133, recall=0.122]\n"
     ]
    },
    {
     "name": "stdout",
     "output_type": "stream",
     "text": [
      "val Loss: 1.8140544652938844\n",
      "val Precision: 0.15833072662353515\n",
      "val Recall: 0.1368204325437546\n",
      "Weight saved for epoch 10.\n"
     ]
    },
    {
     "name": "stderr",
     "output_type": "stream",
     "text": [
      "Epoch: 11: 100%|██████████| 404/404 [11:27<00:00,  1.70s/batch, loss=1.83, precision=0.246, recall=0.22] \n"
     ]
    },
    {
     "name": "stdout",
     "output_type": "stream",
     "text": [
      "train Loss: 1.6249259117216166\n",
      "train Precision: 0.1831160029488625\n",
      "train Recall: 0.16679612180162776\n"
     ]
    },
    {
     "name": "stderr",
     "output_type": "stream",
     "text": [
      "Epoch: 11: 100%|██████████| 5/5 [00:15<00:00,  3.08s/batch, loss=1.92, precision=0.117, recall=0.133]\n"
     ]
    },
    {
     "name": "stdout",
     "output_type": "stream",
     "text": [
      "val Loss: 1.6937557935714722\n",
      "val Precision: 0.18109434247016906\n",
      "val Recall: 0.17180505990982056\n",
      "Weight saved for epoch 11.\n"
     ]
    },
    {
     "name": "stderr",
     "output_type": "stream",
     "text": [
      "Epoch: 12: 100%|██████████| 404/404 [11:22<00:00,  1.69s/batch, loss=1.49, precision=0.166, recall=0.149]\n"
     ]
    },
    {
     "name": "stdout",
     "output_type": "stream",
     "text": [
      "train Loss: 1.5801614865218059\n",
      "train Precision: 0.18853164438416462\n",
      "train Recall: 0.17157747685024055\n"
     ]
    },
    {
     "name": "stderr",
     "output_type": "stream",
     "text": [
      "Epoch: 12: 100%|██████████| 5/5 [00:15<00:00,  3.04s/batch, loss=1.92, precision=0.1, recall=0.0722] \n"
     ]
    },
    {
     "name": "stdout",
     "output_type": "stream",
     "text": [
      "val Loss: 1.6379302501678468\n",
      "val Precision: 0.18199487030506134\n",
      "val Recall: 0.16557832807302475\n",
      "Weight saved for epoch 12.\n"
     ]
    },
    {
     "name": "stderr",
     "output_type": "stream",
     "text": [
      "Epoch: 13: 100%|██████████| 404/404 [11:28<00:00,  1.71s/batch, loss=1.45, precision=0.211, recall=0.166]\n"
     ]
    },
    {
     "name": "stdout",
     "output_type": "stream",
     "text": [
      "train Loss: 1.5464855093177001\n",
      "train Precision: 0.19440586566187368\n",
      "train Recall: 0.18000932131884712\n"
     ]
    },
    {
     "name": "stderr",
     "output_type": "stream",
     "text": [
      "Epoch: 13: 100%|██████████| 5/5 [00:15<00:00,  3.07s/batch, loss=1.7, precision=0.133, recall=0.0944]\n"
     ]
    },
    {
     "name": "stdout",
     "output_type": "stream",
     "text": [
      "val Loss: 1.6252910852432252\n",
      "val Precision: 0.17849794626235962\n",
      "val Recall: 0.16123404502868652\n",
      "Weight saved for epoch 13.\n"
     ]
    },
    {
     "name": "stderr",
     "output_type": "stream",
     "text": [
      "Epoch: 14: 100%|██████████| 404/404 [11:24<00:00,  1.69s/batch, loss=1.47, precision=0.178, recall=0.183]\n"
     ]
    },
    {
     "name": "stdout",
     "output_type": "stream",
     "text": [
      "train Loss: 1.5131711514279393\n",
      "train Precision: 0.1982215644035599\n",
      "train Recall: 0.18326038858014168\n"
     ]
    },
    {
     "name": "stderr",
     "output_type": "stream",
     "text": [
      "Epoch: 14: 100%|██████████| 5/5 [00:15<00:00,  3.06s/batch, loss=1.89, precision=0.117, recall=0.133]\n"
     ]
    },
    {
     "name": "stdout",
     "output_type": "stream",
     "text": [
      "val Loss: 1.6229384422302247\n",
      "val Precision: 0.181739941239357\n",
      "val Recall: 0.16355361938476562\n",
      "Weight saved for epoch 14.\n"
     ]
    },
    {
     "name": "stderr",
     "output_type": "stream",
     "text": [
      "Epoch: 15: 100%|██████████| 404/404 [11:22<00:00,  1.69s/batch, loss=1.58, precision=0.133, recall=0.119]\n"
     ]
    },
    {
     "name": "stdout",
     "output_type": "stream",
     "text": [
      "train Loss: 1.4821496464238308\n",
      "train Precision: 0.20378071043898563\n",
      "train Recall: 0.1884874095310374\n"
     ]
    },
    {
     "name": "stderr",
     "output_type": "stream",
     "text": [
      "Epoch: 15: 100%|██████████| 5/5 [00:15<00:00,  3.06s/batch, loss=2.23, precision=0.1, recall=0.0567] \n"
     ]
    },
    {
     "name": "stdout",
     "output_type": "stream",
     "text": [
      "val Loss: 1.990657925605774\n",
      "val Precision: 0.1640853077173233\n",
      "val Recall: 0.14235844612121581\n",
      "Weight saved for epoch 15.\n"
     ]
    },
    {
     "name": "stderr",
     "output_type": "stream",
     "text": [
      "Epoch: 16: 100%|██████████| 404/404 [11:30<00:00,  1.71s/batch, loss=1.44, precision=0.185, recall=0.167]\n"
     ]
    },
    {
     "name": "stdout",
     "output_type": "stream",
     "text": [
      "train Loss: 1.4473489602603535\n",
      "train Precision: 0.20833312177864632\n",
      "train Recall: 0.19320732174385893\n"
     ]
    },
    {
     "name": "stderr",
     "output_type": "stream",
     "text": [
      "Epoch: 16: 100%|██████████| 5/5 [00:15<00:00,  3.05s/batch, loss=1.96, precision=0.117, recall=0.1]  \n"
     ]
    },
    {
     "name": "stdout",
     "output_type": "stream",
     "text": [
      "val Loss: 1.772291374206543\n",
      "val Precision: 0.16736310124397277\n",
      "val Recall: 0.14467726349830629\n",
      "Weight saved for epoch 16.\n"
     ]
    },
    {
     "name": "stderr",
     "output_type": "stream",
     "text": [
      "Epoch: 17: 100%|██████████| 404/404 [11:22<00:00,  1.69s/batch, loss=1.61, precision=0.186, recall=0.158]\n"
     ]
    },
    {
     "name": "stdout",
     "output_type": "stream",
     "text": [
      "train Loss: 1.4174573335907248\n",
      "train Precision: 0.21397518938278207\n",
      "train Recall: 0.19881071473038434\n"
     ]
    },
    {
     "name": "stderr",
     "output_type": "stream",
     "text": [
      "Epoch: 17: 100%|██████████| 5/5 [00:15<00:00,  3.14s/batch, loss=1.64, precision=0.133, recall=0.09] \n"
     ]
    },
    {
     "name": "stdout",
     "output_type": "stream",
     "text": [
      "val Loss: 1.494197964668274\n",
      "val Precision: 0.19145506322383882\n",
      "val Recall: 0.16792227923870087\n",
      "Weight saved for epoch 17.\n"
     ]
    },
    {
     "name": "stderr",
     "output_type": "stream",
     "text": [
      "Epoch: 18: 100%|██████████| 404/404 [11:27<00:00,  1.70s/batch, loss=1.4, precision=0.206, recall=0.179] \n"
     ]
    },
    {
     "name": "stdout",
     "output_type": "stream",
     "text": [
      "train Loss: 1.3877471593937072\n",
      "train Precision: 0.21720082722235434\n",
      "train Recall: 0.20268986444219506\n"
     ]
    },
    {
     "name": "stderr",
     "output_type": "stream",
     "text": [
      "Epoch: 18: 100%|██████████| 5/5 [00:15<00:00,  3.07s/batch, loss=1.72, precision=0.1, recall=0.0667] \n"
     ]
    },
    {
     "name": "stdout",
     "output_type": "stream",
     "text": [
      "val Loss: 1.462329125404358\n",
      "val Precision: 0.19262101650238037\n",
      "val Recall: 0.1713631734251976\n",
      "Weight saved for epoch 18.\n"
     ]
    },
    {
     "name": "stderr",
     "output_type": "stream",
     "text": [
      "Epoch: 19: 100%|██████████| 404/404 [11:26<00:00,  1.70s/batch, loss=1.54, precision=0.166, recall=0.173]\n"
     ]
    },
    {
     "name": "stdout",
     "output_type": "stream",
     "text": [
      "train Loss: 1.3650578657294263\n",
      "train Precision: 0.22321992172020497\n",
      "train Recall: 0.20748819584156028\n"
     ]
    },
    {
     "name": "stderr",
     "output_type": "stream",
     "text": [
      "Epoch: 19: 100%|██████████| 5/5 [00:15<00:00,  3.06s/batch, loss=1.78, precision=0.117, recall=0.133]\n"
     ]
    },
    {
     "name": "stdout",
     "output_type": "stream",
     "text": [
      "val Loss: 1.4998881101608277\n",
      "val Precision: 0.2043709248304367\n",
      "val Recall: 0.18811538815498352\n",
      "Weight saved for epoch 19.\n"
     ]
    },
    {
     "name": "stderr",
     "output_type": "stream",
     "text": [
      "Epoch: 20: 100%|██████████| 404/404 [11:23<00:00,  1.69s/batch, loss=1.34, precision=0.235, recall=0.207]\n"
     ]
    },
    {
     "name": "stdout",
     "output_type": "stream",
     "text": [
      "train Loss: 1.339426167235516\n",
      "train Precision: 0.2275780581380471\n",
      "train Recall: 0.2155445359721042\n"
     ]
    },
    {
     "name": "stderr",
     "output_type": "stream",
     "text": [
      "Epoch: 20: 100%|██████████| 5/5 [00:15<00:00,  3.03s/batch, loss=1.66, precision=0.133, recall=0.117]\n"
     ]
    },
    {
     "name": "stdout",
     "output_type": "stream",
     "text": [
      "val Loss: 1.505379891395569\n",
      "val Precision: 0.1887819916009903\n",
      "val Recall: 0.18567127585411072\n",
      "Weight saved for epoch 20.\n"
     ]
    },
    {
     "name": "stderr",
     "output_type": "stream",
     "text": [
      "Epoch: 21: 100%|██████████| 404/404 [11:28<00:00,  1.70s/batch, loss=1.36, precision=0.151, recall=0.119] \n"
     ]
    },
    {
     "name": "stdout",
     "output_type": "stream",
     "text": [
      "train Loss: 1.311542826713902\n",
      "train Precision: 0.23042828556482153\n",
      "train Recall: 0.21976396801079265\n"
     ]
    },
    {
     "name": "stderr",
     "output_type": "stream",
     "text": [
      "Epoch: 21: 100%|██████████| 5/5 [00:15<00:00,  3.02s/batch, loss=1.63, precision=0.133, recall=0.113]\n"
     ]
    },
    {
     "name": "stdout",
     "output_type": "stream",
     "text": [
      "val Loss: 1.414969539642334\n",
      "val Precision: 0.20783627927303314\n",
      "val Recall: 0.18472533226013182\n",
      "Weight saved for epoch 21.\n"
     ]
    },
    {
     "name": "stderr",
     "output_type": "stream",
     "text": [
      "Epoch: 22: 100%|██████████| 404/404 [11:21<00:00,  1.69s/batch, loss=1.48, precision=0.156, recall=0.17] \n"
     ]
    },
    {
     "name": "stdout",
     "output_type": "stream",
     "text": [
      "train Loss: 1.2892097045879554\n",
      "train Precision: 0.23470354120772663\n",
      "train Recall: 0.22420605080257547\n"
     ]
    },
    {
     "name": "stderr",
     "output_type": "stream",
     "text": [
      "Epoch: 22: 100%|██████████| 5/5 [00:15<00:00,  3.04s/batch, loss=1.57, precision=0.167, recall=0.133]\n"
     ]
    },
    {
     "name": "stdout",
     "output_type": "stream",
     "text": [
      "val Loss: 1.3512718439102174\n",
      "val Precision: 0.22143998742103577\n",
      "val Recall: 0.20396875143051146\n",
      "Weight saved for epoch 22.\n"
     ]
    },
    {
     "name": "stderr",
     "output_type": "stream",
     "text": [
      "Epoch: 23: 100%|██████████| 404/404 [11:28<00:00,  1.70s/batch, loss=1.47, precision=0.189, recall=0.161] \n"
     ]
    },
    {
     "name": "stdout",
     "output_type": "stream",
     "text": [
      "train Loss: 1.2696151988636148\n",
      "train Precision: 0.23903191941651966\n",
      "train Recall: 0.22698354990322991\n"
     ]
    },
    {
     "name": "stderr",
     "output_type": "stream",
     "text": [
      "Epoch: 23: 100%|██████████| 5/5 [00:17<00:00,  3.54s/batch, loss=1.61, precision=0.167, recall=0.142]\n"
     ]
    },
    {
     "name": "stdout",
     "output_type": "stream",
     "text": [
      "val Loss: 1.4712733268737792\n",
      "val Precision: 0.2063639909029007\n",
      "val Recall: 0.20175085961818695\n",
      "Weight saved for epoch 23.\n"
     ]
    },
    {
     "name": "stderr",
     "output_type": "stream",
     "text": [
      "Epoch: 24: 100%|██████████| 404/404 [11:24<00:00,  1.69s/batch, loss=1.27, precision=0.231, recall=0.225] \n"
     ]
    },
    {
     "name": "stdout",
     "output_type": "stream",
     "text": [
      "train Loss: 1.245006803828891\n",
      "train Precision: 0.24454662753361286\n",
      "train Recall: 0.23805072132756214\n"
     ]
    },
    {
     "name": "stderr",
     "output_type": "stream",
     "text": [
      "Epoch: 24: 100%|██████████| 5/5 [00:15<00:00,  3.01s/batch, loss=1.46, precision=0.133, recall=0.133]\n"
     ]
    },
    {
     "name": "stdout",
     "output_type": "stream",
     "text": [
      "val Loss: 1.271915316581726\n",
      "val Precision: 0.21886709034442903\n",
      "val Recall: 0.20070551335811615\n",
      "Weight saved for epoch 24.\n"
     ]
    },
    {
     "name": "stderr",
     "output_type": "stream",
     "text": [
      "Epoch: 25: 100%|██████████| 404/404 [11:17<00:00,  1.68s/batch, loss=1.56, precision=0.233, recall=0.182] \n"
     ]
    },
    {
     "name": "stdout",
     "output_type": "stream",
     "text": [
      "train Loss: 1.2230362723959554\n",
      "train Precision: 0.2492326706795409\n",
      "train Recall: 0.2408335443106618\n"
     ]
    },
    {
     "name": "stderr",
     "output_type": "stream",
     "text": [
      "Epoch: 25: 100%|██████████| 5/5 [00:15<00:00,  3.06s/batch, loss=1.69, precision=0.167, recall=0.117]\n"
     ]
    },
    {
     "name": "stdout",
     "output_type": "stream",
     "text": [
      "val Loss: 1.4587052822113038\n",
      "val Precision: 0.20764670073986052\n",
      "val Recall: 0.19464491307735443\n",
      "Weight saved for epoch 25.\n"
     ]
    },
    {
     "name": "stderr",
     "output_type": "stream",
     "text": [
      "Epoch: 26: 100%|██████████| 404/404 [11:15<00:00,  1.67s/batch, loss=0.903, precision=0.286, recall=0.251]\n"
     ]
    },
    {
     "name": "stdout",
     "output_type": "stream",
     "text": [
      "train Loss: 1.2019548687604393\n",
      "train Precision: 0.25541867046515543\n",
      "train Recall: 0.24694909358231149\n"
     ]
    },
    {
     "name": "stderr",
     "output_type": "stream",
     "text": [
      "Epoch: 26: 100%|██████████| 5/5 [00:15<00:00,  3.04s/batch, loss=1.48, precision=0.167, recall=0.14] \n"
     ]
    },
    {
     "name": "stdout",
     "output_type": "stream",
     "text": [
      "val Loss: 1.2533624172210693\n",
      "val Precision: 0.23763591945171356\n",
      "val Recall: 0.20504096448421477\n",
      "Weight saved for epoch 26.\n"
     ]
    },
    {
     "name": "stderr",
     "output_type": "stream",
     "text": [
      "Epoch: 27: 100%|██████████| 404/404 [11:18<00:00,  1.68s/batch, loss=1.15, precision=0.165, recall=0.147] \n"
     ]
    },
    {
     "name": "stdout",
     "output_type": "stream",
     "text": [
      "train Loss: 1.184863297656031\n",
      "train Precision: 0.2574000265264865\n",
      "train Recall: 0.25127137183110315\n"
     ]
    },
    {
     "name": "stderr",
     "output_type": "stream",
     "text": [
      "Epoch: 27: 100%|██████████| 5/5 [00:15<00:00,  3.03s/batch, loss=1.54, precision=0.167, recall=0.14] \n"
     ]
    },
    {
     "name": "stdout",
     "output_type": "stream",
     "text": [
      "val Loss: 1.369643783569336\n",
      "val Precision: 0.2342633545398712\n",
      "val Recall: 0.21094051897525787\n",
      "Weight saved for epoch 27.\n"
     ]
    },
    {
     "name": "stderr",
     "output_type": "stream",
     "text": [
      "Epoch: 28: 100%|██████████| 404/404 [11:17<00:00,  1.68s/batch, loss=1.43, precision=0.227, recall=0.222] \n"
     ]
    },
    {
     "name": "stdout",
     "output_type": "stream",
     "text": [
      "train Loss: 1.1682467490139574\n",
      "train Precision: 0.262882792418546\n",
      "train Recall: 0.25706735504145667\n"
     ]
    },
    {
     "name": "stderr",
     "output_type": "stream",
     "text": [
      "Epoch: 28: 100%|██████████| 5/5 [00:15<00:00,  3.04s/batch, loss=1.56, precision=0.167, recall=0.14] \n"
     ]
    },
    {
     "name": "stdout",
     "output_type": "stream",
     "text": [
      "val Loss: 1.3094359397888184\n",
      "val Precision: 0.23151807487010956\n",
      "val Recall: 0.20905018746852874\n",
      "Weight saved for epoch 28.\n"
     ]
    },
    {
     "name": "stderr",
     "output_type": "stream",
     "text": [
      "Epoch: 29: 100%|██████████| 404/404 [11:16<00:00,  1.67s/batch, loss=1.46, precision=0.211, recall=0.193] \n"
     ]
    },
    {
     "name": "stdout",
     "output_type": "stream",
     "text": [
      "train Loss: 1.148100167807966\n",
      "train Precision: 0.26737611158059377\n",
      "train Recall: 0.26300496375649285\n"
     ]
    },
    {
     "name": "stderr",
     "output_type": "stream",
     "text": [
      "Epoch: 29: 100%|██████████| 5/5 [00:14<00:00,  3.00s/batch, loss=1.49, precision=0.167, recall=0.14]  \n"
     ]
    },
    {
     "name": "stdout",
     "output_type": "stream",
     "text": [
      "val Loss: 1.2523587226867676\n",
      "val Precision: 0.2419169694185257\n",
      "val Recall: 0.22107539176940919\n",
      "Weight saved for epoch 29.\n"
     ]
    },
    {
     "name": "stderr",
     "output_type": "stream",
     "text": [
      "Epoch: 30: 100%|██████████| 404/404 [11:16<00:00,  1.68s/batch, loss=1.64, precision=0.151, recall=0.138] \n"
     ]
    },
    {
     "name": "stdout",
     "output_type": "stream",
     "text": [
      "train Loss: 1.130111474654462\n",
      "train Precision: 0.2709733566804097\n",
      "train Recall: 0.26694206417639654\n"
     ]
    },
    {
     "name": "stderr",
     "output_type": "stream",
     "text": [
      "Epoch: 30: 100%|██████████| 5/5 [00:15<00:00,  3.11s/batch, loss=1.65, precision=0.167, recall=0.131]\n"
     ]
    },
    {
     "name": "stdout",
     "output_type": "stream",
     "text": [
      "val Loss: 1.2982672691345214\n",
      "val Precision: 0.23422124981880188\n",
      "val Recall: 0.2161072850227356\n",
      "Weight saved for epoch 30.\n"
     ]
    },
    {
     "name": "stderr",
     "output_type": "stream",
     "text": [
      "Epoch: 31: 100%|██████████| 404/404 [11:17<00:00,  1.68s/batch, loss=1.11, precision=0.222, recall=0.202] \n"
     ]
    },
    {
     "name": "stdout",
     "output_type": "stream",
     "text": [
      "train Loss: 1.1105282620923353\n",
      "train Precision: 0.2763103216075071\n",
      "train Recall: 0.2721900803839216\n"
     ]
    },
    {
     "name": "stderr",
     "output_type": "stream",
     "text": [
      "Epoch: 31: 100%|██████████| 5/5 [00:14<00:00,  2.99s/batch, loss=1.63, precision=0.167, recall=0.125]\n"
     ]
    },
    {
     "name": "stdout",
     "output_type": "stream",
     "text": [
      "val Loss: 1.4145249605178833\n",
      "val Precision: 0.23857894837856292\n",
      "val Recall: 0.2112842857837677\n",
      "Weight saved for epoch 31.\n"
     ]
    },
    {
     "name": "stderr",
     "output_type": "stream",
     "text": [
      "Epoch: 32: 100%|██████████| 404/404 [11:17<00:00,  1.68s/batch, loss=0.963, precision=0.24, recall=0.252] \n"
     ]
    },
    {
     "name": "stdout",
     "output_type": "stream",
     "text": [
      "train Loss: 1.1002753075986806\n",
      "train Precision: 0.27886815623629213\n",
      "train Recall: 0.27590401518610447\n"
     ]
    },
    {
     "name": "stderr",
     "output_type": "stream",
     "text": [
      "Epoch: 32: 100%|██████████| 5/5 [00:14<00:00,  3.00s/batch, loss=1.53, precision=0.167, recall=0.131] \n"
     ]
    },
    {
     "name": "stdout",
     "output_type": "stream",
     "text": [
      "val Loss: 1.204357421398163\n",
      "val Precision: 0.255946284532547\n",
      "val Recall: 0.23429982662200927\n",
      "Weight saved for epoch 32.\n"
     ]
    },
    {
     "name": "stderr",
     "output_type": "stream",
     "text": [
      "Epoch: 33: 100%|██████████| 404/404 [11:16<00:00,  1.67s/batch, loss=1.28, precision=0.266, recall=0.24]  \n"
     ]
    },
    {
     "name": "stdout",
     "output_type": "stream",
     "text": [
      "train Loss: 1.0783963604728775\n",
      "train Precision: 0.28278638898293573\n",
      "train Recall: 0.27889690566623565\n"
     ]
    },
    {
     "name": "stderr",
     "output_type": "stream",
     "text": [
      "Epoch: 33: 100%|██████████| 5/5 [00:15<00:00,  3.06s/batch, loss=1.41, precision=0.167, recall=0.142] \n"
     ]
    },
    {
     "name": "stdout",
     "output_type": "stream",
     "text": [
      "val Loss: 1.1359752774238587\n",
      "val Precision: 0.26696405112743377\n",
      "val Recall: 0.2561564654111862\n",
      "Weight saved for epoch 33.\n"
     ]
    },
    {
     "name": "stderr",
     "output_type": "stream",
     "text": [
      "Epoch: 34: 100%|██████████| 404/404 [11:16<00:00,  1.67s/batch, loss=1.1, precision=0.243, recall=0.209]  \n"
     ]
    },
    {
     "name": "stdout",
     "output_type": "stream",
     "text": [
      "train Loss: 1.0658252783636055\n",
      "train Precision: 0.2867445585013616\n",
      "train Recall: 0.2835308688849506\n"
     ]
    },
    {
     "name": "stderr",
     "output_type": "stream",
     "text": [
      "Epoch: 34: 100%|██████████| 5/5 [00:15<00:00,  3.03s/batch, loss=1.67, precision=0.133, recall=0.1]  \n"
     ]
    },
    {
     "name": "stdout",
     "output_type": "stream",
     "text": [
      "val Loss: 1.33876371383667\n",
      "val Precision: 0.22227784991264343\n",
      "val Recall: 0.23227658867835999\n",
      "Weight saved for epoch 34.\n"
     ]
    },
    {
     "name": "stderr",
     "output_type": "stream",
     "text": [
      "Epoch: 35: 100%|██████████| 404/404 [11:16<00:00,  1.67s/batch, loss=1.12, precision=0.264, recall=0.24]  \n"
     ]
    },
    {
     "name": "stdout",
     "output_type": "stream",
     "text": [
      "train Loss: 1.0536076250937905\n",
      "train Precision: 0.29013952531731957\n",
      "train Recall: 0.2887180203037097\n"
     ]
    },
    {
     "name": "stderr",
     "output_type": "stream",
     "text": [
      "Epoch: 35: 100%|██████████| 5/5 [00:15<00:00,  3.06s/batch, loss=1.57, precision=0.15, recall=0.14]  \n"
     ]
    },
    {
     "name": "stdout",
     "output_type": "stream",
     "text": [
      "val Loss: 1.3098541498184204\n",
      "val Precision: 0.25033666789531706\n",
      "val Recall: 0.21945706009864807\n",
      "Weight saved for epoch 35.\n"
     ]
    },
    {
     "name": "stderr",
     "output_type": "stream",
     "text": [
      "Epoch: 36: 100%|██████████| 404/404 [11:17<00:00,  1.68s/batch, loss=1.3, precision=0.256, recall=0.299]  \n"
     ]
    },
    {
     "name": "stdout",
     "output_type": "stream",
     "text": [
      "train Loss: 1.0424852983491255\n",
      "train Precision: 0.29258330306499314\n",
      "train Recall: 0.2885329774995842\n"
     ]
    },
    {
     "name": "stderr",
     "output_type": "stream",
     "text": [
      "Epoch: 36: 100%|██████████| 5/5 [00:14<00:00,  2.99s/batch, loss=1.41, precision=0.167, recall=0.156] \n"
     ]
    },
    {
     "name": "stdout",
     "output_type": "stream",
     "text": [
      "val Loss: 1.1089912533760071\n",
      "val Precision: 0.25433502197265623\n",
      "val Recall: 0.2470758765935898\n",
      "Weight saved for epoch 36.\n"
     ]
    },
    {
     "name": "stderr",
     "output_type": "stream",
     "text": [
      "Epoch: 37: 100%|██████████| 404/404 [11:17<00:00,  1.68s/batch, loss=1.14, precision=0.219, recall=0.208] \n"
     ]
    },
    {
     "name": "stdout",
     "output_type": "stream",
     "text": [
      "train Loss: 1.0181548027413907\n",
      "train Precision: 0.297692236112486\n",
      "train Recall: 0.294332847368009\n"
     ]
    },
    {
     "name": "stderr",
     "output_type": "stream",
     "text": [
      "Epoch: 37: 100%|██████████| 5/5 [00:15<00:00,  3.05s/batch, loss=1.37, precision=0.167, recall=0.14]  \n"
     ]
    },
    {
     "name": "stdout",
     "output_type": "stream",
     "text": [
      "val Loss: 1.18300918340683\n",
      "val Precision: 0.25421907007694244\n",
      "val Recall: 0.24405120313167572\n",
      "Weight saved for epoch 37.\n"
     ]
    },
    {
     "name": "stderr",
     "output_type": "stream",
     "text": [
      "Epoch: 38: 100%|██████████| 404/404 [11:14<00:00,  1.67s/batch, loss=1.06, precision=0.238, recall=0.195] \n"
     ]
    },
    {
     "name": "stdout",
     "output_type": "stream",
     "text": [
      "train Loss: 1.0079928769333528\n",
      "train Precision: 0.2994072044102272\n",
      "train Recall: 0.29721361265914276\n"
     ]
    },
    {
     "name": "stderr",
     "output_type": "stream",
     "text": [
      "Epoch: 38: 100%|██████████| 5/5 [00:15<00:00,  3.02s/batch, loss=1.37, precision=0.167, recall=0.131] \n"
     ]
    },
    {
     "name": "stdout",
     "output_type": "stream",
     "text": [
      "val Loss: 1.0625208377838136\n",
      "val Precision: 0.2817370146512985\n",
      "val Recall: 0.26736846268177034\n",
      "Weight saved for epoch 38.\n"
     ]
    },
    {
     "name": "stderr",
     "output_type": "stream",
     "text": [
      "Epoch: 39: 100%|██████████| 404/404 [11:15<00:00,  1.67s/batch, loss=1.06, precision=0.162, recall=0.161] \n"
     ]
    },
    {
     "name": "stdout",
     "output_type": "stream",
     "text": [
      "train Loss: 0.9936108819328913\n",
      "train Precision: 0.3065367547592314\n",
      "train Recall: 0.30493101138289613\n"
     ]
    },
    {
     "name": "stderr",
     "output_type": "stream",
     "text": [
      "Epoch: 39: 100%|██████████| 5/5 [00:14<00:00,  2.99s/batch, loss=1.4, precision=0.167, recall=0.14]   \n"
     ]
    },
    {
     "name": "stdout",
     "output_type": "stream",
     "text": [
      "val Loss: 1.1652178525924684\n",
      "val Precision: 0.28005840480327604\n",
      "val Recall: 0.2552232086658478\n",
      "Weight saved for epoch 39.\n"
     ]
    },
    {
     "name": "stderr",
     "output_type": "stream",
     "text": [
      "Epoch: 40: 100%|██████████| 404/404 [11:17<00:00,  1.68s/batch, loss=0.863, precision=0.225, recall=0.21] \n"
     ]
    },
    {
     "name": "stdout",
     "output_type": "stream",
     "text": [
      "train Loss: 0.9810991874425719\n",
      "train Precision: 0.30849712172357163\n",
      "train Recall: 0.3081042606494214\n"
     ]
    },
    {
     "name": "stderr",
     "output_type": "stream",
     "text": [
      "Epoch: 40: 100%|██████████| 5/5 [00:15<00:00,  3.08s/batch, loss=1.33, precision=0.167, recall=0.142] \n"
     ]
    },
    {
     "name": "stdout",
     "output_type": "stream",
     "text": [
      "val Loss: 1.0484844207763673\n",
      "val Precision: 0.29142843186855316\n",
      "val Recall: 0.28034293055534365\n",
      "Weight saved for epoch 40.\n"
     ]
    },
    {
     "name": "stderr",
     "output_type": "stream",
     "text": [
      "Epoch: 41: 100%|██████████| 404/404 [11:18<00:00,  1.68s/batch, loss=1.02, precision=0.14, recall=0.134]  \n"
     ]
    },
    {
     "name": "stdout",
     "output_type": "stream",
     "text": [
      "train Loss: 0.9702043025800497\n",
      "train Precision: 0.3078982159864194\n",
      "train Recall: 0.30769094079732895\n"
     ]
    },
    {
     "name": "stderr",
     "output_type": "stream",
     "text": [
      "Epoch: 41: 100%|██████████| 5/5 [00:15<00:00,  3.02s/batch, loss=1.6, precision=0.15, recall=0.14]   \n"
     ]
    },
    {
     "name": "stdout",
     "output_type": "stream",
     "text": [
      "val Loss: 1.1520759224891663\n",
      "val Precision: 0.28184826374053956\n",
      "val Recall: 0.2581968903541565\n",
      "Weight saved for epoch 41.\n"
     ]
    },
    {
     "name": "stderr",
     "output_type": "stream",
     "text": [
      "Epoch: 42: 100%|██████████| 404/404 [11:16<00:00,  1.68s/batch, loss=0.755, precision=0.256, recall=0.274]\n"
     ]
    },
    {
     "name": "stdout",
     "output_type": "stream",
     "text": [
      "train Loss: 0.9593084109301614\n",
      "train Precision: 0.31186137883232373\n",
      "train Recall: 0.31118426431376156\n"
     ]
    },
    {
     "name": "stderr",
     "output_type": "stream",
     "text": [
      "Epoch: 42: 100%|██████████| 5/5 [00:15<00:00,  3.00s/batch, loss=1.43, precision=0.167, recall=0.131] \n"
     ]
    },
    {
     "name": "stdout",
     "output_type": "stream",
     "text": [
      "val Loss: 1.1619097948074342\n",
      "val Precision: 0.26756215989589693\n",
      "val Recall: 0.23735181093215943\n",
      "Weight saved for epoch 42.\n"
     ]
    },
    {
     "name": "stderr",
     "output_type": "stream",
     "text": [
      "Epoch: 43: 100%|██████████| 404/404 [11:17<00:00,  1.68s/batch, loss=1.02, precision=0.285, recall=0.287] \n"
     ]
    },
    {
     "name": "stdout",
     "output_type": "stream",
     "text": [
      "train Loss: 0.9480293761975694\n",
      "train Precision: 0.31719669659096417\n",
      "train Recall: 0.3157560644615995\n"
     ]
    },
    {
     "name": "stderr",
     "output_type": "stream",
     "text": [
      "Epoch: 43: 100%|██████████| 5/5 [00:14<00:00,  2.99s/batch, loss=1.42, precision=0.167, recall=0.131] \n"
     ]
    },
    {
     "name": "stdout",
     "output_type": "stream",
     "text": [
      "val Loss: 1.0912778496742248\n",
      "val Precision: 0.28264509737491605\n",
      "val Recall: 0.25956333577632906\n",
      "Weight saved for epoch 43.\n"
     ]
    },
    {
     "name": "stderr",
     "output_type": "stream",
     "text": [
      "Epoch: 44: 100%|██████████| 404/404 [11:17<00:00,  1.68s/batch, loss=1.11, precision=0.189, recall=0.219] \n"
     ]
    },
    {
     "name": "stdout",
     "output_type": "stream",
     "text": [
      "train Loss: 0.9395378617071869\n",
      "train Precision: 0.3208206121505487\n",
      "train Recall: 0.3190111107386575\n"
     ]
    },
    {
     "name": "stderr",
     "output_type": "stream",
     "text": [
      "Epoch: 44: 100%|██████████| 5/5 [00:15<00:00,  3.00s/batch, loss=1.58, precision=0.167, recall=0.125]\n"
     ]
    },
    {
     "name": "stdout",
     "output_type": "stream",
     "text": [
      "val Loss: 1.3284314393997192\n",
      "val Precision: 0.23913976550102234\n",
      "val Recall: 0.24809328019618987\n",
      "Weight saved for epoch 44.\n"
     ]
    },
    {
     "name": "stderr",
     "output_type": "stream",
     "text": [
      "Epoch: 45: 100%|██████████| 404/404 [11:18<00:00,  1.68s/batch, loss=1.11, precision=0.278, recall=0.254] \n"
     ]
    },
    {
     "name": "stdout",
     "output_type": "stream",
     "text": [
      "train Loss: 0.9292558801941352\n",
      "train Precision: 0.3217640723111016\n",
      "train Recall: 0.3226228395827336\n"
     ]
    },
    {
     "name": "stderr",
     "output_type": "stream",
     "text": [
      "Epoch: 45: 100%|██████████| 5/5 [00:15<00:00,  3.01s/batch, loss=1.35, precision=0.2, recall=0.175]   \n"
     ]
    },
    {
     "name": "stdout",
     "output_type": "stream",
     "text": [
      "val Loss: 1.0247676134109498\n",
      "val Precision: 0.3122470200061798\n",
      "val Recall: 0.31796222627162934\n",
      "Weight saved for epoch 45.\n"
     ]
    },
    {
     "name": "stderr",
     "output_type": "stream",
     "text": [
      "Epoch: 46: 100%|██████████| 404/404 [11:17<00:00,  1.68s/batch, loss=1.16, precision=0.258, recall=0.224] \n"
     ]
    },
    {
     "name": "stdout",
     "output_type": "stream",
     "text": [
      "train Loss: 0.9137357576648788\n",
      "train Precision: 0.32463888606370084\n",
      "train Recall: 0.32239385225837774\n"
     ]
    },
    {
     "name": "stderr",
     "output_type": "stream",
     "text": [
      "Epoch: 46: 100%|██████████| 5/5 [00:15<00:00,  3.04s/batch, loss=1.39, precision=0.167, recall=0.128] \n"
     ]
    },
    {
     "name": "stdout",
     "output_type": "stream",
     "text": [
      "val Loss: 1.074932038784027\n",
      "val Precision: 0.2741239994764328\n",
      "val Recall: 0.27151485681533816\n",
      "Weight saved for epoch 46.\n"
     ]
    },
    {
     "name": "stderr",
     "output_type": "stream",
     "text": [
      "Epoch: 47: 100%|██████████| 404/404 [11:16<00:00,  1.67s/batch, loss=0.922, precision=0.284, recall=0.275]\n"
     ]
    },
    {
     "name": "stdout",
     "output_type": "stream",
     "text": [
      "train Loss: 0.9071906433247103\n",
      "train Precision: 0.32852306323918967\n",
      "train Recall: 0.3262368591483867\n"
     ]
    },
    {
     "name": "stderr",
     "output_type": "stream",
     "text": [
      "Epoch: 47: 100%|██████████| 5/5 [00:15<00:00,  3.05s/batch, loss=1.06, precision=0.2, recall=0.167]   \n"
     ]
    },
    {
     "name": "stdout",
     "output_type": "stream",
     "text": [
      "val Loss: 0.9827126860618591\n",
      "val Precision: 0.293132358789444\n",
      "val Recall: 0.2923134952783585\n",
      "Weight saved for epoch 47.\n"
     ]
    },
    {
     "name": "stderr",
     "output_type": "stream",
     "text": [
      "Epoch: 48: 100%|██████████| 404/404 [11:16<00:00,  1.67s/batch, loss=1.19, precision=0.273, recall=0.266] \n"
     ]
    },
    {
     "name": "stdout",
     "output_type": "stream",
     "text": [
      "train Loss: 0.8950771317623629\n",
      "train Precision: 0.33305855449473504\n",
      "train Recall: 0.33367538839431093\n"
     ]
    },
    {
     "name": "stderr",
     "output_type": "stream",
     "text": [
      "Epoch: 48: 100%|██████████| 5/5 [00:15<00:00,  3.02s/batch, loss=1.52, precision=0.117, recall=0.117]\n"
     ]
    },
    {
     "name": "stdout",
     "output_type": "stream",
     "text": [
      "val Loss: 1.2087214589118958\n",
      "val Precision: 0.2816273391246796\n",
      "val Recall: 0.26391349732875824\n",
      "Weight saved for epoch 48.\n"
     ]
    },
    {
     "name": "stderr",
     "output_type": "stream",
     "text": [
      "Epoch: 49: 100%|██████████| 404/404 [11:16<00:00,  1.67s/batch, loss=1.15, precision=0.293, recall=0.251] \n"
     ]
    },
    {
     "name": "stdout",
     "output_type": "stream",
     "text": [
      "train Loss: 0.8838083217344662\n",
      "train Precision: 0.33248164556404153\n",
      "train Recall: 0.33255799760175225\n"
     ]
    },
    {
     "name": "stderr",
     "output_type": "stream",
     "text": [
      "Epoch: 49: 100%|██████████| 5/5 [00:14<00:00,  3.00s/batch, loss=1.3, precision=0.167, recall=0.117]  \n"
     ]
    },
    {
     "name": "stdout",
     "output_type": "stream",
     "text": [
      "val Loss: 0.9552681565284729\n",
      "val Precision: 0.3149089187383652\n",
      "val Recall: 0.3010130047798157\n",
      "Weight saved for epoch 49.\n"
     ]
    }
   ],
   "source": [
    "batch_size = 124\n",
    "train_dataset = DolphinDataset(train, encoder, image_size = (1024, 1024))\n",
    "val_dataset = DolphinDataset(val, encoder, image_size = (1024, 1024))\n",
    "train_dataloader = DataLoader(train_dataset, batch_size = batch_size, shuffle = True, num_workers = 22, prefetch_factor=2)\n",
    "val_dataloader = DataLoader(val_dataset, batch_size = batch_size, shuffle = False, num_workers = 22, prefetch_factor=2)\n",
    "train_model(train_dataloader, val_dataloader, batch_size=batch_size, weights_path='../../weights/torch_with_momentum/', epochs=50)"
   ]
  },
  {
   "cell_type": "code",
   "execution_count": 16,
   "metadata": {},
   "outputs": [
    {
     "name": "stderr",
     "output_type": "stream",
     "text": [
      "Using cache found in /home/paperspace/.cache/torch/hub/pytorch_vision_v0.10.0\n"
     ]
    },
    {
     "data": {
      "text/html": [
       "Finishing last run (ID:1tdqqipt) before initializing another..."
      ],
      "text/plain": [
       "<IPython.core.display.HTML object>"
      ]
     },
     "metadata": {},
     "output_type": "display_data"
    },
    {
     "data": {
      "text/html": [
       "Waiting for W&B process to finish... <strong style=\"color:green\">(success).</strong>"
      ],
      "text/plain": [
       "<IPython.core.display.HTML object>"
      ]
     },
     "metadata": {},
     "output_type": "display_data"
    },
    {
     "data": {
      "text/html": [
       "<style>\n",
       "    table.wandb td:nth-child(1) { padding: 0 10px; text-align: left ; width: auto;} td:nth-child(2) {text-align: left ; width: 100%}\n",
       "    .wandb-row { display: flex; flex-direction: row; flex-wrap: wrap; justify-content: flex-start; width: 100% }\n",
       "    .wandb-col { display: flex; flex-direction: column; flex-basis: 100%; flex: 1; padding: 10px; }\n",
       "    </style>\n",
       "<div class=\"wandb-row\"><div class=\"wandb-col\"><h3>Run history:</h3><br/><table class=\"wandb\"><tr><td>train_loss</td><td>█▇▆▆▅▅▅▄▄▄▄▄▃▃▃▃▃▃▃▃▂▂▂▂▂▂▂▂▂▂▂▁▁▁▁▁▁▁▁▁</td></tr><tr><td>train_precision</td><td>▁▁▂▂▃▃▄▄▄▄▄▅▅▅▅▅▅▅▆▆▆▆▆▆▆▇▇▇▇▇▇▇▇▇▇█████</td></tr><tr><td>train_recall</td><td>▁▁▂▂▃▃▄▄▄▄▄▅▅▅▅▅▅▅▆▆▆▆▆▆▇▇▇▇▇▇▇▇▇▇██████</td></tr><tr><td>val_loss</td><td>█▇▆▆▆▅▆▅▅▄▄▄▆▅▃▃▃▃▃▃▃▂▃▃▃▃▂▂▃▂▂▁▁▂▂▂▁▂▁▁</td></tr><tr><td>val_precision</td><td>▁▁▃▃▃▃▃▄▄▄▄▄▄▄▅▅▅▅▅▅▅▆▆▆▆▆▆▇▆▆▆▇▇▇▇▇█▇▇█</td></tr><tr><td>val_recall</td><td>▁▁▃▃▃▃▃▄▄▄▄▄▄▄▄▄▅▅▅▅▅▅▅▅▆▅▆▇▆▆▆▇▇▇▆▇█▇▇█</td></tr></table><br/></div><div class=\"wandb-col\"><h3>Run summary:</h3><br/><table class=\"wandb\"><tr><td>train_loss</td><td>0.88381</td></tr><tr><td>train_precision</td><td>0.33248</td></tr><tr><td>train_recall</td><td>0.33256</td></tr><tr><td>val_loss</td><td>0.95527</td></tr><tr><td>val_precision</td><td>0.31491</td></tr><tr><td>val_recall</td><td>0.30101</td></tr></table><br/></div></div>"
      ],
      "text/plain": [
       "<IPython.core.display.HTML object>"
      ]
     },
     "metadata": {},
     "output_type": "display_data"
    },
    {
     "data": {
      "text/html": [
       "Synced <strong style=\"color:#cdcd00\">amber-snowflake-75</strong>: <a href=\"https://wandb.ai/yashchks87/dolphin/runs/1tdqqipt\" target=\"_blank\">https://wandb.ai/yashchks87/dolphin/runs/1tdqqipt</a><br/>Synced 5 W&B file(s), 0 media file(s), 0 artifact file(s) and 0 other file(s)"
      ],
      "text/plain": [
       "<IPython.core.display.HTML object>"
      ]
     },
     "metadata": {},
     "output_type": "display_data"
    },
    {
     "data": {
      "text/html": [
       "Find logs at: <code>./wandb/run-20230821_045921-1tdqqipt/logs</code>"
      ],
      "text/plain": [
       "<IPython.core.display.HTML object>"
      ]
     },
     "metadata": {},
     "output_type": "display_data"
    },
    {
     "data": {
      "text/html": [
       "Successfully finished last run (ID:1tdqqipt). Initializing new run:<br/>"
      ],
      "text/plain": [
       "<IPython.core.display.HTML object>"
      ]
     },
     "metadata": {},
     "output_type": "display_data"
    },
    {
     "data": {
      "application/vnd.jupyter.widget-view+json": {
       "model_id": "25fbd7b518a246ffa471db371f997aac",
       "version_major": 2,
       "version_minor": 0
      },
      "text/plain": [
       "VBox(children=(Label(value='Waiting for wandb.init()...\\r'), FloatProgress(value=0.01666923261655029, max=1.0)…"
      ]
     },
     "metadata": {},
     "output_type": "display_data"
    },
    {
     "data": {
      "text/html": [
       "wandb version 0.15.8 is available!  To upgrade, please run:\n",
       " $ pip install wandb --upgrade"
      ],
      "text/plain": [
       "<IPython.core.display.HTML object>"
      ]
     },
     "metadata": {},
     "output_type": "display_data"
    },
    {
     "data": {
      "text/html": [
       "Tracking run with wandb version 0.13.4"
      ],
      "text/plain": [
       "<IPython.core.display.HTML object>"
      ]
     },
     "metadata": {},
     "output_type": "display_data"
    },
    {
     "data": {
      "text/html": [
       "Run data is saved locally in <code>/home/paperspace/Documents/dolphin_classification/notebooks/wandb/run-20230821_152128-1hjs1eg4</code>"
      ],
      "text/plain": [
       "<IPython.core.display.HTML object>"
      ]
     },
     "metadata": {},
     "output_type": "display_data"
    },
    {
     "data": {
      "text/html": [
       "Syncing run <strong><a href=\"https://wandb.ai/yashchks87/dolphin/runs/1hjs1eg4\" target=\"_blank\">hearty-vortex-76</a></strong> to <a href=\"https://wandb.ai/yashchks87/dolphin\" target=\"_blank\">Weights & Biases</a> (<a href=\"https://wandb.me/run\" target=\"_blank\">docs</a>)<br/>"
      ],
      "text/plain": [
       "<IPython.core.display.HTML object>"
      ]
     },
     "metadata": {},
     "output_type": "display_data"
    },
    {
     "name": "stderr",
     "output_type": "stream",
     "text": [
      "Epoch: 0: 100%|██████████| 404/404 [11:16<00:00,  1.68s/batch, loss=0.765, precision=0.309, recall=0.314]\n"
     ]
    },
    {
     "name": "stdout",
     "output_type": "stream",
     "text": [
      "train Loss: 0.8774054475349955\n",
      "train Precision: 0.334300935784779\n",
      "train Recall: 0.3343126504580573\n"
     ]
    },
    {
     "name": "stderr",
     "output_type": "stream",
     "text": [
      "Epoch: 0: 100%|██████████| 5/5 [00:15<00:00,  3.02s/batch, loss=1.41, precision=0.167, recall=0.14]  \n"
     ]
    },
    {
     "name": "stdout",
     "output_type": "stream",
     "text": [
      "val Loss: 1.1316400170326233\n",
      "val Precision: 0.27498225271701815\n",
      "val Recall: 0.26245771944522855\n",
      "Weight saved for epoch 0.\n"
     ]
    },
    {
     "name": "stderr",
     "output_type": "stream",
     "text": [
      "Epoch: 1: 100%|██████████| 404/404 [11:17<00:00,  1.68s/batch, loss=1.15, precision=0.3, recall=0.324]   \n"
     ]
    },
    {
     "name": "stdout",
     "output_type": "stream",
     "text": [
      "train Loss: 0.871968549371946\n",
      "train Precision: 0.3359486149753084\n",
      "train Recall: 0.33802958076248074\n"
     ]
    },
    {
     "name": "stderr",
     "output_type": "stream",
     "text": [
      "Epoch: 1: 100%|██████████| 5/5 [00:15<00:00,  3.02s/batch, loss=1.38, precision=0.167, recall=0.14]  \n"
     ]
    },
    {
     "name": "stdout",
     "output_type": "stream",
     "text": [
      "val Loss: 0.9779805421829224\n",
      "val Precision: 0.3012896329164505\n",
      "val Recall: 0.3278621584177017\n",
      "Weight saved for epoch 1.\n"
     ]
    },
    {
     "name": "stderr",
     "output_type": "stream",
     "text": [
      "Epoch: 2: 100%|██████████| 404/404 [11:16<00:00,  1.67s/batch, loss=0.876, precision=0.32, recall=0.311] \n"
     ]
    },
    {
     "name": "stdout",
     "output_type": "stream",
     "text": [
      "train Loss: 0.8598683684474171\n",
      "train Precision: 0.34065997840301826\n",
      "train Recall: 0.3430845319560849\n"
     ]
    },
    {
     "name": "stderr",
     "output_type": "stream",
     "text": [
      "Epoch: 2: 100%|██████████| 5/5 [00:15<00:00,  3.06s/batch, loss=1.25, precision=0.167, recall=0.125] \n"
     ]
    },
    {
     "name": "stdout",
     "output_type": "stream",
     "text": [
      "val Loss: 0.9203073620796204\n",
      "val Precision: 0.3069008141756058\n",
      "val Recall: 0.2918278157711029\n",
      "Weight saved for epoch 2.\n"
     ]
    },
    {
     "name": "stderr",
     "output_type": "stream",
     "text": [
      "Epoch: 3: 100%|██████████| 404/404 [11:17<00:00,  1.68s/batch, loss=0.701, precision=0.308, recall=0.315]\n"
     ]
    },
    {
     "name": "stdout",
     "output_type": "stream",
     "text": [
      "train Loss: 0.8460877648379543\n",
      "train Precision: 0.34493055434362724\n",
      "train Recall: 0.34686359571348324\n"
     ]
    },
    {
     "name": "stderr",
     "output_type": "stream",
     "text": [
      "Epoch: 3: 100%|██████████| 5/5 [00:14<00:00,  2.99s/batch, loss=1.29, precision=0.2, recall=0.167]   \n"
     ]
    },
    {
     "name": "stdout",
     "output_type": "stream",
     "text": [
      "val Loss: 0.9994625210762024\n",
      "val Precision: 0.30957428812980653\n",
      "val Recall: 0.30892922580242155\n",
      "Weight saved for epoch 3.\n"
     ]
    },
    {
     "name": "stderr",
     "output_type": "stream",
     "text": [
      "Epoch: 4: 100%|██████████| 404/404 [11:20<00:00,  1.68s/batch, loss=1.08, precision=0.246, recall=0.247] \n"
     ]
    },
    {
     "name": "stdout",
     "output_type": "stream",
     "text": [
      "train Loss: 0.8347649946071134\n",
      "train Precision: 0.35005693783116815\n",
      "train Recall: 0.34797057686465804\n"
     ]
    },
    {
     "name": "stderr",
     "output_type": "stream",
     "text": [
      "Epoch: 4: 100%|██████████| 5/5 [00:15<00:00,  3.02s/batch, loss=1.64, precision=0.167, recall=0.117] \n"
     ]
    },
    {
     "name": "stdout",
     "output_type": "stream",
     "text": [
      "val Loss: 1.1126980781555176\n",
      "val Precision: 0.2964416354894638\n",
      "val Recall: 0.28335983157157896\n",
      "Weight saved for epoch 4.\n"
     ]
    },
    {
     "name": "stderr",
     "output_type": "stream",
     "text": [
      "Epoch: 5: 100%|██████████| 404/404 [11:21<00:00,  1.69s/batch, loss=0.815, precision=0.306, recall=0.283]\n"
     ]
    },
    {
     "name": "stdout",
     "output_type": "stream",
     "text": [
      "train Loss: 0.8282566142849402\n",
      "train Precision: 0.35042612191916694\n",
      "train Recall: 0.35136145368070887\n"
     ]
    },
    {
     "name": "stderr",
     "output_type": "stream",
     "text": [
      "Epoch: 5: 100%|██████████| 5/5 [00:15<00:00,  3.04s/batch, loss=1.18, precision=0.2, recall=0.175]   \n"
     ]
    },
    {
     "name": "stdout",
     "output_type": "stream",
     "text": [
      "val Loss: 0.9164075493812561\n",
      "val Precision: 0.32998002171516416\n",
      "val Recall: 0.3212473690509796\n",
      "Weight saved for epoch 5.\n"
     ]
    },
    {
     "name": "stderr",
     "output_type": "stream",
     "text": [
      "Epoch: 6: 100%|██████████| 404/404 [11:29<00:00,  1.71s/batch, loss=1.05, precision=0.208, recall=0.176] \n"
     ]
    },
    {
     "name": "stdout",
     "output_type": "stream",
     "text": [
      "train Loss: 0.819551349128827\n",
      "train Precision: 0.3549734756055445\n",
      "train Recall: 0.35437818469092397\n"
     ]
    },
    {
     "name": "stderr",
     "output_type": "stream",
     "text": [
      "Epoch: 6: 100%|██████████| 5/5 [00:15<00:00,  3.01s/batch, loss=1.31, precision=0.2, recall=0.167]   \n"
     ]
    },
    {
     "name": "stdout",
     "output_type": "stream",
     "text": [
      "val Loss: 0.908564829826355\n",
      "val Precision: 0.34186752438545226\n",
      "val Recall: 0.3379662424325943\n",
      "Weight saved for epoch 6.\n"
     ]
    },
    {
     "name": "stderr",
     "output_type": "stream",
     "text": [
      "Epoch: 7: 100%|██████████| 404/404 [11:20<00:00,  1.68s/batch, loss=0.898, precision=0.204, recall=0.195]\n"
     ]
    },
    {
     "name": "stdout",
     "output_type": "stream",
     "text": [
      "train Loss: 0.8153005547747754\n",
      "train Precision: 0.3513562221190717\n",
      "train Recall: 0.35143886134028435\n"
     ]
    },
    {
     "name": "stderr",
     "output_type": "stream",
     "text": [
      "Epoch: 7: 100%|██████████| 5/5 [00:15<00:00,  3.05s/batch, loss=1.09, precision=0.2, recall=0.167]   \n"
     ]
    },
    {
     "name": "stdout",
     "output_type": "stream",
     "text": [
      "val Loss: 0.8933560848236084\n",
      "val Precision: 0.33278806805610656\n",
      "val Recall: 0.31857227385044096\n",
      "Weight saved for epoch 7.\n"
     ]
    },
    {
     "name": "stderr",
     "output_type": "stream",
     "text": [
      "Epoch: 8: 100%|██████████| 404/404 [11:23<00:00,  1.69s/batch, loss=0.917, precision=0.321, recall=0.285]\n"
     ]
    },
    {
     "name": "stdout",
     "output_type": "stream",
     "text": [
      "train Loss: 0.8025898018685897\n",
      "train Precision: 0.35997829615774724\n",
      "train Recall: 0.36278819455073613\n"
     ]
    },
    {
     "name": "stderr",
     "output_type": "stream",
     "text": [
      "Epoch: 8: 100%|██████████| 5/5 [00:14<00:00,  2.99s/batch, loss=1.35, precision=0.167, recall=0.131] \n"
     ]
    },
    {
     "name": "stdout",
     "output_type": "stream",
     "text": [
      "val Loss: 1.0974603652954102\n",
      "val Precision: 0.3090220481157303\n",
      "val Recall: 0.29391092658042905\n",
      "Weight saved for epoch 8.\n"
     ]
    },
    {
     "name": "stderr",
     "output_type": "stream",
     "text": [
      "Epoch: 9: 100%|██████████| 404/404 [11:19<00:00,  1.68s/batch, loss=1.1, precision=0.221, recall=0.248]  \n"
     ]
    },
    {
     "name": "stdout",
     "output_type": "stream",
     "text": [
      "train Loss: 0.7980074470881189\n",
      "train Precision: 0.3566909030374914\n",
      "train Recall: 0.3584773419885942\n"
     ]
    },
    {
     "name": "stderr",
     "output_type": "stream",
     "text": [
      "Epoch: 9: 100%|██████████| 5/5 [00:14<00:00,  2.97s/batch, loss=1.33, precision=0.2, recall=0.175]   \n"
     ]
    },
    {
     "name": "stdout",
     "output_type": "stream",
     "text": [
      "val Loss: 0.9860099196434021\n",
      "val Precision: 0.32858542799949647\n",
      "val Recall: 0.31959167718887327\n",
      "Weight saved for epoch 9.\n"
     ]
    },
    {
     "name": "stderr",
     "output_type": "stream",
     "text": [
      "Epoch: 10: 100%|██████████| 404/404 [11:21<00:00,  1.69s/batch, loss=0.874, precision=0.356, recall=0.332]\n"
     ]
    },
    {
     "name": "stdout",
     "output_type": "stream",
     "text": [
      "train Loss: 0.7892152030426677\n",
      "train Precision: 0.36435300487988065\n",
      "train Recall: 0.3661412417077192\n"
     ]
    },
    {
     "name": "stderr",
     "output_type": "stream",
     "text": [
      "Epoch: 10: 100%|██████████| 5/5 [00:14<00:00,  2.99s/batch, loss=1.42, precision=0.167, recall=0.125] \n"
     ]
    },
    {
     "name": "stdout",
     "output_type": "stream",
     "text": [
      "val Loss: 1.107454788684845\n",
      "val Precision: 0.28877978026866913\n",
      "val Recall: 0.2840843439102173\n",
      "Weight saved for epoch 10.\n"
     ]
    },
    {
     "name": "stderr",
     "output_type": "stream",
     "text": [
      "Epoch: 11: 100%|██████████| 404/404 [11:21<00:00,  1.69s/batch, loss=0.954, precision=0.233, recall=0.242]\n"
     ]
    },
    {
     "name": "stdout",
     "output_type": "stream",
     "text": [
      "train Loss: 0.781036861904777\n",
      "train Precision: 0.36238969737055277\n",
      "train Recall: 0.36365122532490457\n"
     ]
    },
    {
     "name": "stderr",
     "output_type": "stream",
     "text": [
      "Epoch: 11: 100%|██████████| 5/5 [00:15<00:00,  3.04s/batch, loss=1.31, precision=0.2, recall=0.167]   \n"
     ]
    },
    {
     "name": "stdout",
     "output_type": "stream",
     "text": [
      "val Loss: 0.8976811170578003\n",
      "val Precision: 0.3350449204444885\n",
      "val Recall: 0.31862257421016693\n",
      "Weight saved for epoch 11.\n"
     ]
    },
    {
     "name": "stderr",
     "output_type": "stream",
     "text": [
      "Epoch: 12: 100%|██████████| 404/404 [11:21<00:00,  1.69s/batch, loss=0.865, precision=0.321, recall=0.321]\n"
     ]
    },
    {
     "name": "stdout",
     "output_type": "stream",
     "text": [
      "train Loss: 0.7708080961267547\n",
      "train Precision: 0.36745505366880116\n",
      "train Recall: 0.3685415383465219\n"
     ]
    },
    {
     "name": "stderr",
     "output_type": "stream",
     "text": [
      "Epoch: 12: 100%|██████████| 5/5 [00:15<00:00,  3.02s/batch, loss=1.48, precision=0.2, recall=0.167]   \n"
     ]
    },
    {
     "name": "stdout",
     "output_type": "stream",
     "text": [
      "val Loss: 0.9160395383834838\n",
      "val Precision: 0.3409712851047516\n",
      "val Recall: 0.3466229408979416\n",
      "Weight saved for epoch 12.\n"
     ]
    },
    {
     "name": "stderr",
     "output_type": "stream",
     "text": [
      "Epoch: 13: 100%|██████████| 404/404 [11:21<00:00,  1.69s/batch, loss=1.19, precision=0.246, recall=0.262] \n"
     ]
    },
    {
     "name": "stdout",
     "output_type": "stream",
     "text": [
      "train Loss: 0.7628748441981797\n",
      "train Precision: 0.3722962462666011\n",
      "train Recall: 0.37332873319340226\n"
     ]
    },
    {
     "name": "stderr",
     "output_type": "stream",
     "text": [
      "Epoch: 13: 100%|██████████| 5/5 [00:14<00:00,  2.94s/batch, loss=1.57, precision=0.2, recall=0.167]   \n"
     ]
    },
    {
     "name": "stdout",
     "output_type": "stream",
     "text": [
      "val Loss: 1.0855131030082703\n",
      "val Precision: 0.3086246907711029\n",
      "val Recall: 0.2994570344686508\n",
      "Weight saved for epoch 13.\n"
     ]
    },
    {
     "name": "stderr",
     "output_type": "stream",
     "text": [
      "Epoch: 14: 100%|██████████| 404/404 [11:21<00:00,  1.69s/batch, loss=0.843, precision=0.314, recall=0.262]\n"
     ]
    },
    {
     "name": "stdout",
     "output_type": "stream",
     "text": [
      "train Loss: 0.7557315866988484\n",
      "train Precision: 0.3711555301405416\n",
      "train Recall: 0.3723588757733307\n"
     ]
    },
    {
     "name": "stderr",
     "output_type": "stream",
     "text": [
      "Epoch: 14: 100%|██████████| 5/5 [00:15<00:00,  3.01s/batch, loss=1.08, precision=0.167, recall=0.125] \n"
     ]
    },
    {
     "name": "stdout",
     "output_type": "stream",
     "text": [
      "val Loss: 0.8001420259475708\n",
      "val Precision: 0.36092680394649507\n",
      "val Recall: 0.3519171714782715\n",
      "Weight saved for epoch 14.\n"
     ]
    },
    {
     "name": "stderr",
     "output_type": "stream",
     "text": [
      "Epoch: 15: 100%|██████████| 404/404 [11:20<00:00,  1.69s/batch, loss=0.873, precision=0.381, recall=0.358]\n"
     ]
    },
    {
     "name": "stdout",
     "output_type": "stream",
     "text": [
      "train Loss: 0.749067399023783\n",
      "train Precision: 0.3749733053811706\n",
      "train Recall: 0.37418449751221305\n"
     ]
    },
    {
     "name": "stderr",
     "output_type": "stream",
     "text": [
      "Epoch: 15: 100%|██████████| 5/5 [00:15<00:00,  3.02s/batch, loss=1.2, precision=0.2, recall=0.167]    \n"
     ]
    },
    {
     "name": "stdout",
     "output_type": "stream",
     "text": [
      "val Loss: 0.8644626140594482\n",
      "val Precision: 0.344211733341217\n",
      "val Recall: 0.3384721904993057\n",
      "Weight saved for epoch 15.\n"
     ]
    },
    {
     "name": "stderr",
     "output_type": "stream",
     "text": [
      "Epoch: 16: 100%|██████████| 404/404 [11:18<00:00,  1.68s/batch, loss=0.884, precision=0.25, recall=0.256] \n"
     ]
    },
    {
     "name": "stdout",
     "output_type": "stream",
     "text": [
      "train Loss: 0.740317572756569\n",
      "train Precision: 0.3773006712741191\n",
      "train Recall: 0.37870425568653804\n"
     ]
    },
    {
     "name": "stderr",
     "output_type": "stream",
     "text": [
      "Epoch: 16: 100%|██████████| 5/5 [00:15<00:00,  3.03s/batch, loss=1.46, precision=0.2, recall=0.167]   \n"
     ]
    },
    {
     "name": "stdout",
     "output_type": "stream",
     "text": [
      "val Loss: 1.079007625579834\n",
      "val Precision: 0.29994362592697144\n",
      "val Recall: 0.3072433263063431\n",
      "Weight saved for epoch 16.\n"
     ]
    },
    {
     "name": "stderr",
     "output_type": "stream",
     "text": [
      "Epoch: 17: 100%|██████████| 404/404 [11:22<00:00,  1.69s/batch, loss=1.32, precision=0.188, recall=0.174] \n"
     ]
    },
    {
     "name": "stdout",
     "output_type": "stream",
     "text": [
      "train Loss: 0.7387553233616423\n",
      "train Precision: 0.3767604111961209\n",
      "train Recall: 0.375927246553768\n"
     ]
    },
    {
     "name": "stderr",
     "output_type": "stream",
     "text": [
      "Epoch: 17: 100%|██████████| 5/5 [00:15<00:00,  3.06s/batch, loss=1.15, precision=0.2, recall=0.167]   \n"
     ]
    },
    {
     "name": "stdout",
     "output_type": "stream",
     "text": [
      "val Loss: 0.8075822830200196\n",
      "val Precision: 0.36802846789360044\n",
      "val Recall: 0.37070214450359346\n",
      "Weight saved for epoch 17.\n"
     ]
    },
    {
     "name": "stderr",
     "output_type": "stream",
     "text": [
      "Epoch: 18: 100%|██████████| 404/404 [11:28<00:00,  1.70s/batch, loss=0.84, precision=0.224, recall=0.257] \n"
     ]
    },
    {
     "name": "stdout",
     "output_type": "stream",
     "text": [
      "train Loss: 0.7312138899423108\n",
      "train Precision: 0.37974194828236457\n",
      "train Recall: 0.38012503758810534\n"
     ]
    },
    {
     "name": "stderr",
     "output_type": "stream",
     "text": [
      "Epoch: 18: 100%|██████████| 5/5 [00:15<00:00,  3.07s/batch, loss=1.14, precision=0.2, recall=0.167]   \n"
     ]
    },
    {
     "name": "stdout",
     "output_type": "stream",
     "text": [
      "val Loss: 0.8028159976005554\n",
      "val Precision: 0.35854809880256655\n",
      "val Recall: 0.3600291222333908\n",
      "Weight saved for epoch 18.\n"
     ]
    },
    {
     "name": "stderr",
     "output_type": "stream",
     "text": [
      "Epoch: 19: 100%|██████████| 404/404 [11:35<00:00,  1.72s/batch, loss=1.41, precision=0.295, recall=0.235] \n"
     ]
    },
    {
     "name": "stdout",
     "output_type": "stream",
     "text": [
      "train Loss: 0.723901992608415\n",
      "train Precision: 0.38138276648403396\n",
      "train Recall: 0.38408313743253747\n"
     ]
    },
    {
     "name": "stderr",
     "output_type": "stream",
     "text": [
      "Epoch: 19: 100%|██████████| 5/5 [00:15<00:00,  3.07s/batch, loss=1.6, precision=0.167, recall=0.117]  \n"
     ]
    },
    {
     "name": "stdout",
     "output_type": "stream",
     "text": [
      "val Loss: 1.2070616245269776\n",
      "val Precision: 0.27949766218662264\n",
      "val Recall: 0.2797715365886688\n",
      "Weight saved for epoch 19.\n"
     ]
    },
    {
     "name": "stderr",
     "output_type": "stream",
     "text": [
      "Epoch: 20: 100%|██████████| 404/404 [11:31<00:00,  1.71s/batch, loss=0.899, precision=0.315, recall=0.312]\n"
     ]
    },
    {
     "name": "stdout",
     "output_type": "stream",
     "text": [
      "train Loss: 0.716160460126282\n",
      "train Precision: 0.383865645985202\n",
      "train Recall: 0.38494611147901797\n"
     ]
    },
    {
     "name": "stderr",
     "output_type": "stream",
     "text": [
      "Epoch: 20: 100%|██████████| 5/5 [00:16<00:00,  3.25s/batch, loss=1.23, precision=0.15, recall=0.125]  \n"
     ]
    },
    {
     "name": "stdout",
     "output_type": "stream",
     "text": [
      "val Loss: 0.8079460382461547\n",
      "val Precision: 0.3512727200984955\n",
      "val Recall: 0.37013195753097533\n",
      "Weight saved for epoch 20.\n"
     ]
    },
    {
     "name": "stderr",
     "output_type": "stream",
     "text": [
      "Epoch: 21: 100%|██████████| 404/404 [11:35<00:00,  1.72s/batch, loss=0.742, precision=0.303, recall=0.289]\n"
     ]
    },
    {
     "name": "stdout",
     "output_type": "stream",
     "text": [
      "train Loss: 0.704115896531851\n",
      "train Precision: 0.3904273199415443\n",
      "train Recall: 0.3907631152484677\n"
     ]
    },
    {
     "name": "stderr",
     "output_type": "stream",
     "text": [
      "Epoch: 21: 100%|██████████| 5/5 [00:14<00:00,  2.97s/batch, loss=1.46, precision=0.167, recall=0.117] \n"
     ]
    },
    {
     "name": "stdout",
     "output_type": "stream",
     "text": [
      "val Loss: 0.9410438537597656\n",
      "val Precision: 0.33102066218853\n",
      "val Recall: 0.33982129096984864\n",
      "Weight saved for epoch 21.\n"
     ]
    },
    {
     "name": "stderr",
     "output_type": "stream",
     "text": [
      "Epoch: 22: 100%|██████████| 404/404 [11:17<00:00,  1.68s/batch, loss=0.823, precision=0.263, recall=0.303]\n"
     ]
    },
    {
     "name": "stdout",
     "output_type": "stream",
     "text": [
      "train Loss: 0.6976421191403182\n",
      "train Precision: 0.3890801438010565\n",
      "train Recall: 0.3889882504792497\n"
     ]
    },
    {
     "name": "stderr",
     "output_type": "stream",
     "text": [
      "Epoch: 22: 100%|██████████| 5/5 [00:14<00:00,  3.00s/batch, loss=1.31, precision=0.167, recall=0.131] \n"
     ]
    },
    {
     "name": "stdout",
     "output_type": "stream",
     "text": [
      "val Loss: 0.8325485587120056\n",
      "val Precision: 0.3644371837377548\n",
      "val Recall: 0.3712528467178345\n",
      "Weight saved for epoch 22.\n"
     ]
    },
    {
     "name": "stderr",
     "output_type": "stream",
     "text": [
      "Epoch: 23: 100%|██████████| 404/404 [11:19<00:00,  1.68s/batch, loss=0.818, precision=0.327, recall=0.326]\n"
     ]
    },
    {
     "name": "stdout",
     "output_type": "stream",
     "text": [
      "train Loss: 0.6919381010650408\n",
      "train Precision: 0.39223520966744657\n",
      "train Recall: 0.3925775806650077\n"
     ]
    },
    {
     "name": "stderr",
     "output_type": "stream",
     "text": [
      "Epoch: 23: 100%|██████████| 5/5 [00:14<00:00,  2.98s/batch, loss=1.29, precision=0.15, recall=0.14]   \n"
     ]
    },
    {
     "name": "stdout",
     "output_type": "stream",
     "text": [
      "val Loss: 0.8763313174247742\n",
      "val Precision: 0.3347752332687378\n",
      "val Recall: 0.3382991820573807\n",
      "Weight saved for epoch 23.\n"
     ]
    },
    {
     "name": "stderr",
     "output_type": "stream",
     "text": [
      "Epoch: 24: 100%|██████████| 404/404 [11:17<00:00,  1.68s/batch, loss=0.717, precision=0.257, recall=0.28] \n"
     ]
    },
    {
     "name": "stdout",
     "output_type": "stream",
     "text": [
      "train Loss: 0.6832936912922576\n",
      "train Precision: 0.39524019642336533\n",
      "train Recall: 0.39635738793133507\n"
     ]
    },
    {
     "name": "stderr",
     "output_type": "stream",
     "text": [
      "Epoch: 24: 100%|██████████| 5/5 [00:15<00:00,  3.05s/batch, loss=1.29, precision=0.2, recall=0.167]   \n"
     ]
    },
    {
     "name": "stdout",
     "output_type": "stream",
     "text": [
      "val Loss: 0.8957178115844726\n",
      "val Precision: 0.3393051564693451\n",
      "val Recall: 0.3326019734144211\n",
      "Weight saved for epoch 24.\n"
     ]
    },
    {
     "name": "stderr",
     "output_type": "stream",
     "text": [
      "Epoch: 25: 100%|██████████| 404/404 [11:18<00:00,  1.68s/batch, loss=0.759, precision=0.325, recall=0.318]\n"
     ]
    },
    {
     "name": "stdout",
     "output_type": "stream",
     "text": [
      "train Loss: 0.6791824918277193\n",
      "train Precision: 0.3970156928690353\n",
      "train Recall: 0.3981787230413739\n"
     ]
    },
    {
     "name": "stderr",
     "output_type": "stream",
     "text": [
      "Epoch: 25: 100%|██████████| 5/5 [00:14<00:00,  2.99s/batch, loss=1.58, precision=0.167, recall=0.117] \n"
     ]
    },
    {
     "name": "stdout",
     "output_type": "stream",
     "text": [
      "val Loss: 1.0904363632202148\n",
      "val Precision: 0.2984631687402725\n",
      "val Recall: 0.29454450607299804\n",
      "Weight saved for epoch 25.\n"
     ]
    },
    {
     "name": "stderr",
     "output_type": "stream",
     "text": [
      "Epoch: 26: 100%|██████████| 404/404 [11:19<00:00,  1.68s/batch, loss=0.913, precision=0.353, recall=0.341]\n"
     ]
    },
    {
     "name": "stdout",
     "output_type": "stream",
     "text": [
      "train Loss: 0.6719570433591852\n",
      "train Precision: 0.4000729495788565\n",
      "train Recall: 0.40201106010982307\n"
     ]
    },
    {
     "name": "stderr",
     "output_type": "stream",
     "text": [
      "Epoch: 26: 100%|██████████| 5/5 [00:15<00:00,  3.01s/batch, loss=1.11, precision=0.2, recall=0.167]   \n"
     ]
    },
    {
     "name": "stdout",
     "output_type": "stream",
     "text": [
      "val Loss: 0.7391686201095581\n",
      "val Precision: 0.3842063546180725\n",
      "val Recall: 0.3834866374731064\n",
      "Weight saved for epoch 26.\n"
     ]
    },
    {
     "name": "stderr",
     "output_type": "stream",
     "text": [
      "Epoch: 27: 100%|██████████| 404/404 [11:19<00:00,  1.68s/batch, loss=0.814, precision=0.239, recall=0.234]\n"
     ]
    },
    {
     "name": "stdout",
     "output_type": "stream",
     "text": [
      "train Loss: 0.6707326527131666\n",
      "train Precision: 0.39709052568910147\n",
      "train Recall: 0.39894372637909237\n"
     ]
    },
    {
     "name": "stderr",
     "output_type": "stream",
     "text": [
      "Epoch: 27: 100%|██████████| 5/5 [00:14<00:00,  2.99s/batch, loss=1.61, precision=0.117, recall=0.107] \n"
     ]
    },
    {
     "name": "stdout",
     "output_type": "stream",
     "text": [
      "val Loss: 1.002029812335968\n",
      "val Precision: 0.3445577800273895\n",
      "val Recall: 0.3343671068549156\n",
      "Weight saved for epoch 27.\n"
     ]
    },
    {
     "name": "stderr",
     "output_type": "stream",
     "text": [
      "Epoch: 28: 100%|██████████| 404/404 [11:19<00:00,  1.68s/batch, loss=0.803, precision=0.3, recall=0.3]    \n"
     ]
    },
    {
     "name": "stdout",
     "output_type": "stream",
     "text": [
      "train Loss: 0.6625805794455037\n",
      "train Precision: 0.4008078541938621\n",
      "train Recall: 0.4025583232540895\n"
     ]
    },
    {
     "name": "stderr",
     "output_type": "stream",
     "text": [
      "Epoch: 28: 100%|██████████| 5/5 [00:15<00:00,  3.06s/batch, loss=1.26, precision=0.183, recall=0.175] \n"
     ]
    },
    {
     "name": "stdout",
     "output_type": "stream",
     "text": [
      "val Loss: 0.8695308685302734\n",
      "val Precision: 0.3372601270675659\n",
      "val Recall: 0.33792694807052615\n",
      "Weight saved for epoch 28.\n"
     ]
    },
    {
     "name": "stderr",
     "output_type": "stream",
     "text": [
      "Epoch: 29: 100%|██████████| 404/404 [11:17<00:00,  1.68s/batch, loss=0.482, precision=0.394, recall=0.406]\n"
     ]
    },
    {
     "name": "stdout",
     "output_type": "stream",
     "text": [
      "train Loss: 0.6526992006762193\n",
      "train Precision: 0.40547069752275355\n",
      "train Recall: 0.40486041795794325\n"
     ]
    },
    {
     "name": "stderr",
     "output_type": "stream",
     "text": [
      "Epoch: 29: 100%|██████████| 5/5 [00:15<00:00,  3.03s/batch, loss=1.31, precision=0.2, recall=0.175]   \n"
     ]
    },
    {
     "name": "stdout",
     "output_type": "stream",
     "text": [
      "val Loss: 0.8294549584388733\n",
      "val Precision: 0.3653979003429413\n",
      "val Recall: 0.3874063611030579\n",
      "Weight saved for epoch 29.\n"
     ]
    },
    {
     "name": "stderr",
     "output_type": "stream",
     "text": [
      "Epoch: 30: 100%|██████████| 404/404 [11:17<00:00,  1.68s/batch, loss=0.536, precision=0.366, recall=0.376]\n"
     ]
    },
    {
     "name": "stdout",
     "output_type": "stream",
     "text": [
      "train Loss: 0.6482906733999158\n",
      "train Precision: 0.4064629589124481\n",
      "train Recall: 0.4065840778374436\n"
     ]
    },
    {
     "name": "stderr",
     "output_type": "stream",
     "text": [
      "Epoch: 30: 100%|██████████| 5/5 [00:14<00:00,  2.97s/batch, loss=1.39, precision=0.167, recall=0.117] \n"
     ]
    },
    {
     "name": "stdout",
     "output_type": "stream",
     "text": [
      "val Loss: 0.9458054304122925\n",
      "val Precision: 0.3241694658994675\n",
      "val Recall: 0.3224623441696167\n",
      "Weight saved for epoch 30.\n"
     ]
    },
    {
     "name": "stderr",
     "output_type": "stream",
     "text": [
      "Epoch: 31: 100%|██████████| 404/404 [11:18<00:00,  1.68s/batch, loss=0.979, precision=0.34, recall=0.34]  \n"
     ]
    },
    {
     "name": "stdout",
     "output_type": "stream",
     "text": [
      "train Loss: 0.6371860891433045\n",
      "train Precision: 0.410339224161488\n",
      "train Recall: 0.4106498965532473\n"
     ]
    },
    {
     "name": "stderr",
     "output_type": "stream",
     "text": [
      "Epoch: 31: 100%|██████████| 5/5 [00:14<00:00,  2.98s/batch, loss=1.5, precision=0.183, recall=0.175]  \n"
     ]
    },
    {
     "name": "stdout",
     "output_type": "stream",
     "text": [
      "val Loss: 1.0465809941291808\n",
      "val Precision: 0.3362849473953247\n",
      "val Recall: 0.33972766399383547\n",
      "Weight saved for epoch 31.\n"
     ]
    },
    {
     "name": "stderr",
     "output_type": "stream",
     "text": [
      "Epoch: 32: 100%|██████████| 404/404 [11:17<00:00,  1.68s/batch, loss=0.62, precision=0.329, recall=0.332] \n"
     ]
    },
    {
     "name": "stdout",
     "output_type": "stream",
     "text": [
      "train Loss: 0.6369432471323722\n",
      "train Precision: 0.41128277594205176\n",
      "train Recall: 0.4129771031070464\n"
     ]
    },
    {
     "name": "stderr",
     "output_type": "stream",
     "text": [
      "Epoch: 32: 100%|██████████| 5/5 [00:15<00:00,  3.00s/batch, loss=0.815, precision=0.2, recall=0.156]  \n"
     ]
    },
    {
     "name": "stdout",
     "output_type": "stream",
     "text": [
      "val Loss: 0.7565404772758484\n",
      "val Precision: 0.3522909700870514\n",
      "val Recall: 0.3489859938621521\n",
      "Weight saved for epoch 32.\n"
     ]
    },
    {
     "name": "stderr",
     "output_type": "stream",
     "text": [
      "Epoch: 33: 100%|██████████| 404/404 [11:18<00:00,  1.68s/batch, loss=0.673, precision=0.369, recall=0.348]\n"
     ]
    },
    {
     "name": "stdout",
     "output_type": "stream",
     "text": [
      "train Loss: 0.6274857318194786\n",
      "train Precision: 0.4140276519378813\n",
      "train Recall: 0.41336189534994633\n"
     ]
    },
    {
     "name": "stderr",
     "output_type": "stream",
     "text": [
      "Epoch: 33: 100%|██████████| 5/5 [00:15<00:00,  3.01s/batch, loss=0.937, precision=0.233, recall=0.211]\n"
     ]
    },
    {
     "name": "stdout",
     "output_type": "stream",
     "text": [
      "val Loss: 0.6975939273834229\n",
      "val Precision: 0.38903287053108215\n",
      "val Recall: 0.39809606075286863\n",
      "Weight saved for epoch 33.\n"
     ]
    },
    {
     "name": "stderr",
     "output_type": "stream",
     "text": [
      "Epoch: 34: 100%|██████████| 404/404 [11:17<00:00,  1.68s/batch, loss=0.732, precision=0.317, recall=0.3]  \n"
     ]
    },
    {
     "name": "stdout",
     "output_type": "stream",
     "text": [
      "train Loss: 0.621937159411978\n",
      "train Precision: 0.4144094946360824\n",
      "train Recall: 0.41443283546088944\n"
     ]
    },
    {
     "name": "stderr",
     "output_type": "stream",
     "text": [
      "Epoch: 34: 100%|██████████| 5/5 [00:15<00:00,  3.02s/batch, loss=1.2, precision=0.167, recall=0.117]  \n"
     ]
    },
    {
     "name": "stdout",
     "output_type": "stream",
     "text": [
      "val Loss: 0.8975803136825562\n",
      "val Precision: 0.3335180729627609\n",
      "val Recall: 0.33700171709060667\n",
      "Weight saved for epoch 34.\n"
     ]
    },
    {
     "name": "stderr",
     "output_type": "stream",
     "text": [
      "Epoch: 35: 100%|██████████| 404/404 [11:18<00:00,  1.68s/batch, loss=0.645, precision=0.293, recall=0.301]\n"
     ]
    },
    {
     "name": "stdout",
     "output_type": "stream",
     "text": [
      "train Loss: 0.6160557191118156\n",
      "train Precision: 0.4190935654067757\n",
      "train Recall: 0.41956410394741755\n"
     ]
    },
    {
     "name": "stderr",
     "output_type": "stream",
     "text": [
      "Epoch: 35: 100%|██████████| 5/5 [00:14<00:00,  2.98s/batch, loss=1.18, precision=0.2, recall=0.175]   \n"
     ]
    },
    {
     "name": "stdout",
     "output_type": "stream",
     "text": [
      "val Loss: 0.7801971673965454\n",
      "val Precision: 0.38725726008415223\n",
      "val Recall: 0.3910636782646179\n",
      "Weight saved for epoch 35.\n"
     ]
    },
    {
     "name": "stderr",
     "output_type": "stream",
     "text": [
      "Epoch: 36: 100%|██████████| 404/404 [11:18<00:00,  1.68s/batch, loss=0.956, precision=0.285, recall=0.251]\n"
     ]
    },
    {
     "name": "stdout",
     "output_type": "stream",
     "text": [
      "train Loss: 0.6107909444092524\n",
      "train Precision: 0.41979037926043616\n",
      "train Recall: 0.4202359246440453\n"
     ]
    },
    {
     "name": "stderr",
     "output_type": "stream",
     "text": [
      "Epoch: 36: 100%|██████████| 5/5 [00:14<00:00,  2.99s/batch, loss=0.908, precision=0.2, recall=0.167]  \n"
     ]
    },
    {
     "name": "stdout",
     "output_type": "stream",
     "text": [
      "val Loss: 0.7346315383911133\n",
      "val Precision: 0.388190358877182\n",
      "val Recall: 0.39021740257740023\n",
      "Weight saved for epoch 36.\n"
     ]
    },
    {
     "name": "stderr",
     "output_type": "stream",
     "text": [
      "Epoch: 37: 100%|██████████| 404/404 [11:18<00:00,  1.68s/batch, loss=0.498, precision=0.38, recall=0.391] \n"
     ]
    },
    {
     "name": "stdout",
     "output_type": "stream",
     "text": [
      "train Loss: 0.6086123938312625\n",
      "train Precision: 0.4204045548887536\n",
      "train Recall: 0.42288307425114186\n"
     ]
    },
    {
     "name": "stderr",
     "output_type": "stream",
     "text": [
      "Epoch: 37: 100%|██████████| 5/5 [00:14<00:00,  2.99s/batch, loss=1.01, precision=0.2, recall=0.167]   \n"
     ]
    },
    {
     "name": "stdout",
     "output_type": "stream",
     "text": [
      "val Loss: 0.7097308516502381\n",
      "val Precision: 0.37692383527755735\n",
      "val Recall: 0.378144434094429\n",
      "Weight saved for epoch 37.\n"
     ]
    },
    {
     "name": "stderr",
     "output_type": "stream",
     "text": [
      "Epoch: 38: 100%|██████████| 404/404 [11:18<00:00,  1.68s/batch, loss=0.775, precision=0.35, recall=0.345] \n"
     ]
    },
    {
     "name": "stdout",
     "output_type": "stream",
     "text": [
      "train Loss: 0.6021431513351969\n",
      "train Precision: 0.4226150336389494\n",
      "train Recall: 0.4234219363862925\n"
     ]
    },
    {
     "name": "stderr",
     "output_type": "stream",
     "text": [
      "Epoch: 38: 100%|██████████| 5/5 [00:15<00:00,  3.04s/batch, loss=1.4, precision=0.15, recall=0.128]   \n"
     ]
    },
    {
     "name": "stdout",
     "output_type": "stream",
     "text": [
      "val Loss: 1.04333815574646\n",
      "val Precision: 0.3465470254421234\n",
      "val Recall: 0.34751585125923157\n",
      "Weight saved for epoch 38.\n"
     ]
    },
    {
     "name": "stderr",
     "output_type": "stream",
     "text": [
      "Epoch: 39: 100%|██████████| 404/404 [11:18<00:00,  1.68s/batch, loss=0.906, precision=0.394, recall=0.389]\n"
     ]
    },
    {
     "name": "stdout",
     "output_type": "stream",
     "text": [
      "train Loss: 0.5977116116497776\n",
      "train Precision: 0.4230433103471699\n",
      "train Recall: 0.4253479465842247\n"
     ]
    },
    {
     "name": "stderr",
     "output_type": "stream",
     "text": [
      "Epoch: 39: 100%|██████████| 5/5 [00:15<00:00,  3.03s/batch, loss=1.01, precision=0.2, recall=0.167]   \n"
     ]
    },
    {
     "name": "stdout",
     "output_type": "stream",
     "text": [
      "val Loss: 0.6758482336997986\n",
      "val Precision: 0.41009278893470763\n",
      "val Recall: 0.3980321139097214\n",
      "Weight saved for epoch 39.\n"
     ]
    },
    {
     "name": "stderr",
     "output_type": "stream",
     "text": [
      "Epoch: 40: 100%|██████████| 404/404 [11:17<00:00,  1.68s/batch, loss=0.678, precision=0.299, recall=0.307]\n"
     ]
    },
    {
     "name": "stdout",
     "output_type": "stream",
     "text": [
      "train Loss: 0.5911604121770009\n",
      "train Precision: 0.42680150831099783\n",
      "train Recall: 0.4282857187756217\n"
     ]
    },
    {
     "name": "stderr",
     "output_type": "stream",
     "text": [
      "Epoch: 40: 100%|██████████| 5/5 [00:15<00:00,  3.04s/batch, loss=1.01, precision=0.2, recall=0.172]  \n"
     ]
    },
    {
     "name": "stdout",
     "output_type": "stream",
     "text": [
      "val Loss: 0.6545418798923492\n",
      "val Precision: 0.4169477105140686\n",
      "val Recall: 0.41463700830936434\n",
      "Weight saved for epoch 40.\n"
     ]
    },
    {
     "name": "stderr",
     "output_type": "stream",
     "text": [
      "Epoch: 41: 100%|██████████| 404/404 [11:18<00:00,  1.68s/batch, loss=0.822, precision=0.333, recall=0.356]\n"
     ]
    },
    {
     "name": "stdout",
     "output_type": "stream",
     "text": [
      "train Loss: 0.5872146184786712\n",
      "train Precision: 0.427425151856819\n",
      "train Recall: 0.4283993277366799\n"
     ]
    },
    {
     "name": "stderr",
     "output_type": "stream",
     "text": [
      "Epoch: 41: 100%|██████████| 5/5 [00:15<00:00,  3.04s/batch, loss=1.38, precision=0.183, recall=0.158] \n"
     ]
    },
    {
     "name": "stdout",
     "output_type": "stream",
     "text": [
      "val Loss: 0.8669046998023987\n",
      "val Precision: 0.3682964682579041\n",
      "val Recall: 0.3702807992696762\n",
      "Weight saved for epoch 41.\n"
     ]
    },
    {
     "name": "stderr",
     "output_type": "stream",
     "text": [
      "Epoch: 42: 100%|██████████| 404/404 [11:20<00:00,  1.68s/batch, loss=0.658, precision=0.322, recall=0.308]\n"
     ]
    },
    {
     "name": "stdout",
     "output_type": "stream",
     "text": [
      "train Loss: 0.5825921698371963\n",
      "train Precision: 0.4270869374717816\n",
      "train Recall: 0.42913100875840327\n"
     ]
    },
    {
     "name": "stderr",
     "output_type": "stream",
     "text": [
      "Epoch: 42: 100%|██████████| 5/5 [00:14<00:00,  2.96s/batch, loss=1.63, precision=0.183, recall=0.144] \n"
     ]
    },
    {
     "name": "stdout",
     "output_type": "stream",
     "text": [
      "val Loss: 1.0604928135871887\n",
      "val Precision: 0.3288185358047485\n",
      "val Recall: 0.3580761641263962\n",
      "Weight saved for epoch 42.\n"
     ]
    },
    {
     "name": "stderr",
     "output_type": "stream",
     "text": [
      "Epoch: 43: 100%|██████████| 404/404 [11:17<00:00,  1.68s/batch, loss=1.06, precision=0.239, recall=0.213] \n"
     ]
    },
    {
     "name": "stdout",
     "output_type": "stream",
     "text": [
      "train Loss: 0.581837503553027\n",
      "train Precision: 0.4267522753170221\n",
      "train Recall: 0.4292940678130282\n"
     ]
    },
    {
     "name": "stderr",
     "output_type": "stream",
     "text": [
      "Epoch: 43: 100%|██████████| 5/5 [00:14<00:00,  3.00s/batch, loss=0.937, precision=0.217, recall=0.211]\n"
     ]
    },
    {
     "name": "stdout",
     "output_type": "stream",
     "text": [
      "val Loss: 0.8219962239265441\n",
      "val Precision: 0.36325739324092865\n",
      "val Recall: 0.3627511262893677\n",
      "Weight saved for epoch 43.\n"
     ]
    },
    {
     "name": "stderr",
     "output_type": "stream",
     "text": [
      "Epoch: 44: 100%|██████████| 404/404 [11:18<00:00,  1.68s/batch, loss=0.705, precision=0.317, recall=0.311]\n"
     ]
    },
    {
     "name": "stdout",
     "output_type": "stream",
     "text": [
      "train Loss: 0.5706085435824819\n",
      "train Precision: 0.43310763959837434\n",
      "train Recall: 0.4336023442078345\n"
     ]
    },
    {
     "name": "stderr",
     "output_type": "stream",
     "text": [
      "Epoch: 44: 100%|██████████| 5/5 [00:15<00:00,  3.02s/batch, loss=1.11, precision=0.2, recall=0.167]   \n"
     ]
    },
    {
     "name": "stdout",
     "output_type": "stream",
     "text": [
      "val Loss: 0.7653403759002686\n",
      "val Precision: 0.3973337233066559\n",
      "val Recall: 0.3964215248823166\n",
      "Weight saved for epoch 44.\n"
     ]
    },
    {
     "name": "stderr",
     "output_type": "stream",
     "text": [
      "Epoch: 45: 100%|██████████| 404/404 [11:17<00:00,  1.68s/batch, loss=0.419, precision=0.362, recall=0.344]\n"
     ]
    },
    {
     "name": "stdout",
     "output_type": "stream",
     "text": [
      "train Loss: 0.5647809342435091\n",
      "train Precision: 0.4364320635057912\n",
      "train Recall: 0.4361815006278529\n"
     ]
    },
    {
     "name": "stderr",
     "output_type": "stream",
     "text": [
      "Epoch: 45: 100%|██████████| 5/5 [00:14<00:00,  2.98s/batch, loss=0.83, precision=0.2, recall=0.167]   \n"
     ]
    },
    {
     "name": "stdout",
     "output_type": "stream",
     "text": [
      "val Loss: 0.6572603166103363\n",
      "val Precision: 0.3989959716796875\n",
      "val Recall: 0.404799023270607\n",
      "Weight saved for epoch 45.\n"
     ]
    },
    {
     "name": "stderr",
     "output_type": "stream",
     "text": [
      "Epoch: 46: 100%|██████████| 404/404 [11:18<00:00,  1.68s/batch, loss=0.543, precision=0.411, recall=0.431]\n"
     ]
    },
    {
     "name": "stdout",
     "output_type": "stream",
     "text": [
      "train Loss: 0.5582796787418941\n",
      "train Precision: 0.44089102789317025\n",
      "train Recall: 0.4409907606273594\n"
     ]
    },
    {
     "name": "stderr",
     "output_type": "stream",
     "text": [
      "Epoch: 46: 100%|██████████| 5/5 [00:15<00:00,  3.01s/batch, loss=0.972, precision=0.2, recall=0.167]  \n"
     ]
    },
    {
     "name": "stdout",
     "output_type": "stream",
     "text": [
      "val Loss: 0.671056455373764\n",
      "val Precision: 0.394634073972702\n",
      "val Recall: 0.381716451048851\n",
      "Weight saved for epoch 46.\n"
     ]
    },
    {
     "name": "stderr",
     "output_type": "stream",
     "text": [
      "Epoch: 47: 100%|██████████| 404/404 [11:17<00:00,  1.68s/batch, loss=1.06, precision=0.368, recall=0.358] \n"
     ]
    },
    {
     "name": "stdout",
     "output_type": "stream",
     "text": [
      "train Loss: 0.5527201030071419\n",
      "train Precision: 0.44156561710751885\n",
      "train Recall: 0.4420761303736432\n"
     ]
    },
    {
     "name": "stderr",
     "output_type": "stream",
     "text": [
      "Epoch: 47: 100%|██████████| 5/5 [00:14<00:00,  2.99s/batch, loss=1.08, precision=0.233, recall=0.206] \n"
     ]
    },
    {
     "name": "stdout",
     "output_type": "stream",
     "text": [
      "val Loss: 0.7404898762702942\n",
      "val Precision: 0.39758052229881286\n",
      "val Recall: 0.39527468383312225\n",
      "Weight saved for epoch 47.\n"
     ]
    },
    {
     "name": "stderr",
     "output_type": "stream",
     "text": [
      "Epoch: 48: 100%|██████████| 404/404 [11:22<00:00,  1.69s/batch, loss=1.04, precision=0.295, recall=0.273] \n"
     ]
    },
    {
     "name": "stdout",
     "output_type": "stream",
     "text": [
      "train Loss: 0.5539074308506333\n",
      "train Precision: 0.4401343998194921\n",
      "train Recall: 0.44037617514334104\n"
     ]
    },
    {
     "name": "stderr",
     "output_type": "stream",
     "text": [
      "Epoch: 48: 100%|██████████| 5/5 [00:15<00:00,  3.01s/batch, loss=1.22, precision=0.183, recall=0.161] \n"
     ]
    },
    {
     "name": "stdout",
     "output_type": "stream",
     "text": [
      "val Loss: 0.8040023624897004\n",
      "val Precision: 0.3682542622089386\n",
      "val Recall: 0.35943596065044403\n",
      "Weight saved for epoch 48.\n"
     ]
    },
    {
     "name": "stderr",
     "output_type": "stream",
     "text": [
      "Epoch: 49: 100%|██████████| 404/404 [11:18<00:00,  1.68s/batch, loss=0.443, precision=0.401, recall=0.407]\n"
     ]
    },
    {
     "name": "stdout",
     "output_type": "stream",
     "text": [
      "train Loss: 0.5449036578140637\n",
      "train Precision: 0.4449137911790668\n",
      "train Recall: 0.44480252656901237\n"
     ]
    },
    {
     "name": "stderr",
     "output_type": "stream",
     "text": [
      "Epoch: 49: 100%|██████████| 5/5 [00:14<00:00,  2.97s/batch, loss=0.894, precision=0.233, recall=0.217]\n"
     ]
    },
    {
     "name": "stdout",
     "output_type": "stream",
     "text": [
      "val Loss: 0.9754506468772888\n",
      "val Precision: 0.34767518639564515\n",
      "val Recall: 0.35233902633190156\n",
      "Weight saved for epoch 49.\n"
     ]
    }
   ],
   "source": [
    "batch_size = 124\n",
    "train_dataset = DolphinDataset(train, encoder, image_size = (1024, 1024))\n",
    "val_dataset = DolphinDataset(val, encoder, image_size = (1024, 1024))\n",
    "train_dataloader = DataLoader(train_dataset, batch_size = batch_size, shuffle = True, num_workers = 22, prefetch_factor=2)\n",
    "val_dataloader = DataLoader(val_dataset, batch_size = batch_size, shuffle = False, num_workers = 22, prefetch_factor=2)\n",
    "train_model(train_dataloader, val_dataloader, batch_size=batch_size, weights_path='../../weights/torch_with_momentum_v2/', epochs=50, load_weights='../../weights/torch_with_momentum/49.pth')"
   ]
  },
  {
   "cell_type": "code",
   "execution_count": 14,
   "metadata": {},
   "outputs": [
    {
     "name": "stderr",
     "output_type": "stream",
     "text": [
      "Using cache found in /home/ubuntu/.cache/torch/hub/pytorch_vision_v0.10.0\n",
      "Failed to detect the name of this notebook, you can set it manually with the WANDB_NOTEBOOK_NAME environment variable to enable code saving.\n",
      "\u001b[34m\u001b[1mwandb\u001b[0m: Currently logged in as: \u001b[33myashchks87\u001b[0m. Use \u001b[1m`wandb login --relogin`\u001b[0m to force relogin\n"
     ]
    },
    {
     "data": {
      "text/html": [
       "Tracking run with wandb version 0.15.8"
      ],
      "text/plain": [
       "<IPython.core.display.HTML object>"
      ]
     },
     "metadata": {},
     "output_type": "display_data"
    },
    {
     "data": {
      "text/html": [
       "Run data is saved locally in <code>/home/ubuntu/dolphin_classification/notebooks/wandb/run-20230817_044608-tpwjzue7</code>"
      ],
      "text/plain": [
       "<IPython.core.display.HTML object>"
      ]
     },
     "metadata": {},
     "output_type": "display_data"
    },
    {
     "data": {
      "text/html": [
       "Syncing run <strong><a href='https://wandb.ai/yashchks87/dolphin/runs/tpwjzue7' target=\"_blank\">leafy-monkey-62</a></strong> to <a href='https://wandb.ai/yashchks87/dolphin' target=\"_blank\">Weights & Biases</a> (<a href='https://wandb.me/run' target=\"_blank\">docs</a>)<br/>"
      ],
      "text/plain": [
       "<IPython.core.display.HTML object>"
      ]
     },
     "metadata": {},
     "output_type": "display_data"
    },
    {
     "data": {
      "text/html": [
       " View project at <a href='https://wandb.ai/yashchks87/dolphin' target=\"_blank\">https://wandb.ai/yashchks87/dolphin</a>"
      ],
      "text/plain": [
       "<IPython.core.display.HTML object>"
      ]
     },
     "metadata": {},
     "output_type": "display_data"
    },
    {
     "data": {
      "text/html": [
       " View run at <a href='https://wandb.ai/yashchks87/dolphin/runs/tpwjzue7' target=\"_blank\">https://wandb.ai/yashchks87/dolphin/runs/tpwjzue7</a>"
      ],
      "text/plain": [
       "<IPython.core.display.HTML object>"
      ]
     },
     "metadata": {},
     "output_type": "display_data"
    },
    {
     "name": "stderr",
     "output_type": "stream",
     "text": [
      "Epoch: 0: 100%|██████████| 196/196 [04:22<00:00,  1.34s/batch, loss=2.8, precision=0.0379, recall=0.0166] \n"
     ]
    },
    {
     "name": "stdout",
     "output_type": "stream",
     "text": [
      "train Loss: 2.794513634272984\n",
      "train Precision: 0.041099494988364835\n",
      "train Recall: 0.02457012413829869\n"
     ]
    },
    {
     "name": "stderr",
     "output_type": "stream",
     "text": [
      "Epoch: 0: 100%|██████████| 2/2 [00:17<00:00,  8.62s/batch, loss=2.56, precision=0.0496, recall=0.0252]\n"
     ]
    },
    {
     "name": "stdout",
     "output_type": "stream",
     "text": [
      "val Loss: 2.608085036277771\n",
      "val Precision: 0.05098747834563255\n",
      "val Recall: 0.02587014250457287\n",
      "Weight saved for epoch 0.\n"
     ]
    },
    {
     "name": "stderr",
     "output_type": "stream",
     "text": [
      "Epoch: 1: 100%|██████████| 196/196 [04:16<00:00,  1.31s/batch, loss=2.65, precision=0.0594, recall=0.0254]\n"
     ]
    },
    {
     "name": "stdout",
     "output_type": "stream",
     "text": [
      "train Loss: 2.5852378789259465\n",
      "train Precision: 0.05424540698984448\n",
      "train Recall: 0.0303265895523435\n"
     ]
    },
    {
     "name": "stderr",
     "output_type": "stream",
     "text": [
      "Epoch: 1: 100%|██████████| 2/2 [00:17<00:00,  8.71s/batch, loss=2.51, precision=0.0434, recall=0.0308]\n"
     ]
    },
    {
     "name": "stdout",
     "output_type": "stream",
     "text": [
      "val Loss: 2.5500906705856323\n",
      "val Precision: 0.047403380274772644\n",
      "val Recall: 0.026962335221469402\n",
      "Weight saved for epoch 1.\n"
     ]
    },
    {
     "name": "stderr",
     "output_type": "stream",
     "text": [
      "Epoch: 2: 100%|██████████| 196/196 [04:16<00:00,  1.31s/batch, loss=2.23, precision=0.0723, recall=0.0399]\n"
     ]
    },
    {
     "name": "stdout",
     "output_type": "stream",
     "text": [
      "train Loss: 2.4998714242662703\n",
      "train Precision: 0.061367844079374054\n",
      "train Recall: 0.038352676952371795\n"
     ]
    },
    {
     "name": "stderr",
     "output_type": "stream",
     "text": [
      "Epoch: 2: 100%|██████████| 2/2 [00:16<00:00,  8.43s/batch, loss=2.42, precision=0.057, recall=0.0282] \n"
     ]
    },
    {
     "name": "stdout",
     "output_type": "stream",
     "text": [
      "val Loss: 2.456501007080078\n",
      "val Precision: 0.061389295384287834\n",
      "val Recall: 0.02998364344239235\n",
      "Weight saved for epoch 2.\n"
     ]
    },
    {
     "name": "stderr",
     "output_type": "stream",
     "text": [
      "Epoch: 3: 100%|██████████| 196/196 [04:18<00:00,  1.32s/batch, loss=2.52, precision=0.0691, recall=0.0319]\n"
     ]
    },
    {
     "name": "stdout",
     "output_type": "stream",
     "text": [
      "train Loss: 2.4195826430709992\n",
      "train Precision: 0.06604189897070126\n",
      "train Recall: 0.04335579573537926\n"
     ]
    },
    {
     "name": "stderr",
     "output_type": "stream",
     "text": [
      "Epoch: 3: 100%|██████████| 2/2 [00:17<00:00,  8.64s/batch, loss=2.34, precision=0.0631, recall=0.0301]\n"
     ]
    },
    {
     "name": "stdout",
     "output_type": "stream",
     "text": [
      "val Loss: 2.385866641998291\n",
      "val Precision: 0.0637032613158226\n",
      "val Recall: 0.03078838810324669\n",
      "Weight saved for epoch 3.\n"
     ]
    },
    {
     "name": "stderr",
     "output_type": "stream",
     "text": [
      "Epoch: 4: 100%|██████████| 196/196 [04:18<00:00,  1.32s/batch, loss=2.27, precision=0.0781, recall=0.0854]\n"
     ]
    },
    {
     "name": "stdout",
     "output_type": "stream",
     "text": [
      "train Loss: 2.3452759190481536\n",
      "train Precision: 0.06963567964124437\n",
      "train Recall: 0.05403636015799581\n"
     ]
    },
    {
     "name": "stderr",
     "output_type": "stream",
     "text": [
      "Epoch: 4: 100%|██████████| 2/2 [00:16<00:00,  8.38s/batch, loss=2.33, precision=0.0602, recall=0.0329]\n"
     ]
    },
    {
     "name": "stdout",
     "output_type": "stream",
     "text": [
      "val Loss: 2.369162678718567\n",
      "val Precision: 0.06252006627619267\n",
      "val Recall: 0.04810604639351368\n",
      "Weight saved for epoch 4.\n"
     ]
    },
    {
     "name": "stderr",
     "output_type": "stream",
     "text": [
      "Epoch: 5: 100%|██████████| 196/196 [04:18<00:00,  1.32s/batch, loss=2.47, precision=0.0753, recall=0.0443]\n"
     ]
    },
    {
     "name": "stdout",
     "output_type": "stream",
     "text": [
      "train Loss: 2.2790152102100607\n",
      "train Precision: 0.07645470362004576\n",
      "train Recall: 0.06712254418098197\n"
     ]
    },
    {
     "name": "stderr",
     "output_type": "stream",
     "text": [
      "Epoch: 5: 100%|██████████| 2/2 [00:17<00:00,  8.95s/batch, loss=2.2, precision=0.0728, recall=0.0608] \n"
     ]
    },
    {
     "name": "stdout",
     "output_type": "stream",
     "text": [
      "val Loss: 2.269383192062378\n",
      "val Precision: 0.07181189581751823\n",
      "val Recall: 0.0518055185675621\n",
      "Weight saved for epoch 5.\n"
     ]
    },
    {
     "name": "stderr",
     "output_type": "stream",
     "text": [
      "Epoch: 6: 100%|██████████| 196/196 [04:17<00:00,  1.32s/batch, loss=2.02, precision=0.0884, recall=0.0785]\n"
     ]
    },
    {
     "name": "stdout",
     "output_type": "stream",
     "text": [
      "train Loss: 2.2115809874875203\n",
      "train Precision: 0.08759796980540363\n",
      "train Recall: 0.08088217324064094\n"
     ]
    },
    {
     "name": "stderr",
     "output_type": "stream",
     "text": [
      "Epoch: 6: 100%|██████████| 2/2 [00:16<00:00,  8.43s/batch, loss=2.19, precision=0.0803, recall=0.0611]\n"
     ]
    },
    {
     "name": "stdout",
     "output_type": "stream",
     "text": [
      "val Loss: 2.239596724510193\n",
      "val Precision: 0.08395829051733017\n",
      "val Recall: 0.06038728170096874\n",
      "Weight saved for epoch 6.\n"
     ]
    },
    {
     "name": "stderr",
     "output_type": "stream",
     "text": [
      "Epoch: 7: 100%|██████████| 196/196 [04:16<00:00,  1.31s/batch, loss=1.99, precision=0.11, recall=0.0862]  \n"
     ]
    },
    {
     "name": "stdout",
     "output_type": "stream",
     "text": [
      "train Loss: 2.149918353071018\n",
      "train Precision: 0.09909843995558973\n",
      "train Recall: 0.09220730693896814\n"
     ]
    },
    {
     "name": "stderr",
     "output_type": "stream",
     "text": [
      "Epoch: 7: 100%|██████████| 2/2 [00:17<00:00,  8.81s/batch, loss=2.09, precision=0.092, recall=0.0957]\n"
     ]
    },
    {
     "name": "stdout",
     "output_type": "stream",
     "text": [
      "val Loss: 2.1482198238372803\n",
      "val Precision: 0.09777596592903137\n",
      "val Recall: 0.1104467585682869\n",
      "Weight saved for epoch 7.\n"
     ]
    },
    {
     "name": "stderr",
     "output_type": "stream",
     "text": [
      "Epoch: 8: 100%|██████████| 196/196 [04:16<00:00,  1.31s/batch, loss=2.01, precision=0.103, recall=0.0875] \n"
     ]
    },
    {
     "name": "stdout",
     "output_type": "stream",
     "text": [
      "train Loss: 2.0886791007859364\n",
      "train Precision: 0.11226471178993887\n",
      "train Recall: 0.10597988961226477\n"
     ]
    },
    {
     "name": "stderr",
     "output_type": "stream",
     "text": [
      "Epoch: 8: 100%|██████████| 2/2 [00:16<00:00,  8.42s/batch, loss=2.02, precision=0.109, recall=0.128]\n"
     ]
    },
    {
     "name": "stdout",
     "output_type": "stream",
     "text": [
      "val Loss: 2.121138572692871\n",
      "val Precision: 0.11228655651211739\n",
      "val Recall: 0.13086477667093277\n",
      "Weight saved for epoch 8.\n"
     ]
    },
    {
     "name": "stderr",
     "output_type": "stream",
     "text": [
      "Epoch: 9: 100%|██████████| 196/196 [04:18<00:00,  1.32s/batch, loss=2.05, precision=0.156, recall=0.132] \n"
     ]
    },
    {
     "name": "stdout",
     "output_type": "stream",
     "text": [
      "train Loss: 2.0339502941588967\n",
      "train Precision: 0.12040503680401919\n",
      "train Recall: 0.11477014840561517\n"
     ]
    },
    {
     "name": "stderr",
     "output_type": "stream",
     "text": [
      "Epoch: 9: 100%|██████████| 2/2 [00:17<00:00,  8.76s/batch, loss=2, precision=0.117, recall=0.118]   \n"
     ]
    },
    {
     "name": "stdout",
     "output_type": "stream",
     "text": [
      "val Loss: 2.0701341032981873\n",
      "val Precision: 0.12053144350647926\n",
      "val Recall: 0.12698109820485115\n",
      "Weight saved for epoch 9.\n"
     ]
    },
    {
     "name": "stderr",
     "output_type": "stream",
     "text": [
      "Epoch: 10: 100%|██████████| 196/196 [04:15<00:00,  1.30s/batch, loss=1.87, precision=0.153, recall=0.16]  \n"
     ]
    },
    {
     "name": "stdout",
     "output_type": "stream",
     "text": [
      "train Loss: 1.9811796874416119\n",
      "train Precision: 0.12975435027358484\n",
      "train Recall: 0.11945330537855625\n"
     ]
    },
    {
     "name": "stderr",
     "output_type": "stream",
     "text": [
      "Epoch: 10: 100%|██████████| 2/2 [00:17<00:00,  8.58s/batch, loss=2.05, precision=0.108, recall=0.11] \n"
     ]
    },
    {
     "name": "stdout",
     "output_type": "stream",
     "text": [
      "val Loss: 2.1136765480041504\n",
      "val Precision: 0.11432285606861115\n",
      "val Recall: 0.12377734109759331\n",
      "Weight saved for epoch 10.\n"
     ]
    },
    {
     "name": "stderr",
     "output_type": "stream",
     "text": [
      "Epoch: 11: 100%|██████████| 196/196 [04:19<00:00,  1.32s/batch, loss=2.04, precision=0.112, recall=0.0856]\n"
     ]
    },
    {
     "name": "stdout",
     "output_type": "stream",
     "text": [
      "train Loss: 1.9327402869049384\n",
      "train Precision: 0.13832995896132624\n",
      "train Recall: 0.12592921634109652\n"
     ]
    },
    {
     "name": "stderr",
     "output_type": "stream",
     "text": [
      "Epoch: 11: 100%|██████████| 2/2 [00:17<00:00,  8.62s/batch, loss=1.9, precision=0.125, recall=0.105] \n"
     ]
    },
    {
     "name": "stdout",
     "output_type": "stream",
     "text": [
      "val Loss: 1.9802339673042297\n",
      "val Precision: 0.13420206308364868\n",
      "val Recall: 0.11539621651172638\n",
      "Weight saved for epoch 11.\n"
     ]
    },
    {
     "name": "stderr",
     "output_type": "stream",
     "text": [
      "Epoch: 12: 100%|██████████| 196/196 [04:18<00:00,  1.32s/batch, loss=1.97, precision=0.168, recall=0.137]\n"
     ]
    },
    {
     "name": "stdout",
     "output_type": "stream",
     "text": [
      "train Loss: 1.8877249159375016\n",
      "train Precision: 0.14465192579949387\n",
      "train Recall: 0.12944545372560315\n"
     ]
    },
    {
     "name": "stderr",
     "output_type": "stream",
     "text": [
      "Epoch: 12: 100%|██████████| 2/2 [00:16<00:00,  8.40s/batch, loss=1.86, precision=0.145, recall=0.123]\n"
     ]
    },
    {
     "name": "stdout",
     "output_type": "stream",
     "text": [
      "val Loss: 1.931671917438507\n",
      "val Precision: 0.1450248435139656\n",
      "val Recall: 0.13345952332019806\n",
      "Weight saved for epoch 12.\n"
     ]
    },
    {
     "name": "stderr",
     "output_type": "stream",
     "text": [
      "Epoch: 13: 100%|██████████| 196/196 [04:16<00:00,  1.31s/batch, loss=1.87, precision=0.147, recall=0.0963]\n"
     ]
    },
    {
     "name": "stdout",
     "output_type": "stream",
     "text": [
      "train Loss: 1.8443580659068362\n",
      "train Precision: 0.1512353567368522\n",
      "train Recall: 0.1357374967513036\n"
     ]
    },
    {
     "name": "stderr",
     "output_type": "stream",
     "text": [
      "Epoch: 13: 100%|██████████| 2/2 [00:17<00:00,  8.90s/batch, loss=1.84, precision=0.141, recall=0.115]\n"
     ]
    },
    {
     "name": "stdout",
     "output_type": "stream",
     "text": [
      "val Loss: 1.9305118322372437\n",
      "val Precision: 0.14386094361543655\n",
      "val Recall: 0.12837576121091843\n",
      "Weight saved for epoch 13.\n"
     ]
    },
    {
     "name": "stderr",
     "output_type": "stream",
     "text": [
      "Epoch: 14: 100%|██████████| 196/196 [04:16<00:00,  1.31s/batch, loss=1.79, precision=0.169, recall=0.131]\n"
     ]
    },
    {
     "name": "stdout",
     "output_type": "stream",
     "text": [
      "train Loss: 1.7941516193808342\n",
      "train Precision: 0.15819384302107656\n",
      "train Recall: 0.14417352766862937\n"
     ]
    },
    {
     "name": "stderr",
     "output_type": "stream",
     "text": [
      "Epoch: 14: 100%|██████████| 2/2 [00:16<00:00,  8.42s/batch, loss=1.82, precision=0.176, recall=0.16] \n"
     ]
    },
    {
     "name": "stdout",
     "output_type": "stream",
     "text": [
      "val Loss: 1.9017928838729858\n",
      "val Precision: 0.16510064154863358\n",
      "val Recall: 0.1596469134092331\n",
      "Weight saved for epoch 14.\n"
     ]
    },
    {
     "name": "stderr",
     "output_type": "stream",
     "text": [
      "Epoch: 15: 100%|██████████| 196/196 [04:16<00:00,  1.31s/batch, loss=1.63, precision=0.151, recall=0.121] \n"
     ]
    },
    {
     "name": "stdout",
     "output_type": "stream",
     "text": [
      "train Loss: 1.7504376312907861\n",
      "train Precision: 0.16398297470747208\n",
      "train Recall: 0.1549179914730544\n"
     ]
    },
    {
     "name": "stderr",
     "output_type": "stream",
     "text": [
      "Epoch: 15: 100%|██████████| 2/2 [00:17<00:00,  8.56s/batch, loss=1.73, precision=0.193, recall=0.161]\n"
     ]
    },
    {
     "name": "stdout",
     "output_type": "stream",
     "text": [
      "val Loss: 1.8058240413665771\n",
      "val Precision: 0.1817062646150589\n",
      "val Recall: 0.17167410254478455\n",
      "Weight saved for epoch 15.\n"
     ]
    },
    {
     "name": "stderr",
     "output_type": "stream",
     "text": [
      "Epoch: 16: 100%|██████████| 196/196 [04:15<00:00,  1.30s/batch, loss=1.57, precision=0.156, recall=0.165]\n"
     ]
    },
    {
     "name": "stdout",
     "output_type": "stream",
     "text": [
      "train Loss: 1.7097312589080966\n",
      "train Precision: 0.17130933663978867\n",
      "train Recall: 0.16502401323951021\n"
     ]
    },
    {
     "name": "stderr",
     "output_type": "stream",
     "text": [
      "Epoch: 16: 100%|██████████| 2/2 [00:18<00:00,  9.18s/batch, loss=1.85, precision=0.141, recall=0.114]\n"
     ]
    },
    {
     "name": "stdout",
     "output_type": "stream",
     "text": [
      "val Loss: 1.89910888671875\n",
      "val Precision: 0.1474023163318634\n",
      "val Recall: 0.14351366460323334\n",
      "Weight saved for epoch 16.\n"
     ]
    },
    {
     "name": "stderr",
     "output_type": "stream",
     "text": [
      "Epoch: 17: 100%|██████████| 196/196 [04:15<00:00,  1.30s/batch, loss=1.64, precision=0.2, recall=0.211]  \n"
     ]
    },
    {
     "name": "stdout",
     "output_type": "stream",
     "text": [
      "train Loss: 1.6703804840846939\n",
      "train Precision: 0.17583403789571353\n",
      "train Recall: 0.1713390391015885\n"
     ]
    },
    {
     "name": "stderr",
     "output_type": "stream",
     "text": [
      "Epoch: 17: 100%|██████████| 2/2 [00:18<00:00,  9.04s/batch, loss=1.72, precision=0.184, recall=0.187]\n"
     ]
    },
    {
     "name": "stdout",
     "output_type": "stream",
     "text": [
      "val Loss: 1.805287480354309\n",
      "val Precision: 0.17229024320840836\n",
      "val Recall: 0.16383179277181625\n",
      "Weight saved for epoch 17.\n"
     ]
    },
    {
     "name": "stderr",
     "output_type": "stream",
     "text": [
      "Epoch: 18: 100%|██████████| 196/196 [04:19<00:00,  1.32s/batch, loss=1.68, precision=0.173, recall=0.165]\n"
     ]
    },
    {
     "name": "stdout",
     "output_type": "stream",
     "text": [
      "train Loss: 1.6370409027654298\n",
      "train Precision: 0.1819670499891651\n",
      "train Recall: 0.17587780454481133\n"
     ]
    },
    {
     "name": "stderr",
     "output_type": "stream",
     "text": [
      "Epoch: 18: 100%|██████████| 2/2 [00:17<00:00,  8.52s/batch, loss=1.68, precision=0.198, recall=0.19] \n"
     ]
    },
    {
     "name": "stdout",
     "output_type": "stream",
     "text": [
      "val Loss: 1.8091536164283752\n",
      "val Precision: 0.18303478509187698\n",
      "val Recall: 0.1853596493601799\n",
      "Weight saved for epoch 18.\n"
     ]
    },
    {
     "name": "stderr",
     "output_type": "stream",
     "text": [
      "Epoch: 19: 100%|██████████| 196/196 [04:18<00:00,  1.32s/batch, loss=1.94, precision=0.144, recall=0.162]\n"
     ]
    },
    {
     "name": "stdout",
     "output_type": "stream",
     "text": [
      "train Loss: 1.6036250311501172\n",
      "train Precision: 0.18729005928854553\n",
      "train Recall: 0.18093567790121448\n"
     ]
    },
    {
     "name": "stderr",
     "output_type": "stream",
     "text": [
      "Epoch: 19: 100%|██████████| 2/2 [00:17<00:00,  8.89s/batch, loss=1.66, precision=0.199, recall=0.148]\n"
     ]
    },
    {
     "name": "stdout",
     "output_type": "stream",
     "text": [
      "val Loss: 1.7636215686798096\n",
      "val Precision: 0.19894453138113022\n",
      "val Recall: 0.15995369851589203\n",
      "Weight saved for epoch 19.\n"
     ]
    },
    {
     "name": "stderr",
     "output_type": "stream",
     "text": [
      "Epoch: 20: 100%|██████████| 196/196 [04:18<00:00,  1.32s/batch, loss=1.59, precision=0.157, recall=0.127]\n"
     ]
    },
    {
     "name": "stdout",
     "output_type": "stream",
     "text": [
      "train Loss: 1.5774050707719764\n",
      "train Precision: 0.19033585450783067\n",
      "train Recall: 0.18397513891057093\n"
     ]
    },
    {
     "name": "stderr",
     "output_type": "stream",
     "text": [
      "Epoch: 20: 100%|██████████| 2/2 [00:18<00:00,  9.43s/batch, loss=1.55, precision=0.211, recall=0.216]\n"
     ]
    },
    {
     "name": "stdout",
     "output_type": "stream",
     "text": [
      "val Loss: 1.6292093992233276\n",
      "val Precision: 0.19857157766819\n",
      "val Recall: 0.1917737051844597\n",
      "Weight saved for epoch 20.\n"
     ]
    },
    {
     "name": "stderr",
     "output_type": "stream",
     "text": [
      "Epoch: 21: 100%|██████████| 196/196 [04:18<00:00,  1.32s/batch, loss=1.67, precision=0.199, recall=0.157]\n"
     ]
    },
    {
     "name": "stdout",
     "output_type": "stream",
     "text": [
      "train Loss: 1.548226389957934\n",
      "train Precision: 0.19435580059581872\n",
      "train Recall: 0.18705931340097165\n"
     ]
    },
    {
     "name": "stderr",
     "output_type": "stream",
     "text": [
      "Epoch: 21: 100%|██████████| 2/2 [00:17<00:00,  8.61s/batch, loss=1.66, precision=0.201, recall=0.179]\n"
     ]
    },
    {
     "name": "stdout",
     "output_type": "stream",
     "text": [
      "val Loss: 1.7649208903312683\n",
      "val Precision: 0.18758180737495422\n",
      "val Recall: 0.16652441024780273\n",
      "Weight saved for epoch 21.\n"
     ]
    },
    {
     "name": "stderr",
     "output_type": "stream",
     "text": [
      "Epoch: 22: 100%|██████████| 196/196 [04:17<00:00,  1.31s/batch, loss=1.19, precision=0.234, recall=0.245]\n"
     ]
    },
    {
     "name": "stdout",
     "output_type": "stream",
     "text": [
      "train Loss: 1.5182739447574227\n",
      "train Precision: 0.19809022097259152\n",
      "train Recall: 0.18965570119266606\n"
     ]
    },
    {
     "name": "stderr",
     "output_type": "stream",
     "text": [
      "Epoch: 22: 100%|██████████| 2/2 [00:17<00:00,  8.63s/batch, loss=1.53, precision=0.208, recall=0.199]\n"
     ]
    },
    {
     "name": "stdout",
     "output_type": "stream",
     "text": [
      "val Loss: 1.624857783317566\n",
      "val Precision: 0.20298800617456436\n",
      "val Recall: 0.1933460310101509\n",
      "Weight saved for epoch 22.\n"
     ]
    },
    {
     "name": "stderr",
     "output_type": "stream",
     "text": [
      "Epoch: 23: 100%|██████████| 196/196 [04:17<00:00,  1.31s/batch, loss=1.66, precision=0.212, recall=0.215]\n"
     ]
    },
    {
     "name": "stdout",
     "output_type": "stream",
     "text": [
      "train Loss: 1.4988639543251114\n",
      "train Precision: 0.20194818497616418\n",
      "train Recall: 0.19267238425661107\n"
     ]
    },
    {
     "name": "stderr",
     "output_type": "stream",
     "text": [
      "Epoch: 23: 100%|██████████| 2/2 [00:16<00:00,  8.48s/batch, loss=1.56, precision=0.213, recall=0.191]\n"
     ]
    },
    {
     "name": "stdout",
     "output_type": "stream",
     "text": [
      "val Loss: 1.643018901348114\n",
      "val Precision: 0.21720818430185318\n",
      "val Recall: 0.19171588122844696\n",
      "Weight saved for epoch 23.\n"
     ]
    },
    {
     "name": "stderr",
     "output_type": "stream",
     "text": [
      "Epoch: 24: 100%|██████████| 196/196 [04:17<00:00,  1.31s/batch, loss=1.57, precision=0.157, recall=0.139]\n"
     ]
    },
    {
     "name": "stdout",
     "output_type": "stream",
     "text": [
      "train Loss: 1.4736230689652112\n",
      "train Precision: 0.2041633215029629\n",
      "train Recall: 0.1941883994304404\n"
     ]
    },
    {
     "name": "stderr",
     "output_type": "stream",
     "text": [
      "Epoch: 24: 100%|██████████| 2/2 [00:17<00:00,  8.71s/batch, loss=1.49, precision=0.211, recall=0.176]\n"
     ]
    },
    {
     "name": "stdout",
     "output_type": "stream",
     "text": [
      "val Loss: 1.6194769740104675\n",
      "val Precision: 0.21376290917396545\n",
      "val Recall: 0.17767983675003052\n",
      "Weight saved for epoch 24.\n"
     ]
    },
    {
     "name": "stderr",
     "output_type": "stream",
     "text": [
      "Epoch: 25: 100%|██████████| 196/196 [04:18<00:00,  1.32s/batch, loss=1.44, precision=0.193, recall=0.172]\n"
     ]
    },
    {
     "name": "stdout",
     "output_type": "stream",
     "text": [
      "train Loss: 1.4513347355686887\n",
      "train Precision: 0.2086680920756593\n",
      "train Recall: 0.20134225997085475\n"
     ]
    },
    {
     "name": "stderr",
     "output_type": "stream",
     "text": [
      "Epoch: 25: 100%|██████████| 2/2 [00:18<00:00,  9.06s/batch, loss=1.53, precision=0.211, recall=0.201]\n"
     ]
    },
    {
     "name": "stdout",
     "output_type": "stream",
     "text": [
      "val Loss: 1.5902701616287231\n",
      "val Precision: 0.2089081034064293\n",
      "val Recall: 0.19984744489192963\n",
      "Weight saved for epoch 25.\n"
     ]
    },
    {
     "name": "stderr",
     "output_type": "stream",
     "text": [
      "Epoch: 26: 100%|██████████| 196/196 [04:17<00:00,  1.31s/batch, loss=1.43, precision=0.219, recall=0.194]\n"
     ]
    },
    {
     "name": "stdout",
     "output_type": "stream",
     "text": [
      "train Loss: 1.4330408001432613\n",
      "train Precision: 0.21197394182791515\n",
      "train Recall: 0.20374263245232252\n"
     ]
    },
    {
     "name": "stderr",
     "output_type": "stream",
     "text": [
      "Epoch: 26: 100%|██████████| 2/2 [00:17<00:00,  8.63s/batch, loss=1.53, precision=0.216, recall=0.212]\n"
     ]
    },
    {
     "name": "stdout",
     "output_type": "stream",
     "text": [
      "val Loss: 1.607918381690979\n",
      "val Precision: 0.1989985778927803\n",
      "val Recall: 0.1971982717514038\n",
      "Weight saved for epoch 26.\n"
     ]
    },
    {
     "name": "stderr",
     "output_type": "stream",
     "text": [
      "Epoch: 27: 100%|██████████| 196/196 [04:15<00:00,  1.30s/batch, loss=1.5, precision=0.213, recall=0.218] \n"
     ]
    },
    {
     "name": "stdout",
     "output_type": "stream",
     "text": [
      "train Loss: 1.4123333528333781\n",
      "train Precision: 0.21293467001951472\n",
      "train Recall: 0.207171303505192\n"
     ]
    },
    {
     "name": "stderr",
     "output_type": "stream",
     "text": [
      "Epoch: 27: 100%|██████████| 2/2 [00:17<00:00,  8.74s/batch, loss=1.48, precision=0.214, recall=0.199]\n"
     ]
    },
    {
     "name": "stdout",
     "output_type": "stream",
     "text": [
      "val Loss: 1.5550318956375122\n",
      "val Precision: 0.2145540863275528\n",
      "val Recall: 0.19765180349349976\n",
      "Weight saved for epoch 27.\n"
     ]
    },
    {
     "name": "stderr",
     "output_type": "stream",
     "text": [
      "Epoch: 28: 100%|██████████| 196/196 [04:17<00:00,  1.31s/batch, loss=1.39, precision=0.22, recall=0.219] \n"
     ]
    },
    {
     "name": "stdout",
     "output_type": "stream",
     "text": [
      "train Loss: 1.3974146441537507\n",
      "train Precision: 0.21668179416838956\n",
      "train Recall: 0.20959480106830597\n"
     ]
    },
    {
     "name": "stderr",
     "output_type": "stream",
     "text": [
      "Epoch: 28: 100%|██████████| 2/2 [00:17<00:00,  8.76s/batch, loss=1.49, precision=0.21, recall=0.174] \n"
     ]
    },
    {
     "name": "stdout",
     "output_type": "stream",
     "text": [
      "val Loss: 1.6757237315177917\n",
      "val Precision: 0.21720004826784134\n",
      "val Recall: 0.17922430485486984\n",
      "Weight saved for epoch 28.\n"
     ]
    },
    {
     "name": "stderr",
     "output_type": "stream",
     "text": [
      "Epoch: 29: 100%|██████████| 196/196 [04:15<00:00,  1.30s/batch, loss=1.46, precision=0.225, recall=0.205]\n"
     ]
    },
    {
     "name": "stdout",
     "output_type": "stream",
     "text": [
      "train Loss: 1.377417881878055\n",
      "train Precision: 0.2193099924040084\n",
      "train Recall: 0.21301413152594956\n"
     ]
    },
    {
     "name": "stderr",
     "output_type": "stream",
     "text": [
      "Epoch: 29: 100%|██████████| 2/2 [00:17<00:00,  8.84s/batch, loss=1.46, precision=0.214, recall=0.203]\n"
     ]
    },
    {
     "name": "stdout",
     "output_type": "stream",
     "text": [
      "val Loss: 1.5881824493408203\n",
      "val Precision: 0.21378421038389206\n",
      "val Recall: 0.2046247497200966\n",
      "Weight saved for epoch 29.\n"
     ]
    },
    {
     "name": "stderr",
     "output_type": "stream",
     "text": [
      "Epoch: 30: 100%|██████████| 196/196 [04:15<00:00,  1.30s/batch, loss=1.22, precision=0.235, recall=0.214]\n"
     ]
    },
    {
     "name": "stdout",
     "output_type": "stream",
     "text": [
      "train Loss: 1.3586971382705533\n",
      "train Precision: 0.22275060270817912\n",
      "train Recall: 0.22086540814869257\n"
     ]
    },
    {
     "name": "stderr",
     "output_type": "stream",
     "text": [
      "Epoch: 30: 100%|██████████| 2/2 [00:17<00:00,  8.86s/batch, loss=1.41, precision=0.235, recall=0.235]\n"
     ]
    },
    {
     "name": "stdout",
     "output_type": "stream",
     "text": [
      "val Loss: 1.5435879230499268\n",
      "val Precision: 0.23827819526195526\n",
      "val Recall: 0.21730604767799377\n",
      "Weight saved for epoch 30.\n"
     ]
    },
    {
     "name": "stderr",
     "output_type": "stream",
     "text": [
      "Epoch: 31: 100%|██████████| 196/196 [04:16<00:00,  1.31s/batch, loss=1.64, precision=0.228, recall=0.246]\n"
     ]
    },
    {
     "name": "stdout",
     "output_type": "stream",
     "text": [
      "train Loss: 1.3464868324143546\n",
      "train Precision: 0.22360393473384332\n",
      "train Recall: 0.21901909155505045\n"
     ]
    },
    {
     "name": "stderr",
     "output_type": "stream",
     "text": [
      "Epoch: 31: 100%|██████████| 2/2 [00:18<00:00,  9.11s/batch, loss=1.43, precision=0.216, recall=0.205]\n"
     ]
    },
    {
     "name": "stdout",
     "output_type": "stream",
     "text": [
      "val Loss: 1.5194615125656128\n",
      "val Precision: 0.2049199715256691\n",
      "val Recall: 0.20416957885026932\n",
      "Weight saved for epoch 31.\n"
     ]
    },
    {
     "name": "stderr",
     "output_type": "stream",
     "text": [
      "Epoch: 32: 100%|██████████| 196/196 [04:18<00:00,  1.32s/batch, loss=1.4, precision=0.231, recall=0.171] \n"
     ]
    },
    {
     "name": "stdout",
     "output_type": "stream",
     "text": [
      "train Loss: 1.3278328715538492\n",
      "train Precision: 0.22707216669710314\n",
      "train Recall: 0.22434230825426626\n"
     ]
    },
    {
     "name": "stderr",
     "output_type": "stream",
     "text": [
      "Epoch: 32: 100%|██████████| 2/2 [00:17<00:00,  8.81s/batch, loss=1.35, precision=0.242, recall=0.267]\n"
     ]
    },
    {
     "name": "stdout",
     "output_type": "stream",
     "text": [
      "val Loss: 1.4448675513267517\n",
      "val Precision: 0.22680003196001053\n",
      "val Recall: 0.23572364449501038\n",
      "Weight saved for epoch 32.\n"
     ]
    },
    {
     "name": "stderr",
     "output_type": "stream",
     "text": [
      "Epoch: 33: 100%|██████████| 196/196 [04:17<00:00,  1.31s/batch, loss=1.35, precision=0.22, recall=0.225] \n"
     ]
    },
    {
     "name": "stdout",
     "output_type": "stream",
     "text": [
      "train Loss: 1.3135318451998186\n",
      "train Precision: 0.23106515825707086\n",
      "train Recall: 0.2302483276140933\n"
     ]
    },
    {
     "name": "stderr",
     "output_type": "stream",
     "text": [
      "Epoch: 33: 100%|██████████| 2/2 [00:17<00:00,  8.53s/batch, loss=1.34, precision=0.234, recall=0.254]\n"
     ]
    },
    {
     "name": "stdout",
     "output_type": "stream",
     "text": [
      "val Loss: 1.4954434633255005\n",
      "val Precision: 0.22969616204500198\n",
      "val Recall: 0.23809465765953064\n",
      "Weight saved for epoch 33.\n"
     ]
    },
    {
     "name": "stderr",
     "output_type": "stream",
     "text": [
      "Epoch: 34: 100%|██████████| 196/196 [04:19<00:00,  1.32s/batch, loss=1.28, precision=0.224, recall=0.219]\n"
     ]
    },
    {
     "name": "stdout",
     "output_type": "stream",
     "text": [
      "train Loss: 1.3021717065451097\n",
      "train Precision: 0.23254967062753074\n",
      "train Recall: 0.230846318435304\n"
     ]
    },
    {
     "name": "stderr",
     "output_type": "stream",
     "text": [
      "Epoch: 34: 100%|██████████| 2/2 [00:16<00:00,  8.38s/batch, loss=1.47, precision=0.215, recall=0.208]\n"
     ]
    },
    {
     "name": "stdout",
     "output_type": "stream",
     "text": [
      "val Loss: 1.5690096616744995\n",
      "val Precision: 0.20482344925403595\n",
      "val Recall: 0.21492651849985123\n",
      "Weight saved for epoch 34.\n"
     ]
    },
    {
     "name": "stderr",
     "output_type": "stream",
     "text": [
      "Epoch: 35: 100%|██████████| 196/196 [04:19<00:00,  1.33s/batch, loss=1.23, precision=0.23, recall=0.23]  \n"
     ]
    },
    {
     "name": "stdout",
     "output_type": "stream",
     "text": [
      "train Loss: 1.2856729638819793\n",
      "train Precision: 0.23572897188821618\n",
      "train Recall: 0.2387666231667509\n"
     ]
    },
    {
     "name": "stderr",
     "output_type": "stream",
     "text": [
      "Epoch: 35: 100%|██████████| 2/2 [00:17<00:00,  8.57s/batch, loss=1.34, precision=0.24, recall=0.251]\n"
     ]
    },
    {
     "name": "stdout",
     "output_type": "stream",
     "text": [
      "val Loss: 1.4701409339904785\n",
      "val Precision: 0.2413060963153839\n",
      "val Recall: 0.25061020255088806\n",
      "Weight saved for epoch 35.\n"
     ]
    },
    {
     "name": "stderr",
     "output_type": "stream",
     "text": [
      "Epoch: 36: 100%|██████████| 196/196 [04:16<00:00,  1.31s/batch, loss=1.17, precision=0.219, recall=0.217]\n"
     ]
    },
    {
     "name": "stdout",
     "output_type": "stream",
     "text": [
      "train Loss: 1.2709441105930173\n",
      "train Precision: 0.23764979177895856\n",
      "train Recall: 0.24233074349408246\n"
     ]
    },
    {
     "name": "stderr",
     "output_type": "stream",
     "text": [
      "Epoch: 36: 100%|██████████| 2/2 [00:17<00:00,  8.78s/batch, loss=1.47, precision=0.213, recall=0.2]  \n"
     ]
    },
    {
     "name": "stdout",
     "output_type": "stream",
     "text": [
      "val Loss: 1.6099165081977844\n",
      "val Precision: 0.20443696528673172\n",
      "val Recall: 0.2166767194867134\n",
      "Weight saved for epoch 36.\n"
     ]
    },
    {
     "name": "stderr",
     "output_type": "stream",
     "text": [
      "Epoch: 37: 100%|██████████| 196/196 [04:16<00:00,  1.31s/batch, loss=1.37, precision=0.187, recall=0.163]\n"
     ]
    },
    {
     "name": "stdout",
     "output_type": "stream",
     "text": [
      "train Loss: 1.256639273190985\n",
      "train Precision: 0.2413768595730772\n",
      "train Recall: 0.24886630749215885\n"
     ]
    },
    {
     "name": "stderr",
     "output_type": "stream",
     "text": [
      "Epoch: 37: 100%|██████████| 2/2 [00:18<00:00,  9.04s/batch, loss=1.26, precision=0.249, recall=0.266]\n"
     ]
    },
    {
     "name": "stdout",
     "output_type": "stream",
     "text": [
      "val Loss: 1.349803626537323\n",
      "val Precision: 0.24310509860515594\n",
      "val Recall: 0.24723058938980103\n",
      "Weight saved for epoch 37.\n"
     ]
    },
    {
     "name": "stderr",
     "output_type": "stream",
     "text": [
      "Epoch: 38: 100%|██████████| 196/196 [04:19<00:00,  1.33s/batch, loss=1.36, precision=0.228, recall=0.217]\n"
     ]
    },
    {
     "name": "stdout",
     "output_type": "stream",
     "text": [
      "train Loss: 1.2470618601964445\n",
      "train Precision: 0.24364572717827193\n",
      "train Recall: 0.24775871794138635\n"
     ]
    },
    {
     "name": "stderr",
     "output_type": "stream",
     "text": [
      "Epoch: 38: 100%|██████████| 2/2 [00:17<00:00,  8.67s/batch, loss=1.23, precision=0.253, recall=0.256]\n"
     ]
    },
    {
     "name": "stdout",
     "output_type": "stream",
     "text": [
      "val Loss: 1.350454032421112\n",
      "val Precision: 0.2502776309847832\n",
      "val Recall: 0.28961119055747986\n",
      "Weight saved for epoch 38.\n"
     ]
    },
    {
     "name": "stderr",
     "output_type": "stream",
     "text": [
      "Epoch: 39: 100%|██████████| 196/196 [04:18<00:00,  1.32s/batch, loss=1.49, precision=0.22, recall=0.218] \n"
     ]
    },
    {
     "name": "stdout",
     "output_type": "stream",
     "text": [
      "train Loss: 1.232163901231727\n",
      "train Precision: 0.2464563518154378\n",
      "train Recall: 0.25049637744621356\n"
     ]
    },
    {
     "name": "stderr",
     "output_type": "stream",
     "text": [
      "Epoch: 39: 100%|██████████| 2/2 [00:16<00:00,  8.37s/batch, loss=1.24, precision=0.249, recall=0.271]\n"
     ]
    },
    {
     "name": "stdout",
     "output_type": "stream",
     "text": [
      "val Loss: 1.3293946385383606\n",
      "val Precision: 0.23957576602697372\n",
      "val Recall: 0.2480093315243721\n",
      "Weight saved for epoch 39.\n"
     ]
    },
    {
     "name": "stderr",
     "output_type": "stream",
     "text": [
      "Epoch: 40: 100%|██████████| 196/196 [04:16<00:00,  1.31s/batch, loss=1.24, precision=0.251, recall=0.278]\n"
     ]
    },
    {
     "name": "stdout",
     "output_type": "stream",
     "text": [
      "train Loss: 1.219721715061032\n",
      "train Precision: 0.24752495164165692\n",
      "train Recall: 0.25174686502741306\n"
     ]
    },
    {
     "name": "stderr",
     "output_type": "stream",
     "text": [
      "Epoch: 40: 100%|██████████| 2/2 [00:17<00:00,  8.92s/batch, loss=1.24, precision=0.256, recall=0.259]\n"
     ]
    },
    {
     "name": "stdout",
     "output_type": "stream",
     "text": [
      "val Loss: 1.4015218615531921\n",
      "val Precision: 0.2536724656820297\n",
      "val Recall: 0.2762002944946289\n",
      "Weight saved for epoch 40.\n"
     ]
    },
    {
     "name": "stderr",
     "output_type": "stream",
     "text": [
      "Epoch: 41: 100%|██████████| 196/196 [04:16<00:00,  1.31s/batch, loss=1.01, precision=0.274, recall=0.263]\n"
     ]
    },
    {
     "name": "stdout",
     "output_type": "stream",
     "text": [
      "train Loss: 1.207021223647254\n",
      "train Precision: 0.25155566343847585\n",
      "train Recall: 0.2564540956245393\n"
     ]
    },
    {
     "name": "stderr",
     "output_type": "stream",
     "text": [
      "Epoch: 41: 100%|██████████| 2/2 [00:15<00:00,  7.95s/batch, loss=1.37, precision=0.257, recall=0.25] \n"
     ]
    },
    {
     "name": "stdout",
     "output_type": "stream",
     "text": [
      "val Loss: 1.5061360001564026\n",
      "val Precision: 0.24453317373991013\n",
      "val Recall: 0.24789636582136154\n",
      "Weight saved for epoch 41.\n"
     ]
    },
    {
     "name": "stderr",
     "output_type": "stream",
     "text": [
      "Epoch: 42: 100%|██████████| 196/196 [04:19<00:00,  1.32s/batch, loss=1.59, precision=0.245, recall=0.208] \n"
     ]
    },
    {
     "name": "stdout",
     "output_type": "stream",
     "text": [
      "train Loss: 1.1958704490442664\n",
      "train Precision: 0.25160799753301\n",
      "train Recall: 0.26360568107695\n"
     ]
    },
    {
     "name": "stderr",
     "output_type": "stream",
     "text": [
      "Epoch: 42: 100%|██████████| 2/2 [00:17<00:00,  8.60s/batch, loss=1.17, precision=0.267, recall=0.338]\n"
     ]
    },
    {
     "name": "stdout",
     "output_type": "stream",
     "text": [
      "val Loss: 1.312833309173584\n",
      "val Precision: 0.2611793875694275\n",
      "val Recall: 0.3015442043542862\n",
      "Weight saved for epoch 42.\n"
     ]
    },
    {
     "name": "stderr",
     "output_type": "stream",
     "text": [
      "Epoch: 43: 100%|██████████| 196/196 [04:17<00:00,  1.32s/batch, loss=1.29, precision=0.265, recall=0.262] \n"
     ]
    },
    {
     "name": "stdout",
     "output_type": "stream",
     "text": [
      "train Loss: 1.1832019844833686\n",
      "train Precision: 0.25409917761476675\n",
      "train Recall: 0.26211667007633616\n"
     ]
    },
    {
     "name": "stderr",
     "output_type": "stream",
     "text": [
      "Epoch: 43: 100%|██████████| 2/2 [00:16<00:00,  8.46s/batch, loss=1.2, precision=0.263, recall=0.286] \n"
     ]
    },
    {
     "name": "stdout",
     "output_type": "stream",
     "text": [
      "val Loss: 1.31794935464859\n",
      "val Precision: 0.25589419901371\n",
      "val Recall: 0.2512473911046982\n",
      "Weight saved for epoch 43.\n"
     ]
    },
    {
     "name": "stderr",
     "output_type": "stream",
     "text": [
      "Epoch: 44: 100%|██████████| 196/196 [04:19<00:00,  1.32s/batch, loss=1.28, precision=0.228, recall=0.243] \n"
     ]
    },
    {
     "name": "stdout",
     "output_type": "stream",
     "text": [
      "train Loss: 1.17180370493811\n",
      "train Precision: 0.2598443393956642\n",
      "train Recall: 0.26818057826283026\n"
     ]
    },
    {
     "name": "stderr",
     "output_type": "stream",
     "text": [
      "Epoch: 44: 100%|██████████| 2/2 [00:16<00:00,  8.24s/batch, loss=1.55, precision=0.232, recall=0.214]\n"
     ]
    },
    {
     "name": "stdout",
     "output_type": "stream",
     "text": [
      "val Loss: 1.6579662561416626\n",
      "val Precision: 0.21663476526737213\n",
      "val Recall: 0.20880768448114395\n",
      "Weight saved for epoch 44.\n"
     ]
    },
    {
     "name": "stderr",
     "output_type": "stream",
     "text": [
      "Epoch: 45: 100%|██████████| 196/196 [04:18<00:00,  1.32s/batch, loss=1.09, precision=0.297, recall=0.273] \n"
     ]
    },
    {
     "name": "stdout",
     "output_type": "stream",
     "text": [
      "train Loss: 1.161946871450969\n",
      "train Precision: 0.2597950877127599\n",
      "train Recall: 0.2715638524719647\n"
     ]
    },
    {
     "name": "stderr",
     "output_type": "stream",
     "text": [
      "Epoch: 45: 100%|██████████| 2/2 [00:18<00:00,  9.19s/batch, loss=1.12, precision=0.267, recall=0.311]\n"
     ]
    },
    {
     "name": "stdout",
     "output_type": "stream",
     "text": [
      "val Loss: 1.2510421872138977\n",
      "val Precision: 0.2486346960067749\n",
      "val Recall: 0.2966219335794449\n",
      "Weight saved for epoch 45.\n"
     ]
    },
    {
     "name": "stderr",
     "output_type": "stream",
     "text": [
      "Epoch: 46: 100%|██████████| 196/196 [04:16<00:00,  1.31s/batch, loss=1.19, precision=0.266, recall=0.28]  \n"
     ]
    },
    {
     "name": "stdout",
     "output_type": "stream",
     "text": [
      "train Loss: 1.147375181013224\n",
      "train Precision: 0.26756554150155615\n",
      "train Recall: 0.28052206124578205\n"
     ]
    },
    {
     "name": "stderr",
     "output_type": "stream",
     "text": [
      "Epoch: 46: 100%|██████████| 2/2 [00:16<00:00,  8.42s/batch, loss=1.16, precision=0.26, recall=0.262]\n"
     ]
    },
    {
     "name": "stdout",
     "output_type": "stream",
     "text": [
      "val Loss: 1.2815496325492859\n",
      "val Precision: 0.24587946385145187\n",
      "val Recall: 0.23890675604343414\n",
      "Weight saved for epoch 46.\n"
     ]
    },
    {
     "name": "stderr",
     "output_type": "stream",
     "text": [
      "Epoch: 47: 100%|██████████| 196/196 [04:16<00:00,  1.31s/batch, loss=0.975, precision=0.33, recall=0.301] \n"
     ]
    },
    {
     "name": "stdout",
     "output_type": "stream",
     "text": [
      "train Loss: 1.1381841058633766\n",
      "train Precision: 0.26761204947014244\n",
      "train Recall: 0.28346784587721435\n"
     ]
    },
    {
     "name": "stderr",
     "output_type": "stream",
     "text": [
      "Epoch: 47: 100%|██████████| 2/2 [00:17<00:00,  8.54s/batch, loss=1.31, precision=0.26, recall=0.264]\n"
     ]
    },
    {
     "name": "stdout",
     "output_type": "stream",
     "text": [
      "val Loss: 1.4031888842582703\n",
      "val Precision: 0.2399110421538353\n",
      "val Recall: 0.22669129818677902\n",
      "Weight saved for epoch 47.\n"
     ]
    },
    {
     "name": "stderr",
     "output_type": "stream",
     "text": [
      "Epoch: 48: 100%|██████████| 196/196 [04:16<00:00,  1.31s/batch, loss=0.997, precision=0.233, recall=0.182]\n"
     ]
    },
    {
     "name": "stdout",
     "output_type": "stream",
     "text": [
      "train Loss: 1.1269018698711784\n",
      "train Precision: 0.2691998187528581\n",
      "train Recall: 0.2838520098249523\n"
     ]
    },
    {
     "name": "stderr",
     "output_type": "stream",
     "text": [
      "Epoch: 48: 100%|██████████| 2/2 [00:17<00:00,  8.55s/batch, loss=1.07, precision=0.286, recall=0.322]\n"
     ]
    },
    {
     "name": "stdout",
     "output_type": "stream",
     "text": [
      "val Loss: 1.225542664527893\n",
      "val Precision: 0.2724962383508682\n",
      "val Recall: 0.3075747489929199\n",
      "Weight saved for epoch 48.\n"
     ]
    },
    {
     "name": "stderr",
     "output_type": "stream",
     "text": [
      "Epoch: 49: 100%|██████████| 196/196 [04:19<00:00,  1.33s/batch, loss=1.07, precision=0.234, recall=0.294] \n"
     ]
    },
    {
     "name": "stdout",
     "output_type": "stream",
     "text": [
      "train Loss: 1.1166498259622224\n",
      "train Precision: 0.2707592795545958\n",
      "train Recall: 0.2876717131965014\n"
     ]
    },
    {
     "name": "stderr",
     "output_type": "stream",
     "text": [
      "Epoch: 49: 100%|██████████| 2/2 [00:17<00:00,  8.81s/batch, loss=1.24, precision=0.261, recall=0.293]\n"
     ]
    },
    {
     "name": "stdout",
     "output_type": "stream",
     "text": [
      "val Loss: 1.4126268029212952\n",
      "val Precision: 0.24439175426959991\n",
      "val Recall: 0.2892531007528305\n",
      "Weight saved for epoch 49.\n"
     ]
    },
    {
     "name": "stderr",
     "output_type": "stream",
     "text": [
      "Epoch: 50: 100%|██████████| 196/196 [04:19<00:00,  1.33s/batch, loss=1.38, precision=0.301, recall=0.293] \n"
     ]
    },
    {
     "name": "stdout",
     "output_type": "stream",
     "text": [
      "train Loss: 1.1077942547141288\n",
      "train Precision: 0.27501342187122424\n",
      "train Recall: 0.2906444728070376\n"
     ]
    },
    {
     "name": "stderr",
     "output_type": "stream",
     "text": [
      "Epoch: 50: 100%|██████████| 2/2 [00:17<00:00,  8.51s/batch, loss=1.11, precision=0.278, recall=0.287]\n"
     ]
    },
    {
     "name": "stdout",
     "output_type": "stream",
     "text": [
      "val Loss: 1.249642252922058\n",
      "val Precision: 0.2637179121375084\n",
      "val Recall: 0.27261821925640106\n",
      "Weight saved for epoch 50.\n"
     ]
    },
    {
     "name": "stderr",
     "output_type": "stream",
     "text": [
      "Epoch: 51: 100%|██████████| 196/196 [04:17<00:00,  1.31s/batch, loss=1.31, precision=0.251, recall=0.247] \n"
     ]
    },
    {
     "name": "stdout",
     "output_type": "stream",
     "text": [
      "train Loss: 1.1009107408474903\n",
      "train Precision: 0.2765277713081058\n",
      "train Recall: 0.29558089200635346\n"
     ]
    },
    {
     "name": "stderr",
     "output_type": "stream",
     "text": [
      "Epoch: 51: 100%|██████████| 2/2 [00:17<00:00,  8.55s/batch, loss=1.18, precision=0.263, recall=0.279]\n"
     ]
    },
    {
     "name": "stdout",
     "output_type": "stream",
     "text": [
      "val Loss: 1.2859618067741394\n",
      "val Precision: 0.2610170841217041\n",
      "val Recall: 0.24614901095628738\n",
      "Weight saved for epoch 51.\n"
     ]
    },
    {
     "name": "stderr",
     "output_type": "stream",
     "text": [
      "Epoch: 52: 100%|██████████| 196/196 [04:18<00:00,  1.32s/batch, loss=1.01, precision=0.273, recall=0.232] \n"
     ]
    },
    {
     "name": "stdout",
     "output_type": "stream",
     "text": [
      "train Loss: 1.0870520448198124\n",
      "train Precision: 0.27854110574235724\n",
      "train Recall: 0.29434884818536894\n"
     ]
    },
    {
     "name": "stderr",
     "output_type": "stream",
     "text": [
      "Epoch: 52: 100%|██████████| 2/2 [00:15<00:00,  7.78s/batch, loss=1.23, precision=0.275, recall=0.298]\n"
     ]
    },
    {
     "name": "stdout",
     "output_type": "stream",
     "text": [
      "val Loss: 1.3312499523162842\n",
      "val Precision: 0.26110370457172394\n",
      "val Recall: 0.29578524827957153\n",
      "Weight saved for epoch 52.\n"
     ]
    },
    {
     "name": "stderr",
     "output_type": "stream",
     "text": [
      "Epoch: 53: 100%|██████████| 196/196 [04:16<00:00,  1.31s/batch, loss=1.17, precision=0.287, recall=0.294] \n"
     ]
    },
    {
     "name": "stdout",
     "output_type": "stream",
     "text": [
      "train Loss: 1.0820286724032189\n",
      "train Precision: 0.28094377155814854\n",
      "train Recall: 0.3011132669540084\n"
     ]
    },
    {
     "name": "stderr",
     "output_type": "stream",
     "text": [
      "Epoch: 53: 100%|██████████| 2/2 [00:16<00:00,  8.32s/batch, loss=1.04, precision=0.307, recall=0.36] \n"
     ]
    },
    {
     "name": "stdout",
     "output_type": "stream",
     "text": [
      "val Loss: 1.1838517785072327\n",
      "val Precision: 0.2869492620229721\n",
      "val Recall: 0.30899952352046967\n",
      "Weight saved for epoch 53.\n"
     ]
    },
    {
     "name": "stderr",
     "output_type": "stream",
     "text": [
      "Epoch: 54: 100%|██████████| 196/196 [04:17<00:00,  1.31s/batch, loss=0.998, precision=0.247, recall=0.237]\n"
     ]
    },
    {
     "name": "stdout",
     "output_type": "stream",
     "text": [
      "train Loss: 1.0745678857272984\n",
      "train Precision: 0.28329668080016057\n",
      "train Recall: 0.3015058146295499\n"
     ]
    },
    {
     "name": "stderr",
     "output_type": "stream",
     "text": [
      "Epoch: 54: 100%|██████████| 2/2 [00:17<00:00,  8.52s/batch, loss=1.07, precision=0.283, recall=0.309]\n"
     ]
    },
    {
     "name": "stdout",
     "output_type": "stream",
     "text": [
      "val Loss: 1.176195204257965\n",
      "val Precision: 0.2617696672677994\n",
      "val Recall: 0.28421618044376373\n",
      "Weight saved for epoch 54.\n"
     ]
    },
    {
     "name": "stderr",
     "output_type": "stream",
     "text": [
      "Epoch: 55: 100%|██████████| 196/196 [04:16<00:00,  1.31s/batch, loss=0.973, precision=0.237, recall=0.212]\n"
     ]
    },
    {
     "name": "stdout",
     "output_type": "stream",
     "text": [
      "train Loss: 1.0606493627538487\n",
      "train Precision: 0.28530476508396013\n",
      "train Recall: 0.30488533443030047\n"
     ]
    },
    {
     "name": "stderr",
     "output_type": "stream",
     "text": [
      "Epoch: 55: 100%|██████████| 2/2 [00:16<00:00,  8.38s/batch, loss=1.03, precision=0.297, recall=0.351]\n"
     ]
    },
    {
     "name": "stdout",
     "output_type": "stream",
     "text": [
      "val Loss: 1.1444849371910095\n",
      "val Precision: 0.27585598826408386\n",
      "val Recall: 0.32757599651813507\n",
      "Weight saved for epoch 55.\n"
     ]
    },
    {
     "name": "stderr",
     "output_type": "stream",
     "text": [
      "Epoch: 56: 100%|██████████| 196/196 [04:18<00:00,  1.32s/batch, loss=1.31, precision=0.307, recall=0.312] \n"
     ]
    },
    {
     "name": "stdout",
     "output_type": "stream",
     "text": [
      "train Loss: 1.0548195495289199\n",
      "train Precision: 0.2876198934961338\n",
      "train Recall: 0.30719340288517427\n"
     ]
    },
    {
     "name": "stderr",
     "output_type": "stream",
     "text": [
      "Epoch: 56: 100%|██████████| 2/2 [00:17<00:00,  8.61s/batch, loss=1.08, precision=0.307, recall=0.369]\n"
     ]
    },
    {
     "name": "stdout",
     "output_type": "stream",
     "text": [
      "val Loss: 1.228213131427765\n",
      "val Precision: 0.28021523356437683\n",
      "val Recall: 0.2903609871864319\n",
      "Weight saved for epoch 56.\n"
     ]
    },
    {
     "name": "stderr",
     "output_type": "stream",
     "text": [
      "Epoch: 57: 100%|██████████| 196/196 [04:17<00:00,  1.32s/batch, loss=0.991, precision=0.274, recall=0.281]\n"
     ]
    },
    {
     "name": "stdout",
     "output_type": "stream",
     "text": [
      "train Loss: 1.0431851136441133\n",
      "train Precision: 0.2915442847475714\n",
      "train Recall: 0.3115420352895649\n"
     ]
    },
    {
     "name": "stderr",
     "output_type": "stream",
     "text": [
      "Epoch: 57: 100%|██████████| 2/2 [00:16<00:00,  8.09s/batch, loss=1.12, precision=0.304, recall=0.351]\n"
     ]
    },
    {
     "name": "stdout",
     "output_type": "stream",
     "text": [
      "val Loss: 1.2632905840873718\n",
      "val Precision: 0.28536127507686615\n",
      "val Recall: 0.3248360604047775\n",
      "Weight saved for epoch 57.\n"
     ]
    },
    {
     "name": "stderr",
     "output_type": "stream",
     "text": [
      "Epoch: 58: 100%|██████████| 196/196 [04:17<00:00,  1.31s/batch, loss=1.11, precision=0.184, recall=0.181] \n"
     ]
    },
    {
     "name": "stdout",
     "output_type": "stream",
     "text": [
      "train Loss: 1.036095763347587\n",
      "train Precision: 0.29096342851312795\n",
      "train Recall: 0.31276076469494374\n"
     ]
    },
    {
     "name": "stderr",
     "output_type": "stream",
     "text": [
      "Epoch: 58: 100%|██████████| 2/2 [00:16<00:00,  8.50s/batch, loss=1.05, precision=0.28, recall=0.312] \n"
     ]
    },
    {
     "name": "stdout",
     "output_type": "stream",
     "text": [
      "val Loss: 1.1937140226364136\n",
      "val Precision: 0.27077335119247437\n",
      "val Recall: 0.31566156446933746\n",
      "Weight saved for epoch 58.\n"
     ]
    },
    {
     "name": "stderr",
     "output_type": "stream",
     "text": [
      "Epoch: 59: 100%|██████████| 196/196 [04:15<00:00,  1.31s/batch, loss=1.09, precision=0.298, recall=0.321] \n"
     ]
    },
    {
     "name": "stdout",
     "output_type": "stream",
     "text": [
      "train Loss: 1.0260350278445654\n",
      "train Precision: 0.2955705139557926\n",
      "train Recall: 0.31224867024896097\n"
     ]
    },
    {
     "name": "stderr",
     "output_type": "stream",
     "text": [
      "Epoch: 59: 100%|██████████| 2/2 [00:17<00:00,  8.65s/batch, loss=1.02, precision=0.3, recall=0.327]  \n"
     ]
    },
    {
     "name": "stdout",
     "output_type": "stream",
     "text": [
      "val Loss: 1.1521591544151306\n",
      "val Precision: 0.28628315031528473\n",
      "val Recall: 0.2973902225494385\n",
      "Weight saved for epoch 59.\n"
     ]
    },
    {
     "name": "stderr",
     "output_type": "stream",
     "text": [
      "Epoch: 60: 100%|██████████| 196/196 [04:18<00:00,  1.32s/batch, loss=0.912, precision=0.31, recall=0.314] \n"
     ]
    },
    {
     "name": "stdout",
     "output_type": "stream",
     "text": [
      "train Loss: 1.0209943460566657\n",
      "train Precision: 0.29626569319136287\n",
      "train Recall: 0.31665933702369126\n"
     ]
    },
    {
     "name": "stderr",
     "output_type": "stream",
     "text": [
      "Epoch: 60: 100%|██████████| 2/2 [00:18<00:00,  9.08s/batch, loss=0.994, precision=0.314, recall=0.346]\n"
     ]
    },
    {
     "name": "stdout",
     "output_type": "stream",
     "text": [
      "val Loss: 1.1133293509483337\n",
      "val Precision: 0.2946870028972626\n",
      "val Recall: 0.312279537320137\n",
      "Weight saved for epoch 60.\n"
     ]
    },
    {
     "name": "stderr",
     "output_type": "stream",
     "text": [
      "Epoch: 61: 100%|██████████| 196/196 [04:18<00:00,  1.32s/batch, loss=0.902, precision=0.31, recall=0.257] \n"
     ]
    },
    {
     "name": "stdout",
     "output_type": "stream",
     "text": [
      "train Loss: 1.0101854065243079\n",
      "train Precision: 0.30022951504405665\n",
      "train Recall: 0.32189677784941634\n"
     ]
    },
    {
     "name": "stderr",
     "output_type": "stream",
     "text": [
      "Epoch: 61: 100%|██████████| 2/2 [00:17<00:00,  8.68s/batch, loss=0.969, precision=0.295, recall=0.319]\n"
     ]
    },
    {
     "name": "stdout",
     "output_type": "stream",
     "text": [
      "val Loss: 1.0827005505561829\n",
      "val Precision: 0.2895694226026535\n",
      "val Recall: 0.3334951102733612\n",
      "Weight saved for epoch 61.\n"
     ]
    },
    {
     "name": "stderr",
     "output_type": "stream",
     "text": [
      "Epoch: 62: 100%|██████████| 196/196 [04:19<00:00,  1.33s/batch, loss=0.978, precision=0.302, recall=0.289]\n"
     ]
    },
    {
     "name": "stdout",
     "output_type": "stream",
     "text": [
      "train Loss: 1.0023935251698202\n",
      "train Precision: 0.30179334804415703\n",
      "train Recall: 0.32395400046085826\n"
     ]
    },
    {
     "name": "stderr",
     "output_type": "stream",
     "text": [
      "Epoch: 62: 100%|██████████| 2/2 [00:16<00:00,  8.19s/batch, loss=0.955, precision=0.315, recall=0.357]\n"
     ]
    },
    {
     "name": "stdout",
     "output_type": "stream",
     "text": [
      "val Loss: 1.0573378801345825\n",
      "val Precision: 0.3041493594646454\n",
      "val Recall: 0.35451510548591614\n",
      "Weight saved for epoch 62.\n"
     ]
    },
    {
     "name": "stderr",
     "output_type": "stream",
     "text": [
      "Epoch: 63: 100%|██████████| 196/196 [04:17<00:00,  1.32s/batch, loss=0.898, precision=0.326, recall=0.324]\n"
     ]
    },
    {
     "name": "stdout",
     "output_type": "stream",
     "text": [
      "train Loss: 0.9947629367210427\n",
      "train Precision: 0.30319641203600534\n",
      "train Recall: 0.32923823458199597\n"
     ]
    },
    {
     "name": "stderr",
     "output_type": "stream",
     "text": [
      "Epoch: 63: 100%|██████████| 2/2 [00:17<00:00,  8.53s/batch, loss=1.05, precision=0.309, recall=0.351]\n"
     ]
    },
    {
     "name": "stdout",
     "output_type": "stream",
     "text": [
      "val Loss: 1.1526028513908386\n",
      "val Precision: 0.2931698262691498\n",
      "val Recall: 0.33000895380973816\n",
      "Weight saved for epoch 63.\n"
     ]
    },
    {
     "name": "stderr",
     "output_type": "stream",
     "text": [
      "Epoch: 64: 100%|██████████| 196/196 [04:18<00:00,  1.32s/batch, loss=0.991, precision=0.27, recall=0.298] \n"
     ]
    },
    {
     "name": "stdout",
     "output_type": "stream",
     "text": [
      "train Loss: 0.9895703068801335\n",
      "train Precision: 0.3037793702464931\n",
      "train Recall: 0.3271668807280307\n"
     ]
    },
    {
     "name": "stderr",
     "output_type": "stream",
     "text": [
      "Epoch: 64: 100%|██████████| 2/2 [00:16<00:00,  8.49s/batch, loss=1.28, precision=0.248, recall=0.238]\n"
     ]
    },
    {
     "name": "stdout",
     "output_type": "stream",
     "text": [
      "val Loss: 1.4133470058441162\n",
      "val Precision: 0.23130222409963608\n",
      "val Recall: 0.22986336052417755\n",
      "Weight saved for epoch 64.\n"
     ]
    },
    {
     "name": "stderr",
     "output_type": "stream",
     "text": [
      "Epoch: 65: 100%|██████████| 196/196 [04:16<00:00,  1.31s/batch, loss=1.16, precision=0.337, recall=0.348] \n"
     ]
    },
    {
     "name": "stdout",
     "output_type": "stream",
     "text": [
      "train Loss: 0.980519886831848\n",
      "train Precision: 0.31034689563877726\n",
      "train Recall: 0.33516536577015504\n"
     ]
    },
    {
     "name": "stderr",
     "output_type": "stream",
     "text": [
      "Epoch: 65: 100%|██████████| 2/2 [00:17<00:00,  8.70s/batch, loss=0.971, precision=0.304, recall=0.336]\n"
     ]
    },
    {
     "name": "stdout",
     "output_type": "stream",
     "text": [
      "val Loss: 1.0896655321121216\n",
      "val Precision: 0.30315546691417694\n",
      "val Recall: 0.3464719355106354\n",
      "Weight saved for epoch 65.\n"
     ]
    },
    {
     "name": "stderr",
     "output_type": "stream",
     "text": [
      "Epoch: 66: 100%|██████████| 196/196 [04:16<00:00,  1.31s/batch, loss=0.922, precision=0.234, recall=0.211]\n"
     ]
    },
    {
     "name": "stdout",
     "output_type": "stream",
     "text": [
      "train Loss: 0.9709735479281874\n",
      "train Precision: 0.30814568713611484\n",
      "train Recall: 0.3310322234673159\n"
     ]
    },
    {
     "name": "stderr",
     "output_type": "stream",
     "text": [
      "Epoch: 66: 100%|██████████| 2/2 [00:17<00:00,  8.60s/batch, loss=1.1, precision=0.302, recall=0.307] \n"
     ]
    },
    {
     "name": "stdout",
     "output_type": "stream",
     "text": [
      "val Loss: 1.1873337030410767\n",
      "val Precision: 0.275318019092083\n",
      "val Recall: 0.28671686351299286\n",
      "Weight saved for epoch 66.\n"
     ]
    },
    {
     "name": "stderr",
     "output_type": "stream",
     "text": [
      "Epoch: 67: 100%|██████████| 196/196 [04:16<00:00,  1.31s/batch, loss=0.937, precision=0.258, recall=0.297]\n"
     ]
    },
    {
     "name": "stdout",
     "output_type": "stream",
     "text": [
      "train Loss: 0.9628848670696726\n",
      "train Precision: 0.3114936663484087\n",
      "train Recall: 0.33631219866932655\n"
     ]
    },
    {
     "name": "stderr",
     "output_type": "stream",
     "text": [
      "Epoch: 67: 100%|██████████| 2/2 [00:15<00:00,  7.98s/batch, loss=1.01, precision=0.288, recall=0.314]\n"
     ]
    },
    {
     "name": "stdout",
     "output_type": "stream",
     "text": [
      "val Loss: 1.1336798667907715\n",
      "val Precision: 0.2832508683204651\n",
      "val Recall: 0.3043341040611267\n",
      "Weight saved for epoch 67.\n"
     ]
    },
    {
     "name": "stderr",
     "output_type": "stream",
     "text": [
      "Epoch: 68: 100%|██████████| 196/196 [04:17<00:00,  1.32s/batch, loss=1.11, precision=0.26, recall=0.258]  \n"
     ]
    },
    {
     "name": "stdout",
     "output_type": "stream",
     "text": [
      "train Loss: 0.9594284083162036\n",
      "train Precision: 0.31348652331804744\n",
      "train Recall: 0.3354083304198421\n"
     ]
    },
    {
     "name": "stderr",
     "output_type": "stream",
     "text": [
      "Epoch: 68: 100%|██████████| 2/2 [00:17<00:00,  8.83s/batch, loss=1.02, precision=0.332, recall=0.34]\n"
     ]
    },
    {
     "name": "stdout",
     "output_type": "stream",
     "text": [
      "val Loss: 1.1222853064537048\n",
      "val Precision: 0.2964039742946625\n",
      "val Recall: 0.30174680054187775\n",
      "Weight saved for epoch 68.\n"
     ]
    },
    {
     "name": "stderr",
     "output_type": "stream",
     "text": [
      "Epoch: 69: 100%|██████████| 196/196 [04:16<00:00,  1.31s/batch, loss=0.879, precision=0.331, recall=0.341]\n"
     ]
    },
    {
     "name": "stdout",
     "output_type": "stream",
     "text": [
      "train Loss: 0.9543178108881931\n",
      "train Precision: 0.31456345965971755\n",
      "train Recall: 0.33838773450377035\n"
     ]
    },
    {
     "name": "stderr",
     "output_type": "stream",
     "text": [
      "Epoch: 69: 100%|██████████| 2/2 [00:16<00:00,  8.43s/batch, loss=0.943, precision=0.315, recall=0.345]\n"
     ]
    },
    {
     "name": "stdout",
     "output_type": "stream",
     "text": [
      "val Loss: 1.0625256299972534\n",
      "val Precision: 0.2932230830192566\n",
      "val Recall: 0.32635270059108734\n",
      "Weight saved for epoch 69.\n"
     ]
    },
    {
     "name": "stderr",
     "output_type": "stream",
     "text": [
      "Epoch: 70: 100%|██████████| 196/196 [04:17<00:00,  1.31s/batch, loss=0.956, precision=0.299, recall=0.308]\n"
     ]
    },
    {
     "name": "stdout",
     "output_type": "stream",
     "text": [
      "train Loss: 0.942798585916052\n",
      "train Precision: 0.3196469128740077\n",
      "train Recall: 0.3425178012373496\n"
     ]
    },
    {
     "name": "stderr",
     "output_type": "stream",
     "text": [
      "Epoch: 70: 100%|██████████| 2/2 [00:16<00:00,  8.50s/batch, loss=0.986, precision=0.304, recall=0.343]\n"
     ]
    },
    {
     "name": "stdout",
     "output_type": "stream",
     "text": [
      "val Loss: 1.0805217623710632\n",
      "val Precision: 0.28725260496139526\n",
      "val Recall: 0.3431544154882431\n",
      "Weight saved for epoch 70.\n"
     ]
    },
    {
     "name": "stderr",
     "output_type": "stream",
     "text": [
      "Epoch: 71: 100%|██████████| 196/196 [04:15<00:00,  1.31s/batch, loss=0.978, precision=0.329, recall=0.334]\n"
     ]
    },
    {
     "name": "stdout",
     "output_type": "stream",
     "text": [
      "train Loss: 0.9352781027555466\n",
      "train Precision: 0.3204239619021513\n",
      "train Recall: 0.34154799717421436\n"
     ]
    },
    {
     "name": "stderr",
     "output_type": "stream",
     "text": [
      "Epoch: 71: 100%|██████████| 2/2 [00:15<00:00,  7.52s/batch, loss=0.949, precision=0.319, recall=0.355]\n"
     ]
    },
    {
     "name": "stdout",
     "output_type": "stream",
     "text": [
      "val Loss: 1.0710001289844513\n",
      "val Precision: 0.31442801654338837\n",
      "val Recall: 0.3576866686344147\n",
      "Weight saved for epoch 71.\n"
     ]
    },
    {
     "name": "stderr",
     "output_type": "stream",
     "text": [
      "Epoch: 72: 100%|██████████| 196/196 [04:16<00:00,  1.31s/batch, loss=0.839, precision=0.363, recall=0.323]\n"
     ]
    },
    {
     "name": "stdout",
     "output_type": "stream",
     "text": [
      "train Loss: 0.9298544550428585\n",
      "train Precision: 0.32270421589515647\n",
      "train Recall: 0.3462397872793431\n"
     ]
    },
    {
     "name": "stderr",
     "output_type": "stream",
     "text": [
      "Epoch: 72: 100%|██████████| 2/2 [00:17<00:00,  8.53s/batch, loss=0.958, precision=0.345, recall=0.363]\n"
     ]
    },
    {
     "name": "stdout",
     "output_type": "stream",
     "text": [
      "val Loss: 1.0537931621074677\n",
      "val Precision: 0.32938988506793976\n",
      "val Recall: 0.356701135635376\n",
      "Weight saved for epoch 72.\n"
     ]
    },
    {
     "name": "stderr",
     "output_type": "stream",
     "text": [
      "Epoch: 73: 100%|██████████| 196/196 [04:19<00:00,  1.32s/batch, loss=0.841, precision=0.294, recall=0.267]\n"
     ]
    },
    {
     "name": "stdout",
     "output_type": "stream",
     "text": [
      "train Loss: 0.9250378702976265\n",
      "train Precision: 0.32413025717346033\n",
      "train Recall: 0.34787801090551884\n"
     ]
    },
    {
     "name": "stderr",
     "output_type": "stream",
     "text": [
      "Epoch: 73: 100%|██████████| 2/2 [00:18<00:00,  9.04s/batch, loss=0.99, precision=0.341, recall=0.344]\n"
     ]
    },
    {
     "name": "stdout",
     "output_type": "stream",
     "text": [
      "val Loss: 1.0845036506652832\n",
      "val Precision: 0.3008746802806854\n",
      "val Recall: 0.3176083117723465\n",
      "Weight saved for epoch 73.\n"
     ]
    },
    {
     "name": "stderr",
     "output_type": "stream",
     "text": [
      "Epoch: 74: 100%|██████████| 196/196 [04:16<00:00,  1.31s/batch, loss=0.918, precision=0.288, recall=0.281]\n"
     ]
    },
    {
     "name": "stdout",
     "output_type": "stream",
     "text": [
      "train Loss: 0.9189322788496407\n",
      "train Precision: 0.32427952864340376\n",
      "train Recall: 0.348507712994303\n"
     ]
    },
    {
     "name": "stderr",
     "output_type": "stream",
     "text": [
      "Epoch: 74: 100%|██████████| 2/2 [00:17<00:00,  8.76s/batch, loss=0.926, precision=0.306, recall=0.325]\n"
     ]
    },
    {
     "name": "stdout",
     "output_type": "stream",
     "text": [
      "val Loss: 1.0309768319129944\n",
      "val Precision: 0.30421167612075806\n",
      "val Recall: 0.32929132878780365\n",
      "Weight saved for epoch 74.\n"
     ]
    },
    {
     "name": "stderr",
     "output_type": "stream",
     "text": [
      "Epoch: 75: 100%|██████████| 196/196 [04:19<00:00,  1.32s/batch, loss=0.884, precision=0.272, recall=0.268]\n"
     ]
    },
    {
     "name": "stdout",
     "output_type": "stream",
     "text": [
      "train Loss: 0.9100528037061497\n",
      "train Precision: 0.33186528451588687\n",
      "train Recall: 0.3546963233728798\n"
     ]
    },
    {
     "name": "stderr",
     "output_type": "stream",
     "text": [
      "Epoch: 75: 100%|██████████| 2/2 [00:16<00:00,  8.44s/batch, loss=0.92, precision=0.343, recall=0.343]\n"
     ]
    },
    {
     "name": "stdout",
     "output_type": "stream",
     "text": [
      "val Loss: 1.0130581855773926\n",
      "val Precision: 0.32291628420352936\n",
      "val Recall: 0.333302766084671\n",
      "Weight saved for epoch 75.\n"
     ]
    },
    {
     "name": "stderr",
     "output_type": "stream",
     "text": [
      "Epoch: 76: 100%|██████████| 196/196 [04:17<00:00,  1.31s/batch, loss=0.952, precision=0.363, recall=0.368]\n"
     ]
    },
    {
     "name": "stdout",
     "output_type": "stream",
     "text": [
      "train Loss: 0.9031935647434118\n",
      "train Precision: 0.3311365645150749\n",
      "train Recall: 0.35516023666274793\n"
     ]
    },
    {
     "name": "stderr",
     "output_type": "stream",
     "text": [
      "Epoch: 76: 100%|██████████| 2/2 [00:16<00:00,  8.42s/batch, loss=0.937, precision=0.339, recall=0.364]\n"
     ]
    },
    {
     "name": "stdout",
     "output_type": "stream",
     "text": [
      "val Loss: 1.0357321202754974\n",
      "val Precision: 0.3245079964399338\n",
      "val Recall: 0.35967522859573364\n",
      "Weight saved for epoch 76.\n"
     ]
    },
    {
     "name": "stderr",
     "output_type": "stream",
     "text": [
      "Epoch: 77: 100%|██████████| 196/196 [04:15<00:00,  1.30s/batch, loss=0.985, precision=0.257, recall=0.23] \n"
     ]
    },
    {
     "name": "stdout",
     "output_type": "stream",
     "text": [
      "train Loss: 0.8958100168680658\n",
      "train Precision: 0.3343091728735943\n",
      "train Recall: 0.3578895156328775\n"
     ]
    },
    {
     "name": "stderr",
     "output_type": "stream",
     "text": [
      "Epoch: 77: 100%|██████████| 2/2 [00:17<00:00,  8.64s/batch, loss=0.947, precision=0.3, recall=0.296] \n"
     ]
    },
    {
     "name": "stdout",
     "output_type": "stream",
     "text": [
      "val Loss: 1.0792068243026733\n",
      "val Precision: 0.3054097294807434\n",
      "val Recall: 0.33128274977207184\n",
      "Weight saved for epoch 77.\n"
     ]
    },
    {
     "name": "stderr",
     "output_type": "stream",
     "text": [
      "Epoch: 78: 100%|██████████| 196/196 [04:18<00:00,  1.32s/batch, loss=0.934, precision=0.32, recall=0.317] \n"
     ]
    },
    {
     "name": "stdout",
     "output_type": "stream",
     "text": [
      "train Loss: 0.8954504220461359\n",
      "train Precision: 0.3342201939346839\n",
      "train Recall: 0.35678684027219304\n"
     ]
    },
    {
     "name": "stderr",
     "output_type": "stream",
     "text": [
      "Epoch: 78: 100%|██████████| 2/2 [00:16<00:00,  8.44s/batch, loss=0.932, precision=0.31, recall=0.352]\n"
     ]
    },
    {
     "name": "stdout",
     "output_type": "stream",
     "text": [
      "val Loss: 1.0617189705371857\n",
      "val Precision: 0.29958002269268036\n",
      "val Recall: 0.3794500231742859\n",
      "Weight saved for epoch 78.\n"
     ]
    },
    {
     "name": "stderr",
     "output_type": "stream",
     "text": [
      "Epoch: 79: 100%|██████████| 196/196 [04:17<00:00,  1.32s/batch, loss=0.723, precision=0.358, recall=0.376]\n"
     ]
    },
    {
     "name": "stdout",
     "output_type": "stream",
     "text": [
      "train Loss: 0.8868015280791691\n",
      "train Precision: 0.33628978108873175\n",
      "train Recall: 0.3604480415886762\n"
     ]
    },
    {
     "name": "stderr",
     "output_type": "stream",
     "text": [
      "Epoch: 79: 100%|██████████| 2/2 [00:18<00:00,  9.15s/batch, loss=1.13, precision=0.287, recall=0.291]\n"
     ]
    },
    {
     "name": "stdout",
     "output_type": "stream",
     "text": [
      "val Loss: 1.245086908340454\n",
      "val Precision: 0.26419510692358017\n",
      "val Recall: 0.26711297035217285\n",
      "Weight saved for epoch 79.\n"
     ]
    },
    {
     "name": "stderr",
     "output_type": "stream",
     "text": [
      "Epoch: 80: 100%|██████████| 196/196 [04:14<00:00,  1.30s/batch, loss=1.04, precision=0.335, recall=0.319] \n"
     ]
    },
    {
     "name": "stdout",
     "output_type": "stream",
     "text": [
      "train Loss: 0.8809459653435922\n",
      "train Precision: 0.33783448685188683\n",
      "train Recall: 0.3618178762951676\n"
     ]
    },
    {
     "name": "stderr",
     "output_type": "stream",
     "text": [
      "Epoch: 80: 100%|██████████| 2/2 [00:17<00:00,  8.57s/batch, loss=0.879, precision=0.32, recall=0.361]\n"
     ]
    },
    {
     "name": "stdout",
     "output_type": "stream",
     "text": [
      "val Loss: 0.9943892955780029\n",
      "val Precision: 0.30597080290317535\n",
      "val Recall: 0.35375459492206573\n",
      "Weight saved for epoch 80.\n"
     ]
    },
    {
     "name": "stderr",
     "output_type": "stream",
     "text": [
      "Epoch: 81: 100%|██████████| 196/196 [04:15<00:00,  1.30s/batch, loss=0.731, precision=0.331, recall=0.362]\n"
     ]
    },
    {
     "name": "stdout",
     "output_type": "stream",
     "text": [
      "train Loss: 0.8716957705969713\n",
      "train Precision: 0.33960295392542467\n",
      "train Recall: 0.3646438032084582\n"
     ]
    },
    {
     "name": "stderr",
     "output_type": "stream",
     "text": [
      "Epoch: 81: 100%|██████████| 2/2 [00:16<00:00,  8.36s/batch, loss=0.906, precision=0.306, recall=0.307]\n"
     ]
    },
    {
     "name": "stdout",
     "output_type": "stream",
     "text": [
      "val Loss: 1.0429139137268066\n",
      "val Precision: 0.30431197583675385\n",
      "val Recall: 0.30274151265621185\n",
      "Weight saved for epoch 81.\n"
     ]
    },
    {
     "name": "stderr",
     "output_type": "stream",
     "text": [
      "Epoch: 82: 100%|██████████| 196/196 [04:15<00:00,  1.30s/batch, loss=0.976, precision=0.257, recall=0.281]\n"
     ]
    },
    {
     "name": "stdout",
     "output_type": "stream",
     "text": [
      "train Loss: 0.8678515288902788\n",
      "train Precision: 0.34183225096488484\n",
      "train Recall: 0.36574845973934444\n"
     ]
    },
    {
     "name": "stderr",
     "output_type": "stream",
     "text": [
      "Epoch: 82: 100%|██████████| 2/2 [00:14<00:00,  7.44s/batch, loss=0.882, precision=0.318, recall=0.32]\n"
     ]
    },
    {
     "name": "stdout",
     "output_type": "stream",
     "text": [
      "val Loss: 1.0096914172172546\n",
      "val Precision: 0.3173266053199768\n",
      "val Recall: 0.315461128950119\n",
      "Weight saved for epoch 82.\n"
     ]
    },
    {
     "name": "stderr",
     "output_type": "stream",
     "text": [
      "Epoch: 83: 100%|██████████| 196/196 [04:15<00:00,  1.31s/batch, loss=0.932, precision=0.268, recall=0.299]\n"
     ]
    },
    {
     "name": "stdout",
     "output_type": "stream",
     "text": [
      "train Loss: 0.8630464879833922\n",
      "train Precision: 0.34558755189788587\n",
      "train Recall: 0.371516510692178\n"
     ]
    },
    {
     "name": "stderr",
     "output_type": "stream",
     "text": [
      "Epoch: 83: 100%|██████████| 2/2 [00:17<00:00,  8.84s/batch, loss=0.841, precision=0.323, recall=0.332]\n"
     ]
    },
    {
     "name": "stdout",
     "output_type": "stream",
     "text": [
      "val Loss: 0.9321275949478149\n",
      "val Precision: 0.32944509387016296\n",
      "val Recall: 0.35355162620544434\n",
      "Weight saved for epoch 83.\n"
     ]
    },
    {
     "name": "stderr",
     "output_type": "stream",
     "text": [
      "Epoch: 84: 100%|██████████| 196/196 [04:17<00:00,  1.31s/batch, loss=0.756, precision=0.345, recall=0.353]\n"
     ]
    },
    {
     "name": "stdout",
     "output_type": "stream",
     "text": [
      "train Loss: 0.8542876885253556\n",
      "train Precision: 0.34583235668892764\n",
      "train Recall: 0.3689892357405351\n"
     ]
    },
    {
     "name": "stderr",
     "output_type": "stream",
     "text": [
      "Epoch: 84: 100%|██████████| 2/2 [00:16<00:00,  8.35s/batch, loss=0.856, precision=0.369, recall=0.391]\n"
     ]
    },
    {
     "name": "stdout",
     "output_type": "stream",
     "text": [
      "val Loss: 0.9571434259414673\n",
      "val Precision: 0.3418533354997635\n",
      "val Recall: 0.38314099609851837\n",
      "Weight saved for epoch 84.\n"
     ]
    },
    {
     "name": "stderr",
     "output_type": "stream",
     "text": [
      "Epoch: 85: 100%|██████████| 196/196 [04:16<00:00,  1.31s/batch, loss=0.555, precision=0.349, recall=0.336]\n"
     ]
    },
    {
     "name": "stdout",
     "output_type": "stream",
     "text": [
      "train Loss: 0.8513573663575309\n",
      "train Precision: 0.3458878782634832\n",
      "train Recall: 0.37110780559632245\n"
     ]
    },
    {
     "name": "stderr",
     "output_type": "stream",
     "text": [
      "Epoch: 85: 100%|██████████| 2/2 [00:14<00:00,  7.31s/batch, loss=0.967, precision=0.316, recall=0.322]\n"
     ]
    },
    {
     "name": "stdout",
     "output_type": "stream",
     "text": [
      "val Loss: 1.0835930407047272\n",
      "val Precision: 0.3013940006494522\n",
      "val Recall: 0.3040616065263748\n",
      "Weight saved for epoch 85.\n"
     ]
    },
    {
     "name": "stderr",
     "output_type": "stream",
     "text": [
      "Epoch: 86: 100%|██████████| 196/196 [04:16<00:00,  1.31s/batch, loss=0.971, precision=0.372, recall=0.368]\n"
     ]
    },
    {
     "name": "stdout",
     "output_type": "stream",
     "text": [
      "train Loss: 0.847977987053443\n",
      "train Precision: 0.3487107381224632\n",
      "train Recall: 0.37397388505692386\n"
     ]
    },
    {
     "name": "stderr",
     "output_type": "stream",
     "text": [
      "Epoch: 86: 100%|██████████| 2/2 [00:17<00:00,  8.78s/batch, loss=0.876, precision=0.327, recall=0.352]\n"
     ]
    },
    {
     "name": "stdout",
     "output_type": "stream",
     "text": [
      "val Loss: 0.9690130054950714\n",
      "val Precision: 0.3104700893163681\n",
      "val Recall: 0.3587190806865692\n",
      "Weight saved for epoch 86.\n"
     ]
    },
    {
     "name": "stderr",
     "output_type": "stream",
     "text": [
      "Epoch: 87: 100%|██████████| 196/196 [04:16<00:00,  1.31s/batch, loss=1.26, precision=0.305, recall=0.325] \n"
     ]
    },
    {
     "name": "stdout",
     "output_type": "stream",
     "text": [
      "train Loss: 0.8395358418323555\n",
      "train Precision: 0.34937416001850247\n",
      "train Recall: 0.375299546183372\n"
     ]
    },
    {
     "name": "stderr",
     "output_type": "stream",
     "text": [
      "Epoch: 87: 100%|██████████| 2/2 [00:17<00:00,  8.70s/batch, loss=1.06, precision=0.316, recall=0.321]\n"
     ]
    },
    {
     "name": "stdout",
     "output_type": "stream",
     "text": [
      "val Loss: 1.1984896063804626\n",
      "val Precision: 0.31030501425266266\n",
      "val Recall: 0.34607812762260437\n",
      "Weight saved for epoch 87.\n"
     ]
    },
    {
     "name": "stderr",
     "output_type": "stream",
     "text": [
      "Epoch: 88: 100%|██████████| 196/196 [04:16<00:00,  1.31s/batch, loss=0.809, precision=0.276, recall=0.264]\n"
     ]
    },
    {
     "name": "stdout",
     "output_type": "stream",
     "text": [
      "train Loss: 0.8373623900875753\n",
      "train Precision: 0.35153435459550547\n",
      "train Recall: 0.3763052774023037\n"
     ]
    },
    {
     "name": "stderr",
     "output_type": "stream",
     "text": [
      "Epoch: 88: 100%|██████████| 2/2 [00:17<00:00,  8.51s/batch, loss=0.929, precision=0.356, recall=0.372]\n"
     ]
    },
    {
     "name": "stdout",
     "output_type": "stream",
     "text": [
      "val Loss: 1.0529554784297943\n",
      "val Precision: 0.3353128731250763\n",
      "val Recall: 0.369656577706337\n",
      "Weight saved for epoch 88.\n"
     ]
    },
    {
     "name": "stderr",
     "output_type": "stream",
     "text": [
      "Epoch: 89: 100%|██████████| 196/196 [04:17<00:00,  1.31s/batch, loss=1.04, precision=0.377, recall=0.399] \n"
     ]
    },
    {
     "name": "stdout",
     "output_type": "stream",
     "text": [
      "train Loss: 0.827576281768935\n",
      "train Precision: 0.35579921442026996\n",
      "train Recall: 0.37721369841269087\n"
     ]
    },
    {
     "name": "stderr",
     "output_type": "stream",
     "text": [
      "Epoch: 89: 100%|██████████| 2/2 [00:16<00:00,  8.41s/batch, loss=0.975, precision=0.3, recall=0.32]  \n"
     ]
    },
    {
     "name": "stdout",
     "output_type": "stream",
     "text": [
      "val Loss: 1.1400556564331055\n",
      "val Precision: 0.3110056072473526\n",
      "val Recall: 0.3273344784975052\n",
      "Weight saved for epoch 89.\n"
     ]
    },
    {
     "name": "stderr",
     "output_type": "stream",
     "text": [
      "Epoch: 90: 100%|██████████| 196/196 [04:16<00:00,  1.31s/batch, loss=1, precision=0.318, recall=0.278]    \n"
     ]
    },
    {
     "name": "stdout",
     "output_type": "stream",
     "text": [
      "train Loss: 0.8214631527662277\n",
      "train Precision: 0.3579860347874311\n",
      "train Recall: 0.3839225312884973\n"
     ]
    },
    {
     "name": "stderr",
     "output_type": "stream",
     "text": [
      "Epoch: 90: 100%|██████████| 2/2 [00:16<00:00,  8.45s/batch, loss=1.17, precision=0.291, recall=0.326]\n"
     ]
    },
    {
     "name": "stdout",
     "output_type": "stream",
     "text": [
      "val Loss: 1.2620587944984436\n",
      "val Precision: 0.2693011611700058\n",
      "val Recall: 0.28992144763469696\n",
      "Weight saved for epoch 90.\n"
     ]
    },
    {
     "name": "stderr",
     "output_type": "stream",
     "text": [
      "Epoch: 91: 100%|██████████| 196/196 [04:19<00:00,  1.32s/batch, loss=0.874, precision=0.31, recall=0.327] \n"
     ]
    },
    {
     "name": "stdout",
     "output_type": "stream",
     "text": [
      "train Loss: 0.8207700374175091\n",
      "train Precision: 0.3567495429698302\n",
      "train Recall: 0.38246452595506397\n"
     ]
    },
    {
     "name": "stderr",
     "output_type": "stream",
     "text": [
      "Epoch: 91: 100%|██████████| 2/2 [00:17<00:00,  8.79s/batch, loss=0.89, precision=0.37, recall=0.377] \n"
     ]
    },
    {
     "name": "stdout",
     "output_type": "stream",
     "text": [
      "val Loss: 1.0308148562908173\n",
      "val Precision: 0.32134848833084106\n",
      "val Recall: 0.33973798155784607\n",
      "Weight saved for epoch 91.\n"
     ]
    },
    {
     "name": "stderr",
     "output_type": "stream",
     "text": [
      "Epoch: 92: 100%|██████████| 196/196 [04:19<00:00,  1.32s/batch, loss=0.951, precision=0.283, recall=0.252]\n"
     ]
    },
    {
     "name": "stdout",
     "output_type": "stream",
     "text": [
      "train Loss: 0.8127797933257356\n",
      "train Precision: 0.36036626416809703\n",
      "train Recall: 0.38467616466235144\n"
     ]
    },
    {
     "name": "stderr",
     "output_type": "stream",
     "text": [
      "Epoch: 92: 100%|██████████| 2/2 [00:16<00:00,  8.37s/batch, loss=0.753, precision=0.346, recall=0.356]\n"
     ]
    },
    {
     "name": "stdout",
     "output_type": "stream",
     "text": [
      "val Loss: 0.9116155207157135\n",
      "val Precision: 0.3345053941011429\n",
      "val Recall: 0.34458279609680176\n",
      "Weight saved for epoch 92.\n"
     ]
    },
    {
     "name": "stderr",
     "output_type": "stream",
     "text": [
      "Epoch: 93: 100%|██████████| 196/196 [04:18<00:00,  1.32s/batch, loss=0.771, precision=0.292, recall=0.246]\n"
     ]
    },
    {
     "name": "stdout",
     "output_type": "stream",
     "text": [
      "train Loss: 0.8043065706686098\n",
      "train Precision: 0.36381087497789033\n",
      "train Recall: 0.38635080011219397\n"
     ]
    },
    {
     "name": "stderr",
     "output_type": "stream",
     "text": [
      "Epoch: 93: 100%|██████████| 2/2 [00:14<00:00,  7.41s/batch, loss=1.06, precision=0.335, recall=0.321]\n"
     ]
    },
    {
     "name": "stdout",
     "output_type": "stream",
     "text": [
      "val Loss: 1.1641493439674377\n",
      "val Precision: 0.32914549112319946\n",
      "val Recall: 0.3340217173099518\n",
      "Weight saved for epoch 93.\n"
     ]
    },
    {
     "name": "stderr",
     "output_type": "stream",
     "text": [
      "Epoch: 94: 100%|██████████| 196/196 [04:17<00:00,  1.32s/batch, loss=0.912, precision=0.278, recall=0.25] \n"
     ]
    },
    {
     "name": "stdout",
     "output_type": "stream",
     "text": [
      "train Loss: 0.8031262995637193\n",
      "train Precision: 0.3639574651511348\n",
      "train Recall: 0.3860072408403669\n"
     ]
    },
    {
     "name": "stderr",
     "output_type": "stream",
     "text": [
      "Epoch: 94: 100%|██████████| 2/2 [00:16<00:00,  8.36s/batch, loss=0.822, precision=0.362, recall=0.4] \n"
     ]
    },
    {
     "name": "stdout",
     "output_type": "stream",
     "text": [
      "val Loss: 0.9274038970470428\n",
      "val Precision: 0.3468543738126755\n",
      "val Recall: 0.383068785071373\n",
      "Weight saved for epoch 94.\n"
     ]
    },
    {
     "name": "stderr",
     "output_type": "stream",
     "text": [
      "Epoch: 95: 100%|██████████| 196/196 [04:16<00:00,  1.31s/batch, loss=0.894, precision=0.35, recall=0.282] \n"
     ]
    },
    {
     "name": "stdout",
     "output_type": "stream",
     "text": [
      "train Loss: 0.7980612805303262\n",
      "train Precision: 0.36563923042647695\n",
      "train Recall: 0.3872608209446985\n"
     ]
    },
    {
     "name": "stderr",
     "output_type": "stream",
     "text": [
      "Epoch: 95: 100%|██████████| 2/2 [00:16<00:00,  8.16s/batch, loss=0.776, precision=0.369, recall=0.406]\n"
     ]
    },
    {
     "name": "stdout",
     "output_type": "stream",
     "text": [
      "val Loss: 0.895015150308609\n",
      "val Precision: 0.35182538628578186\n",
      "val Recall: 0.4120146334171295\n",
      "Weight saved for epoch 95.\n"
     ]
    },
    {
     "name": "stderr",
     "output_type": "stream",
     "text": [
      "Epoch: 96: 100%|██████████| 196/196 [04:16<00:00,  1.31s/batch, loss=0.76, precision=0.377, recall=0.344] \n"
     ]
    },
    {
     "name": "stdout",
     "output_type": "stream",
     "text": [
      "train Loss: 0.7893719293025075\n",
      "train Precision: 0.3668314493736442\n",
      "train Recall: 0.38717545568943024\n"
     ]
    },
    {
     "name": "stderr",
     "output_type": "stream",
     "text": [
      "Epoch: 96: 100%|██████████| 2/2 [00:18<00:00,  9.32s/batch, loss=0.78, precision=0.395, recall=0.403]\n"
     ]
    },
    {
     "name": "stdout",
     "output_type": "stream",
     "text": [
      "val Loss: 0.917984813451767\n",
      "val Precision: 0.36635635793209076\n",
      "val Recall: 0.3939421474933624\n",
      "Weight saved for epoch 96.\n"
     ]
    },
    {
     "name": "stderr",
     "output_type": "stream",
     "text": [
      "Epoch: 97: 100%|██████████| 196/196 [04:15<00:00,  1.31s/batch, loss=1.08, precision=0.262, recall=0.25]  \n"
     ]
    },
    {
     "name": "stdout",
     "output_type": "stream",
     "text": [
      "train Loss: 0.7833063562913817\n",
      "train Precision: 0.37030756047793795\n",
      "train Recall: 0.39456774020681573\n"
     ]
    },
    {
     "name": "stderr",
     "output_type": "stream",
     "text": [
      "Epoch: 97: 100%|██████████| 2/2 [00:16<00:00,  8.45s/batch, loss=0.882, precision=0.322, recall=0.346]\n"
     ]
    },
    {
     "name": "stdout",
     "output_type": "stream",
     "text": [
      "val Loss: 0.9924716055393219\n",
      "val Precision: 0.3227768987417221\n",
      "val Recall: 0.34818850457668304\n",
      "Weight saved for epoch 97.\n"
     ]
    },
    {
     "name": "stderr",
     "output_type": "stream",
     "text": [
      "Epoch: 98: 100%|██████████| 196/196 [04:16<00:00,  1.31s/batch, loss=0.776, precision=0.408, recall=0.409]\n"
     ]
    },
    {
     "name": "stdout",
     "output_type": "stream",
     "text": [
      "train Loss: 0.780620814282067\n",
      "train Precision: 0.36987423349399956\n",
      "train Recall: 0.392579153332175\n"
     ]
    },
    {
     "name": "stderr",
     "output_type": "stream",
     "text": [
      "Epoch: 98: 100%|██████████| 2/2 [00:15<00:00,  7.90s/batch, loss=0.947, precision=0.341, recall=0.327]\n"
     ]
    },
    {
     "name": "stdout",
     "output_type": "stream",
     "text": [
      "val Loss: 1.0865984559059143\n",
      "val Precision: 0.3329966962337494\n",
      "val Recall: 0.32180723547935486\n",
      "Weight saved for epoch 98.\n"
     ]
    },
    {
     "name": "stderr",
     "output_type": "stream",
     "text": [
      "Epoch: 99: 100%|██████████| 196/196 [04:17<00:00,  1.31s/batch, loss=0.694, precision=0.367, recall=0.397]\n"
     ]
    },
    {
     "name": "stdout",
     "output_type": "stream",
     "text": [
      "train Loss: 0.7753230445847219\n",
      "train Precision: 0.3730360287792829\n",
      "train Recall: 0.3940034571046732\n"
     ]
    },
    {
     "name": "stderr",
     "output_type": "stream",
     "text": [
      "Epoch: 99: 100%|██████████| 2/2 [00:18<00:00,  9.01s/batch, loss=0.855, precision=0.357, recall=0.383]\n"
     ]
    },
    {
     "name": "stdout",
     "output_type": "stream",
     "text": [
      "val Loss: 0.9521596729755402\n",
      "val Precision: 0.33542677760124207\n",
      "val Recall: 0.3617430180311203\n",
      "Weight saved for epoch 99.\n"
     ]
    },
    {
     "name": "stderr",
     "output_type": "stream",
     "text": [
      "Epoch: 100: 100%|██████████| 196/196 [04:14<00:00,  1.30s/batch, loss=0.878, precision=0.387, recall=0.391]\n"
     ]
    },
    {
     "name": "stdout",
     "output_type": "stream",
     "text": [
      "train Loss: 0.7688598091505012\n",
      "train Precision: 0.37573603996816946\n",
      "train Recall: 0.3965875086735706\n"
     ]
    },
    {
     "name": "stderr",
     "output_type": "stream",
     "text": [
      "Epoch: 100: 100%|██████████| 2/2 [00:17<00:00,  8.54s/batch, loss=0.797, precision=0.371, recall=0.389]\n"
     ]
    },
    {
     "name": "stdout",
     "output_type": "stream",
     "text": [
      "val Loss: 0.916189432144165\n",
      "val Precision: 0.3593164533376694\n",
      "val Recall: 0.3987077921628952\n",
      "Weight saved for epoch 100.\n"
     ]
    },
    {
     "name": "stderr",
     "output_type": "stream",
     "text": [
      "Epoch: 101: 100%|██████████| 196/196 [04:14<00:00,  1.30s/batch, loss=1.02, precision=0.303, recall=0.302] \n"
     ]
    },
    {
     "name": "stdout",
     "output_type": "stream",
     "text": [
      "train Loss: 0.7646767299394218\n",
      "train Precision: 0.37592344594245053\n",
      "train Recall: 0.3962099068627066\n"
     ]
    },
    {
     "name": "stderr",
     "output_type": "stream",
     "text": [
      "Epoch: 101: 100%|██████████| 2/2 [00:16<00:00,  8.41s/batch, loss=0.782, precision=0.377, recall=0.435]\n"
     ]
    },
    {
     "name": "stdout",
     "output_type": "stream",
     "text": [
      "val Loss: 0.9071457386016846\n",
      "val Precision: 0.3526405543088913\n",
      "val Recall: 0.40200217068195343\n",
      "Weight saved for epoch 101.\n"
     ]
    },
    {
     "name": "stderr",
     "output_type": "stream",
     "text": [
      "Epoch: 102: 100%|██████████| 196/196 [04:18<00:00,  1.32s/batch, loss=0.918, precision=0.348, recall=0.324]\n"
     ]
    },
    {
     "name": "stdout",
     "output_type": "stream",
     "text": [
      "train Loss: 0.7588301489547807\n",
      "train Precision: 0.37877232383708564\n",
      "train Recall: 0.4038579387932408\n"
     ]
    },
    {
     "name": "stderr",
     "output_type": "stream",
     "text": [
      "Epoch: 102: 100%|██████████| 2/2 [00:17<00:00,  8.67s/batch, loss=0.734, precision=0.363, recall=0.395]\n"
     ]
    },
    {
     "name": "stdout",
     "output_type": "stream",
     "text": [
      "val Loss: 0.8408186435699463\n",
      "val Precision: 0.36045004427433014\n",
      "val Recall: 0.41326238214969635\n",
      "Weight saved for epoch 102.\n"
     ]
    },
    {
     "name": "stderr",
     "output_type": "stream",
     "text": [
      "Epoch: 103: 100%|██████████| 196/196 [04:18<00:00,  1.32s/batch, loss=0.896, precision=0.364, recall=0.368]\n"
     ]
    },
    {
     "name": "stdout",
     "output_type": "stream",
     "text": [
      "train Loss: 0.7543185331991741\n",
      "train Precision: 0.37936550439620503\n",
      "train Recall: 0.4034638450461991\n"
     ]
    },
    {
     "name": "stderr",
     "output_type": "stream",
     "text": [
      "Epoch: 103: 100%|██████████| 2/2 [00:16<00:00,  8.41s/batch, loss=1.23, precision=0.289, recall=0.296]\n"
     ]
    },
    {
     "name": "stdout",
     "output_type": "stream",
     "text": [
      "val Loss: 1.3410508632659912\n",
      "val Precision: 0.28339357674121857\n",
      "val Recall: 0.2885249853134155\n",
      "Weight saved for epoch 103.\n"
     ]
    },
    {
     "name": "stderr",
     "output_type": "stream",
     "text": [
      "Epoch: 104: 100%|██████████| 196/196 [04:16<00:00,  1.31s/batch, loss=0.745, precision=0.359, recall=0.324]\n"
     ]
    },
    {
     "name": "stdout",
     "output_type": "stream",
     "text": [
      "train Loss: 0.7496129630171523\n",
      "train Precision: 0.38338042643605447\n",
      "train Recall: 0.4084451440341619\n"
     ]
    },
    {
     "name": "stderr",
     "output_type": "stream",
     "text": [
      "Epoch: 104: 100%|██████████| 2/2 [00:16<00:00,  8.39s/batch, loss=0.807, precision=0.38, recall=0.403]\n"
     ]
    },
    {
     "name": "stdout",
     "output_type": "stream",
     "text": [
      "val Loss: 0.9117417633533478\n",
      "val Precision: 0.35475219786167145\n",
      "val Recall: 0.4004674404859543\n",
      "Weight saved for epoch 104.\n"
     ]
    },
    {
     "name": "stderr",
     "output_type": "stream",
     "text": [
      "Epoch: 105: 100%|██████████| 196/196 [04:18<00:00,  1.32s/batch, loss=0.68, precision=0.319, recall=0.29]  \n"
     ]
    },
    {
     "name": "stdout",
     "output_type": "stream",
     "text": [
      "train Loss: 0.7423613232617475\n",
      "train Precision: 0.384335244340556\n",
      "train Recall: 0.40536661674173513\n"
     ]
    },
    {
     "name": "stderr",
     "output_type": "stream",
     "text": [
      "Epoch: 105: 100%|██████████| 2/2 [00:17<00:00,  8.72s/batch, loss=0.799, precision=0.395, recall=0.371]\n"
     ]
    },
    {
     "name": "stdout",
     "output_type": "stream",
     "text": [
      "val Loss: 0.9360305666923523\n",
      "val Precision: 0.384875163435936\n",
      "val Recall: 0.3829311430454254\n",
      "Weight saved for epoch 105.\n"
     ]
    },
    {
     "name": "stderr",
     "output_type": "stream",
     "text": [
      "Epoch: 106: 100%|██████████| 196/196 [04:16<00:00,  1.31s/batch, loss=0.707, precision=0.396, recall=0.404]\n"
     ]
    },
    {
     "name": "stdout",
     "output_type": "stream",
     "text": [
      "train Loss: 0.7363187509531878\n",
      "train Precision: 0.3892864206311654\n",
      "train Recall: 0.4115366213479821\n"
     ]
    },
    {
     "name": "stderr",
     "output_type": "stream",
     "text": [
      "Epoch: 106: 100%|██████████| 2/2 [00:16<00:00,  8.43s/batch, loss=0.836, precision=0.38, recall=0.387]\n"
     ]
    },
    {
     "name": "stdout",
     "output_type": "stream",
     "text": [
      "val Loss: 0.926081657409668\n",
      "val Precision: 0.36029428243637085\n",
      "val Recall: 0.3945840150117874\n",
      "Weight saved for epoch 106.\n"
     ]
    },
    {
     "name": "stderr",
     "output_type": "stream",
     "text": [
      "Epoch: 107: 100%|██████████| 196/196 [04:16<00:00,  1.31s/batch, loss=0.793, precision=0.359, recall=0.352]\n"
     ]
    },
    {
     "name": "stdout",
     "output_type": "stream",
     "text": [
      "train Loss: 0.7347170792672099\n",
      "train Precision: 0.38471788107132426\n",
      "train Recall: 0.40758550015031075\n"
     ]
    },
    {
     "name": "stderr",
     "output_type": "stream",
     "text": [
      "Epoch: 107: 100%|██████████| 2/2 [00:17<00:00,  8.80s/batch, loss=0.772, precision=0.404, recall=0.42]\n"
     ]
    },
    {
     "name": "stdout",
     "output_type": "stream",
     "text": [
      "val Loss: 0.8863722383975983\n",
      "val Precision: 0.3870553821325302\n",
      "val Recall: 0.41198869049549103\n",
      "Weight saved for epoch 107.\n"
     ]
    },
    {
     "name": "stderr",
     "output_type": "stream",
     "text": [
      "Epoch: 108: 100%|██████████| 196/196 [04:16<00:00,  1.31s/batch, loss=0.964, precision=0.338, recall=0.345]\n"
     ]
    },
    {
     "name": "stdout",
     "output_type": "stream",
     "text": [
      "train Loss: 0.7294802084869269\n",
      "train Precision: 0.3893782897871368\n",
      "train Recall: 0.4120531209877559\n"
     ]
    },
    {
     "name": "stderr",
     "output_type": "stream",
     "text": [
      "Epoch: 108: 100%|██████████| 2/2 [00:17<00:00,  8.71s/batch, loss=0.998, precision=0.328, recall=0.348]\n"
     ]
    },
    {
     "name": "stdout",
     "output_type": "stream",
     "text": [
      "val Loss: 1.0881281197071075\n",
      "val Precision: 0.32943612337112427\n",
      "val Recall: 0.3625554293394089\n",
      "Weight saved for epoch 108.\n"
     ]
    },
    {
     "name": "stderr",
     "output_type": "stream",
     "text": [
      "Epoch: 109: 100%|██████████| 196/196 [04:17<00:00,  1.32s/batch, loss=0.771, precision=0.364, recall=0.349]\n"
     ]
    },
    {
     "name": "stdout",
     "output_type": "stream",
     "text": [
      "train Loss: 0.7253143902944059\n",
      "train Precision: 0.3899822671498571\n",
      "train Recall: 0.41351515875787154\n"
     ]
    },
    {
     "name": "stderr",
     "output_type": "stream",
     "text": [
      "Epoch: 109: 100%|██████████| 2/2 [00:17<00:00,  8.61s/batch, loss=0.768, precision=0.386, recall=0.417]\n"
     ]
    },
    {
     "name": "stdout",
     "output_type": "stream",
     "text": [
      "val Loss: 0.9187624454498291\n",
      "val Precision: 0.36975324153900146\n",
      "val Recall: 0.37775786221027374\n",
      "Weight saved for epoch 109.\n"
     ]
    },
    {
     "name": "stderr",
     "output_type": "stream",
     "text": [
      "Epoch: 110: 100%|██████████| 196/196 [04:16<00:00,  1.31s/batch, loss=0.99, precision=0.264, recall=0.273] \n"
     ]
    },
    {
     "name": "stdout",
     "output_type": "stream",
     "text": [
      "train Loss: 0.717300529686772\n",
      "train Precision: 0.39391411080652355\n",
      "train Recall: 0.4113030129549455\n"
     ]
    },
    {
     "name": "stderr",
     "output_type": "stream",
     "text": [
      "Epoch: 110: 100%|██████████| 2/2 [00:17<00:00,  8.52s/batch, loss=1.08, precision=0.337, recall=0.393]\n"
     ]
    },
    {
     "name": "stdout",
     "output_type": "stream",
     "text": [
      "val Loss: 1.2624658346176147\n",
      "val Precision: 0.3254661113023758\n",
      "val Recall: 0.38298046588897705\n",
      "Weight saved for epoch 110.\n"
     ]
    },
    {
     "name": "stderr",
     "output_type": "stream",
     "text": [
      "Epoch: 111: 100%|██████████| 196/196 [04:18<00:00,  1.32s/batch, loss=0.672, precision=0.377, recall=0.399]\n"
     ]
    },
    {
     "name": "stdout",
     "output_type": "stream",
     "text": [
      "train Loss: 0.7181469302396385\n",
      "train Precision: 0.3935350456408092\n",
      "train Recall: 0.4150050250547273\n"
     ]
    },
    {
     "name": "stderr",
     "output_type": "stream",
     "text": [
      "Epoch: 111: 100%|██████████| 2/2 [00:15<00:00,  7.52s/batch, loss=0.765, precision=0.396, recall=0.423]\n"
     ]
    },
    {
     "name": "stdout",
     "output_type": "stream",
     "text": [
      "val Loss: 0.875453382730484\n",
      "val Precision: 0.3751576393842697\n",
      "val Recall: 0.40464091300964355\n",
      "Weight saved for epoch 111.\n"
     ]
    },
    {
     "name": "stderr",
     "output_type": "stream",
     "text": [
      "Epoch: 112: 100%|██████████| 196/196 [04:15<00:00,  1.31s/batch, loss=0.623, precision=0.403, recall=0.385]\n"
     ]
    },
    {
     "name": "stdout",
     "output_type": "stream",
     "text": [
      "train Loss: 0.7121649770712366\n",
      "train Precision: 0.39760553517511915\n",
      "train Recall: 0.418118167440502\n"
     ]
    },
    {
     "name": "stderr",
     "output_type": "stream",
     "text": [
      "Epoch: 112: 100%|██████████| 2/2 [00:15<00:00,  7.81s/batch, loss=0.785, precision=0.397, recall=0.435]\n"
     ]
    },
    {
     "name": "stdout",
     "output_type": "stream",
     "text": [
      "val Loss: 0.9013025164604187\n",
      "val Precision: 0.3926318436861038\n",
      "val Recall: 0.44111329317092896\n",
      "Weight saved for epoch 112.\n"
     ]
    },
    {
     "name": "stderr",
     "output_type": "stream",
     "text": [
      "Epoch: 113: 100%|██████████| 196/196 [04:16<00:00,  1.31s/batch, loss=0.845, precision=0.387, recall=0.42] \n"
     ]
    },
    {
     "name": "stdout",
     "output_type": "stream",
     "text": [
      "train Loss: 0.7030910852612281\n",
      "train Precision: 0.3945997550475354\n",
      "train Recall: 0.4173302864845918\n"
     ]
    },
    {
     "name": "stderr",
     "output_type": "stream",
     "text": [
      "Epoch: 113: 100%|██████████| 2/2 [00:17<00:00,  8.81s/batch, loss=0.765, precision=0.393, recall=0.408]\n"
     ]
    },
    {
     "name": "stdout",
     "output_type": "stream",
     "text": [
      "val Loss: 0.8721582293510437\n",
      "val Precision: 0.3865971714258194\n",
      "val Recall: 0.41887161135673523\n",
      "Weight saved for epoch 113.\n"
     ]
    },
    {
     "name": "stderr",
     "output_type": "stream",
     "text": [
      "Epoch: 114: 100%|██████████| 196/196 [04:16<00:00,  1.31s/batch, loss=0.758, precision=0.325, recall=0.328]\n"
     ]
    },
    {
     "name": "stdout",
     "output_type": "stream",
     "text": [
      "train Loss: 0.7022207017455783\n",
      "train Precision: 0.400287034560223\n",
      "train Recall: 0.42282855100169475\n"
     ]
    },
    {
     "name": "stderr",
     "output_type": "stream",
     "text": [
      "Epoch: 114: 100%|██████████| 2/2 [00:17<00:00,  8.55s/batch, loss=0.828, precision=0.346, recall=0.4] \n"
     ]
    },
    {
     "name": "stdout",
     "output_type": "stream",
     "text": [
      "val Loss: 0.9343250691890717\n",
      "val Precision: 0.34757500886917114\n",
      "val Recall: 0.40053434669971466\n",
      "Weight saved for epoch 114.\n"
     ]
    },
    {
     "name": "stderr",
     "output_type": "stream",
     "text": [
      "Epoch: 115: 100%|██████████| 196/196 [04:18<00:00,  1.32s/batch, loss=0.761, precision=0.351, recall=0.33] \n"
     ]
    },
    {
     "name": "stdout",
     "output_type": "stream",
     "text": [
      "train Loss: 0.6967547146641478\n",
      "train Precision: 0.40248585370730383\n",
      "train Recall: 0.4268872254357046\n"
     ]
    },
    {
     "name": "stderr",
     "output_type": "stream",
     "text": [
      "Epoch: 115: 100%|██████████| 2/2 [00:16<00:00,  8.47s/batch, loss=0.711, precision=0.394, recall=0.439]\n"
     ]
    },
    {
     "name": "stdout",
     "output_type": "stream",
     "text": [
      "val Loss: 0.8265789449214935\n",
      "val Precision: 0.39852292835712433\n",
      "val Recall: 0.44861292839050293\n",
      "Weight saved for epoch 115.\n"
     ]
    },
    {
     "name": "stderr",
     "output_type": "stream",
     "text": [
      "Epoch: 116: 100%|██████████| 196/196 [04:18<00:00,  1.32s/batch, loss=0.612, precision=0.384, recall=0.352]\n"
     ]
    },
    {
     "name": "stdout",
     "output_type": "stream",
     "text": [
      "train Loss: 0.6875884764048518\n",
      "train Precision: 0.4022289712210091\n",
      "train Recall: 0.42245266966673795\n"
     ]
    },
    {
     "name": "stderr",
     "output_type": "stream",
     "text": [
      "Epoch: 116: 100%|██████████| 2/2 [00:17<00:00,  8.65s/batch, loss=0.682, precision=0.418, recall=0.456]\n"
     ]
    },
    {
     "name": "stdout",
     "output_type": "stream",
     "text": [
      "val Loss: 0.7962057292461395\n",
      "val Precision: 0.3968556672334671\n",
      "val Recall: 0.4517224133014679\n",
      "Weight saved for epoch 116.\n"
     ]
    },
    {
     "name": "stderr",
     "output_type": "stream",
     "text": [
      "Epoch: 117: 100%|██████████| 196/196 [04:18<00:00,  1.32s/batch, loss=0.615, precision=0.447, recall=0.391]\n"
     ]
    },
    {
     "name": "stdout",
     "output_type": "stream",
     "text": [
      "train Loss: 0.687724802262929\n",
      "train Precision: 0.4045179033157777\n",
      "train Recall: 0.4202987249104344\n"
     ]
    },
    {
     "name": "stderr",
     "output_type": "stream",
     "text": [
      "Epoch: 117: 100%|██████████| 2/2 [00:17<00:00,  8.74s/batch, loss=0.721, precision=0.402, recall=0.426]\n"
     ]
    },
    {
     "name": "stdout",
     "output_type": "stream",
     "text": [
      "val Loss: 0.8085059225559235\n",
      "val Precision: 0.3911939859390259\n",
      "val Recall: 0.40315501391887665\n",
      "Weight saved for epoch 117.\n"
     ]
    },
    {
     "name": "stderr",
     "output_type": "stream",
     "text": [
      "Epoch: 118: 100%|██████████| 196/196 [04:18<00:00,  1.32s/batch, loss=0.769, precision=0.368, recall=0.346]\n"
     ]
    },
    {
     "name": "stdout",
     "output_type": "stream",
     "text": [
      "train Loss: 0.68390020940985\n",
      "train Precision: 0.4055385214029526\n",
      "train Recall: 0.4271771083680951\n"
     ]
    },
    {
     "name": "stderr",
     "output_type": "stream",
     "text": [
      "Epoch: 118: 100%|██████████| 2/2 [00:17<00:00,  8.66s/batch, loss=0.64, precision=0.432, recall=0.425] \n"
     ]
    },
    {
     "name": "stdout",
     "output_type": "stream",
     "text": [
      "val Loss: 0.7701650857925415\n",
      "val Precision: 0.4076293110847473\n",
      "val Recall: 0.4260212481021881\n",
      "Weight saved for epoch 118.\n"
     ]
    },
    {
     "name": "stderr",
     "output_type": "stream",
     "text": [
      "Epoch: 119: 100%|██████████| 196/196 [04:19<00:00,  1.32s/batch, loss=0.925, precision=0.385, recall=0.356]\n"
     ]
    },
    {
     "name": "stdout",
     "output_type": "stream",
     "text": [
      "train Loss: 0.6781213566356775\n",
      "train Precision: 0.4062155783176422\n",
      "train Recall: 0.42918040603399277\n"
     ]
    },
    {
     "name": "stderr",
     "output_type": "stream",
     "text": [
      "Epoch: 119: 100%|██████████| 2/2 [00:17<00:00,  8.97s/batch, loss=0.901, precision=0.387, recall=0.393]\n"
     ]
    },
    {
     "name": "stdout",
     "output_type": "stream",
     "text": [
      "val Loss: 0.9966419041156769\n",
      "val Precision: 0.3724856823682785\n",
      "val Recall: 0.3895600140094757\n",
      "Weight saved for epoch 119.\n"
     ]
    },
    {
     "name": "stderr",
     "output_type": "stream",
     "text": [
      "Epoch: 120: 100%|██████████| 196/196 [04:18<00:00,  1.32s/batch, loss=0.752, precision=0.372, recall=0.382]\n"
     ]
    },
    {
     "name": "stdout",
     "output_type": "stream",
     "text": [
      "train Loss: 0.6747579504640735\n",
      "train Precision: 0.40649583616427015\n",
      "train Recall: 0.4268004882092379\n"
     ]
    },
    {
     "name": "stderr",
     "output_type": "stream",
     "text": [
      "Epoch: 120: 100%|██████████| 2/2 [00:18<00:00,  9.07s/batch, loss=0.809, precision=0.401, recall=0.405]\n"
     ]
    },
    {
     "name": "stdout",
     "output_type": "stream",
     "text": [
      "val Loss: 0.9179394245147705\n",
      "val Precision: 0.3941234052181244\n",
      "val Recall: 0.40885984897613525\n",
      "Weight saved for epoch 120.\n"
     ]
    },
    {
     "name": "stderr",
     "output_type": "stream",
     "text": [
      "Epoch: 121: 100%|██████████| 196/196 [04:18<00:00,  1.32s/batch, loss=0.876, precision=0.328, recall=0.305]\n"
     ]
    },
    {
     "name": "stdout",
     "output_type": "stream",
     "text": [
      "train Loss: 0.6701533853703615\n",
      "train Precision: 0.40964579582214355\n",
      "train Recall: 0.42852163056329806\n"
     ]
    },
    {
     "name": "stderr",
     "output_type": "stream",
     "text": [
      "Epoch: 121: 100%|██████████| 2/2 [00:17<00:00,  8.54s/batch, loss=0.682, precision=0.42, recall=0.434] \n"
     ]
    },
    {
     "name": "stdout",
     "output_type": "stream",
     "text": [
      "val Loss: 0.8154155313968658\n",
      "val Precision: 0.40024130046367645\n",
      "val Recall: 0.42311033606529236\n",
      "Weight saved for epoch 121.\n"
     ]
    },
    {
     "name": "stderr",
     "output_type": "stream",
     "text": [
      "Epoch: 122: 100%|██████████| 196/196 [04:14<00:00,  1.30s/batch, loss=0.692, precision=0.491, recall=0.435]\n"
     ]
    },
    {
     "name": "stdout",
     "output_type": "stream",
     "text": [
      "train Loss: 0.6633166156861247\n",
      "train Precision: 0.415316325213228\n",
      "train Recall: 0.4348408820069566\n"
     ]
    },
    {
     "name": "stderr",
     "output_type": "stream",
     "text": [
      "Epoch: 122: 100%|██████████| 2/2 [00:18<00:00,  9.07s/batch, loss=0.663, precision=0.428, recall=0.436]\n"
     ]
    },
    {
     "name": "stdout",
     "output_type": "stream",
     "text": [
      "val Loss: 0.7902438938617706\n",
      "val Precision: 0.40305961668491364\n",
      "val Recall: 0.423528715968132\n",
      "Weight saved for epoch 122.\n"
     ]
    },
    {
     "name": "stderr",
     "output_type": "stream",
     "text": [
      "Epoch: 123: 100%|██████████| 196/196 [04:17<00:00,  1.31s/batch, loss=0.597, precision=0.394, recall=0.389]\n"
     ]
    },
    {
     "name": "stdout",
     "output_type": "stream",
     "text": [
      "train Loss: 0.6582115566243931\n",
      "train Precision: 0.4154192907165508\n",
      "train Recall: 0.43517302554480886\n"
     ]
    },
    {
     "name": "stderr",
     "output_type": "stream",
     "text": [
      "Epoch: 123: 100%|██████████| 2/2 [00:17<00:00,  8.60s/batch, loss=0.725, precision=0.419, recall=0.447]\n"
     ]
    },
    {
     "name": "stdout",
     "output_type": "stream",
     "text": [
      "val Loss: 0.8338859379291534\n",
      "val Precision: 0.40875306725502014\n",
      "val Recall: 0.450207382440567\n",
      "Weight saved for epoch 123.\n"
     ]
    },
    {
     "name": "stderr",
     "output_type": "stream",
     "text": [
      "Epoch: 124: 100%|██████████| 196/196 [04:16<00:00,  1.31s/batch, loss=0.828, precision=0.388, recall=0.387]\n"
     ]
    },
    {
     "name": "stdout",
     "output_type": "stream",
     "text": [
      "train Loss: 0.6565693343172267\n",
      "train Precision: 0.41797341573603297\n",
      "train Recall: 0.4350668699765692\n"
     ]
    },
    {
     "name": "stderr",
     "output_type": "stream",
     "text": [
      "Epoch: 124: 100%|██████████| 2/2 [00:17<00:00,  8.63s/batch, loss=0.702, precision=0.36, recall=0.377]\n"
     ]
    },
    {
     "name": "stdout",
     "output_type": "stream",
     "text": [
      "val Loss: 0.8439213633537292\n",
      "val Precision: 0.36998122930526733\n",
      "val Recall: 0.43128322064876556\n",
      "Weight saved for epoch 124.\n"
     ]
    },
    {
     "name": "stderr",
     "output_type": "stream",
     "text": [
      "Epoch: 125: 100%|██████████| 196/196 [04:15<00:00,  1.30s/batch, loss=0.739, precision=0.402, recall=0.437]\n"
     ]
    },
    {
     "name": "stdout",
     "output_type": "stream",
     "text": [
      "train Loss: 0.6550983658858708\n",
      "train Precision: 0.41745869876170644\n",
      "train Recall: 0.4381837598523315\n"
     ]
    },
    {
     "name": "stderr",
     "output_type": "stream",
     "text": [
      "Epoch: 125: 100%|██████████| 2/2 [00:16<00:00,  8.28s/batch, loss=0.772, precision=0.415, recall=0.456]\n"
     ]
    },
    {
     "name": "stdout",
     "output_type": "stream",
     "text": [
      "val Loss: 0.8782325088977814\n",
      "val Precision: 0.3966102600097656\n",
      "val Recall: 0.4543243497610092\n",
      "Weight saved for epoch 125.\n"
     ]
    },
    {
     "name": "stderr",
     "output_type": "stream",
     "text": [
      "Epoch: 126: 100%|██████████| 196/196 [04:19<00:00,  1.32s/batch, loss=0.612, precision=0.393, recall=0.366]\n"
     ]
    },
    {
     "name": "stdout",
     "output_type": "stream",
     "text": [
      "train Loss: 0.6485100517771683\n",
      "train Precision: 0.4197348061264778\n",
      "train Recall: 0.44014245378119604\n"
     ]
    },
    {
     "name": "stderr",
     "output_type": "stream",
     "text": [
      "Epoch: 126: 100%|██████████| 2/2 [00:16<00:00,  8.43s/batch, loss=0.717, precision=0.407, recall=0.427]\n"
     ]
    },
    {
     "name": "stdout",
     "output_type": "stream",
     "text": [
      "val Loss: 0.825737327337265\n",
      "val Precision: 0.4033324867486954\n",
      "val Recall: 0.43298764526844025\n",
      "Weight saved for epoch 126.\n"
     ]
    },
    {
     "name": "stderr",
     "output_type": "stream",
     "text": [
      "Epoch: 127: 100%|██████████| 196/196 [04:17<00:00,  1.31s/batch, loss=0.792, precision=0.365, recall=0.343]\n"
     ]
    },
    {
     "name": "stdout",
     "output_type": "stream",
     "text": [
      "train Loss: 0.645679774180967\n",
      "train Precision: 0.4242068285844764\n",
      "train Recall: 0.44559820437309694\n"
     ]
    },
    {
     "name": "stderr",
     "output_type": "stream",
     "text": [
      "Epoch: 127: 100%|██████████| 2/2 [00:16<00:00,  8.34s/batch, loss=0.711, precision=0.42, recall=0.445]\n"
     ]
    },
    {
     "name": "stdout",
     "output_type": "stream",
     "text": [
      "val Loss: 0.8735811710357666\n",
      "val Precision: 0.40371496975421906\n",
      "val Recall: 0.41486406326293945\n",
      "Weight saved for epoch 127.\n"
     ]
    },
    {
     "name": "stderr",
     "output_type": "stream",
     "text": [
      "Epoch: 128: 100%|██████████| 196/196 [04:19<00:00,  1.32s/batch, loss=0.913, precision=0.421, recall=0.418]\n"
     ]
    },
    {
     "name": "stdout",
     "output_type": "stream",
     "text": [
      "train Loss: 0.6404266282916069\n",
      "train Precision: 0.42491023166447267\n",
      "train Recall: 0.4412415675362762\n"
     ]
    },
    {
     "name": "stderr",
     "output_type": "stream",
     "text": [
      "Epoch: 128: 100%|██████████| 2/2 [00:16<00:00,  8.39s/batch, loss=0.77, precision=0.394, recall=0.441] \n"
     ]
    },
    {
     "name": "stdout",
     "output_type": "stream",
     "text": [
      "val Loss: 0.853684663772583\n",
      "val Precision: 0.38785915076732635\n",
      "val Recall: 0.4146248400211334\n",
      "Weight saved for epoch 128.\n"
     ]
    },
    {
     "name": "stderr",
     "output_type": "stream",
     "text": [
      "Epoch: 129: 100%|██████████| 196/196 [04:17<00:00,  1.31s/batch, loss=0.686, precision=0.44, recall=0.423] \n"
     ]
    },
    {
     "name": "stdout",
     "output_type": "stream",
     "text": [
      "train Loss: 0.634616243900085\n",
      "train Precision: 0.42227730307043815\n",
      "train Recall: 0.4408194634075068\n"
     ]
    },
    {
     "name": "stderr",
     "output_type": "stream",
     "text": [
      "Epoch: 129: 100%|██████████| 2/2 [00:17<00:00,  8.52s/batch, loss=0.628, precision=0.402, recall=0.426]\n"
     ]
    },
    {
     "name": "stdout",
     "output_type": "stream",
     "text": [
      "val Loss: 0.7760541439056396\n",
      "val Precision: 0.40547220408916473\n",
      "val Recall: 0.44949083030223846\n",
      "Weight saved for epoch 129.\n"
     ]
    },
    {
     "name": "stderr",
     "output_type": "stream",
     "text": [
      "Epoch: 130: 100%|██████████| 196/196 [04:15<00:00,  1.30s/batch, loss=0.9, precision=0.31, recall=0.334]   \n"
     ]
    },
    {
     "name": "stdout",
     "output_type": "stream",
     "text": [
      "train Loss: 0.6306643872236719\n",
      "train Precision: 0.4258514949861838\n",
      "train Recall: 0.44550425787361303\n"
     ]
    },
    {
     "name": "stderr",
     "output_type": "stream",
     "text": [
      "Epoch: 130: 100%|██████████| 2/2 [00:16<00:00,  8.18s/batch, loss=0.637, precision=0.42, recall=0.453]\n"
     ]
    },
    {
     "name": "stdout",
     "output_type": "stream",
     "text": [
      "val Loss: 0.7550868988037109\n",
      "val Precision: 0.4008614718914032\n",
      "val Recall: 0.4515940696001053\n",
      "Weight saved for epoch 130.\n"
     ]
    },
    {
     "name": "stderr",
     "output_type": "stream",
     "text": [
      "Epoch: 131: 100%|██████████| 196/196 [04:16<00:00,  1.31s/batch, loss=0.573, precision=0.36, recall=0.345] \n"
     ]
    },
    {
     "name": "stdout",
     "output_type": "stream",
     "text": [
      "train Loss: 0.6263384799263916\n",
      "train Precision: 0.4258569673616059\n",
      "train Recall: 0.4465070397269969\n"
     ]
    },
    {
     "name": "stderr",
     "output_type": "stream",
     "text": [
      "Epoch: 131: 100%|██████████| 2/2 [00:17<00:00,  8.64s/batch, loss=0.65, precision=0.459, recall=0.493] \n"
     ]
    },
    {
     "name": "stdout",
     "output_type": "stream",
     "text": [
      "val Loss: 0.7772692441940308\n",
      "val Precision: 0.43101078271865845\n",
      "val Recall: 0.4776671975851059\n",
      "Weight saved for epoch 131.\n"
     ]
    },
    {
     "name": "stderr",
     "output_type": "stream",
     "text": [
      "Epoch: 132: 100%|██████████| 196/196 [04:19<00:00,  1.32s/batch, loss=0.675, precision=0.471, recall=0.51] \n"
     ]
    },
    {
     "name": "stdout",
     "output_type": "stream",
     "text": [
      "train Loss: 0.6212919333151409\n",
      "train Precision: 0.4278991924864905\n",
      "train Recall: 0.44820392329473885\n"
     ]
    },
    {
     "name": "stderr",
     "output_type": "stream",
     "text": [
      "Epoch: 132: 100%|██████████| 2/2 [00:17<00:00,  8.82s/batch, loss=0.667, precision=0.381, recall=0.387]\n"
     ]
    },
    {
     "name": "stdout",
     "output_type": "stream",
     "text": [
      "val Loss: 0.8149350583553314\n",
      "val Precision: 0.3876989781856537\n",
      "val Recall: 0.41787315905094147\n",
      "Weight saved for epoch 132.\n"
     ]
    },
    {
     "name": "stderr",
     "output_type": "stream",
     "text": [
      "Epoch: 133: 100%|██████████| 196/196 [04:17<00:00,  1.31s/batch, loss=0.651, precision=0.45, recall=0.443] \n"
     ]
    },
    {
     "name": "stdout",
     "output_type": "stream",
     "text": [
      "train Loss: 0.6197275881256376\n",
      "train Precision: 0.43079258060576964\n",
      "train Recall: 0.44714477855940254\n"
     ]
    },
    {
     "name": "stderr",
     "output_type": "stream",
     "text": [
      "Epoch: 133: 100%|██████████| 2/2 [00:16<00:00,  8.25s/batch, loss=0.668, precision=0.412, recall=0.431]\n"
     ]
    },
    {
     "name": "stdout",
     "output_type": "stream",
     "text": [
      "val Loss: 0.7659026980400085\n",
      "val Precision: 0.4018094688653946\n",
      "val Recall: 0.45794446766376495\n",
      "Weight saved for epoch 133.\n"
     ]
    },
    {
     "name": "stderr",
     "output_type": "stream",
     "text": [
      "Epoch: 134: 100%|██████████| 196/196 [04:20<00:00,  1.33s/batch, loss=0.487, precision=0.414, recall=0.442]\n"
     ]
    },
    {
     "name": "stdout",
     "output_type": "stream",
     "text": [
      "train Loss: 0.6124333593310142\n",
      "train Precision: 0.43074715061455354\n",
      "train Recall: 0.4498806831483938\n"
     ]
    },
    {
     "name": "stderr",
     "output_type": "stream",
     "text": [
      "Epoch: 134: 100%|██████████| 2/2 [00:16<00:00,  8.35s/batch, loss=0.658, precision=0.422, recall=0.462]\n"
     ]
    },
    {
     "name": "stdout",
     "output_type": "stream",
     "text": [
      "val Loss: 0.802401602268219\n",
      "val Precision: 0.39859411120414734\n",
      "val Recall: 0.42732302844524384\n",
      "Weight saved for epoch 134.\n"
     ]
    },
    {
     "name": "stderr",
     "output_type": "stream",
     "text": [
      "Epoch: 135: 100%|██████████| 196/196 [04:16<00:00,  1.31s/batch, loss=0.637, precision=0.369, recall=0.359]\n"
     ]
    },
    {
     "name": "stdout",
     "output_type": "stream",
     "text": [
      "train Loss: 0.6114642950040954\n",
      "train Precision: 0.4319786274311494\n",
      "train Recall: 0.44981839887949887\n"
     ]
    },
    {
     "name": "stderr",
     "output_type": "stream",
     "text": [
      "Epoch: 135: 100%|██████████| 2/2 [00:16<00:00,  8.27s/batch, loss=0.568, precision=0.437, recall=0.446]\n"
     ]
    },
    {
     "name": "stdout",
     "output_type": "stream",
     "text": [
      "val Loss: 0.7189594209194183\n",
      "val Precision: 0.40477830171585083\n",
      "val Recall: 0.4164399206638336\n",
      "Weight saved for epoch 135.\n"
     ]
    },
    {
     "name": "stderr",
     "output_type": "stream",
     "text": [
      "Epoch: 136:   9%|▊         | 17/196 [00:39<03:38,  1.22s/batch, loss=0.569, precision=0.434, recall=0.446] \u001b[34m\u001b[1mwandb\u001b[0m: 429 encountered (Filestream rate limit exceeded, retrying in 2.2 seconds.), retrying request\n",
      "\u001b[34m\u001b[1mwandb\u001b[0m: 429 encountered (Filestream rate limit exceeded, retrying in 5.0 seconds.), retrying request\n",
      "\u001b[34m\u001b[1mwandb\u001b[0m: 429 encountered (Filestream rate limit exceeded, retrying in 8.0 seconds.), retrying request\n",
      "Epoch: 136:  21%|██▏       | 42/196 [01:09<03:14,  1.26s/batch, loss=0.649, precision=0.465, recall=0.507]\u001b[34m\u001b[1mwandb\u001b[0m: 429 encountered (Filestream rate limit exceeded, retrying in 2.1 seconds.), retrying request\n",
      "Epoch: 136: 100%|██████████| 196/196 [04:18<00:00,  1.32s/batch, loss=0.789, precision=0.432, recall=0.431]\n"
     ]
    },
    {
     "name": "stdout",
     "output_type": "stream",
     "text": [
      "train Loss: 0.6101433154271574\n",
      "train Precision: 0.4355472809806162\n",
      "train Recall: 0.45513877804790226\n"
     ]
    },
    {
     "name": "stderr",
     "output_type": "stream",
     "text": [
      "Epoch: 136: 100%|██████████| 2/2 [00:16<00:00,  8.48s/batch, loss=0.698, precision=0.423, recall=0.412]\n"
     ]
    },
    {
     "name": "stdout",
     "output_type": "stream",
     "text": [
      "val Loss: 0.7994215786457062\n",
      "val Precision: 0.40936093032360077\n",
      "val Recall: 0.4180912971496582\n",
      "Weight saved for epoch 136.\n"
     ]
    },
    {
     "name": "stderr",
     "output_type": "stream",
     "text": [
      "Epoch: 137: 100%|██████████| 196/196 [04:17<00:00,  1.31s/batch, loss=0.785, precision=0.334, recall=0.321]\n"
     ]
    },
    {
     "name": "stdout",
     "output_type": "stream",
     "text": [
      "train Loss: 0.6009180976115928\n",
      "train Precision: 0.43529994344832945\n",
      "train Recall: 0.452719863884303\n"
     ]
    },
    {
     "name": "stderr",
     "output_type": "stream",
     "text": [
      "Epoch: 137: 100%|██████████| 2/2 [00:16<00:00,  8.42s/batch, loss=0.679, precision=0.425, recall=0.449]\n"
     ]
    },
    {
     "name": "stdout",
     "output_type": "stream",
     "text": [
      "val Loss: 0.762268602848053\n",
      "val Precision: 0.42125463485717773\n",
      "val Recall: 0.4713287055492401\n",
      "Weight saved for epoch 137.\n"
     ]
    },
    {
     "name": "stderr",
     "output_type": "stream",
     "text": [
      "Epoch: 138: 100%|██████████| 196/196 [04:20<00:00,  1.33s/batch, loss=0.655, precision=0.49, recall=0.459] \n"
     ]
    },
    {
     "name": "stdout",
     "output_type": "stream",
     "text": [
      "train Loss: 0.5982730496598749\n",
      "train Precision: 0.44078209540065455\n",
      "train Recall: 0.45990543888539687\n"
     ]
    },
    {
     "name": "stderr",
     "output_type": "stream",
     "text": [
      "Epoch: 138: 100%|██████████| 2/2 [00:17<00:00,  8.53s/batch, loss=0.786, precision=0.432, recall=0.39]\n"
     ]
    },
    {
     "name": "stdout",
     "output_type": "stream",
     "text": [
      "val Loss: 0.9025713503360748\n",
      "val Precision: 0.4127197116613388\n",
      "val Recall: 0.39529815316200256\n",
      "Weight saved for epoch 138.\n"
     ]
    },
    {
     "name": "stderr",
     "output_type": "stream",
     "text": [
      "Epoch: 139: 100%|██████████| 196/196 [04:19<00:00,  1.32s/batch, loss=0.483, precision=0.425, recall=0.439]\n"
     ]
    },
    {
     "name": "stdout",
     "output_type": "stream",
     "text": [
      "train Loss: 0.5955383271283033\n",
      "train Precision: 0.4377931932709655\n",
      "train Recall: 0.4559991709431823\n"
     ]
    },
    {
     "name": "stderr",
     "output_type": "stream",
     "text": [
      "Epoch: 139: 100%|██████████| 2/2 [00:17<00:00,  8.54s/batch, loss=0.745, precision=0.405, recall=0.379]\n"
     ]
    },
    {
     "name": "stdout",
     "output_type": "stream",
     "text": [
      "val Loss: 0.9126090705394745\n",
      "val Precision: 0.390173077583313\n",
      "val Recall: 0.38726209104061127\n",
      "Weight saved for epoch 139.\n"
     ]
    },
    {
     "name": "stderr",
     "output_type": "stream",
     "text": [
      "Epoch: 140: 100%|██████████| 196/196 [04:16<00:00,  1.31s/batch, loss=0.713, precision=0.421, recall=0.437]\n"
     ]
    },
    {
     "name": "stdout",
     "output_type": "stream",
     "text": [
      "train Loss: 0.5910282139571346\n",
      "train Precision: 0.4428684898481077\n",
      "train Recall: 0.46155342611731315\n"
     ]
    },
    {
     "name": "stderr",
     "output_type": "stream",
     "text": [
      "Epoch: 140: 100%|██████████| 2/2 [00:17<00:00,  8.53s/batch, loss=0.895, precision=0.41, recall=0.392]\n"
     ]
    },
    {
     "name": "stdout",
     "output_type": "stream",
     "text": [
      "val Loss: 1.0320772230625153\n",
      "val Precision: 0.38215239346027374\n",
      "val Recall: 0.3790123462677002\n",
      "Weight saved for epoch 140.\n"
     ]
    },
    {
     "name": "stderr",
     "output_type": "stream",
     "text": [
      "Epoch: 141: 100%|██████████| 196/196 [04:19<00:00,  1.33s/batch, loss=0.644, precision=0.447, recall=0.453]\n"
     ]
    },
    {
     "name": "stdout",
     "output_type": "stream",
     "text": [
      "train Loss: 0.588403375021049\n",
      "train Precision: 0.44121289739803393\n",
      "train Recall: 0.45813142766757886\n"
     ]
    },
    {
     "name": "stderr",
     "output_type": "stream",
     "text": [
      "Epoch: 141: 100%|██████████| 2/2 [00:17<00:00,  8.69s/batch, loss=0.676, precision=0.436, recall=0.405]\n"
     ]
    },
    {
     "name": "stdout",
     "output_type": "stream",
     "text": [
      "val Loss: 0.845869779586792\n",
      "val Precision: 0.4297283887863159\n",
      "val Recall: 0.44003330171108246\n",
      "Weight saved for epoch 141.\n"
     ]
    },
    {
     "name": "stderr",
     "output_type": "stream",
     "text": [
      "Epoch: 142: 100%|██████████| 196/196 [04:18<00:00,  1.32s/batch, loss=0.546, precision=0.519, recall=0.495]\n"
     ]
    },
    {
     "name": "stdout",
     "output_type": "stream",
     "text": [
      "train Loss: 0.5847654712139344\n",
      "train Precision: 0.443951530572103\n",
      "train Recall: 0.4603369789464133\n"
     ]
    },
    {
     "name": "stderr",
     "output_type": "stream",
     "text": [
      "Epoch: 142: 100%|██████████| 2/2 [00:17<00:00,  8.68s/batch, loss=0.708, precision=0.396, recall=0.415]\n"
     ]
    },
    {
     "name": "stdout",
     "output_type": "stream",
     "text": [
      "val Loss: 0.8223083317279816\n",
      "val Precision: 0.40119148790836334\n",
      "val Recall: 0.4340372085571289\n",
      "Weight saved for epoch 142.\n"
     ]
    },
    {
     "name": "stderr",
     "output_type": "stream",
     "text": [
      "Epoch: 143:  10%|▉         | 19/196 [00:41<03:29,  1.18s/batch, loss=0.596, precision=0.402, recall=0.4]   \u001b[34m\u001b[1mwandb\u001b[0m: 429 encountered (Filestream rate limit exceeded, retrying in 2.3 seconds.), retrying request\n",
      "\u001b[34m\u001b[1mwandb\u001b[0m: 429 encountered (Filestream rate limit exceeded, retrying in 4.6 seconds.), retrying request\n",
      "\u001b[34m\u001b[1mwandb\u001b[0m: 429 encountered (Filestream rate limit exceeded, retrying in 9.1 seconds.), retrying request\n",
      "Epoch: 143:  22%|██▏       | 44/196 [01:11<02:59,  1.18s/batch, loss=0.776, precision=0.448, recall=0.461]\u001b[34m\u001b[1mwandb\u001b[0m: 429 encountered (Filestream rate limit exceeded, retrying in 2.2 seconds.), retrying request\n",
      "Epoch: 143: 100%|██████████| 196/196 [04:17<00:00,  1.31s/batch, loss=0.631, precision=0.392, recall=0.398]\n"
     ]
    },
    {
     "name": "stdout",
     "output_type": "stream",
     "text": [
      "train Loss: 0.58178468702399\n",
      "train Precision: 0.4449963732337465\n",
      "train Recall: 0.46328043846451505\n"
     ]
    },
    {
     "name": "stderr",
     "output_type": "stream",
     "text": [
      "Epoch: 143: 100%|██████████| 2/2 [00:18<00:00,  9.22s/batch, loss=0.587, precision=0.44, recall=0.441] \n"
     ]
    },
    {
     "name": "stdout",
     "output_type": "stream",
     "text": [
      "val Loss: 0.7002087533473969\n",
      "val Precision: 0.44093331694602966\n",
      "val Recall: 0.4568164795637131\n",
      "Weight saved for epoch 143.\n"
     ]
    },
    {
     "name": "stderr",
     "output_type": "stream",
     "text": [
      "Epoch: 144:   8%|▊         | 15/196 [00:38<03:50,  1.27s/batch, loss=0.566, precision=0.403, recall=0.449] \u001b[34m\u001b[1mwandb\u001b[0m: 429 encountered (Filestream rate limit exceeded, retrying in 2.3 seconds.), retrying request\n",
      "\u001b[34m\u001b[1mwandb\u001b[0m: 429 encountered (Filestream rate limit exceeded, retrying in 4.4 seconds.), retrying request\n",
      "\u001b[34m\u001b[1mwandb\u001b[0m: 429 encountered (Filestream rate limit exceeded, retrying in 8.7 seconds.), retrying request\n",
      "Epoch: 144:  20%|██        | 40/196 [01:08<03:09,  1.22s/batch, loss=0.614, precision=0.464, recall=0.496]\u001b[34m\u001b[1mwandb\u001b[0m: 429 encountered (Filestream rate limit exceeded, retrying in 2.1 seconds.), retrying request\n",
      "Epoch: 144: 100%|██████████| 196/196 [04:18<00:00,  1.32s/batch, loss=0.469, precision=0.427, recall=0.423]\n"
     ]
    },
    {
     "name": "stdout",
     "output_type": "stream",
     "text": [
      "train Loss: 0.5751736361761483\n",
      "train Precision: 0.44617824438883336\n",
      "train Recall: 0.4639130350278348\n"
     ]
    },
    {
     "name": "stderr",
     "output_type": "stream",
     "text": [
      "Epoch: 144: 100%|██████████| 2/2 [00:16<00:00,  8.47s/batch, loss=0.665, precision=0.448, recall=0.417]\n"
     ]
    },
    {
     "name": "stdout",
     "output_type": "stream",
     "text": [
      "val Loss: 0.7888920307159424\n",
      "val Precision: 0.4383642375469208\n",
      "val Recall: 0.44752413034439087\n",
      "Weight saved for epoch 144.\n"
     ]
    },
    {
     "name": "stderr",
     "output_type": "stream",
     "text": [
      "Epoch: 145: 100%|██████████| 196/196 [04:18<00:00,  1.32s/batch, loss=0.723, precision=0.274, recall=0.327]\n"
     ]
    },
    {
     "name": "stdout",
     "output_type": "stream",
     "text": [
      "train Loss: 0.5724902259452003\n",
      "train Precision: 0.44930268474379365\n",
      "train Recall: 0.46877359081895986\n"
     ]
    },
    {
     "name": "stderr",
     "output_type": "stream",
     "text": [
      "Epoch: 145: 100%|██████████| 2/2 [00:17<00:00,  8.94s/batch, loss=0.814, precision=0.412, recall=0.433]\n"
     ]
    },
    {
     "name": "stdout",
     "output_type": "stream",
     "text": [
      "val Loss: 0.9944465458393097\n",
      "val Precision: 0.3987855911254883\n",
      "val Recall: 0.41379790008068085\n",
      "Weight saved for epoch 145.\n"
     ]
    },
    {
     "name": "stderr",
     "output_type": "stream",
     "text": [
      "Epoch: 146: 100%|██████████| 196/196 [04:19<00:00,  1.33s/batch, loss=0.668, precision=0.457, recall=0.49] \n"
     ]
    },
    {
     "name": "stdout",
     "output_type": "stream",
     "text": [
      "train Loss: 0.5699370605300884\n",
      "train Precision: 0.4508434573606569\n",
      "train Recall: 0.47033977402108057\n"
     ]
    },
    {
     "name": "stderr",
     "output_type": "stream",
     "text": [
      "Epoch: 146: 100%|██████████| 2/2 [00:16<00:00,  8.48s/batch, loss=0.697, precision=0.439, recall=0.447]\n"
     ]
    },
    {
     "name": "stdout",
     "output_type": "stream",
     "text": [
      "val Loss: 0.7898437976837158\n",
      "val Precision: 0.4064788818359375\n",
      "val Recall: 0.4269501715898514\n",
      "Weight saved for epoch 146.\n"
     ]
    },
    {
     "name": "stderr",
     "output_type": "stream",
     "text": [
      "Epoch: 147: 100%|██████████| 196/196 [04:18<00:00,  1.32s/batch, loss=0.618, precision=0.439, recall=0.422]\n"
     ]
    },
    {
     "name": "stdout",
     "output_type": "stream",
     "text": [
      "train Loss: 0.5668014990431922\n",
      "train Precision: 0.452821245455012\n",
      "train Recall: 0.46894477855186073\n"
     ]
    },
    {
     "name": "stderr",
     "output_type": "stream",
     "text": [
      "Epoch: 147: 100%|██████████| 2/2 [00:18<00:00,  9.05s/batch, loss=0.705, precision=0.394, recall=0.408]\n"
     ]
    },
    {
     "name": "stdout",
     "output_type": "stream",
     "text": [
      "val Loss: 0.8197961449623108\n",
      "val Precision: 0.4094350337982178\n",
      "val Recall: 0.4421561062335968\n",
      "Weight saved for epoch 147.\n"
     ]
    },
    {
     "name": "stderr",
     "output_type": "stream",
     "text": [
      "Epoch: 148: 100%|██████████| 196/196 [04:16<00:00,  1.31s/batch, loss=0.661, precision=0.345, recall=0.322]\n"
     ]
    },
    {
     "name": "stdout",
     "output_type": "stream",
     "text": [
      "train Loss: 0.5616851073442674\n",
      "train Precision: 0.455810584127903\n",
      "train Recall: 0.47445234777976053\n"
     ]
    },
    {
     "name": "stderr",
     "output_type": "stream",
     "text": [
      "Epoch: 148: 100%|██████████| 2/2 [00:17<00:00,  8.75s/batch, loss=0.59, precision=0.455, recall=0.446] \n"
     ]
    },
    {
     "name": "stdout",
     "output_type": "stream",
     "text": [
      "val Loss: 0.7121429443359375\n",
      "val Precision: 0.44833236932754517\n",
      "val Recall: 0.4752475768327713\n",
      "Weight saved for epoch 148.\n"
     ]
    },
    {
     "name": "stderr",
     "output_type": "stream",
     "text": [
      "Epoch: 149: 100%|██████████| 196/196 [04:17<00:00,  1.32s/batch, loss=0.479, precision=0.474, recall=0.483]\n"
     ]
    },
    {
     "name": "stdout",
     "output_type": "stream",
     "text": [
      "train Loss: 0.5548122798909947\n",
      "train Precision: 0.45760600071172325\n",
      "train Recall: 0.47637515393446905\n"
     ]
    },
    {
     "name": "stderr",
     "output_type": "stream",
     "text": [
      "Epoch: 149: 100%|██████████| 2/2 [00:16<00:00,  8.49s/batch, loss=0.608, precision=0.426, recall=0.425]\n"
     ]
    },
    {
     "name": "stdout",
     "output_type": "stream",
     "text": [
      "val Loss: 0.771835207939148\n",
      "val Precision: 0.4073552340269089\n",
      "val Recall: 0.4361240863800049\n",
      "Weight saved for epoch 149.\n"
     ]
    },
    {
     "name": "stderr",
     "output_type": "stream",
     "text": [
      "Epoch: 150: 100%|██████████| 196/196 [04:17<00:00,  1.32s/batch, loss=0.521, precision=0.455, recall=0.458]\n"
     ]
    },
    {
     "name": "stdout",
     "output_type": "stream",
     "text": [
      "train Loss: 0.5545149845432262\n",
      "train Precision: 0.45611984617247875\n",
      "train Recall: 0.4738247650010245\n"
     ]
    },
    {
     "name": "stderr",
     "output_type": "stream",
     "text": [
      "Epoch: 150: 100%|██████████| 2/2 [00:17<00:00,  8.98s/batch, loss=0.762, precision=0.405, recall=0.422]\n"
     ]
    },
    {
     "name": "stdout",
     "output_type": "stream",
     "text": [
      "val Loss: 0.8751554191112518\n",
      "val Precision: 0.3722879886627197\n",
      "val Recall: 0.40132082998752594\n",
      "Weight saved for epoch 150.\n"
     ]
    },
    {
     "name": "stderr",
     "output_type": "stream",
     "text": [
      "Epoch: 151:  12%|█▏        | 23/196 [00:44<03:24,  1.18s/batch, loss=0.628, precision=0.43, recall=0.432] \u001b[34m\u001b[1mwandb\u001b[0m: 429 encountered (Filestream rate limit exceeded, retrying in 2.4 seconds.), retrying request\n",
      "\u001b[34m\u001b[1mwandb\u001b[0m: 429 encountered (Filestream rate limit exceeded, retrying in 4.4 seconds.), retrying request\n",
      "\u001b[34m\u001b[1mwandb\u001b[0m: 429 encountered (Filestream rate limit exceeded, retrying in 9.1 seconds.), retrying request\n",
      "Epoch: 151:  25%|██▌       | 49/196 [01:15<03:00,  1.23s/batch, loss=0.517, precision=0.436, recall=0.465]\u001b[34m\u001b[1mwandb\u001b[0m: 429 encountered (Filestream rate limit exceeded, retrying in 2.4 seconds.), retrying request\n",
      "Epoch: 151: 100%|██████████| 196/196 [04:15<00:00,  1.31s/batch, loss=0.55, precision=0.332, recall=0.341] \n"
     ]
    },
    {
     "name": "stdout",
     "output_type": "stream",
     "text": [
      "train Loss: 0.5494231878190624\n",
      "train Precision: 0.45797371271313453\n",
      "train Recall: 0.4754323524479963\n"
     ]
    },
    {
     "name": "stderr",
     "output_type": "stream",
     "text": [
      "Epoch: 151: 100%|██████████| 2/2 [00:18<00:00,  9.02s/batch, loss=0.625, precision=0.43, recall=0.457] \n"
     ]
    },
    {
     "name": "stdout",
     "output_type": "stream",
     "text": [
      "val Loss: 0.696284830570221\n",
      "val Precision: 0.422166109085083\n",
      "val Recall: 0.48273327946662903\n",
      "Weight saved for epoch 151.\n"
     ]
    },
    {
     "name": "stderr",
     "output_type": "stream",
     "text": [
      "Epoch: 152: 100%|██████████| 196/196 [04:17<00:00,  1.31s/batch, loss=0.618, precision=0.405, recall=0.423]\n"
     ]
    },
    {
     "name": "stdout",
     "output_type": "stream",
     "text": [
      "train Loss: 0.5455877677518495\n",
      "train Precision: 0.45739843285813625\n",
      "train Recall: 0.47450857411841957\n"
     ]
    },
    {
     "name": "stderr",
     "output_type": "stream",
     "text": [
      "Epoch: 152: 100%|██████████| 2/2 [00:18<00:00,  9.26s/batch, loss=0.648, precision=0.479, recall=0.479]\n"
     ]
    },
    {
     "name": "stdout",
     "output_type": "stream",
     "text": [
      "val Loss: 0.7400103211402893\n",
      "val Precision: 0.44509828090667725\n",
      "val Recall: 0.4755534380674362\n",
      "Weight saved for epoch 152.\n"
     ]
    },
    {
     "name": "stderr",
     "output_type": "stream",
     "text": [
      "Epoch: 153: 100%|██████████| 196/196 [04:15<00:00,  1.31s/batch, loss=0.589, precision=0.41, recall=0.389] \n"
     ]
    },
    {
     "name": "stdout",
     "output_type": "stream",
     "text": [
      "train Loss: 0.5446341656604592\n",
      "train Precision: 0.45991585038754407\n",
      "train Recall: 0.4777504929474422\n"
     ]
    },
    {
     "name": "stderr",
     "output_type": "stream",
     "text": [
      "Epoch: 153: 100%|██████████| 2/2 [00:15<00:00,  7.64s/batch, loss=0.603, precision=0.45, recall=0.439] \n"
     ]
    },
    {
     "name": "stdout",
     "output_type": "stream",
     "text": [
      "val Loss: 0.7258487343788147\n",
      "val Precision: 0.44244731962680817\n",
      "val Recall: 0.46309781074523926\n",
      "Weight saved for epoch 153.\n"
     ]
    },
    {
     "name": "stderr",
     "output_type": "stream",
     "text": [
      "Epoch: 154: 100%|██████████| 196/196 [04:19<00:00,  1.32s/batch, loss=0.653, precision=0.382, recall=0.366]\n"
     ]
    },
    {
     "name": "stdout",
     "output_type": "stream",
     "text": [
      "train Loss: 0.5388033434140439\n",
      "train Precision: 0.46402006048937233\n",
      "train Recall: 0.47920485722775363\n"
     ]
    },
    {
     "name": "stderr",
     "output_type": "stream",
     "text": [
      "Epoch: 154: 100%|██████████| 2/2 [00:18<00:00,  9.33s/batch, loss=0.625, precision=0.487, recall=0.493]\n"
     ]
    },
    {
     "name": "stdout",
     "output_type": "stream",
     "text": [
      "val Loss: 0.7135758697986603\n",
      "val Precision: 0.4447353929281235\n",
      "val Recall: 0.48212897777557373\n",
      "Weight saved for epoch 154.\n"
     ]
    },
    {
     "name": "stderr",
     "output_type": "stream",
     "text": [
      "Epoch: 155: 100%|██████████| 196/196 [04:17<00:00,  1.32s/batch, loss=0.558, precision=0.49, recall=0.463] \n"
     ]
    },
    {
     "name": "stdout",
     "output_type": "stream",
     "text": [
      "train Loss: 0.5347215077098535\n",
      "train Precision: 0.4661192530576064\n",
      "train Recall: 0.48505296755810173\n"
     ]
    },
    {
     "name": "stderr",
     "output_type": "stream",
     "text": [
      "Epoch: 155: 100%|██████████| 2/2 [00:17<00:00,  8.59s/batch, loss=0.627, precision=0.44, recall=0.457] \n"
     ]
    },
    {
     "name": "stdout",
     "output_type": "stream",
     "text": [
      "val Loss: 0.7371251583099365\n",
      "val Precision: 0.4356882870197296\n",
      "val Recall: 0.47044286131858826\n",
      "Weight saved for epoch 155.\n"
     ]
    },
    {
     "name": "stderr",
     "output_type": "stream",
     "text": [
      "Epoch: 156: 100%|██████████| 196/196 [04:17<00:00,  1.31s/batch, loss=0.753, precision=0.363, recall=0.375]\n"
     ]
    },
    {
     "name": "stdout",
     "output_type": "stream",
     "text": [
      "train Loss: 0.5346621840584035\n",
      "train Precision: 0.4644557359267254\n",
      "train Recall: 0.4812443863068308\n"
     ]
    },
    {
     "name": "stderr",
     "output_type": "stream",
     "text": [
      "Epoch: 156: 100%|██████████| 2/2 [00:17<00:00,  8.60s/batch, loss=0.679, precision=0.42, recall=0.421] \n"
     ]
    },
    {
     "name": "stdout",
     "output_type": "stream",
     "text": [
      "val Loss: 0.7832774221897125\n",
      "val Precision: 0.41057947278022766\n",
      "val Recall: 0.4385800212621689\n",
      "Weight saved for epoch 156.\n"
     ]
    },
    {
     "name": "stderr",
     "output_type": "stream",
     "text": [
      "Epoch: 157: 100%|██████████| 196/196 [04:16<00:00,  1.31s/batch, loss=0.485, precision=0.416, recall=0.421]\n"
     ]
    },
    {
     "name": "stdout",
     "output_type": "stream",
     "text": [
      "train Loss: 0.5290649835856593\n",
      "train Precision: 0.465664159886691\n",
      "train Recall: 0.4825051750759689\n"
     ]
    },
    {
     "name": "stderr",
     "output_type": "stream",
     "text": [
      "Epoch: 157: 100%|██████████| 2/2 [00:16<00:00,  8.24s/batch, loss=0.621, precision=0.441, recall=0.47] \n"
     ]
    },
    {
     "name": "stdout",
     "output_type": "stream",
     "text": [
      "val Loss: 0.7481538653373718\n",
      "val Precision: 0.42215679585933685\n",
      "val Recall: 0.4819536358118057\n",
      "Weight saved for epoch 157.\n"
     ]
    },
    {
     "name": "stderr",
     "output_type": "stream",
     "text": [
      "Epoch: 158: 100%|██████████| 196/196 [04:16<00:00,  1.31s/batch, loss=0.463, precision=0.428, recall=0.374]\n"
     ]
    },
    {
     "name": "stdout",
     "output_type": "stream",
     "text": [
      "train Loss: 0.5274549448976711\n",
      "train Precision: 0.4672195846024825\n",
      "train Recall: 0.4857366918301096\n"
     ]
    },
    {
     "name": "stderr",
     "output_type": "stream",
     "text": [
      "Epoch: 158: 100%|██████████| 2/2 [00:14<00:00,  7.42s/batch, loss=0.538, precision=0.481, recall=0.513]\n"
     ]
    },
    {
     "name": "stdout",
     "output_type": "stream",
     "text": [
      "val Loss: 0.6449482142925262\n",
      "val Precision: 0.45413076877593994\n",
      "val Recall: 0.5080129206180573\n",
      "Weight saved for epoch 158.\n"
     ]
    },
    {
     "name": "stderr",
     "output_type": "stream",
     "text": [
      "Epoch: 159: 100%|██████████| 196/196 [04:22<00:00,  1.34s/batch, loss=0.58, precision=0.352, recall=0.353] \n"
     ]
    },
    {
     "name": "stdout",
     "output_type": "stream",
     "text": [
      "train Loss: 0.5219224144001396\n",
      "train Precision: 0.4720920225491329\n",
      "train Recall: 0.4886396694548276\n"
     ]
    },
    {
     "name": "stderr",
     "output_type": "stream",
     "text": [
      "Epoch: 159: 100%|██████████| 2/2 [00:16<00:00,  8.40s/batch, loss=0.558, precision=0.479, recall=0.503]\n"
     ]
    },
    {
     "name": "stdout",
     "output_type": "stream",
     "text": [
      "val Loss: 0.6633363366127014\n",
      "val Precision: 0.4598243236541748\n",
      "val Recall: 0.508563220500946\n",
      "Weight saved for epoch 159.\n"
     ]
    },
    {
     "name": "stderr",
     "output_type": "stream",
     "text": [
      "Epoch: 160:   3%|▎         | 6/196 [00:24<07:04,  2.23s/batch, loss=0.463, precision=0.499, recall=0.531]\u001b[34m\u001b[1mwandb\u001b[0m: 429 encountered (Filestream rate limit exceeded, retrying in 2.1 seconds.), retrying request\n",
      "Epoch: 160:   9%|▉         | 18/196 [00:39<03:37,  1.22s/batch, loss=0.506, precision=0.567, recall=0.572]\u001b[34m\u001b[1mwandb\u001b[0m: 429 encountered (Filestream rate limit exceeded, retrying in 4.2 seconds.), retrying request\n",
      "\u001b[34m\u001b[1mwandb\u001b[0m: 429 encountered (Filestream rate limit exceeded, retrying in 8.4 seconds.), retrying request\n",
      "\u001b[34m\u001b[1mwandb\u001b[0m: 429 encountered (Filestream rate limit exceeded, retrying in 18.2 seconds.), retrying request\n",
      "Epoch: 160:  22%|██▏       | 43/196 [01:10<03:11,  1.25s/batch, loss=0.473, precision=0.437, recall=0.5]  \u001b[34m\u001b[1mwandb\u001b[0m: 429 encountered (Filestream rate limit exceeded, retrying in 2.2 seconds.), retrying request\n",
      "\u001b[34m\u001b[1mwandb\u001b[0m: 429 encountered (Filestream rate limit exceeded, retrying in 4.2 seconds.), retrying request\n",
      "\u001b[34m\u001b[1mwandb\u001b[0m: 429 encountered (Filestream rate limit exceeded, retrying in 9.5 seconds.), retrying request\n",
      "Epoch: 160:  34%|███▍      | 67/196 [01:39<02:43,  1.27s/batch, loss=0.558, precision=0.483, recall=0.46] \u001b[34m\u001b[1mwandb\u001b[0m: 429 encountered (Filestream rate limit exceeded, retrying in 2.0 seconds.), retrying request\n",
      "Epoch: 160: 100%|██████████| 196/196 [04:16<00:00,  1.31s/batch, loss=0.62, precision=0.462, recall=0.422] \n"
     ]
    },
    {
     "name": "stdout",
     "output_type": "stream",
     "text": [
      "train Loss: 0.5172012869496735\n",
      "train Precision: 0.473406793359591\n",
      "train Recall: 0.48972842203719275\n"
     ]
    },
    {
     "name": "stderr",
     "output_type": "stream",
     "text": [
      "Epoch: 160: 100%|██████████| 2/2 [00:17<00:00,  8.62s/batch, loss=0.603, precision=0.485, recall=0.479]\n"
     ]
    },
    {
     "name": "stdout",
     "output_type": "stream",
     "text": [
      "val Loss: 0.7441628575325012\n",
      "val Precision: 0.4696529358625412\n",
      "val Recall: 0.48671630024909973\n",
      "Weight saved for epoch 160.\n"
     ]
    },
    {
     "name": "stderr",
     "output_type": "stream",
     "text": [
      "Epoch: 161:   8%|▊         | 16/196 [00:37<03:42,  1.23s/batch, loss=0.541, precision=0.452, recall=0.52]  \u001b[34m\u001b[1mwandb\u001b[0m: 429 encountered (Filestream rate limit exceeded, retrying in 2.2 seconds.), retrying request\n",
      "\u001b[34m\u001b[1mwandb\u001b[0m: 429 encountered (Filestream rate limit exceeded, retrying in 4.4 seconds.), retrying request\n",
      "\u001b[34m\u001b[1mwandb\u001b[0m: 429 encountered (Filestream rate limit exceeded, retrying in 8.7 seconds.), retrying request\n",
      "Epoch: 161:  21%|██▏       | 42/196 [01:08<03:03,  1.19s/batch, loss=0.416, precision=0.515, recall=0.53] \u001b[34m\u001b[1mwandb\u001b[0m: 429 encountered (Filestream rate limit exceeded, retrying in 2.4 seconds.), retrying request\n",
      "Epoch: 161: 100%|██████████| 196/196 [04:16<00:00,  1.31s/batch, loss=0.428, precision=0.455, recall=0.463]\n"
     ]
    },
    {
     "name": "stdout",
     "output_type": "stream",
     "text": [
      "train Loss: 0.5139722898602486\n",
      "train Precision: 0.47197092096416315\n",
      "train Recall: 0.4895249144459257\n"
     ]
    },
    {
     "name": "stderr",
     "output_type": "stream",
     "text": [
      "Epoch: 161: 100%|██████████| 2/2 [00:16<00:00,  8.50s/batch, loss=0.581, precision=0.486, recall=0.481]\n"
     ]
    },
    {
     "name": "stdout",
     "output_type": "stream",
     "text": [
      "val Loss: 0.6871170699596405\n",
      "val Precision: 0.4553851783275604\n",
      "val Recall: 0.4808902144432068\n",
      "Weight saved for epoch 161.\n"
     ]
    },
    {
     "name": "stderr",
     "output_type": "stream",
     "text": [
      "Epoch: 162: 100%|██████████| 196/196 [04:19<00:00,  1.32s/batch, loss=0.381, precision=0.381, recall=0.368]\n"
     ]
    },
    {
     "name": "stdout",
     "output_type": "stream",
     "text": [
      "train Loss: 0.5104417633645388\n",
      "train Precision: 0.4756858631664393\n",
      "train Recall: 0.4920696108316889\n"
     ]
    },
    {
     "name": "stderr",
     "output_type": "stream",
     "text": [
      "Epoch: 162: 100%|██████████| 2/2 [00:18<00:00,  9.08s/batch, loss=0.556, precision=0.456, recall=0.456]\n"
     ]
    },
    {
     "name": "stdout",
     "output_type": "stream",
     "text": [
      "val Loss: 0.6681398749351501\n",
      "val Precision: 0.44351692497730255\n",
      "val Recall: 0.4777638018131256\n",
      "Weight saved for epoch 162.\n"
     ]
    },
    {
     "name": "stderr",
     "output_type": "stream",
     "text": [
      "Epoch: 163: 100%|██████████| 196/196 [04:17<00:00,  1.31s/batch, loss=0.419, precision=0.423, recall=0.433]\n"
     ]
    },
    {
     "name": "stdout",
     "output_type": "stream",
     "text": [
      "train Loss: 0.5083636820924525\n",
      "train Precision: 0.4766195524407893\n",
      "train Recall: 0.49411618557511544\n"
     ]
    },
    {
     "name": "stderr",
     "output_type": "stream",
     "text": [
      "Epoch: 163: 100%|██████████| 2/2 [00:17<00:00,  9.00s/batch, loss=0.588, precision=0.446, recall=0.434]\n"
     ]
    },
    {
     "name": "stdout",
     "output_type": "stream",
     "text": [
      "val Loss: 0.6973752677440643\n",
      "val Precision: 0.4378959536552429\n",
      "val Recall: 0.46601615846157074\n",
      "Weight saved for epoch 163.\n"
     ]
    },
    {
     "name": "stderr",
     "output_type": "stream",
     "text": [
      "Epoch: 164: 100%|██████████| 196/196 [04:20<00:00,  1.33s/batch, loss=0.485, precision=0.489, recall=0.454]\n"
     ]
    },
    {
     "name": "stdout",
     "output_type": "stream",
     "text": [
      "train Loss: 0.5022147754017188\n",
      "train Precision: 0.4782172890037906\n",
      "train Recall: 0.4941617887543172\n"
     ]
    },
    {
     "name": "stderr",
     "output_type": "stream",
     "text": [
      "Epoch: 164: 100%|██████████| 2/2 [00:17<00:00,  8.99s/batch, loss=0.72, precision=0.495, recall=0.496]\n"
     ]
    },
    {
     "name": "stdout",
     "output_type": "stream",
     "text": [
      "val Loss: 0.8121754229068756\n",
      "val Precision: 0.4528309106826782\n",
      "val Recall: 0.468888983130455\n",
      "Weight saved for epoch 164.\n"
     ]
    },
    {
     "name": "stderr",
     "output_type": "stream",
     "text": [
      "Epoch: 165: 100%|██████████| 196/196 [04:16<00:00,  1.31s/batch, loss=0.677, precision=0.343, recall=0.35] \n"
     ]
    },
    {
     "name": "stdout",
     "output_type": "stream",
     "text": [
      "train Loss: 0.5007109594892483\n",
      "train Precision: 0.47758202954214446\n",
      "train Recall: 0.4950240395811139\n"
     ]
    },
    {
     "name": "stderr",
     "output_type": "stream",
     "text": [
      "Epoch: 165: 100%|██████████| 2/2 [00:17<00:00,  8.87s/batch, loss=0.605, precision=0.446, recall=0.398]\n"
     ]
    },
    {
     "name": "stdout",
     "output_type": "stream",
     "text": [
      "val Loss: 0.7543641030788422\n",
      "val Precision: 0.440287321805954\n",
      "val Recall: 0.432981938123703\n",
      "Weight saved for epoch 165.\n"
     ]
    },
    {
     "name": "stderr",
     "output_type": "stream",
     "text": [
      "Epoch: 166: 100%|██████████| 196/196 [04:17<00:00,  1.32s/batch, loss=0.615, precision=0.44, recall=0.378] \n"
     ]
    },
    {
     "name": "stdout",
     "output_type": "stream",
     "text": [
      "train Loss: 0.4987299503112326\n",
      "train Precision: 0.48001774294035776\n",
      "train Recall: 0.4978802681577449\n"
     ]
    },
    {
     "name": "stderr",
     "output_type": "stream",
     "text": [
      "Epoch: 166: 100%|██████████| 2/2 [00:16<00:00,  8.40s/batch, loss=0.556, precision=0.516, recall=0.531]\n"
     ]
    },
    {
     "name": "stdout",
     "output_type": "stream",
     "text": [
      "val Loss: 0.6729541718959808\n",
      "val Precision: 0.4788224399089813\n",
      "val Recall: 0.5175637602806091\n",
      "Weight saved for epoch 166.\n"
     ]
    },
    {
     "name": "stderr",
     "output_type": "stream",
     "text": [
      "Epoch: 167: 100%|██████████| 196/196 [04:16<00:00,  1.31s/batch, loss=0.701, precision=0.386, recall=0.396]\n"
     ]
    },
    {
     "name": "stdout",
     "output_type": "stream",
     "text": [
      "train Loss: 0.49619038555086875\n",
      "train Precision: 0.48204261779176943\n",
      "train Recall: 0.4989258940426671\n"
     ]
    },
    {
     "name": "stderr",
     "output_type": "stream",
     "text": [
      "Epoch: 167: 100%|██████████| 2/2 [00:16<00:00,  8.40s/batch, loss=0.636, precision=0.423, recall=0.451]\n"
     ]
    },
    {
     "name": "stdout",
     "output_type": "stream",
     "text": [
      "val Loss: 0.7323810756206512\n",
      "val Precision: 0.42314794659614563\n",
      "val Recall: 0.48136165738105774\n",
      "Weight saved for epoch 167.\n"
     ]
    },
    {
     "name": "stderr",
     "output_type": "stream",
     "text": [
      "Epoch: 168: 100%|██████████| 196/196 [04:18<00:00,  1.32s/batch, loss=0.529, precision=0.392, recall=0.401]\n"
     ]
    },
    {
     "name": "stdout",
     "output_type": "stream",
     "text": [
      "train Loss: 0.4917538322660388\n",
      "train Precision: 0.48022379680555694\n",
      "train Recall: 0.4979273235919524\n"
     ]
    },
    {
     "name": "stderr",
     "output_type": "stream",
     "text": [
      "Epoch: 168: 100%|██████████| 2/2 [00:17<00:00,  8.86s/batch, loss=0.515, precision=0.494, recall=0.521]\n"
     ]
    },
    {
     "name": "stdout",
     "output_type": "stream",
     "text": [
      "val Loss: 0.6614032089710236\n",
      "val Precision: 0.4662511348724365\n",
      "val Recall: 0.5051978677511215\n",
      "Weight saved for epoch 168.\n"
     ]
    },
    {
     "name": "stderr",
     "output_type": "stream",
     "text": [
      "Epoch: 169: 100%|██████████| 196/196 [04:17<00:00,  1.31s/batch, loss=0.446, precision=0.503, recall=0.513]\n"
     ]
    },
    {
     "name": "stdout",
     "output_type": "stream",
     "text": [
      "train Loss: 0.4900119049208505\n",
      "train Precision: 0.48262785192655056\n",
      "train Recall: 0.5007999072573623\n"
     ]
    },
    {
     "name": "stderr",
     "output_type": "stream",
     "text": [
      "Epoch: 169: 100%|██████████| 2/2 [00:18<00:00,  9.01s/batch, loss=0.558, precision=0.488, recall=0.502]\n"
     ]
    },
    {
     "name": "stdout",
     "output_type": "stream",
     "text": [
      "val Loss: 0.6728746592998505\n",
      "val Precision: 0.45089930295944214\n",
      "val Recall: 0.4946579039096832\n",
      "Weight saved for epoch 169.\n"
     ]
    },
    {
     "name": "stderr",
     "output_type": "stream",
     "text": [
      "Epoch: 170: 100%|██████████| 196/196 [04:17<00:00,  1.31s/batch, loss=0.548, precision=0.481, recall=0.485]\n"
     ]
    },
    {
     "name": "stdout",
     "output_type": "stream",
     "text": [
      "train Loss: 0.4867584462068519\n",
      "train Precision: 0.48312845993406917\n",
      "train Recall: 0.4996166360013339\n"
     ]
    },
    {
     "name": "stderr",
     "output_type": "stream",
     "text": [
      "Epoch: 170: 100%|██████████| 2/2 [00:17<00:00,  8.94s/batch, loss=0.488, precision=0.493, recall=0.498]\n"
     ]
    },
    {
     "name": "stdout",
     "output_type": "stream",
     "text": [
      "val Loss: 0.6147613227367401\n",
      "val Precision: 0.48938822746276855\n",
      "val Recall: 0.5137489438056946\n",
      "Weight saved for epoch 170.\n"
     ]
    },
    {
     "name": "stderr",
     "output_type": "stream",
     "text": [
      "Epoch: 171: 100%|██████████| 196/196 [04:20<00:00,  1.33s/batch, loss=0.538, precision=0.466, recall=0.467]\n"
     ]
    },
    {
     "name": "stdout",
     "output_type": "stream",
     "text": [
      "train Loss: 0.4813464445119001\n",
      "train Precision: 0.48617056285848426\n",
      "train Recall: 0.5013005532780472\n"
     ]
    },
    {
     "name": "stderr",
     "output_type": "stream",
     "text": [
      "Epoch: 171: 100%|██████████| 2/2 [00:15<00:00,  7.56s/batch, loss=0.547, precision=0.467, recall=0.481]\n"
     ]
    },
    {
     "name": "stdout",
     "output_type": "stream",
     "text": [
      "val Loss: 0.6459286510944366\n",
      "val Precision: 0.4643668979406357\n",
      "val Recall: 0.4936961978673935\n",
      "Weight saved for epoch 171.\n"
     ]
    },
    {
     "name": "stderr",
     "output_type": "stream",
     "text": [
      "Epoch: 172: 100%|██████████| 196/196 [04:16<00:00,  1.31s/batch, loss=0.505, precision=0.475, recall=0.505]\n"
     ]
    },
    {
     "name": "stdout",
     "output_type": "stream",
     "text": [
      "train Loss: 0.47927395239168286\n",
      "train Precision: 0.48806879958327937\n",
      "train Recall: 0.5033204201228765\n"
     ]
    },
    {
     "name": "stderr",
     "output_type": "stream",
     "text": [
      "Epoch: 172: 100%|██████████| 2/2 [00:16<00:00,  8.41s/batch, loss=0.739, precision=0.43, recall=0.463] \n"
     ]
    },
    {
     "name": "stdout",
     "output_type": "stream",
     "text": [
      "val Loss: 0.841210812330246\n",
      "val Precision: 0.41602279245853424\n",
      "val Recall: 0.4523523896932602\n",
      "Weight saved for epoch 172.\n"
     ]
    },
    {
     "name": "stderr",
     "output_type": "stream",
     "text": [
      "Epoch: 173: 100%|██████████| 196/196 [04:17<00:00,  1.31s/batch, loss=0.746, precision=0.428, recall=0.429]\n"
     ]
    },
    {
     "name": "stdout",
     "output_type": "stream",
     "text": [
      "train Loss: 0.4754883209053351\n",
      "train Precision: 0.4888517512958877\n",
      "train Recall: 0.5050135482938922\n"
     ]
    },
    {
     "name": "stderr",
     "output_type": "stream",
     "text": [
      "Epoch: 173: 100%|██████████| 2/2 [00:18<00:00,  9.05s/batch, loss=0.671, precision=0.429, recall=0.437]\n"
     ]
    },
    {
     "name": "stdout",
     "output_type": "stream",
     "text": [
      "val Loss: 0.7577577233314514\n",
      "val Precision: 0.4192793071269989\n",
      "val Recall: 0.43699145317077637\n",
      "Weight saved for epoch 173.\n"
     ]
    },
    {
     "name": "stderr",
     "output_type": "stream",
     "text": [
      "Epoch: 174: 100%|██████████| 196/196 [04:16<00:00,  1.31s/batch, loss=0.67, precision=0.441, recall=0.472] \n"
     ]
    },
    {
     "name": "stdout",
     "output_type": "stream",
     "text": [
      "train Loss: 0.4747659933506226\n",
      "train Precision: 0.48841373592006915\n",
      "train Recall: 0.5062451163420871\n"
     ]
    },
    {
     "name": "stderr",
     "output_type": "stream",
     "text": [
      "Epoch: 174: 100%|██████████| 2/2 [00:15<00:00,  7.52s/batch, loss=0.519, precision=0.493, recall=0.519]\n"
     ]
    },
    {
     "name": "stdout",
     "output_type": "stream",
     "text": [
      "val Loss: 0.6397651731967926\n",
      "val Precision: 0.4663497507572174\n",
      "val Recall: 0.5024993717670441\n",
      "Weight saved for epoch 174.\n"
     ]
    },
    {
     "name": "stderr",
     "output_type": "stream",
     "text": [
      "Epoch: 175: 100%|██████████| 196/196 [04:18<00:00,  1.32s/batch, loss=0.464, precision=0.403, recall=0.379]\n"
     ]
    },
    {
     "name": "stdout",
     "output_type": "stream",
     "text": [
      "train Loss: 0.47090097060617137\n",
      "train Precision: 0.4917862707254838\n",
      "train Recall: 0.510718724405279\n"
     ]
    },
    {
     "name": "stderr",
     "output_type": "stream",
     "text": [
      "Epoch: 175: 100%|██████████| 2/2 [00:17<00:00,  8.75s/batch, loss=0.569, precision=0.45, recall=0.432] \n"
     ]
    },
    {
     "name": "stdout",
     "output_type": "stream",
     "text": [
      "val Loss: 0.6699385941028595\n",
      "val Precision: 0.45185695588588715\n",
      "val Recall: 0.462508425116539\n",
      "Weight saved for epoch 175.\n"
     ]
    },
    {
     "name": "stderr",
     "output_type": "stream",
     "text": [
      "Epoch: 176: 100%|██████████| 196/196 [04:19<00:00,  1.32s/batch, loss=0.554, precision=0.474, recall=0.507]\n"
     ]
    },
    {
     "name": "stdout",
     "output_type": "stream",
     "text": [
      "train Loss: 0.4671556199995839\n",
      "train Precision: 0.49648708181113616\n",
      "train Recall: 0.5117710383266819\n"
     ]
    },
    {
     "name": "stderr",
     "output_type": "stream",
     "text": [
      "Epoch: 176: 100%|██████████| 2/2 [00:16<00:00,  8.28s/batch, loss=0.534, precision=0.504, recall=0.523]\n"
     ]
    },
    {
     "name": "stdout",
     "output_type": "stream",
     "text": [
      "val Loss: 0.6572222411632538\n",
      "val Precision: 0.48523715138435364\n",
      "val Recall: 0.5217424631118774\n",
      "Weight saved for epoch 176.\n"
     ]
    },
    {
     "name": "stderr",
     "output_type": "stream",
     "text": [
      "Epoch: 177: 100%|██████████| 196/196 [04:19<00:00,  1.32s/batch, loss=0.65, precision=0.415, recall=0.386] \n"
     ]
    },
    {
     "name": "stdout",
     "output_type": "stream",
     "text": [
      "train Loss: 0.4641723956684677\n",
      "train Precision: 0.496068114376798\n",
      "train Recall: 0.5145300442771036\n"
     ]
    },
    {
     "name": "stderr",
     "output_type": "stream",
     "text": [
      "Epoch: 177: 100%|██████████| 2/2 [00:16<00:00,  8.48s/batch, loss=0.519, precision=0.514, recall=0.508]\n"
     ]
    },
    {
     "name": "stdout",
     "output_type": "stream",
     "text": [
      "val Loss: 0.6201712489128113\n",
      "val Precision: 0.4899294078350067\n",
      "val Recall: 0.521829754114151\n",
      "Weight saved for epoch 177.\n"
     ]
    },
    {
     "name": "stderr",
     "output_type": "stream",
     "text": [
      "Epoch: 178: 100%|██████████| 196/196 [04:19<00:00,  1.32s/batch, loss=0.328, precision=0.367, recall=0.393]\n"
     ]
    },
    {
     "name": "stdout",
     "output_type": "stream",
     "text": [
      "train Loss: 0.45926657425505774\n",
      "train Precision: 0.49510754888155023\n",
      "train Recall: 0.5126546841798997\n"
     ]
    },
    {
     "name": "stderr",
     "output_type": "stream",
     "text": [
      "Epoch: 178: 100%|██████████| 2/2 [00:16<00:00,  8.30s/batch, loss=0.555, precision=0.5, recall=0.474] \n"
     ]
    },
    {
     "name": "stdout",
     "output_type": "stream",
     "text": [
      "val Loss: 0.6503832638263702\n",
      "val Precision: 0.46821410953998566\n",
      "val Recall: 0.4768485277891159\n",
      "Weight saved for epoch 178.\n"
     ]
    },
    {
     "name": "stderr",
     "output_type": "stream",
     "text": [
      "Epoch: 179: 100%|██████████| 196/196 [04:15<00:00,  1.31s/batch, loss=0.541, precision=0.444, recall=0.463]\n"
     ]
    },
    {
     "name": "stdout",
     "output_type": "stream",
     "text": [
      "train Loss: 0.45818182947684305\n",
      "train Precision: 0.49926771177929274\n",
      "train Recall: 0.5158004255927339\n"
     ]
    },
    {
     "name": "stderr",
     "output_type": "stream",
     "text": [
      "Epoch: 179: 100%|██████████| 2/2 [00:17<00:00,  8.69s/batch, loss=0.661, precision=0.431, recall=0.445]\n"
     ]
    },
    {
     "name": "stdout",
     "output_type": "stream",
     "text": [
      "val Loss: 0.7818732261657715\n",
      "val Precision: 0.426258847117424\n",
      "val Recall: 0.4699087291955948\n",
      "Weight saved for epoch 179.\n"
     ]
    },
    {
     "name": "stderr",
     "output_type": "stream",
     "text": [
      "Epoch: 180: 100%|██████████| 196/196 [04:18<00:00,  1.32s/batch, loss=0.579, precision=0.45, recall=0.428] \n"
     ]
    },
    {
     "name": "stdout",
     "output_type": "stream",
     "text": [
      "train Loss: 0.4541005372088783\n",
      "train Precision: 0.4976687580347061\n",
      "train Recall: 0.5126373708552244\n"
     ]
    },
    {
     "name": "stderr",
     "output_type": "stream",
     "text": [
      "Epoch: 180: 100%|██████████| 2/2 [00:17<00:00,  8.92s/batch, loss=0.504, precision=0.463, recall=0.471]\n"
     ]
    },
    {
     "name": "stdout",
     "output_type": "stream",
     "text": [
      "val Loss: 0.6077295243740082\n",
      "val Precision: 0.45934808254241943\n",
      "val Recall: 0.48970864713191986\n",
      "Weight saved for epoch 180.\n"
     ]
    },
    {
     "name": "stderr",
     "output_type": "stream",
     "text": [
      "Epoch: 181: 100%|██████████| 196/196 [04:17<00:00,  1.31s/batch, loss=0.533, precision=0.438, recall=0.422]\n"
     ]
    },
    {
     "name": "stdout",
     "output_type": "stream",
     "text": [
      "train Loss: 0.45069917428250217\n",
      "train Precision: 0.5029063382927252\n",
      "train Recall: 0.5192806991387386\n"
     ]
    },
    {
     "name": "stderr",
     "output_type": "stream",
     "text": [
      "Epoch: 181: 100%|██████████| 2/2 [00:17<00:00,  8.59s/batch, loss=0.502, precision=0.49, recall=0.485]\n"
     ]
    },
    {
     "name": "stdout",
     "output_type": "stream",
     "text": [
      "val Loss: 0.5903685688972473\n",
      "val Precision: 0.47900229692459106\n",
      "val Recall: 0.507365807890892\n",
      "Weight saved for epoch 181.\n"
     ]
    },
    {
     "name": "stderr",
     "output_type": "stream",
     "text": [
      "Epoch: 182: 100%|██████████| 196/196 [04:17<00:00,  1.31s/batch, loss=0.528, precision=0.422, recall=0.441]\n"
     ]
    },
    {
     "name": "stdout",
     "output_type": "stream",
     "text": [
      "train Loss: 0.44660397558187953\n",
      "train Precision: 0.503080198655323\n",
      "train Recall: 0.5200370734139365\n"
     ]
    },
    {
     "name": "stderr",
     "output_type": "stream",
     "text": [
      "Epoch: 182: 100%|██████████| 2/2 [00:16<00:00,  8.49s/batch, loss=0.529, precision=0.479, recall=0.472]\n"
     ]
    },
    {
     "name": "stdout",
     "output_type": "stream",
     "text": [
      "val Loss: 0.6086007356643677\n",
      "val Precision: 0.4548683315515518\n",
      "val Recall: 0.4910701960325241\n",
      "Weight saved for epoch 182.\n"
     ]
    },
    {
     "name": "stderr",
     "output_type": "stream",
     "text": [
      "Epoch: 183: 100%|██████████| 196/196 [04:18<00:00,  1.32s/batch, loss=0.421, precision=0.49, recall=0.516] \n"
     ]
    },
    {
     "name": "stdout",
     "output_type": "stream",
     "text": [
      "train Loss: 0.4464779144951275\n",
      "train Precision: 0.5040746615553389\n",
      "train Recall: 0.5186367752600689\n"
     ]
    },
    {
     "name": "stderr",
     "output_type": "stream",
     "text": [
      "Epoch: 183: 100%|██████████| 2/2 [00:17<00:00,  8.56s/batch, loss=0.508, precision=0.477, recall=0.472]\n"
     ]
    },
    {
     "name": "stdout",
     "output_type": "stream",
     "text": [
      "val Loss: 0.6418547630310059\n",
      "val Precision: 0.45503899455070496\n",
      "val Recall: 0.47344212234020233\n",
      "Weight saved for epoch 183.\n"
     ]
    },
    {
     "name": "stderr",
     "output_type": "stream",
     "text": [
      "Epoch: 184: 100%|██████████| 196/196 [04:22<00:00,  1.34s/batch, loss=0.533, precision=0.388, recall=0.424]\n"
     ]
    },
    {
     "name": "stdout",
     "output_type": "stream",
     "text": [
      "train Loss: 0.44454189116249276\n",
      "train Precision: 0.5030241429197545\n",
      "train Recall: 0.5199449643188593\n"
     ]
    },
    {
     "name": "stderr",
     "output_type": "stream",
     "text": [
      "Epoch: 184: 100%|██████████| 2/2 [00:16<00:00,  8.49s/batch, loss=0.704, precision=0.452, recall=0.415]\n"
     ]
    },
    {
     "name": "stdout",
     "output_type": "stream",
     "text": [
      "val Loss: 0.7686939537525177\n",
      "val Precision: 0.4430992305278778\n",
      "val Recall: 0.44173021614551544\n",
      "Weight saved for epoch 184.\n"
     ]
    },
    {
     "name": "stderr",
     "output_type": "stream",
     "text": [
      "Epoch: 185: 100%|██████████| 196/196 [04:18<00:00,  1.32s/batch, loss=0.34, precision=0.403, recall=0.396] \n"
     ]
    },
    {
     "name": "stdout",
     "output_type": "stream",
     "text": [
      "train Loss: 0.43898341850358613\n",
      "train Precision: 0.5080368559883566\n",
      "train Recall: 0.5222733305120955\n"
     ]
    },
    {
     "name": "stderr",
     "output_type": "stream",
     "text": [
      "Epoch: 185: 100%|██████████| 2/2 [00:18<00:00,  9.49s/batch, loss=0.79, precision=0.427, recall=0.47]  \n"
     ]
    },
    {
     "name": "stdout",
     "output_type": "stream",
     "text": [
      "val Loss: 0.8710940480232239\n",
      "val Precision: 0.39091508090496063\n",
      "val Recall: 0.42755670845508575\n",
      "Weight saved for epoch 185.\n"
     ]
    },
    {
     "name": "stderr",
     "output_type": "stream",
     "text": [
      "Epoch: 186: 100%|██████████| 196/196 [04:16<00:00,  1.31s/batch, loss=0.297, precision=0.505, recall=0.491]\n"
     ]
    },
    {
     "name": "stdout",
     "output_type": "stream",
     "text": [
      "train Loss: 0.4369230700694785\n",
      "train Precision: 0.5070018940130059\n",
      "train Recall: 0.5218724214604923\n"
     ]
    },
    {
     "name": "stderr",
     "output_type": "stream",
     "text": [
      "Epoch: 186: 100%|██████████| 2/2 [00:17<00:00,  8.81s/batch, loss=0.642, precision=0.48, recall=0.481] \n"
     ]
    },
    {
     "name": "stdout",
     "output_type": "stream",
     "text": [
      "val Loss: 0.7390699088573456\n",
      "val Precision: 0.44423945248126984\n",
      "val Recall: 0.456068679690361\n",
      "Weight saved for epoch 186.\n"
     ]
    },
    {
     "name": "stderr",
     "output_type": "stream",
     "text": [
      "Epoch: 187: 100%|██████████| 196/196 [04:18<00:00,  1.32s/batch, loss=0.604, precision=0.45, recall=0.452] \n"
     ]
    },
    {
     "name": "stdout",
     "output_type": "stream",
     "text": [
      "train Loss: 0.4326233983952172\n",
      "train Precision: 0.5069267716334791\n",
      "train Recall: 0.5227769189039055\n"
     ]
    },
    {
     "name": "stderr",
     "output_type": "stream",
     "text": [
      "Epoch: 187: 100%|██████████| 2/2 [00:16<00:00,  8.39s/batch, loss=0.538, precision=0.467, recall=0.454]\n"
     ]
    },
    {
     "name": "stdout",
     "output_type": "stream",
     "text": [
      "val Loss: 0.6247438490390778\n",
      "val Precision: 0.47304487228393555\n",
      "val Recall: 0.4880373477935791\n",
      "Weight saved for epoch 187.\n"
     ]
    },
    {
     "name": "stderr",
     "output_type": "stream",
     "text": [
      "Epoch: 188: 100%|██████████| 196/196 [04:17<00:00,  1.31s/batch, loss=0.434, precision=0.413, recall=0.391]\n"
     ]
    },
    {
     "name": "stdout",
     "output_type": "stream",
     "text": [
      "train Loss: 0.4313429621409397\n",
      "train Precision: 0.5051649922923166\n",
      "train Recall: 0.5219617768818018\n"
     ]
    },
    {
     "name": "stderr",
     "output_type": "stream",
     "text": [
      "Epoch: 188: 100%|██████████| 2/2 [00:16<00:00,  8.40s/batch, loss=0.547, precision=0.466, recall=0.443]\n"
     ]
    },
    {
     "name": "stdout",
     "output_type": "stream",
     "text": [
      "val Loss: 0.648659884929657\n",
      "val Precision: 0.4566182792186737\n",
      "val Recall: 0.47505679726600647\n",
      "Weight saved for epoch 188.\n"
     ]
    },
    {
     "name": "stderr",
     "output_type": "stream",
     "text": [
      "Epoch: 189: 100%|██████████| 196/196 [04:18<00:00,  1.32s/batch, loss=0.391, precision=0.419, recall=0.437]\n"
     ]
    },
    {
     "name": "stdout",
     "output_type": "stream",
     "text": [
      "train Loss: 0.4300433269568852\n",
      "train Precision: 0.5128823506588839\n",
      "train Recall: 0.527390142940745\n"
     ]
    },
    {
     "name": "stderr",
     "output_type": "stream",
     "text": [
      "Epoch: 189: 100%|██████████| 2/2 [00:17<00:00,  8.51s/batch, loss=0.595, precision=0.48, recall=0.475] \n"
     ]
    },
    {
     "name": "stdout",
     "output_type": "stream",
     "text": [
      "val Loss: 0.7117779850959778\n",
      "val Precision: 0.454785019159317\n",
      "val Recall: 0.4770003408193588\n",
      "Weight saved for epoch 189.\n"
     ]
    },
    {
     "name": "stderr",
     "output_type": "stream",
     "text": [
      "Epoch: 190: 100%|██████████| 196/196 [04:19<00:00,  1.32s/batch, loss=0.667, precision=0.489, recall=0.48] \n"
     ]
    },
    {
     "name": "stdout",
     "output_type": "stream",
     "text": [
      "train Loss: 0.42425512416022165\n",
      "train Precision: 0.511193224209912\n",
      "train Recall: 0.5270942954384551\n"
     ]
    },
    {
     "name": "stderr",
     "output_type": "stream",
     "text": [
      "Epoch: 190: 100%|██████████| 2/2 [00:17<00:00,  8.61s/batch, loss=0.577, precision=0.474, recall=0.504]\n"
     ]
    },
    {
     "name": "stdout",
     "output_type": "stream",
     "text": [
      "val Loss: 0.6932872831821442\n",
      "val Precision: 0.45905686914920807\n",
      "val Recall: 0.5024619102478027\n",
      "Weight saved for epoch 190.\n"
     ]
    },
    {
     "name": "stderr",
     "output_type": "stream",
     "text": [
      "Epoch: 191: 100%|██████████| 196/196 [04:18<00:00,  1.32s/batch, loss=0.517, precision=0.369, recall=0.332]\n"
     ]
    },
    {
     "name": "stdout",
     "output_type": "stream",
     "text": [
      "train Loss: 0.4201134377900435\n",
      "train Precision: 0.5141221429316365\n",
      "train Recall: 0.5319409154507578\n"
     ]
    },
    {
     "name": "stderr",
     "output_type": "stream",
     "text": [
      "Epoch: 191: 100%|██████████| 2/2 [00:17<00:00,  8.96s/batch, loss=0.442, precision=0.525, recall=0.517]\n"
     ]
    },
    {
     "name": "stdout",
     "output_type": "stream",
     "text": [
      "val Loss: 0.598964735865593\n",
      "val Precision: 0.4900906831026077\n",
      "val Recall: 0.514961451292038\n",
      "Weight saved for epoch 191.\n"
     ]
    },
    {
     "name": "stderr",
     "output_type": "stream",
     "text": [
      "Epoch: 192: 100%|██████████| 196/196 [04:19<00:00,  1.32s/batch, loss=0.277, precision=0.403, recall=0.415]\n"
     ]
    },
    {
     "name": "stdout",
     "output_type": "stream",
     "text": [
      "train Loss: 0.4183562893648537\n",
      "train Precision: 0.5174277088775927\n",
      "train Recall: 0.5332839482901047\n"
     ]
    },
    {
     "name": "stderr",
     "output_type": "stream",
     "text": [
      "Epoch: 192: 100%|██████████| 2/2 [00:17<00:00,  8.50s/batch, loss=0.572, precision=0.486, recall=0.497]\n"
     ]
    },
    {
     "name": "stdout",
     "output_type": "stream",
     "text": [
      "val Loss: 0.6833902299404144\n",
      "val Precision: 0.45862504839897156\n",
      "val Recall: 0.4897439479827881\n",
      "Weight saved for epoch 192.\n"
     ]
    },
    {
     "name": "stderr",
     "output_type": "stream",
     "text": [
      "Epoch: 193: 100%|██████████| 196/196 [04:15<00:00,  1.31s/batch, loss=0.472, precision=0.403, recall=0.434]\n"
     ]
    },
    {
     "name": "stdout",
     "output_type": "stream",
     "text": [
      "train Loss: 0.4152337340067844\n",
      "train Precision: 0.5164671120594959\n",
      "train Recall: 0.5347952357664401\n"
     ]
    },
    {
     "name": "stderr",
     "output_type": "stream",
     "text": [
      "Epoch: 193: 100%|██████████| 2/2 [00:17<00:00,  8.87s/batch, loss=0.493, precision=0.498, recall=0.491]\n"
     ]
    },
    {
     "name": "stdout",
     "output_type": "stream",
     "text": [
      "val Loss: 0.5780609995126724\n",
      "val Precision: 0.4794621765613556\n",
      "val Recall: 0.5090268701314926\n",
      "Weight saved for epoch 193.\n"
     ]
    },
    {
     "name": "stderr",
     "output_type": "stream",
     "text": [
      "Epoch: 194: 100%|██████████| 196/196 [04:18<00:00,  1.32s/batch, loss=0.653, precision=0.453, recall=0.42] \n"
     ]
    },
    {
     "name": "stdout",
     "output_type": "stream",
     "text": [
      "train Loss: 0.4134010768362454\n",
      "train Precision: 0.5184348141964601\n",
      "train Recall: 0.5334624883775808\n"
     ]
    },
    {
     "name": "stderr",
     "output_type": "stream",
     "text": [
      "Epoch: 194: 100%|██████████| 2/2 [00:16<00:00,  8.38s/batch, loss=0.468, precision=0.507, recall=0.497]\n"
     ]
    },
    {
     "name": "stdout",
     "output_type": "stream",
     "text": [
      "val Loss: 0.5658144652843475\n",
      "val Precision: 0.47527948021888733\n",
      "val Recall: 0.48853544890880585\n",
      "Weight saved for epoch 194.\n"
     ]
    },
    {
     "name": "stderr",
     "output_type": "stream",
     "text": [
      "Epoch: 195: 100%|██████████| 196/196 [04:18<00:00,  1.32s/batch, loss=0.424, precision=0.516, recall=0.557]\n"
     ]
    },
    {
     "name": "stdout",
     "output_type": "stream",
     "text": [
      "train Loss: 0.4107584995882852\n",
      "train Precision: 0.520691767334938\n",
      "train Recall: 0.5349029589976583\n"
     ]
    },
    {
     "name": "stderr",
     "output_type": "stream",
     "text": [
      "Epoch: 195: 100%|██████████| 2/2 [00:18<00:00,  9.19s/batch, loss=0.448, precision=0.523, recall=0.518]\n"
     ]
    },
    {
     "name": "stdout",
     "output_type": "stream",
     "text": [
      "val Loss: 0.556912288069725\n",
      "val Precision: 0.49733690917491913\n",
      "val Recall: 0.518928587436676\n",
      "Weight saved for epoch 195.\n"
     ]
    },
    {
     "name": "stderr",
     "output_type": "stream",
     "text": [
      "Epoch: 196: 100%|██████████| 196/196 [04:19<00:00,  1.32s/batch, loss=0.378, precision=0.484, recall=0.474]\n"
     ]
    },
    {
     "name": "stdout",
     "output_type": "stream",
     "text": [
      "train Loss: 0.4073923087241698\n",
      "train Precision: 0.5198577829465574\n",
      "train Recall: 0.5331252992761378\n"
     ]
    },
    {
     "name": "stderr",
     "output_type": "stream",
     "text": [
      "Epoch: 196: 100%|██████████| 2/2 [00:17<00:00,  8.98s/batch, loss=0.566, precision=0.471, recall=0.513]\n"
     ]
    },
    {
     "name": "stdout",
     "output_type": "stream",
     "text": [
      "val Loss: 0.6619004905223846\n",
      "val Precision: 0.4407465308904648\n",
      "val Recall: 0.4934449940919876\n",
      "Weight saved for epoch 196.\n"
     ]
    },
    {
     "name": "stderr",
     "output_type": "stream",
     "text": [
      "Epoch: 197:  50%|█████     | 98/196 [02:36<02:36,  1.60s/batch, loss=0.375, precision=0.506, recall=0.505] \n"
     ]
    },
    {
     "ename": "KeyboardInterrupt",
     "evalue": "",
     "output_type": "error",
     "traceback": [
      "\u001b[0;31m---------------------------------------------------------------------------\u001b[0m",
      "\u001b[0;31mKeyboardInterrupt\u001b[0m                         Traceback (most recent call last)",
      "\u001b[0;32m<ipython-input-14-ec36e2233fc5>\u001b[0m in \u001b[0;36m<module>\u001b[0;34m\u001b[0m\n\u001b[1;32m      4\u001b[0m \u001b[0mtrain_dataloader\u001b[0m \u001b[0;34m=\u001b[0m \u001b[0mDataLoader\u001b[0m\u001b[0;34m(\u001b[0m\u001b[0mtrain_dataset\u001b[0m\u001b[0;34m,\u001b[0m \u001b[0mbatch_size\u001b[0m \u001b[0;34m=\u001b[0m \u001b[0mbatch_size\u001b[0m\u001b[0;34m,\u001b[0m \u001b[0mshuffle\u001b[0m \u001b[0;34m=\u001b[0m \u001b[0;32mTrue\u001b[0m\u001b[0;34m,\u001b[0m \u001b[0mnum_workers\u001b[0m \u001b[0;34m=\u001b[0m \u001b[0;36m24\u001b[0m\u001b[0;34m,\u001b[0m \u001b[0mprefetch_factor\u001b[0m\u001b[0;34m=\u001b[0m\u001b[0;36m2\u001b[0m\u001b[0;34m)\u001b[0m\u001b[0;34m\u001b[0m\u001b[0;34m\u001b[0m\u001b[0m\n\u001b[1;32m      5\u001b[0m \u001b[0mval_dataloader\u001b[0m \u001b[0;34m=\u001b[0m \u001b[0mDataLoader\u001b[0m\u001b[0;34m(\u001b[0m\u001b[0mval_dataset\u001b[0m\u001b[0;34m,\u001b[0m \u001b[0mbatch_size\u001b[0m \u001b[0;34m=\u001b[0m \u001b[0mbatch_size\u001b[0m\u001b[0;34m,\u001b[0m \u001b[0mshuffle\u001b[0m \u001b[0;34m=\u001b[0m \u001b[0;32mFalse\u001b[0m\u001b[0;34m,\u001b[0m \u001b[0mnum_workers\u001b[0m \u001b[0;34m=\u001b[0m \u001b[0;36m24\u001b[0m\u001b[0;34m,\u001b[0m \u001b[0mprefetch_factor\u001b[0m\u001b[0;34m=\u001b[0m\u001b[0;36m2\u001b[0m\u001b[0;34m)\u001b[0m\u001b[0;34m\u001b[0m\u001b[0;34m\u001b[0m\u001b[0m\n\u001b[0;32m----> 6\u001b[0;31m \u001b[0mtrain_model\u001b[0m\u001b[0;34m(\u001b[0m\u001b[0mtrain_dataloader\u001b[0m\u001b[0;34m,\u001b[0m \u001b[0mval_dataloader\u001b[0m\u001b[0;34m,\u001b[0m \u001b[0mbatch_size\u001b[0m\u001b[0;34m=\u001b[0m\u001b[0mbatch_size\u001b[0m\u001b[0;34m,\u001b[0m \u001b[0mweights_path\u001b[0m\u001b[0;34m=\u001b[0m\u001b[0;34m'../../weights/torch_with_momentum_v3/'\u001b[0m\u001b[0;34m,\u001b[0m \u001b[0mepochs\u001b[0m\u001b[0;34m=\u001b[0m\u001b[0;36m250\u001b[0m\u001b[0;34m)\u001b[0m\u001b[0;34m\u001b[0m\u001b[0;34m\u001b[0m\u001b[0m\n\u001b[0m",
      "\u001b[0;32m<ipython-input-13-9a08ce5eb9b2>\u001b[0m in \u001b[0;36mtrain_model\u001b[0;34m(train_dataset, val_dataset, epochs, batch_size, weights_path, load_weights)\u001b[0m\n\u001b[1;32m     39\u001b[0m                             \u001b[0moutputs\u001b[0m \u001b[0;34m=\u001b[0m \u001b[0mmodel\u001b[0m\u001b[0;34m(\u001b[0m\u001b[0mimgs\u001b[0m\u001b[0;34m)\u001b[0m\u001b[0;34m\u001b[0m\u001b[0;34m\u001b[0m\u001b[0m\n\u001b[1;32m     40\u001b[0m                         \u001b[0mloss\u001b[0m \u001b[0;34m=\u001b[0m \u001b[0mcategorical_cross_entropy\u001b[0m\u001b[0;34m(\u001b[0m\u001b[0moutputs\u001b[0m\u001b[0;34m,\u001b[0m \u001b[0mlabels\u001b[0m\u001b[0;34m)\u001b[0m\u001b[0;34m\u001b[0m\u001b[0;34m\u001b[0m\u001b[0m\n\u001b[0;32m---> 41\u001b[0;31m                         \u001b[0mprec\u001b[0m\u001b[0;34m,\u001b[0m \u001b[0mrec\u001b[0m \u001b[0;34m=\u001b[0m \u001b[0mfind_metrics_macro\u001b[0m\u001b[0;34m(\u001b[0m\u001b[0moutputs\u001b[0m\u001b[0;34m,\u001b[0m \u001b[0mlabels\u001b[0m\u001b[0;34m,\u001b[0m \u001b[0mbatch_size\u001b[0m\u001b[0;34m=\u001b[0m\u001b[0mbatch_size\u001b[0m\u001b[0;34m)\u001b[0m\u001b[0;34m\u001b[0m\u001b[0;34m\u001b[0m\u001b[0m\n\u001b[0m\u001b[1;32m     42\u001b[0m                         \u001b[0;32mif\u001b[0m \u001b[0mphase\u001b[0m \u001b[0;34m==\u001b[0m \u001b[0;34m'train'\u001b[0m\u001b[0;34m:\u001b[0m\u001b[0;34m\u001b[0m\u001b[0;34m\u001b[0m\u001b[0m\n\u001b[1;32m     43\u001b[0m                             \u001b[0mloss\u001b[0m\u001b[0;34m.\u001b[0m\u001b[0mbackward\u001b[0m\u001b[0;34m(\u001b[0m\u001b[0;34m)\u001b[0m\u001b[0;34m\u001b[0m\u001b[0;34m\u001b[0m\u001b[0m\n",
      "\u001b[0;32m~/dolphin_classification/notebooks/../scripts/metrics.py\u001b[0m in \u001b[0;36mfind_metrics_macro\u001b[0;34m(inputs, targets, batch_size)\u001b[0m\n\u001b[1;32m     21\u001b[0m     \u001b[0;31m# of the globally does not takes anything in account.\u001b[0m\u001b[0;34m\u001b[0m\u001b[0;34m\u001b[0m\u001b[0;34m\u001b[0m\u001b[0m\n\u001b[1;32m     22\u001b[0m     \u001b[0marg_maxed\u001b[0m \u001b[0;34m=\u001b[0m \u001b[0mtorch\u001b[0m\u001b[0;34m.\u001b[0m\u001b[0margmax\u001b[0m\u001b[0;34m(\u001b[0m\u001b[0minputs\u001b[0m\u001b[0;34m,\u001b[0m \u001b[0maxis\u001b[0m \u001b[0;34m=\u001b[0m \u001b[0;36m1\u001b[0m\u001b[0;34m)\u001b[0m\u001b[0;34m\u001b[0m\u001b[0;34m\u001b[0m\u001b[0m\n\u001b[0;32m---> 23\u001b[0;31m     \u001b[0minput_zeros\u001b[0m \u001b[0;34m=\u001b[0m \u001b[0mtorch\u001b[0m\u001b[0;34m.\u001b[0m\u001b[0mzeros\u001b[0m\u001b[0;34m(\u001b[0m\u001b[0minputs\u001b[0m\u001b[0;34m.\u001b[0m\u001b[0mshape\u001b[0m\u001b[0;34m[\u001b[0m\u001b[0;36m0\u001b[0m\u001b[0;34m]\u001b[0m\u001b[0;34m,\u001b[0m \u001b[0;36m30\u001b[0m\u001b[0;34m)\u001b[0m\u001b[0;34m.\u001b[0m\u001b[0mcuda\u001b[0m\u001b[0;34m(\u001b[0m\u001b[0;34m)\u001b[0m\u001b[0;34m\u001b[0m\u001b[0;34m\u001b[0m\u001b[0m\n\u001b[0m\u001b[1;32m     24\u001b[0m     \u001b[0minput_zeros\u001b[0m\u001b[0;34m[\u001b[0m\u001b[0mtorch\u001b[0m\u001b[0;34m.\u001b[0m\u001b[0marange\u001b[0m\u001b[0;34m(\u001b[0m\u001b[0minputs\u001b[0m\u001b[0;34m.\u001b[0m\u001b[0mshape\u001b[0m\u001b[0;34m[\u001b[0m\u001b[0;36m0\u001b[0m\u001b[0;34m]\u001b[0m\u001b[0;34m)\u001b[0m\u001b[0;34m,\u001b[0m \u001b[0marg_maxed\u001b[0m\u001b[0;34m]\u001b[0m \u001b[0;34m=\u001b[0m \u001b[0;36m1\u001b[0m\u001b[0;34m\u001b[0m\u001b[0;34m\u001b[0m\u001b[0m\n\u001b[1;32m     25\u001b[0m     \u001b[0mtps\u001b[0m \u001b[0;34m=\u001b[0m \u001b[0mtorch\u001b[0m\u001b[0;34m.\u001b[0m\u001b[0msum\u001b[0m\u001b[0;34m(\u001b[0m\u001b[0mtorch\u001b[0m\u001b[0;34m.\u001b[0m\u001b[0mlogical_and\u001b[0m\u001b[0;34m(\u001b[0m\u001b[0minput_zeros\u001b[0m \u001b[0;34m==\u001b[0m \u001b[0;36m1\u001b[0m\u001b[0;34m,\u001b[0m \u001b[0mtargets\u001b[0m \u001b[0;34m==\u001b[0m \u001b[0;36m1\u001b[0m\u001b[0;34m)\u001b[0m\u001b[0;34m,\u001b[0m \u001b[0maxis\u001b[0m \u001b[0;34m=\u001b[0m \u001b[0;36m0\u001b[0m\u001b[0;34m)\u001b[0m\u001b[0;34m\u001b[0m\u001b[0;34m\u001b[0m\u001b[0m\n",
      "\u001b[0;31mKeyboardInterrupt\u001b[0m: "
     ]
    }
   ],
   "source": [
    "batch_size = 256\n",
    "train_dataset = DolphinDataset(train, encoder)\n",
    "val_dataset = DolphinDataset(val, encoder)\n",
    "train_dataloader = DataLoader(train_dataset, batch_size = batch_size, shuffle = True, num_workers = 24, prefetch_factor=2)\n",
    "val_dataloader = DataLoader(val_dataset, batch_size = batch_size, shuffle = False, num_workers = 24, prefetch_factor=2)\n",
    "train_model(train_dataloader, val_dataloader, batch_size=batch_size, weights_path='../../weights/torch_with_momentum_v3/', epochs=250)"
   ]
  },
  {
   "cell_type": "code",
   "execution_count": null,
   "metadata": {},
   "outputs": [],
   "source": []
  }
 ],
 "metadata": {
  "kernelspec": {
   "display_name": "base_env",
   "language": "python",
   "name": "base_env"
  },
  "language_info": {
   "codemirror_mode": {
    "name": "ipython",
    "version": 3
   },
   "file_extension": ".py",
   "mimetype": "text/x-python",
   "name": "python",
   "nbconvert_exporter": "python",
   "pygments_lexer": "ipython3",
   "version": "3.9.16"
  },
  "orig_nbformat": 4
 },
 "nbformat": 4,
 "nbformat_minor": 2
}
